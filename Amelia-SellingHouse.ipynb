{
 "cells": [
  {
   "cell_type": "code",
   "execution_count": 1,
   "metadata": {
    "executionInfo": {
     "elapsed": 1303,
     "status": "ok",
     "timestamp": 1638328732319,
     "user": {
      "displayName": "amelia C",
      "photoUrl": "https://lh3.googleusercontent.com/a/default-user=s64",
      "userId": "08672731842433541314"
     },
     "user_tz": -480
    },
    "id": "QBHvxoTAWeiE"
   },
   "outputs": [
    {
     "name": "stderr",
     "output_type": "stream",
     "text": [
      "C:\\Users\\Randy\\anaconda3\\envs\\IBM Data Science Project\\lib\\site-packages\\numpy\\_distributor_init.py:32: UserWarning: loaded more than 1 DLL from .libs:\n",
      "C:\\Users\\Randy\\anaconda3\\envs\\IBM Data Science Project\\lib\\site-packages\\numpy\\.libs\\libopenblas.GK7GX5KEQ4F6UYO3P26ULGBQYHGQO7J4.gfortran-win_amd64.dll\n",
      "C:\\Users\\Randy\\anaconda3\\envs\\IBM Data Science Project\\lib\\site-packages\\numpy\\.libs\\libopenblas.NOIJJG62EMASZI6NYURL6JBKM4EVBGM7.gfortran-win_amd64.dll\n",
      "  stacklevel=1)\n"
     ]
    }
   ],
   "source": [
    "import numpy as np\n",
    "import pandas as pd\n",
    "import matplotlib.pyplot as plt\n",
    "import seaborn as sns\n",
    "from sklearn.model_selection import train_test_split\n",
    "#import xgboost \n",
    "from xgboost import XGBRegressor\n",
    "from sklearn.metrics import mean_squared_error\n",
    "from sklearn import metrics"
   ]
  },
  {
   "cell_type": "code",
   "execution_count": 2,
   "metadata": {
    "id": "poFi3apoacgA"
   },
   "outputs": [],
   "source": [
    "# from google.colab import drive \n",
    "# drive.mount('/content/gdrive')"
   ]
  },
  {
   "cell_type": "code",
   "execution_count": 3,
   "metadata": {
    "id": "5TG9WqotZerZ"
   },
   "outputs": [],
   "source": [
    "df = pd.read_csv('99 data_HDB.csv')"
   ]
  },
  {
   "cell_type": "code",
   "execution_count": null,
   "metadata": {
    "id": "esC54fSVuBHm"
   },
   "outputs": [],
   "source": []
  },
  {
   "cell_type": "code",
   "execution_count": 4,
   "metadata": {
    "id": "v85XvCoahcUn"
   },
   "outputs": [
    {
     "data": {
      "text/html": [
       "<div>\n",
       "<style scoped>\n",
       "    .dataframe tbody tr th:only-of-type {\n",
       "        vertical-align: middle;\n",
       "    }\n",
       "\n",
       "    .dataframe tbody tr th {\n",
       "        vertical-align: top;\n",
       "    }\n",
       "\n",
       "    .dataframe thead th {\n",
       "        text-align: right;\n",
       "    }\n",
       "</style>\n",
       "<table border=\"1\" class=\"dataframe\">\n",
       "  <thead>\n",
       "    <tr style=\"text-align: right;\">\n",
       "      <th></th>\n",
       "      <th>Index</th>\n",
       "      <th>Type</th>\n",
       "      <th>Address</th>\n",
       "      <th>Price</th>\n",
       "      <th>bed</th>\n",
       "      <th>bath</th>\n",
       "      <th>built sqft</th>\n",
       "      <th>land sqft</th>\n",
       "      <th>Price/psf</th>\n",
       "      <th>floor level</th>\n",
       "      <th>...</th>\n",
       "      <th>Penthouse</th>\n",
       "      <th>Aircon</th>\n",
       "      <th>Parking</th>\n",
       "      <th>Gym</th>\n",
       "      <th>Clubhouse</th>\n",
       "      <th>Min to MRT</th>\n",
       "      <th>MRT</th>\n",
       "      <th>District</th>\n",
       "      <th>Price/psf NEW</th>\n",
       "      <th>CHECKING</th>\n",
       "    </tr>\n",
       "  </thead>\n",
       "  <tbody>\n",
       "    <tr>\n",
       "      <th>0</th>\n",
       "      <td>1</td>\n",
       "      <td>HDB</td>\n",
       "      <td>172 Lorong 1 Toa Payoh</td>\n",
       "      <td>868000</td>\n",
       "      <td>4</td>\n",
       "      <td>2.0</td>\n",
       "      <td>1335</td>\n",
       "      <td>NaN</td>\n",
       "      <td>650.19</td>\n",
       "      <td>NaN</td>\n",
       "      <td>...</td>\n",
       "      <td>NaN</td>\n",
       "      <td>NaN</td>\n",
       "      <td>NaN</td>\n",
       "      <td>NaN</td>\n",
       "      <td>NaN</td>\n",
       "      <td>15.0</td>\n",
       "      <td>Toa Payoh MRT</td>\n",
       "      <td>12.0</td>\n",
       "      <td>650.187266</td>\n",
       "      <td>0</td>\n",
       "    </tr>\n",
       "    <tr>\n",
       "      <th>1</th>\n",
       "      <td>2</td>\n",
       "      <td>HDB</td>\n",
       "      <td>40 Beo Crescent</td>\n",
       "      <td>350000</td>\n",
       "      <td>3</td>\n",
       "      <td>1.0</td>\n",
       "      <td>635</td>\n",
       "      <td>NaN</td>\n",
       "      <td>551.18</td>\n",
       "      <td>NaN</td>\n",
       "      <td>...</td>\n",
       "      <td>NaN</td>\n",
       "      <td>NaN</td>\n",
       "      <td>NaN</td>\n",
       "      <td>NaN</td>\n",
       "      <td>NaN</td>\n",
       "      <td>5.0</td>\n",
       "      <td>Tiong Bahru MRT</td>\n",
       "      <td>3.0</td>\n",
       "      <td>551.181102</td>\n",
       "      <td>0</td>\n",
       "    </tr>\n",
       "    <tr>\n",
       "      <th>2</th>\n",
       "      <td>3</td>\n",
       "      <td>HDB</td>\n",
       "      <td>202 Marsiling Drive</td>\n",
       "      <td>345000</td>\n",
       "      <td>2</td>\n",
       "      <td>2.0</td>\n",
       "      <td>731</td>\n",
       "      <td>NaN</td>\n",
       "      <td>471.96</td>\n",
       "      <td>Mid</td>\n",
       "      <td>...</td>\n",
       "      <td>NaN</td>\n",
       "      <td>NaN</td>\n",
       "      <td>NaN</td>\n",
       "      <td>NaN</td>\n",
       "      <td>NaN</td>\n",
       "      <td>NaN</td>\n",
       "      <td>NaN</td>\n",
       "      <td>25.0</td>\n",
       "      <td>471.956224</td>\n",
       "      <td>0</td>\n",
       "    </tr>\n",
       "    <tr>\n",
       "      <th>3</th>\n",
       "      <td>4</td>\n",
       "      <td>HDB</td>\n",
       "      <td>17 Telok Blangah Crescent</td>\n",
       "      <td>790000</td>\n",
       "      <td>3</td>\n",
       "      <td>2.0</td>\n",
       "      <td>1291</td>\n",
       "      <td>NaN</td>\n",
       "      <td>611.93</td>\n",
       "      <td>NaN</td>\n",
       "      <td>...</td>\n",
       "      <td>NaN</td>\n",
       "      <td>NaN</td>\n",
       "      <td>NaN</td>\n",
       "      <td>NaN</td>\n",
       "      <td>NaN</td>\n",
       "      <td>NaN</td>\n",
       "      <td>NaN</td>\n",
       "      <td>4.0</td>\n",
       "      <td>611.928737</td>\n",
       "      <td>0</td>\n",
       "    </tr>\n",
       "    <tr>\n",
       "      <th>4</th>\n",
       "      <td>5</td>\n",
       "      <td>HDB</td>\n",
       "      <td>17 Telok Blangah Crescent</td>\n",
       "      <td>790000</td>\n",
       "      <td>3</td>\n",
       "      <td>2.0</td>\n",
       "      <td>1292</td>\n",
       "      <td>NaN</td>\n",
       "      <td>611.46</td>\n",
       "      <td>NaN</td>\n",
       "      <td>...</td>\n",
       "      <td>NaN</td>\n",
       "      <td>NaN</td>\n",
       "      <td>NaN</td>\n",
       "      <td>NaN</td>\n",
       "      <td>NaN</td>\n",
       "      <td>NaN</td>\n",
       "      <td>NaN</td>\n",
       "      <td>4.0</td>\n",
       "      <td>611.455108</td>\n",
       "      <td>0</td>\n",
       "    </tr>\n",
       "  </tbody>\n",
       "</table>\n",
       "<p>5 rows × 31 columns</p>\n",
       "</div>"
      ],
      "text/plain": [
       "   Index Type                    Address   Price  bed  bath  built sqft  \\\n",
       "0      1  HDB     172 Lorong 1 Toa Payoh  868000    4   2.0        1335   \n",
       "1      2  HDB            40 Beo Crescent  350000    3   1.0         635   \n",
       "2      3  HDB        202 Marsiling Drive  345000    2   2.0         731   \n",
       "3      4  HDB  17 Telok Blangah Crescent  790000    3   2.0        1291   \n",
       "4      5  HDB  17 Telok Blangah Crescent  790000    3   2.0        1292   \n",
       "\n",
       "   land sqft  Price/psf floor level  ...  Penthouse Aircon Parking Gym  \\\n",
       "0        NaN     650.19         NaN  ...        NaN    NaN     NaN NaN   \n",
       "1        NaN     551.18         NaN  ...        NaN    NaN     NaN NaN   \n",
       "2        NaN     471.96         Mid  ...        NaN    NaN     NaN NaN   \n",
       "3        NaN     611.93         NaN  ...        NaN    NaN     NaN NaN   \n",
       "4        NaN     611.46         NaN  ...        NaN    NaN     NaN NaN   \n",
       "\n",
       "   Clubhouse Min to MRT              MRT District Price/psf NEW CHECKING  \n",
       "0        NaN       15.0    Toa Payoh MRT     12.0    650.187266        0  \n",
       "1        NaN        5.0  Tiong Bahru MRT      3.0    551.181102        0  \n",
       "2        NaN        NaN              NaN     25.0    471.956224        0  \n",
       "3        NaN        NaN              NaN      4.0    611.928737        0  \n",
       "4        NaN        NaN              NaN      4.0    611.455108        0  \n",
       "\n",
       "[5 rows x 31 columns]"
      ]
     },
     "execution_count": 4,
     "metadata": {},
     "output_type": "execute_result"
    }
   ],
   "source": [
    "df.head()\n"
   ]
  },
  {
   "cell_type": "code",
   "execution_count": 5,
   "metadata": {
    "id": "BdB-piEKabtn"
   },
   "outputs": [
    {
     "data": {
      "text/plain": [
       "['Index',\n",
       " 'Type',\n",
       " 'Address',\n",
       " 'Price',\n",
       " 'bed',\n",
       " 'bath',\n",
       " 'built sqft',\n",
       " 'land sqft',\n",
       " 'Price/psf',\n",
       " 'floor level',\n",
       " 'Built year',\n",
       " 'Furnishing',\n",
       " 'facing ',\n",
       " 'overlooking',\n",
       " 'tenure',\n",
       " 'developer',\n",
       " 'Bomb shelter',\n",
       " 'Corner unit',\n",
       " 'Utility room',\n",
       " 'Renovated',\n",
       " 'Balcony',\n",
       " 'Penthouse',\n",
       " 'Aircon',\n",
       " 'Parking',\n",
       " 'Gym',\n",
       " 'Clubhouse',\n",
       " 'Min to MRT',\n",
       " 'MRT',\n",
       " 'District',\n",
       " 'Price/psf NEW',\n",
       " 'CHECKING']"
      ]
     },
     "execution_count": 5,
     "metadata": {},
     "output_type": "execute_result"
    }
   ],
   "source": [
    "list(df)"
   ]
  },
  {
   "cell_type": "code",
   "execution_count": 6,
   "metadata": {
    "id": "2k9yeprRcmaW"
   },
   "outputs": [
    {
     "data": {
      "text/html": [
       "<div>\n",
       "<style scoped>\n",
       "    .dataframe tbody tr th:only-of-type {\n",
       "        vertical-align: middle;\n",
       "    }\n",
       "\n",
       "    .dataframe tbody tr th {\n",
       "        vertical-align: top;\n",
       "    }\n",
       "\n",
       "    .dataframe thead th {\n",
       "        text-align: right;\n",
       "    }\n",
       "</style>\n",
       "<table border=\"1\" class=\"dataframe\">\n",
       "  <thead>\n",
       "    <tr style=\"text-align: right;\">\n",
       "      <th></th>\n",
       "      <th>Index</th>\n",
       "      <th>Type</th>\n",
       "      <th>Address</th>\n",
       "      <th>Price</th>\n",
       "      <th>bed</th>\n",
       "      <th>bath</th>\n",
       "      <th>built sqft</th>\n",
       "      <th>land sqft</th>\n",
       "      <th>Price/psf</th>\n",
       "      <th>floor level</th>\n",
       "      <th>...</th>\n",
       "      <th>Penthouse</th>\n",
       "      <th>Aircon</th>\n",
       "      <th>Parking</th>\n",
       "      <th>Gym</th>\n",
       "      <th>Clubhouse</th>\n",
       "      <th>Min to MRT</th>\n",
       "      <th>MRT</th>\n",
       "      <th>District</th>\n",
       "      <th>Price/psf NEW</th>\n",
       "      <th>CHECKING</th>\n",
       "    </tr>\n",
       "  </thead>\n",
       "  <tbody>\n",
       "    <tr>\n",
       "      <th>count</th>\n",
       "      <td>5204.000000</td>\n",
       "      <td>5204</td>\n",
       "      <td>5204</td>\n",
       "      <td>5.204000e+03</td>\n",
       "      <td>5204.000000</td>\n",
       "      <td>5013.000000</td>\n",
       "      <td>5204.000000</td>\n",
       "      <td>0.0</td>\n",
       "      <td>5204.000000</td>\n",
       "      <td>1058</td>\n",
       "      <td>...</td>\n",
       "      <td>1</td>\n",
       "      <td>123</td>\n",
       "      <td>41</td>\n",
       "      <td>0.0</td>\n",
       "      <td>0.0</td>\n",
       "      <td>4282.000000</td>\n",
       "      <td>4282</td>\n",
       "      <td>5202.000000</td>\n",
       "      <td>5204.000000</td>\n",
       "      <td>5204</td>\n",
       "    </tr>\n",
       "    <tr>\n",
       "      <th>unique</th>\n",
       "      <td>NaN</td>\n",
       "      <td>1</td>\n",
       "      <td>2801</td>\n",
       "      <td>NaN</td>\n",
       "      <td>NaN</td>\n",
       "      <td>NaN</td>\n",
       "      <td>NaN</td>\n",
       "      <td>NaN</td>\n",
       "      <td>NaN</td>\n",
       "      <td>6</td>\n",
       "      <td>...</td>\n",
       "      <td>1</td>\n",
       "      <td>1</td>\n",
       "      <td>1</td>\n",
       "      <td>NaN</td>\n",
       "      <td>NaN</td>\n",
       "      <td>NaN</td>\n",
       "      <td>108</td>\n",
       "      <td>NaN</td>\n",
       "      <td>NaN</td>\n",
       "      <td>2</td>\n",
       "    </tr>\n",
       "    <tr>\n",
       "      <th>top</th>\n",
       "      <td>NaN</td>\n",
       "      <td>HDB</td>\n",
       "      <td>630 Senja Road</td>\n",
       "      <td>NaN</td>\n",
       "      <td>NaN</td>\n",
       "      <td>NaN</td>\n",
       "      <td>NaN</td>\n",
       "      <td>NaN</td>\n",
       "      <td>NaN</td>\n",
       "      <td>High</td>\n",
       "      <td>...</td>\n",
       "      <td>Y</td>\n",
       "      <td>Y</td>\n",
       "      <td>Y</td>\n",
       "      <td>NaN</td>\n",
       "      <td>NaN</td>\n",
       "      <td>NaN</td>\n",
       "      <td>Boon Keng MRT</td>\n",
       "      <td>NaN</td>\n",
       "      <td>NaN</td>\n",
       "      <td>0</td>\n",
       "    </tr>\n",
       "    <tr>\n",
       "      <th>freq</th>\n",
       "      <td>NaN</td>\n",
       "      <td>5204</td>\n",
       "      <td>31</td>\n",
       "      <td>NaN</td>\n",
       "      <td>NaN</td>\n",
       "      <td>NaN</td>\n",
       "      <td>NaN</td>\n",
       "      <td>NaN</td>\n",
       "      <td>NaN</td>\n",
       "      <td>594</td>\n",
       "      <td>...</td>\n",
       "      <td>1</td>\n",
       "      <td>123</td>\n",
       "      <td>41</td>\n",
       "      <td>NaN</td>\n",
       "      <td>NaN</td>\n",
       "      <td>NaN</td>\n",
       "      <td>194</td>\n",
       "      <td>NaN</td>\n",
       "      <td>NaN</td>\n",
       "      <td>4904</td>\n",
       "    </tr>\n",
       "    <tr>\n",
       "      <th>mean</th>\n",
       "      <td>2602.500000</td>\n",
       "      <td>NaN</td>\n",
       "      <td>NaN</td>\n",
       "      <td>6.053735e+05</td>\n",
       "      <td>2.854919</td>\n",
       "      <td>1.964093</td>\n",
       "      <td>1078.794197</td>\n",
       "      <td>NaN</td>\n",
       "      <td>596.434235</td>\n",
       "      <td>NaN</td>\n",
       "      <td>...</td>\n",
       "      <td>NaN</td>\n",
       "      <td>NaN</td>\n",
       "      <td>NaN</td>\n",
       "      <td>NaN</td>\n",
       "      <td>NaN</td>\n",
       "      <td>10.794021</td>\n",
       "      <td>NaN</td>\n",
       "      <td>16.850827</td>\n",
       "      <td>596.434110</td>\n",
       "      <td>NaN</td>\n",
       "    </tr>\n",
       "    <tr>\n",
       "      <th>std</th>\n",
       "      <td>1502.409731</td>\n",
       "      <td>NaN</td>\n",
       "      <td>NaN</td>\n",
       "      <td>1.976262e+05</td>\n",
       "      <td>0.594592</td>\n",
       "      <td>0.339457</td>\n",
       "      <td>553.019688</td>\n",
       "      <td>NaN</td>\n",
       "      <td>358.967870</td>\n",
       "      <td>NaN</td>\n",
       "      <td>...</td>\n",
       "      <td>NaN</td>\n",
       "      <td>NaN</td>\n",
       "      <td>NaN</td>\n",
       "      <td>NaN</td>\n",
       "      <td>NaN</td>\n",
       "      <td>5.479791</td>\n",
       "      <td>NaN</td>\n",
       "      <td>7.116200</td>\n",
       "      <td>358.967998</td>\n",
       "      <td>NaN</td>\n",
       "    </tr>\n",
       "    <tr>\n",
       "      <th>min</th>\n",
       "      <td>1.000000</td>\n",
       "      <td>NaN</td>\n",
       "      <td>NaN</td>\n",
       "      <td>2.350000e+05</td>\n",
       "      <td>0.000000</td>\n",
       "      <td>1.000000</td>\n",
       "      <td>100.000000</td>\n",
       "      <td>NaN</td>\n",
       "      <td>40.860000</td>\n",
       "      <td>NaN</td>\n",
       "      <td>...</td>\n",
       "      <td>NaN</td>\n",
       "      <td>NaN</td>\n",
       "      <td>NaN</td>\n",
       "      <td>NaN</td>\n",
       "      <td>NaN</td>\n",
       "      <td>5.000000</td>\n",
       "      <td>NaN</td>\n",
       "      <td>1.000000</td>\n",
       "      <td>40.863981</td>\n",
       "      <td>NaN</td>\n",
       "    </tr>\n",
       "    <tr>\n",
       "      <th>25%</th>\n",
       "      <td>1301.750000</td>\n",
       "      <td>NaN</td>\n",
       "      <td>NaN</td>\n",
       "      <td>4.700000e+05</td>\n",
       "      <td>3.000000</td>\n",
       "      <td>2.000000</td>\n",
       "      <td>904.000000</td>\n",
       "      <td>NaN</td>\n",
       "      <td>470.345000</td>\n",
       "      <td>NaN</td>\n",
       "      <td>...</td>\n",
       "      <td>NaN</td>\n",
       "      <td>NaN</td>\n",
       "      <td>NaN</td>\n",
       "      <td>NaN</td>\n",
       "      <td>NaN</td>\n",
       "      <td>5.000000</td>\n",
       "      <td>NaN</td>\n",
       "      <td>12.000000</td>\n",
       "      <td>470.343860</td>\n",
       "      <td>NaN</td>\n",
       "    </tr>\n",
       "    <tr>\n",
       "      <th>50%</th>\n",
       "      <td>2602.500000</td>\n",
       "      <td>NaN</td>\n",
       "      <td>NaN</td>\n",
       "      <td>5.680000e+05</td>\n",
       "      <td>3.000000</td>\n",
       "      <td>2.000000</td>\n",
       "      <td>1021.000000</td>\n",
       "      <td>NaN</td>\n",
       "      <td>534.410000</td>\n",
       "      <td>NaN</td>\n",
       "      <td>...</td>\n",
       "      <td>NaN</td>\n",
       "      <td>NaN</td>\n",
       "      <td>NaN</td>\n",
       "      <td>NaN</td>\n",
       "      <td>NaN</td>\n",
       "      <td>10.000000</td>\n",
       "      <td>NaN</td>\n",
       "      <td>19.000000</td>\n",
       "      <td>534.405719</td>\n",
       "      <td>NaN</td>\n",
       "    </tr>\n",
       "    <tr>\n",
       "      <th>75%</th>\n",
       "      <td>3903.250000</td>\n",
       "      <td>NaN</td>\n",
       "      <td>NaN</td>\n",
       "      <td>7.200000e+05</td>\n",
       "      <td>3.000000</td>\n",
       "      <td>2.000000</td>\n",
       "      <td>1216.000000</td>\n",
       "      <td>NaN</td>\n",
       "      <td>636.517500</td>\n",
       "      <td>NaN</td>\n",
       "      <td>...</td>\n",
       "      <td>NaN</td>\n",
       "      <td>NaN</td>\n",
       "      <td>NaN</td>\n",
       "      <td>NaN</td>\n",
       "      <td>NaN</td>\n",
       "      <td>15.000000</td>\n",
       "      <td>NaN</td>\n",
       "      <td>22.000000</td>\n",
       "      <td>636.517026</td>\n",
       "      <td>NaN</td>\n",
       "    </tr>\n",
       "    <tr>\n",
       "      <th>max</th>\n",
       "      <td>5204.000000</td>\n",
       "      <td>NaN</td>\n",
       "      <td>NaN</td>\n",
       "      <td>2.600000e+06</td>\n",
       "      <td>6.000000</td>\n",
       "      <td>8.000000</td>\n",
       "      <td>12847.000000</td>\n",
       "      <td>NaN</td>\n",
       "      <td>7949.150000</td>\n",
       "      <td>NaN</td>\n",
       "      <td>...</td>\n",
       "      <td>NaN</td>\n",
       "      <td>NaN</td>\n",
       "      <td>NaN</td>\n",
       "      <td>NaN</td>\n",
       "      <td>NaN</td>\n",
       "      <td>30.000000</td>\n",
       "      <td>NaN</td>\n",
       "      <td>28.000000</td>\n",
       "      <td>7949.152542</td>\n",
       "      <td>NaN</td>\n",
       "    </tr>\n",
       "  </tbody>\n",
       "</table>\n",
       "<p>11 rows × 31 columns</p>\n",
       "</div>"
      ],
      "text/plain": [
       "              Index  Type         Address         Price          bed  \\\n",
       "count   5204.000000  5204            5204  5.204000e+03  5204.000000   \n",
       "unique          NaN     1            2801           NaN          NaN   \n",
       "top             NaN   HDB  630 Senja Road           NaN          NaN   \n",
       "freq            NaN  5204              31           NaN          NaN   \n",
       "mean    2602.500000   NaN             NaN  6.053735e+05     2.854919   \n",
       "std     1502.409731   NaN             NaN  1.976262e+05     0.594592   \n",
       "min        1.000000   NaN             NaN  2.350000e+05     0.000000   \n",
       "25%     1301.750000   NaN             NaN  4.700000e+05     3.000000   \n",
       "50%     2602.500000   NaN             NaN  5.680000e+05     3.000000   \n",
       "75%     3903.250000   NaN             NaN  7.200000e+05     3.000000   \n",
       "max     5204.000000   NaN             NaN  2.600000e+06     6.000000   \n",
       "\n",
       "               bath    built sqft  land sqft    Price/psf floor level  ...  \\\n",
       "count   5013.000000   5204.000000        0.0  5204.000000        1058  ...   \n",
       "unique          NaN           NaN        NaN          NaN           6  ...   \n",
       "top             NaN           NaN        NaN          NaN        High  ...   \n",
       "freq            NaN           NaN        NaN          NaN         594  ...   \n",
       "mean       1.964093   1078.794197        NaN   596.434235         NaN  ...   \n",
       "std        0.339457    553.019688        NaN   358.967870         NaN  ...   \n",
       "min        1.000000    100.000000        NaN    40.860000         NaN  ...   \n",
       "25%        2.000000    904.000000        NaN   470.345000         NaN  ...   \n",
       "50%        2.000000   1021.000000        NaN   534.410000         NaN  ...   \n",
       "75%        2.000000   1216.000000        NaN   636.517500         NaN  ...   \n",
       "max        8.000000  12847.000000        NaN  7949.150000         NaN  ...   \n",
       "\n",
       "        Penthouse Aircon Parking  Gym  Clubhouse   Min to MRT            MRT  \\\n",
       "count           1    123      41  0.0        0.0  4282.000000           4282   \n",
       "unique          1      1       1  NaN        NaN          NaN            108   \n",
       "top             Y      Y       Y  NaN        NaN          NaN  Boon Keng MRT   \n",
       "freq            1    123      41  NaN        NaN          NaN            194   \n",
       "mean          NaN    NaN     NaN  NaN        NaN    10.794021            NaN   \n",
       "std           NaN    NaN     NaN  NaN        NaN     5.479791            NaN   \n",
       "min           NaN    NaN     NaN  NaN        NaN     5.000000            NaN   \n",
       "25%           NaN    NaN     NaN  NaN        NaN     5.000000            NaN   \n",
       "50%           NaN    NaN     NaN  NaN        NaN    10.000000            NaN   \n",
       "75%           NaN    NaN     NaN  NaN        NaN    15.000000            NaN   \n",
       "max           NaN    NaN     NaN  NaN        NaN    30.000000            NaN   \n",
       "\n",
       "           District Price/psf NEW CHECKING  \n",
       "count   5202.000000   5204.000000     5204  \n",
       "unique          NaN           NaN        2  \n",
       "top             NaN           NaN        0  \n",
       "freq            NaN           NaN     4904  \n",
       "mean      16.850827    596.434110      NaN  \n",
       "std        7.116200    358.967998      NaN  \n",
       "min        1.000000     40.863981      NaN  \n",
       "25%       12.000000    470.343860      NaN  \n",
       "50%       19.000000    534.405719      NaN  \n",
       "75%       22.000000    636.517026      NaN  \n",
       "max       28.000000   7949.152542      NaN  \n",
       "\n",
       "[11 rows x 31 columns]"
      ]
     },
     "execution_count": 6,
     "metadata": {},
     "output_type": "execute_result"
    }
   ],
   "source": [
    "df.describe(include='all')"
   ]
  },
  {
   "cell_type": "code",
   "execution_count": 7,
   "metadata": {
    "id": "3SxcitiiXAvr"
   },
   "outputs": [
    {
     "data": {
      "text/plain": [
       "<AxesSubplot:>"
      ]
     },
     "execution_count": 7,
     "metadata": {},
     "output_type": "execute_result"
    },
    {
     "data": {
      "image/png": "[encoded data removed]",
      "text/plain": [
       "<Figure size 432x288 with 1 Axes>"
      ]
     },
     "metadata": {
      "needs_background": "light"
     },
     "output_type": "display_data"
    }
   ],
   "source": [
    "sns.heatmap(df.isnull(),yticklabels=False,cbar=False,cmap='viridis')"
   ]
  },
  {
   "cell_type": "code",
   "execution_count": 8,
   "metadata": {
    "id": "DOMkr9LWnruR"
   },
   "outputs": [
    {
     "data": {
      "text/plain": [
       "Index               0\n",
       "Type                0\n",
       "Address             0\n",
       "Price               0\n",
       "bed                 0\n",
       "bath              191\n",
       "built sqft          0\n",
       "land sqft        5204\n",
       "Price/psf           0\n",
       "floor level      4146\n",
       "Built year        346\n",
       "Furnishing       4711\n",
       "facing           4527\n",
       "overlooking      5010\n",
       "tenure           1249\n",
       "developer        1262\n",
       "Bomb shelter     4717\n",
       "Corner unit      4638\n",
       "Utility room     5049\n",
       "Renovated        4393\n",
       "Balcony          5113\n",
       "Penthouse        5203\n",
       "Aircon           5081\n",
       "Parking          5163\n",
       "Gym              5204\n",
       "Clubhouse        5204\n",
       "Min to MRT        922\n",
       "MRT               922\n",
       "District            2\n",
       "Price/psf NEW       0\n",
       "CHECKING            0\n",
       "dtype: int64"
      ]
     },
     "execution_count": 8,
     "metadata": {},
     "output_type": "execute_result"
    }
   ],
   "source": [
    "df.isnull().sum()"
   ]
  },
  {
   "cell_type": "code",
   "execution_count": 9,
   "metadata": {
    "id": "_obKtEmq_GwD"
   },
   "outputs": [
    {
     "data": {
      "text/plain": [
       "High         594\n",
       "Low          227\n",
       "Mid          180\n",
       "Top           29\n",
       "Ground        24\n",
       "Penthouse      4\n",
       "Name: floor level, dtype: int64"
      ]
     },
     "execution_count": 9,
     "metadata": {},
     "output_type": "execute_result"
    }
   ],
   "source": [
    "df['floor level'].value_counts()"
   ]
  },
  {
   "cell_type": "code",
   "execution_count": 10,
   "metadata": {
    "id": "qEtPRyCcd7aS"
   },
   "outputs": [
    {
     "data": {
      "text/plain": [
       "Boon Keng MRT            194\n",
       "Tiong Bahru MRT          175\n",
       "Clementi MRT             120\n",
       "Queenstown MRT           118\n",
       "Ang Mo Kio MRT           118\n",
       "                        ... \n",
       "Jalan Besar MRT            2\n",
       "Novena MRT                 2\n",
       "One-North MRT              2\n",
       "HarbourFront MRT           2\n",
       "Ten Mile Junction MRT      1\n",
       "Name: MRT, Length: 108, dtype: int64"
      ]
     },
     "execution_count": 10,
     "metadata": {},
     "output_type": "execute_result"
    }
   ],
   "source": [
    "df['MRT'].value_counts()"
   ]
  },
  {
   "cell_type": "code",
   "execution_count": 11,
   "metadata": {
    "id": "18oua262eif5"
   },
   "outputs": [],
   "source": [
    "\n",
    "#df=df[df.Price != 'To be confirmed']\n",
    "#df[\"Price\"] = df[\"Price\"].astype(int) "
   ]
  },
  {
   "cell_type": "code",
   "execution_count": 12,
   "metadata": {
    "id": "26mwM0nsa8cn"
   },
   "outputs": [
    {
     "data": {
      "text/plain": [
       "3    3604\n",
       "2    1088\n",
       "4     429\n",
       "1      51\n",
       "0      13\n",
       "5      12\n",
       "6       7\n",
       "Name: bed, dtype: int64"
      ]
     },
     "execution_count": 12,
     "metadata": {},
     "output_type": "execute_result"
    }
   ],
   "source": [
    "df['bed'].value_counts()"
   ]
  },
  {
   "cell_type": "code",
   "execution_count": 13,
   "metadata": {
    "id": "IVZ8GN0BY1q8"
   },
   "outputs": [
    {
     "data": {
      "text/plain": [
       "HDBNeighbourhoodBukit Merah                               362\n",
       "HDBNeighbourhoodSengkang                                  352\n",
       "HDBNeighbourhoodHougang                                   253\n",
       "HDBNeighbourhoodQueenstown                                251\n",
       "HDBNeighbourhoodPunggol                                   239\n",
       "HDBNeighbourhoodKallang                                   230\n",
       "HDBNeighbourhoodWoodlands                                 225\n",
       "HDBNeighbourhoodToa Payoh                                 193\n",
       "HDBNeighbourhoodBedok                                     157\n",
       "HDBNeighbourhoodPasir Ris                                 144\n",
       "HDBNeighbourhoodAng Mo Kio                                144\n",
       "HDBNeighbourhoodJurong West                               143\n",
       "HDBNeighbourhoodYishun                                    140\n",
       "HDBNeighbourhoodBukit Batok                               138\n",
       "HDBNeighbourhoodChoa Chu Kang                             113\n",
       "HDBNeighbourhoodGeylang                                   100\n",
       "HDBNeighbourhoodNone                                       95\n",
       "HDBNeighbourhoodJurong East                                89\n",
       "HDBNeighbourhoodClementi                                   86\n",
       "HDBNeighbourhoodTampines                                   86\n",
       "HDBNeighbourhoodNovena                                     79\n",
       "HDBNeighbourhoodMarine Parade                              65\n",
       "HDBNeighbourhoodBishan                                     63\n",
       "HDBNeighbourhoodSerangoon                                  49\n",
       "HDBNeighbourhoodSembawang                                  44\n",
       "HDBNeighbourhoodBukit Panjang                              41\n",
       "HDBNeighbourhoodBukit Timah                                33\n",
       "HDBNeighbourhoodTanglin                                    19\n",
       "Greatearth Developments Pte LtdNeighbourhoodAng Mo Kio      9\n",
       "Name: developer, dtype: int64"
      ]
     },
     "execution_count": 13,
     "metadata": {},
     "output_type": "execute_result"
    }
   ],
   "source": [
    "df['developer'].value_counts()"
   ]
  },
  {
   "cell_type": "code",
   "execution_count": 14,
   "metadata": {
    "id": "RC46A_ZY_G0a"
   },
   "outputs": [
    {
     "data": {
      "text/plain": [
       "5.0     1566\n",
       "10.0    1098\n",
       "15.0    1078\n",
       "20.0     455\n",
       "25.0      82\n",
       "30.0       3\n",
       "Name: Min to MRT, dtype: int64"
      ]
     },
     "execution_count": 14,
     "metadata": {},
     "output_type": "execute_result"
    }
   ],
   "source": [
    "df['Min to MRT'].value_counts()"
   ]
  },
  {
   "cell_type": "code",
   "execution_count": 15,
   "metadata": {
    "id": "paHEJqSwButf"
   },
   "outputs": [],
   "source": [
    "df['overlooking'].fillna(('NIL'), inplace=True)"
   ]
  },
  {
   "cell_type": "code",
   "execution_count": 16,
   "metadata": {
    "id": "4CAkRnD4Z-B9"
   },
   "outputs": [],
   "source": [
    "df['land sqft'].fillna((0), inplace=True)"
   ]
  },
  {
   "cell_type": "code",
   "execution_count": 17,
   "metadata": {
    "id": "NllZxsJyCzkG"
   },
   "outputs": [
    {
     "data": {
      "text/plain": [
       "North          133\n",
       "North South    116\n",
       "South          110\n",
       "North East      73\n",
       "East            59\n",
       "South West      58\n",
       "North West      54\n",
       "South East      50\n",
       "West            24\n",
       "Name: facing , dtype: int64"
      ]
     },
     "execution_count": 17,
     "metadata": {},
     "output_type": "execute_result"
    }
   ],
   "source": [
    "df['facing '].value_counts()"
   ]
  },
  {
   "cell_type": "code",
   "execution_count": 18,
   "metadata": {
    "id": "hq3L7txvC0b-"
   },
   "outputs": [
    {
     "data": {
      "text/plain": [
       "['Index',\n",
       " 'Type',\n",
       " 'Address',\n",
       " 'Price',\n",
       " 'bed',\n",
       " 'bath',\n",
       " 'built sqft',\n",
       " 'land sqft',\n",
       " 'Price/psf',\n",
       " 'floor level',\n",
       " 'Built year',\n",
       " 'Furnishing',\n",
       " 'facing ',\n",
       " 'overlooking',\n",
       " 'tenure',\n",
       " 'developer',\n",
       " 'Bomb shelter',\n",
       " 'Corner unit',\n",
       " 'Utility room',\n",
       " 'Renovated',\n",
       " 'Balcony',\n",
       " 'Penthouse',\n",
       " 'Aircon',\n",
       " 'Parking',\n",
       " 'Gym',\n",
       " 'Clubhouse',\n",
       " 'Min to MRT',\n",
       " 'MRT',\n",
       " 'District',\n",
       " 'Price/psf NEW',\n",
       " 'CHECKING']"
      ]
     },
     "execution_count": 18,
     "metadata": {},
     "output_type": "execute_result"
    }
   ],
   "source": [
    "list(df)"
   ]
  },
  {
   "cell_type": "code",
   "execution_count": 19,
   "metadata": {
    "id": "GkFpb3d2_HHF"
   },
   "outputs": [
    {
     "data": {
      "text/plain": [
       "Y    487\n",
       "Name: Bomb shelter, dtype: int64"
      ]
     },
     "execution_count": 19,
     "metadata": {},
     "output_type": "execute_result"
    }
   ],
   "source": [
    "df['Bomb shelter'].value_counts()"
   ]
  },
  {
   "cell_type": "code",
   "execution_count": 20,
   "metadata": {
    "id": "_2TKCfc1_Zn0"
   },
   "outputs": [],
   "source": [
    "df.drop('Bomb shelter', inplace=True, axis=1)"
   ]
  },
  {
   "cell_type": "code",
   "execution_count": 21,
   "metadata": {
    "id": "JKWL4L_s9Q3e"
   },
   "outputs": [
    {
     "data": {
      "text/plain": [
       "2.0    4482\n",
       "1.0     361\n",
       "3.0     163\n",
       "4.0       6\n",
       "8.0       1\n",
       "Name: bath, dtype: int64"
      ]
     },
     "execution_count": 21,
     "metadata": {},
     "output_type": "execute_result"
    }
   ],
   "source": [
    "df['bath'].value_counts()"
   ]
  },
  {
   "cell_type": "code",
   "execution_count": 22,
   "metadata": {
    "id": "BxjzxnZepOdA"
   },
   "outputs": [
    {
     "data": {
      "text/plain": [
       "99.0    3955\n",
       "Name: tenure, dtype: int64"
      ]
     },
     "execution_count": 22,
     "metadata": {},
     "output_type": "execute_result"
    }
   ],
   "source": [
    "df['tenure'].value_counts()"
   ]
  },
  {
   "cell_type": "code",
   "execution_count": 23,
   "metadata": {
    "id": "o4GWxazC9NSU"
   },
   "outputs": [
    {
     "data": {
      "text/plain": [
       "Boon Keng MRT            194\n",
       "Tiong Bahru MRT          175\n",
       "Clementi MRT             120\n",
       "Queenstown MRT           118\n",
       "Ang Mo Kio MRT           118\n",
       "                        ... \n",
       "Jalan Besar MRT            2\n",
       "Novena MRT                 2\n",
       "One-North MRT              2\n",
       "HarbourFront MRT           2\n",
       "Ten Mile Junction MRT      1\n",
       "Name: MRT, Length: 108, dtype: int64"
      ]
     },
     "execution_count": 23,
     "metadata": {},
     "output_type": "execute_result"
    }
   ],
   "source": [
    "df['MRT'].value_counts()"
   ]
  },
  {
   "cell_type": "code",
   "execution_count": 24,
   "metadata": {
    "id": "Q4oQEoGIsG-W"
   },
   "outputs": [],
   "source": [
    "df['tenure'].fillna(('99'), inplace=True)\n",
    "df['Corner unit'].fillna(('N'), inplace=True)\n",
    "df['Renovated'].fillna(('N'), inplace=True)\n",
    "df['Penthouse'].fillna(('N'), inplace=True)\n",
    "df['Clubhouse'].fillna(('N'), inplace=True)\n",
    "df['Furnishing'].fillna(('N'), inplace=True)\n",
    "df['Min to MRT'].fillna((120), inplace=True)\n",
    "df['land sqft'].fillna((0), inplace=True)\n",
    "\n",
    "df['floor level'].fillna(('NA'), inplace=True)\n"
   ]
  },
  {
   "cell_type": "code",
   "execution_count": 25,
   "metadata": {
    "id": "VmWRh_sGvLAj"
   },
   "outputs": [
    {
     "data": {
      "text/plain": [
       "99.0    3955\n",
       "99      1249\n",
       "Name: tenure, dtype: int64"
      ]
     },
     "execution_count": 25,
     "metadata": {},
     "output_type": "execute_result"
    }
   ],
   "source": [
    "df['tenure'].value_counts()\n"
   ]
  },
  {
   "cell_type": "code",
   "execution_count": 26,
   "metadata": {
    "id": "gXd2eysjcH0X"
   },
   "outputs": [
    {
     "data": {
      "text/plain": [
       "550000     135\n",
       "650000     123\n",
       "500000     101\n",
       "480000      99\n",
       "450000      97\n",
       "          ... \n",
       "429944       1\n",
       "642888       1\n",
       "349999       1\n",
       "689949       1\n",
       "1450000      1\n",
       "Name: Price, Length: 509, dtype: int64"
      ]
     },
     "execution_count": 26,
     "metadata": {},
     "output_type": "execute_result"
    }
   ],
   "source": [
    "df['Price'].value_counts()"
   ]
  },
  {
   "cell_type": "code",
   "execution_count": 27,
   "metadata": {
    "id": "AZ3Lf0ad0s4G"
   },
   "outputs": [
    {
     "data": {
      "text/plain": [
       "5.0      1566\n",
       "10.0     1098\n",
       "15.0     1078\n",
       "120.0     922\n",
       "20.0      455\n",
       "25.0       82\n",
       "30.0        3\n",
       "Name: Min to MRT, dtype: int64"
      ]
     },
     "execution_count": 27,
     "metadata": {},
     "output_type": "execute_result"
    }
   ],
   "source": [
    "df['Min to MRT'].value_counts()"
   ]
  },
  {
   "cell_type": "code",
   "execution_count": 28,
   "metadata": {
    "id": "-BDHWCwIzRlc"
   },
   "outputs": [
    {
     "data": {
      "text/plain": [
       "N    4638\n",
       "Y     566\n",
       "Name: Corner unit, dtype: int64"
      ]
     },
     "execution_count": 28,
     "metadata": {},
     "output_type": "execute_result"
    }
   ],
   "source": [
    "df['Corner unit'].value_counts()"
   ]
  },
  {
   "cell_type": "code",
   "execution_count": 29,
   "metadata": {
    "id": "WH2Qq9_DamNU"
   },
   "outputs": [
    {
     "ename": "KeyError",
     "evalue": "\"['Unnamed: 0' 'Bomb shelter'] not found in axis\"",
     "output_type": "error",
     "traceback": [
      "\u001b[1;31m---------------------------------------------------------------------------\u001b[0m",
      "\u001b[1;31mKeyError\u001b[0m                                  Traceback (most recent call last)",
      "\u001b[1;32m~\\AppData\\Local\\Temp/ipykernel_26272/1807118012.py\u001b[0m in \u001b[0;36m<module>\u001b[1;34m\u001b[0m\n\u001b[1;32m----> 1\u001b[1;33m \u001b[0mdf\u001b[0m\u001b[1;33m.\u001b[0m\u001b[0mdrop\u001b[0m\u001b[1;33m(\u001b[0m\u001b[1;33m[\u001b[0m\u001b[1;34m'Utility room'\u001b[0m\u001b[1;33m,\u001b[0m\u001b[1;34m'Type'\u001b[0m\u001b[1;33m,\u001b[0m\u001b[1;34m'Unnamed: 0'\u001b[0m\u001b[1;33m,\u001b[0m\u001b[1;34m'Address'\u001b[0m\u001b[1;33m,\u001b[0m\u001b[1;34m'bath'\u001b[0m\u001b[1;33m,\u001b[0m\u001b[1;34m'Price/psf'\u001b[0m\u001b[1;33m,\u001b[0m\u001b[1;34m'Bomb shelter'\u001b[0m\u001b[1;33m,\u001b[0m\u001b[1;34m'Utility room'\u001b[0m\u001b[1;33m,\u001b[0m\u001b[1;34m'Balcony'\u001b[0m\u001b[1;33m,\u001b[0m\u001b[1;34m'MRT'\u001b[0m\u001b[1;33m,\u001b[0m\u001b[1;34m'Price/psf NEW'\u001b[0m\u001b[1;33m]\u001b[0m\u001b[1;33m,\u001b[0m \u001b[0minplace\u001b[0m\u001b[1;33m=\u001b[0m\u001b[1;32mTrue\u001b[0m\u001b[1;33m,\u001b[0m \u001b[0maxis\u001b[0m\u001b[1;33m=\u001b[0m\u001b[1;36m1\u001b[0m\u001b[1;33m)\u001b[0m\u001b[1;33m\u001b[0m\u001b[1;33m\u001b[0m\u001b[0m\n\u001b[0m",
      "\u001b[1;32m~\\anaconda3\\envs\\IBM Data Science Project\\lib\\site-packages\\pandas\\core\\frame.py\u001b[0m in \u001b[0;36mdrop\u001b[1;34m(self, labels, axis, index, columns, level, inplace, errors)\u001b[0m\n\u001b[0;32m   3995\u001b[0m             \u001b[0mlevel\u001b[0m\u001b[1;33m=\u001b[0m\u001b[0mlevel\u001b[0m\u001b[1;33m,\u001b[0m\u001b[1;33m\u001b[0m\u001b[1;33m\u001b[0m\u001b[0m\n\u001b[0;32m   3996\u001b[0m             \u001b[0minplace\u001b[0m\u001b[1;33m=\u001b[0m\u001b[0minplace\u001b[0m\u001b[1;33m,\u001b[0m\u001b[1;33m\u001b[0m\u001b[1;33m\u001b[0m\u001b[0m\n\u001b[1;32m-> 3997\u001b[1;33m             \u001b[0merrors\u001b[0m\u001b[1;33m=\u001b[0m\u001b[0merrors\u001b[0m\u001b[1;33m,\u001b[0m\u001b[1;33m\u001b[0m\u001b[1;33m\u001b[0m\u001b[0m\n\u001b[0m\u001b[0;32m   3998\u001b[0m         )\n\u001b[0;32m   3999\u001b[0m \u001b[1;33m\u001b[0m\u001b[0m\n",
      "\u001b[1;32m~\\anaconda3\\envs\\IBM Data Science Project\\lib\\site-packages\\pandas\\core\\generic.py\u001b[0m in \u001b[0;36mdrop\u001b[1;34m(self, labels, axis, index, columns, level, inplace, errors)\u001b[0m\n\u001b[0;32m   3934\u001b[0m         \u001b[1;32mfor\u001b[0m \u001b[0maxis\u001b[0m\u001b[1;33m,\u001b[0m \u001b[0mlabels\u001b[0m \u001b[1;32min\u001b[0m \u001b[0maxes\u001b[0m\u001b[1;33m.\u001b[0m\u001b[0mitems\u001b[0m\u001b[1;33m(\u001b[0m\u001b[1;33m)\u001b[0m\u001b[1;33m:\u001b[0m\u001b[1;33m\u001b[0m\u001b[1;33m\u001b[0m\u001b[0m\n\u001b[0;32m   3935\u001b[0m             \u001b[1;32mif\u001b[0m \u001b[0mlabels\u001b[0m \u001b[1;32mis\u001b[0m \u001b[1;32mnot\u001b[0m \u001b[1;32mNone\u001b[0m\u001b[1;33m:\u001b[0m\u001b[1;33m\u001b[0m\u001b[1;33m\u001b[0m\u001b[0m\n\u001b[1;32m-> 3936\u001b[1;33m                 \u001b[0mobj\u001b[0m \u001b[1;33m=\u001b[0m \u001b[0mobj\u001b[0m\u001b[1;33m.\u001b[0m\u001b[0m_drop_axis\u001b[0m\u001b[1;33m(\u001b[0m\u001b[0mlabels\u001b[0m\u001b[1;33m,\u001b[0m \u001b[0maxis\u001b[0m\u001b[1;33m,\u001b[0m \u001b[0mlevel\u001b[0m\u001b[1;33m=\u001b[0m\u001b[0mlevel\u001b[0m\u001b[1;33m,\u001b[0m \u001b[0merrors\u001b[0m\u001b[1;33m=\u001b[0m\u001b[0merrors\u001b[0m\u001b[1;33m)\u001b[0m\u001b[1;33m\u001b[0m\u001b[1;33m\u001b[0m\u001b[0m\n\u001b[0m\u001b[0;32m   3937\u001b[0m \u001b[1;33m\u001b[0m\u001b[0m\n\u001b[0;32m   3938\u001b[0m         \u001b[1;32mif\u001b[0m \u001b[0minplace\u001b[0m\u001b[1;33m:\u001b[0m\u001b[1;33m\u001b[0m\u001b[1;33m\u001b[0m\u001b[0m\n",
      "\u001b[1;32m~\\anaconda3\\envs\\IBM Data Science Project\\lib\\site-packages\\pandas\\core\\generic.py\u001b[0m in \u001b[0;36m_drop_axis\u001b[1;34m(self, labels, axis, level, errors)\u001b[0m\n\u001b[0;32m   3968\u001b[0m                 \u001b[0mnew_axis\u001b[0m \u001b[1;33m=\u001b[0m \u001b[0maxis\u001b[0m\u001b[1;33m.\u001b[0m\u001b[0mdrop\u001b[0m\u001b[1;33m(\u001b[0m\u001b[0mlabels\u001b[0m\u001b[1;33m,\u001b[0m \u001b[0mlevel\u001b[0m\u001b[1;33m=\u001b[0m\u001b[0mlevel\u001b[0m\u001b[1;33m,\u001b[0m \u001b[0merrors\u001b[0m\u001b[1;33m=\u001b[0m\u001b[0merrors\u001b[0m\u001b[1;33m)\u001b[0m\u001b[1;33m\u001b[0m\u001b[1;33m\u001b[0m\u001b[0m\n\u001b[0;32m   3969\u001b[0m             \u001b[1;32melse\u001b[0m\u001b[1;33m:\u001b[0m\u001b[1;33m\u001b[0m\u001b[1;33m\u001b[0m\u001b[0m\n\u001b[1;32m-> 3970\u001b[1;33m                 \u001b[0mnew_axis\u001b[0m \u001b[1;33m=\u001b[0m \u001b[0maxis\u001b[0m\u001b[1;33m.\u001b[0m\u001b[0mdrop\u001b[0m\u001b[1;33m(\u001b[0m\u001b[0mlabels\u001b[0m\u001b[1;33m,\u001b[0m \u001b[0merrors\u001b[0m\u001b[1;33m=\u001b[0m\u001b[0merrors\u001b[0m\u001b[1;33m)\u001b[0m\u001b[1;33m\u001b[0m\u001b[1;33m\u001b[0m\u001b[0m\n\u001b[0m\u001b[0;32m   3971\u001b[0m             \u001b[0mresult\u001b[0m \u001b[1;33m=\u001b[0m \u001b[0mself\u001b[0m\u001b[1;33m.\u001b[0m\u001b[0mreindex\u001b[0m\u001b[1;33m(\u001b[0m\u001b[1;33m**\u001b[0m\u001b[1;33m{\u001b[0m\u001b[0maxis_name\u001b[0m\u001b[1;33m:\u001b[0m \u001b[0mnew_axis\u001b[0m\u001b[1;33m}\u001b[0m\u001b[1;33m)\u001b[0m\u001b[1;33m\u001b[0m\u001b[1;33m\u001b[0m\u001b[0m\n\u001b[0;32m   3972\u001b[0m \u001b[1;33m\u001b[0m\u001b[0m\n",
      "\u001b[1;32m~\\anaconda3\\envs\\IBM Data Science Project\\lib\\site-packages\\pandas\\core\\indexes\\base.py\u001b[0m in \u001b[0;36mdrop\u001b[1;34m(self, labels, errors)\u001b[0m\n\u001b[0;32m   5016\u001b[0m         \u001b[1;32mif\u001b[0m \u001b[0mmask\u001b[0m\u001b[1;33m.\u001b[0m\u001b[0many\u001b[0m\u001b[1;33m(\u001b[0m\u001b[1;33m)\u001b[0m\u001b[1;33m:\u001b[0m\u001b[1;33m\u001b[0m\u001b[1;33m\u001b[0m\u001b[0m\n\u001b[0;32m   5017\u001b[0m             \u001b[1;32mif\u001b[0m \u001b[0merrors\u001b[0m \u001b[1;33m!=\u001b[0m \u001b[1;34m\"ignore\"\u001b[0m\u001b[1;33m:\u001b[0m\u001b[1;33m\u001b[0m\u001b[1;33m\u001b[0m\u001b[0m\n\u001b[1;32m-> 5018\u001b[1;33m                 \u001b[1;32mraise\u001b[0m \u001b[0mKeyError\u001b[0m\u001b[1;33m(\u001b[0m\u001b[1;34mf\"{labels[mask]} not found in axis\"\u001b[0m\u001b[1;33m)\u001b[0m\u001b[1;33m\u001b[0m\u001b[1;33m\u001b[0m\u001b[0m\n\u001b[0m\u001b[0;32m   5019\u001b[0m             \u001b[0mindexer\u001b[0m \u001b[1;33m=\u001b[0m \u001b[0mindexer\u001b[0m\u001b[1;33m[\u001b[0m\u001b[1;33m~\u001b[0m\u001b[0mmask\u001b[0m\u001b[1;33m]\u001b[0m\u001b[1;33m\u001b[0m\u001b[1;33m\u001b[0m\u001b[0m\n\u001b[0;32m   5020\u001b[0m         \u001b[1;32mreturn\u001b[0m \u001b[0mself\u001b[0m\u001b[1;33m.\u001b[0m\u001b[0mdelete\u001b[0m\u001b[1;33m(\u001b[0m\u001b[0mindexer\u001b[0m\u001b[1;33m)\u001b[0m\u001b[1;33m\u001b[0m\u001b[1;33m\u001b[0m\u001b[0m\n",
      "\u001b[1;31mKeyError\u001b[0m: \"['Unnamed: 0' 'Bomb shelter'] not found in axis\""
     ]
    }
   ],
   "source": [
    "df.drop(['Utility room','Type','Unnamed: 0','Address','bath','Price/psf','Bomb shelter','Utility room','Balcony','MRT','Price/psf NEW'], inplace=True, axis=1)"
   ]
  },
  {
   "cell_type": "code",
   "execution_count": null,
   "metadata": {
    "id": "e_vtN75_n_VU"
   },
   "outputs": [],
   "source": [
    "df.drop(['Address','CHECKING','Parking','Balcony','facing ','Gym','MRT'], axis=1, inplace=True)\n",
    "\n"
   ]
  },
  {
   "cell_type": "code",
   "execution_count": null,
   "metadata": {
    "id": "5QO_n4m3pM99"
   },
   "outputs": [],
   "source": [
    "df.drop(['developer'], axis=1, inplace=True)"
   ]
  },
  {
   "cell_type": "code",
   "execution_count": null,
   "metadata": {
    "id": "qpe-wrTwPsMa"
   },
   "outputs": [],
   "source": [
    "df.drop(['built sqft'>4000], axis=0, inplace=True)"
   ]
  },
  {
   "cell_type": "code",
   "execution_count": null,
   "metadata": {
    "id": "IYFTi5e-gFuW"
   },
   "outputs": [],
   "source": [
    "df['Built year'].fillna((df['Built year'].median()), inplace=True)\n",
    "df['age'] = 2021 - df['Built year']"
   ]
  },
  {
   "cell_type": "code",
   "execution_count": null,
   "metadata": {
    "id": "EZUz5dR1xHad"
   },
   "outputs": [],
   "source": [
    "df.drop(['Unnamed: 0'], axis=1, inplace=True)"
   ]
  },
  {
   "cell_type": "code",
   "execution_count": null,
   "metadata": {
    "id": "hBFx23ILx-qF"
   },
   "outputs": [],
   "source": [
    "df.drop(['Address'], axis=1, inplace=True)"
   ]
  },
  {
   "cell_type": "code",
   "execution_count": null,
   "metadata": {
    "id": "H7F2XOs4yiIj"
   },
   "outputs": [],
   "source": [
    "df.drop(['Balcony','facing ','MRT'], axis=1, inplace=True)"
   ]
  },
  {
   "cell_type": "code",
   "execution_count": null,
   "metadata": {
    "id": "Lqj4hmKHxgAI"
   },
   "outputs": [],
   "source": [
    "df.drop(['Type'], axis=1, inplace=True)"
   ]
  },
  {
   "cell_type": "code",
   "execution_count": null,
   "metadata": {
    "id": "Oc2Ts9r8Zz_M"
   },
   "outputs": [],
   "source": [
    "sns.heatmap(df.isnull(),yticklabels=False,cbar=False,cmap='viridis')"
   ]
  },
  {
   "cell_type": "code",
   "execution_count": null,
   "metadata": {
    "id": "fphy_5J2eXcg"
   },
   "outputs": [],
   "source": [
    "df.dropna(inplace=True)"
   ]
  },
  {
   "cell_type": "code",
   "execution_count": null,
   "metadata": {
    "id": "VVoaleWEmLhI"
   },
   "outputs": [],
   "source": [
    "df['Renovated']= (df['Renovated'] > 'N').astype(int)\n",
    "df['Corner unit']= (df['Corner unit'] > 'N').astype(int)\n",
    "df['Min to MRT']= (df['Min to MRT'] > 'N').astype(int)\n",
    "\n",
    "df[\"Corner unit\"] = df[\"Corner unit\"].astype(bool) \n",
    "df[\"Renovated\"] = df[\"Renovated\"].astype(bool) \n",
    "df[\"Min to MRT\"] = df[\"Min to MRT\"].astype(bool) "
   ]
  },
  {
   "cell_type": "code",
   "execution_count": null,
   "metadata": {
    "id": "rKsLK00YnfH1"
   },
   "outputs": [],
   "source": [
    "df.shape"
   ]
  },
  {
   "cell_type": "code",
   "execution_count": null,
   "metadata": {
    "id": "jYHqTHm_eV9G"
   },
   "outputs": [],
   "source": [
    "list(df)"
   ]
  },
  {
   "cell_type": "code",
   "execution_count": null,
   "metadata": {
    "id": "oK_niJP300ia"
   },
   "outputs": [],
   "source": []
  },
  {
   "cell_type": "code",
   "execution_count": null,
   "metadata": {
    "id": "TdwrNtY2fHd8"
   },
   "outputs": [],
   "source": [
    "columns=['floor level', 'overlooking','facing ']"
   ]
  },
  {
   "cell_type": "code",
   "execution_count": null,
   "metadata": {
    "id": "PfC788e5fHhX"
   },
   "outputs": [],
   "source": [
    "len(columns)"
   ]
  },
  {
   "cell_type": "code",
   "execution_count": null,
   "metadata": {
    "id": "-SEJGf3JmyWT"
   },
   "outputs": [],
   "source": [
    "final_df=df"
   ]
  },
  {
   "cell_type": "code",
   "execution_count": null,
   "metadata": {
    "id": "fcnGoJgpv079"
   },
   "outputs": [],
   "source": [
    "list(final_df)"
   ]
  },
  {
   "cell_type": "code",
   "execution_count": null,
   "metadata": {
    "id": "YNeJiE8vfHlE"
   },
   "outputs": [],
   "source": [
    "def category_onehot_multcols(multcolumns):\n",
    "  df_final = final_df\n",
    "  i = 0\n",
    "  for fields in multcolumns:\n",
    "    print(fields)\n",
    "    df1=pd.get_dummies(final_df[fields],drop_first=True)\n",
    "\n",
    "    if i==0:\n",
    "      df_final=df1.copy()\n",
    "    else:\n",
    "      df_final=pd.concat([df_final,df1],axis=1)\n",
    "    i=i+1\n",
    "\n",
    "  df_final=pd.concat([final_df,df_final], axis=1)\n",
    "  return df_final"
   ]
  },
  {
   "cell_type": "code",
   "execution_count": null,
   "metadata": {
    "id": "cStMToWgk9bV"
   },
   "outputs": [],
   "source": [
    "final_df = category_onehot_multcols(columns)"
   ]
  },
  {
   "cell_type": "code",
   "execution_count": null,
   "metadata": {
    "id": "K3FE7HYKmwjE"
   },
   "outputs": [],
   "source": [
    "final_df.shape"
   ]
  },
  {
   "cell_type": "code",
   "execution_count": null,
   "metadata": {
    "id": "tKWXBmp98-Zk"
   },
   "outputs": [],
   "source": [
    "list(final_df)"
   ]
  },
  {
   "cell_type": "code",
   "execution_count": null,
   "metadata": {
    "id": "Z5xlzpKaANGd"
   },
   "outputs": [],
   "source": [
    "df['floor level'].value_counts()"
   ]
  },
  {
   "cell_type": "code",
   "execution_count": null,
   "metadata": {
    "id": "MU54w4tnmxTB"
   },
   "outputs": [],
   "source": [
    "final_df = final_df.loc[:,~final_df.columns.duplicated()]"
   ]
  },
  {
   "cell_type": "code",
   "execution_count": null,
   "metadata": {
    "id": "48xfN0sH1czi"
   },
   "outputs": [],
   "source": [
    "final_df.drop(['floor level','overlooking','facing '], axis=1, inplace=True)"
   ]
  },
  {
   "cell_type": "code",
   "execution_count": null,
   "metadata": {
    "id": "jm4CJCfSfHoa"
   },
   "outputs": [],
   "source": [
    "final_df.head()"
   ]
  },
  {
   "cell_type": "code",
   "execution_count": null,
   "metadata": {
    "id": "dV-T15Tc3NNM"
   },
   "outputs": [],
   "source": [
    "list(final_df)"
   ]
  },
  {
   "cell_type": "code",
   "execution_count": null,
   "metadata": {
    "id": "JMpx7NRENldP"
   },
   "outputs": [],
   "source": [
    "final_df[\"bed\"] = final_df[\"bed\"].astype(int) \n",
    "\n",
    "final_df[\"built sqft\"] = final_df[\"built sqft\"].astype(int) \n",
    "\n",
    "final_df[\"Price\"] = final_df[\"Price\"].astype(int) "
   ]
  },
  {
   "cell_type": "code",
   "execution_count": null,
   "metadata": {
    "id": "ubN8w53BQXh8"
   },
   "outputs": [],
   "source": [
    "#final_df.drop(final_df.index[final_df['built sqft']>4000],  inplace=True)"
   ]
  },
  {
   "cell_type": "code",
   "execution_count": null,
   "metadata": {
    "id": "jkDmdbquag6g"
   },
   "outputs": [],
   "source": [
    "final_df.describe()"
   ]
  },
  {
   "cell_type": "code",
   "execution_count": null,
   "metadata": {
    "id": "1jxcd3YKSYEU"
   },
   "outputs": [],
   "source": [
    "import seaborn  as sns \n",
    "sns.regplot(x='built sqft', y='Price', data=final_df) "
   ]
  },
  {
   "cell_type": "code",
   "execution_count": null,
   "metadata": {
    "id": "B7m1IRd_TX9H"
   },
   "outputs": [],
   "source": [
    "sns.boxplot(x='District', y='Price', data=final_df, hue='bed')"
   ]
  },
  {
   "cell_type": "code",
   "execution_count": null,
   "metadata": {
    "id": "23q0BQCjEGMK"
   },
   "outputs": [],
   "source": [
    "features=['Price','bed','built sqft','Corner unit','Renovated','Min to MRT','District','Age of Flat',\n",
    " 'Low','Mid', 'nil',\n",
    " 'Garden view', 'Greenery view','Nil','Pool view','Sea view',\n",
    " 'North', 'North East','North South','North West','South','South East','South West','West']\n",
    "               \n",
    "                "
   ]
  },
  {
   "cell_type": "code",
   "execution_count": null,
   "metadata": {
    "id": "ZzTsiNypNKM0"
   },
   "outputs": [],
   "source": [
    "#features=['bed','bath','built sqft','land sqft','Min to MRT','age','Exec Condo ','Exec HDB','HDB','House','High','Low','Mid','NA','Top','N','P','U','Garden view','Greenery view','NIL','Pool view','Sea view','Y',2.0,3.0,4.0,5.0,6.0,7.0,8.0,9.0,10.0,11.0,12.0,13.0,14.0,15.0,16.0,17.0,18.0,19.0,20.0,21.0,22.0,23.0,25.0,26.0,27.0,28.0]"
   ]
  },
  {
   "cell_type": "code",
   "execution_count": null,
   "metadata": {
    "id": "oRO3tIM1AV_n"
   },
   "outputs": [],
   "source": [
    "#split data into x and y variables\n",
    "xVar = final_df[features]\n",
    " \n",
    "yVar = final_df['Price']"
   ]
  },
  {
   "cell_type": "code",
   "execution_count": null,
   "metadata": {
    "id": "1QiIsUh4NdN2"
   },
   "outputs": [],
   "source": [
    "final_df.head()"
   ]
  },
  {
   "cell_type": "code",
   "execution_count": null,
   "metadata": {
    "id": "zcHZXDNbPBwZ"
   },
   "outputs": [],
   "source": [
    "#Far=final_df.iloc[0:10,5]\n",
    "#print('a',Far,'a')"
   ]
  },
  {
   "cell_type": "code",
   "execution_count": null,
   "metadata": {
    "id": "ki9cejLFp2Zv"
   },
   "outputs": [],
   "source": [
    "\n",
    "xtrain, xtest, ytrain, ytest = train_test_split(xVar, yVar, test_size=0.2)"
   ]
  },
  {
   "cell_type": "code",
   "execution_count": null,
   "metadata": {
    "id": "EOyw-hd5p3UM"
   },
   "outputs": [],
   "source": [
    "xtrain.describe(include='all')"
   ]
  },
  {
   "cell_type": "code",
   "execution_count": null,
   "metadata": {
    "id": "3JX7t67rp3Yv"
   },
   "outputs": [],
   "source": [
    "ytest.describe()"
   ]
  },
  {
   "cell_type": "code",
   "execution_count": null,
   "metadata": {
    "id": "e0zd-YekMq2T"
   },
   "outputs": [],
   "source": [
    "final_df.head()"
   ]
  },
  {
   "cell_type": "code",
   "execution_count": null,
   "metadata": {
    "id": "PfN8pZndSbei"
   },
   "outputs": [],
   "source": [
    "df.head()"
   ]
  },
  {
   "cell_type": "code",
   "execution_count": null,
   "metadata": {
    "id": "YEC-CB_-MrDG"
   },
   "outputs": [],
   "source": []
  },
  {
   "cell_type": "code",
   "execution_count": null,
   "metadata": {
    "id": "Cse8W_DEHlZM"
   },
   "outputs": [],
   "source": [
    "model = xgboost.XGBRFRegressor()\n",
    "model.fit(xtrain,ytrain)"
   ]
  },
  {
   "cell_type": "code",
   "execution_count": null,
   "metadata": {
    "id": "66_qfmWpHmTC"
   },
   "outputs": [],
   "source": [
    "ytrain.head"
   ]
  },
  {
   "cell_type": "code",
   "execution_count": null,
   "metadata": {
    "id": "-N5HAR8kHmgl"
   },
   "outputs": [],
   "source": [
    "predictions_T = model.predict(xtrain)"
   ]
  },
  {
   "cell_type": "code",
   "execution_count": null,
   "metadata": {
    "id": "DxJfhW5xHm3G"
   },
   "outputs": [],
   "source": [
    "y_hat_test = model.predict(xtest)\n",
    "\n",
    "plt.scatter(ytrain, predictions_T)\n",
    "plt.xlabel('True Values')\n",
    "plt.ylabel('Predictions')\n",
    "\n",
    "plt.scatter(ytest, y_hat_test)\n",
    "plt.xlabel('True Values')\n",
    "plt.ylabel('Predictions')"
   ]
  },
  {
   "cell_type": "code",
   "execution_count": null,
   "metadata": {
    "id": "9fMCqrgeraCz"
   },
   "outputs": [],
   "source": [
    "print('Mean Absolute Error:', metrics.mean_absolute_error(ytest, y_hat_test))  \n",
    "print('Mean Squared Error:', metrics.mean_squared_error(ytest, y_hat_test))  \n",
    "print('Root Mean Squared Error:', np.sqrt(metrics.mean_squared_error(ytest, y_hat_test)))\n",
    "print('Root Mean Squared Logarithmic Error:', np.sqrt(metrics.mean_squared_error(ytest, y_hat_test)))"
   ]
  },
  {
   "cell_type": "code",
   "execution_count": null,
   "metadata": {
    "id": "gx7QH5XHraWJ"
   },
   "outputs": [],
   "source": [
    "(df.corr()**2)[\"Price\"].sort_values(ascending = False)[:20] "
   ]
  },
  {
   "cell_type": "code",
   "execution_count": null,
   "metadata": {
    "id": "z-iTbiV1raiG"
   },
   "outputs": [],
   "source": [
    "ypred = model.predict(xtest) #predicting the values y_pred"
   ]
  },
  {
   "cell_type": "code",
   "execution_count": null,
   "metadata": {
    "id": "uhlhSyvEuuSS"
   },
   "outputs": [],
   "source": [
    "ypred,yVar "
   ]
  },
  {
   "cell_type": "code",
   "execution_count": null,
   "metadata": {
    "id": "4mtlBUGouuan"
   },
   "outputs": [],
   "source": [
    "Pred = pd.DataFrame(ypred, columns=['Price'])\n",
    "df1 = pd.concat([yVar, Pred], axis=1)\n"
   ]
  },
  {
   "cell_type": "code",
   "execution_count": null,
   "metadata": {
    "id": "RX2AGNiUw4fz"
   },
   "outputs": [],
   "source": [
    "df1"
   ]
  },
  {
   "cell_type": "code",
   "execution_count": null,
   "metadata": {
    "id": "7txySCn3uuf9"
   },
   "outputs": [],
   "source": [
    "df1.plot(kind='line',figsize=(10,8))\n",
    "plt.grid(which='major', linestyle='-', linewidth='0.5', color='white')\n",
    "plt.grid(which='minor', linestyle=':', linewidth='0.5', color='black')\n",
    "plt.show()"
   ]
  },
  {
   "cell_type": "code",
   "execution_count": null,
   "metadata": {
    "id": "ak8Fcwj7uulE"
   },
   "outputs": [],
   "source": []
  },
  {
   "cell_type": "code",
   "execution_count": null,
   "metadata": {
    "id": "vay4OYYnuurG"
   },
   "outputs": [],
   "source": []
  }
 ],
 "metadata": {
  "colab": {
   "authorship_tag": "ABX9TyN2KJzHDVM1F+9RdYPiYKGz",
   "collapsed_sections": [],
   "name": "SellingHouse.ipynb",
   "provenance": []
  },
  "kernelspec": {
   "display_name": "Python 3 (ipykernel)",
   "language": "python",
   "name": "python3"
  },
  "language_info": {
   "codemirror_mode": {
    "name": "ipython",
    "version": 3
   },
   "file_extension": ".py",
   "mimetype": "text/x-python",
   "name": "python",
   "nbconvert_exporter": "python",
   "pygments_lexer": "ipython3",
   "version": "3.7.11"
  }
 },
 "nbformat": 4,
 "nbformat_minor": 4
}
