{
 "cells": [
  {
   "cell_type": "code",
   "execution_count": 1,
   "id": "33ab9a80-9367-4b1f-a566-710696e87e7e",
   "metadata": {},
   "outputs": [],
   "source": [
    "import pandas as pd\n",
    "import matplotlib.pyplot as plt\n",
    "import numpy as np\n",
    "import pickle\n",
    "\n",
    "%matplotlib inline"
   ]
  },
  {
   "cell_type": "code",
   "execution_count": 2,
   "id": "915b6ee9-2fc4-4e9a-a7b3-6f4306846814",
   "metadata": {},
   "outputs": [],
   "source": [
    "hdb_string = \"HDBdata with district_coord_dist_full_corrected2.csv\"\n",
    "df = pd.read_csv(hdb_string, na_values=0)"
   ]
  },
  {
   "cell_type": "markdown",
   "id": "fdfe7e5b-f321-4f02-9a04-fb91f87490f5",
   "metadata": {},
   "source": [
    "# EDA"
   ]
  },
  {
   "cell_type": "code",
   "execution_count": 3,
   "id": "d844dd3b-5b90-44e7-901e-a77677d3c25f",
   "metadata": {},
   "outputs": [
    {
     "data": {
      "text/html": [
       "<div>\n",
       "<style scoped>\n",
       "    .dataframe tbody tr th:only-of-type {\n",
       "        vertical-align: middle;\n",
       "    }\n",
       "\n",
       "    .dataframe tbody tr th {\n",
       "        vertical-align: top;\n",
       "    }\n",
       "\n",
       "    .dataframe thead th {\n",
       "        text-align: right;\n",
       "    }\n",
       "</style>\n",
       "<table border=\"1\" class=\"dataframe\">\n",
       "  <thead>\n",
       "    <tr style=\"text-align: right;\">\n",
       "      <th></th>\n",
       "      <th>District</th>\n",
       "      <th>District info</th>\n",
       "      <th>District.1</th>\n",
       "      <th>month</th>\n",
       "      <th>town</th>\n",
       "      <th>flat_type</th>\n",
       "      <th>block</th>\n",
       "      <th>street_name</th>\n",
       "      <th>storey_range</th>\n",
       "      <th>floor_area_sqm</th>\n",
       "      <th>flat_model</th>\n",
       "      <th>lease_commence_date</th>\n",
       "      <th>remaining_lease</th>\n",
       "      <th>resale_price</th>\n",
       "      <th>Price/sqm</th>\n",
       "      <th>Latitude</th>\n",
       "      <th>Longitude</th>\n",
       "      <th>mrtdist</th>\n",
       "    </tr>\n",
       "  </thead>\n",
       "  <tbody>\n",
       "    <tr>\n",
       "      <th>0</th>\n",
       "      <td>20</td>\n",
       "      <td>AMK, Bishan, Thomson</td>\n",
       "      <td>20</td>\n",
       "      <td>1 01 2017</td>\n",
       "      <td>ANG MO KIO</td>\n",
       "      <td>2 ROOM</td>\n",
       "      <td>406</td>\n",
       "      <td>ANG MO KIO AVE 10</td>\n",
       "      <td>10 TO 12</td>\n",
       "      <td>44.0</td>\n",
       "      <td>Improved</td>\n",
       "      <td>1979</td>\n",
       "      <td>61</td>\n",
       "      <td>232000.0</td>\n",
       "      <td>5272.727273</td>\n",
       "      <td>1.375748</td>\n",
       "      <td>103.854640</td>\n",
       "      <td>858.575938</td>\n",
       "    </tr>\n",
       "    <tr>\n",
       "      <th>1</th>\n",
       "      <td>20</td>\n",
       "      <td>AMK, Bishan, Thomson</td>\n",
       "      <td>20</td>\n",
       "      <td>1 01 2017</td>\n",
       "      <td>ANG MO KIO</td>\n",
       "      <td>3 ROOM</td>\n",
       "      <td>108</td>\n",
       "      <td>ANG MO KIO AVE 4</td>\n",
       "      <td>01 TO 03</td>\n",
       "      <td>67.0</td>\n",
       "      <td>New Generation</td>\n",
       "      <td>1978</td>\n",
       "      <td>60</td>\n",
       "      <td>250000.0</td>\n",
       "      <td>3731.343284</td>\n",
       "      <td>1.369525</td>\n",
       "      <td>103.837238</td>\n",
       "      <td>1370.233958</td>\n",
       "    </tr>\n",
       "    <tr>\n",
       "      <th>2</th>\n",
       "      <td>20</td>\n",
       "      <td>AMK, Bishan, Thomson</td>\n",
       "      <td>20</td>\n",
       "      <td>1 01 2017</td>\n",
       "      <td>ANG MO KIO</td>\n",
       "      <td>3 ROOM</td>\n",
       "      <td>602</td>\n",
       "      <td>ANG MO KIO AVE 5</td>\n",
       "      <td>01 TO 03</td>\n",
       "      <td>67.0</td>\n",
       "      <td>New Generation</td>\n",
       "      <td>1980</td>\n",
       "      <td>62</td>\n",
       "      <td>262000.0</td>\n",
       "      <td>3910.447761</td>\n",
       "      <td>1.380760</td>\n",
       "      <td>103.835425</td>\n",
       "      <td>896.538505</td>\n",
       "    </tr>\n",
       "    <tr>\n",
       "      <th>3</th>\n",
       "      <td>20</td>\n",
       "      <td>AMK, Bishan, Thomson</td>\n",
       "      <td>20</td>\n",
       "      <td>1 01 2017</td>\n",
       "      <td>ANG MO KIO</td>\n",
       "      <td>3 ROOM</td>\n",
       "      <td>465</td>\n",
       "      <td>ANG MO KIO AVE 10</td>\n",
       "      <td>04 TO 06</td>\n",
       "      <td>68.0</td>\n",
       "      <td>New Generation</td>\n",
       "      <td>1980</td>\n",
       "      <td>62</td>\n",
       "      <td>265000.0</td>\n",
       "      <td>3897.058824</td>\n",
       "      <td>1.366213</td>\n",
       "      <td>103.857175</td>\n",
       "      <td>942.352562</td>\n",
       "    </tr>\n",
       "    <tr>\n",
       "      <th>4</th>\n",
       "      <td>20</td>\n",
       "      <td>AMK, Bishan, Thomson</td>\n",
       "      <td>20</td>\n",
       "      <td>1 01 2017</td>\n",
       "      <td>ANG MO KIO</td>\n",
       "      <td>3 ROOM</td>\n",
       "      <td>601</td>\n",
       "      <td>ANG MO KIO AVE 5</td>\n",
       "      <td>01 TO 03</td>\n",
       "      <td>67.0</td>\n",
       "      <td>New Generation</td>\n",
       "      <td>1980</td>\n",
       "      <td>62</td>\n",
       "      <td>265000.0</td>\n",
       "      <td>3955.223881</td>\n",
       "      <td>1.380987</td>\n",
       "      <td>103.835076</td>\n",
       "      <td>856.601041</td>\n",
       "    </tr>\n",
       "  </tbody>\n",
       "</table>\n",
       "</div>"
      ],
      "text/plain": [
       "   District         District info  District.1      month        town  \\\n",
       "0        20  AMK, Bishan, Thomson          20  1 01 2017  ANG MO KIO   \n",
       "1        20  AMK, Bishan, Thomson          20  1 01 2017  ANG MO KIO   \n",
       "2        20  AMK, Bishan, Thomson          20  1 01 2017  ANG MO KIO   \n",
       "3        20  AMK, Bishan, Thomson          20  1 01 2017  ANG MO KIO   \n",
       "4        20  AMK, Bishan, Thomson          20  1 01 2017  ANG MO KIO   \n",
       "\n",
       "  flat_type block        street_name storey_range  floor_area_sqm  \\\n",
       "0    2 ROOM   406  ANG MO KIO AVE 10     10 TO 12            44.0   \n",
       "1    3 ROOM   108   ANG MO KIO AVE 4     01 TO 03            67.0   \n",
       "2    3 ROOM   602   ANG MO KIO AVE 5     01 TO 03            67.0   \n",
       "3    3 ROOM   465  ANG MO KIO AVE 10     04 TO 06            68.0   \n",
       "4    3 ROOM   601   ANG MO KIO AVE 5     01 TO 03            67.0   \n",
       "\n",
       "       flat_model  lease_commence_date  remaining_lease  resale_price  \\\n",
       "0        Improved                 1979               61      232000.0   \n",
       "1  New Generation                 1978               60      250000.0   \n",
       "2  New Generation                 1980               62      262000.0   \n",
       "3  New Generation                 1980               62      265000.0   \n",
       "4  New Generation                 1980               62      265000.0   \n",
       "\n",
       "     Price/sqm  Latitude   Longitude      mrtdist  \n",
       "0  5272.727273  1.375748  103.854640   858.575938  \n",
       "1  3731.343284  1.369525  103.837238  1370.233958  \n",
       "2  3910.447761  1.380760  103.835425   896.538505  \n",
       "3  3897.058824  1.366213  103.857175   942.352562  \n",
       "4  3955.223881  1.380987  103.835076   856.601041  "
      ]
     },
     "execution_count": 3,
     "metadata": {},
     "output_type": "execute_result"
    }
   ],
   "source": [
    "df.head()"
   ]
  },
  {
   "cell_type": "code",
   "execution_count": 4,
   "id": "5f1a38cf-98c6-4229-91ab-fcc387d724f3",
   "metadata": {},
   "outputs": [
    {
     "data": {
      "text/html": [
       "<div>\n",
       "<style scoped>\n",
       "    .dataframe tbody tr th:only-of-type {\n",
       "        vertical-align: middle;\n",
       "    }\n",
       "\n",
       "    .dataframe tbody tr th {\n",
       "        vertical-align: top;\n",
       "    }\n",
       "\n",
       "    .dataframe thead th {\n",
       "        text-align: right;\n",
       "    }\n",
       "</style>\n",
       "<table border=\"1\" class=\"dataframe\">\n",
       "  <thead>\n",
       "    <tr style=\"text-align: right;\">\n",
       "      <th></th>\n",
       "      <th>count</th>\n",
       "      <th>mean</th>\n",
       "      <th>std</th>\n",
       "      <th>min</th>\n",
       "      <th>25%</th>\n",
       "      <th>50%</th>\n",
       "      <th>75%</th>\n",
       "      <th>max</th>\n",
       "    </tr>\n",
       "  </thead>\n",
       "  <tbody>\n",
       "    <tr>\n",
       "      <th>District</th>\n",
       "      <td>113959.0</td>\n",
       "      <td>18.847498</td>\n",
       "      <td>6.281778</td>\n",
       "      <td>1.000000</td>\n",
       "      <td>18.000000</td>\n",
       "      <td>19.000000</td>\n",
       "      <td>23.000000</td>\n",
       "      <td>2.800000e+01</td>\n",
       "    </tr>\n",
       "    <tr>\n",
       "      <th>District.1</th>\n",
       "      <td>113959.0</td>\n",
       "      <td>18.818084</td>\n",
       "      <td>6.328647</td>\n",
       "      <td>1.000000</td>\n",
       "      <td>18.000000</td>\n",
       "      <td>19.000000</td>\n",
       "      <td>23.000000</td>\n",
       "      <td>2.800000e+01</td>\n",
       "    </tr>\n",
       "    <tr>\n",
       "      <th>floor_area_sqm</th>\n",
       "      <td>113959.0</td>\n",
       "      <td>97.859061</td>\n",
       "      <td>24.147210</td>\n",
       "      <td>31.000000</td>\n",
       "      <td>82.000000</td>\n",
       "      <td>95.000000</td>\n",
       "      <td>113.000000</td>\n",
       "      <td>2.490000e+02</td>\n",
       "    </tr>\n",
       "    <tr>\n",
       "      <th>lease_commence_date</th>\n",
       "      <td>113959.0</td>\n",
       "      <td>1995.010477</td>\n",
       "      <td>13.395018</td>\n",
       "      <td>1966.000000</td>\n",
       "      <td>1985.000000</td>\n",
       "      <td>1995.000000</td>\n",
       "      <td>2005.000000</td>\n",
       "      <td>2.019000e+03</td>\n",
       "    </tr>\n",
       "    <tr>\n",
       "      <th>remaining_lease</th>\n",
       "      <td>113959.0</td>\n",
       "      <td>74.892075</td>\n",
       "      <td>13.288946</td>\n",
       "      <td>44.000000</td>\n",
       "      <td>64.000000</td>\n",
       "      <td>75.000000</td>\n",
       "      <td>85.000000</td>\n",
       "      <td>9.800000e+01</td>\n",
       "    </tr>\n",
       "    <tr>\n",
       "      <th>resale_price</th>\n",
       "      <td>113959.0</td>\n",
       "      <td>457961.507288</td>\n",
       "      <td>158521.858641</td>\n",
       "      <td>140000.000000</td>\n",
       "      <td>342000.000000</td>\n",
       "      <td>428000.000000</td>\n",
       "      <td>540000.000000</td>\n",
       "      <td>1.295000e+06</td>\n",
       "    </tr>\n",
       "    <tr>\n",
       "      <th>Price/sqm</th>\n",
       "      <td>113959.0</td>\n",
       "      <td>4713.508969</td>\n",
       "      <td>1275.304605</td>\n",
       "      <td>2089.552239</td>\n",
       "      <td>3870.967742</td>\n",
       "      <td>4408.602151</td>\n",
       "      <td>5169.651423</td>\n",
       "      <td>1.290323e+04</td>\n",
       "    </tr>\n",
       "    <tr>\n",
       "      <th>Latitude</th>\n",
       "      <td>113959.0</td>\n",
       "      <td>1.367317</td>\n",
       "      <td>0.042705</td>\n",
       "      <td>1.270369</td>\n",
       "      <td>1.336750</td>\n",
       "      <td>1.367785</td>\n",
       "      <td>1.395605</td>\n",
       "      <td>1.459192e+00</td>\n",
       "    </tr>\n",
       "    <tr>\n",
       "      <th>Longitude</th>\n",
       "      <td>113959.0</td>\n",
       "      <td>103.842270</td>\n",
       "      <td>0.071347</td>\n",
       "      <td>103.685206</td>\n",
       "      <td>103.780243</td>\n",
       "      <td>103.848998</td>\n",
       "      <td>103.899620</td>\n",
       "      <td>1.039876e+02</td>\n",
       "    </tr>\n",
       "    <tr>\n",
       "      <th>mrtdist</th>\n",
       "      <td>113959.0</td>\n",
       "      <td>1130.106043</td>\n",
       "      <td>615.371712</td>\n",
       "      <td>44.416611</td>\n",
       "      <td>636.790261</td>\n",
       "      <td>1038.576697</td>\n",
       "      <td>1565.223916</td>\n",
       "      <td>5.045443e+03</td>\n",
       "    </tr>\n",
       "  </tbody>\n",
       "</table>\n",
       "</div>"
      ],
      "text/plain": [
       "                        count           mean            std            min  \\\n",
       "District             113959.0      18.847498       6.281778       1.000000   \n",
       "District.1           113959.0      18.818084       6.328647       1.000000   \n",
       "floor_area_sqm       113959.0      97.859061      24.147210      31.000000   \n",
       "lease_commence_date  113959.0    1995.010477      13.395018    1966.000000   \n",
       "remaining_lease      113959.0      74.892075      13.288946      44.000000   \n",
       "resale_price         113959.0  457961.507288  158521.858641  140000.000000   \n",
       "Price/sqm            113959.0    4713.508969    1275.304605    2089.552239   \n",
       "Latitude             113959.0       1.367317       0.042705       1.270369   \n",
       "Longitude            113959.0     103.842270       0.071347     103.685206   \n",
       "mrtdist              113959.0    1130.106043     615.371712      44.416611   \n",
       "\n",
       "                               25%            50%            75%           max  \n",
       "District                 18.000000      19.000000      23.000000  2.800000e+01  \n",
       "District.1               18.000000      19.000000      23.000000  2.800000e+01  \n",
       "floor_area_sqm           82.000000      95.000000     113.000000  2.490000e+02  \n",
       "lease_commence_date    1985.000000    1995.000000    2005.000000  2.019000e+03  \n",
       "remaining_lease          64.000000      75.000000      85.000000  9.800000e+01  \n",
       "resale_price         342000.000000  428000.000000  540000.000000  1.295000e+06  \n",
       "Price/sqm              3870.967742    4408.602151    5169.651423  1.290323e+04  \n",
       "Latitude                  1.336750       1.367785       1.395605  1.459192e+00  \n",
       "Longitude               103.780243     103.848998     103.899620  1.039876e+02  \n",
       "mrtdist                 636.790261    1038.576697    1565.223916  5.045443e+03  "
      ]
     },
     "execution_count": 4,
     "metadata": {},
     "output_type": "execute_result"
    }
   ],
   "source": [
    "df.describe().T"
   ]
  },
  {
   "cell_type": "code",
   "execution_count": 5,
   "id": "d5d3cdce-d8e8-4491-866b-acb204f69bb1",
   "metadata": {},
   "outputs": [
    {
     "data": {
      "text/html": [
       "<div>\n",
       "<style scoped>\n",
       "    .dataframe tbody tr th:only-of-type {\n",
       "        vertical-align: middle;\n",
       "    }\n",
       "\n",
       "    .dataframe tbody tr th {\n",
       "        vertical-align: top;\n",
       "    }\n",
       "\n",
       "    .dataframe thead th {\n",
       "        text-align: right;\n",
       "    }\n",
       "</style>\n",
       "<table border=\"1\" class=\"dataframe\">\n",
       "  <thead>\n",
       "    <tr style=\"text-align: right;\">\n",
       "      <th></th>\n",
       "      <th>District</th>\n",
       "      <th>District info</th>\n",
       "      <th>District.1</th>\n",
       "      <th>month</th>\n",
       "      <th>town</th>\n",
       "      <th>flat_type</th>\n",
       "      <th>block</th>\n",
       "      <th>street_name</th>\n",
       "      <th>storey_range</th>\n",
       "      <th>floor_area_sqm</th>\n",
       "      <th>flat_model</th>\n",
       "      <th>lease_commence_date</th>\n",
       "      <th>remaining_lease</th>\n",
       "      <th>resale_price</th>\n",
       "      <th>Price/sqm</th>\n",
       "      <th>Latitude</th>\n",
       "      <th>Longitude</th>\n",
       "      <th>mrtdist</th>\n",
       "    </tr>\n",
       "  </thead>\n",
       "  <tbody>\n",
       "  </tbody>\n",
       "</table>\n",
       "</div>"
      ],
      "text/plain": [
       "Empty DataFrame\n",
       "Columns: [District, District info, District.1, month, town, flat_type, block, street_name, storey_range, floor_area_sqm, flat_model, lease_commence_date, remaining_lease, resale_price, Price/sqm, Latitude, Longitude, mrtdist]\n",
       "Index: []"
      ]
     },
     "execution_count": 5,
     "metadata": {},
     "output_type": "execute_result"
    }
   ],
   "source": [
    "df[df.mrtdist.isna()]"
   ]
  },
  {
   "cell_type": "code",
   "execution_count": 6,
   "id": "5c430847-8ba6-4798-b50c-9f78d4c312b6",
   "metadata": {},
   "outputs": [],
   "source": [
    "df_dropped = df.dropna(axis=0)"
   ]
  },
  {
   "cell_type": "code",
   "execution_count": 7,
   "id": "bba8c294-d394-426e-a1e5-9f711e28af65",
   "metadata": {},
   "outputs": [
    {
     "data": {
      "text/html": [
       "<div>\n",
       "<style scoped>\n",
       "    .dataframe tbody tr th:only-of-type {\n",
       "        vertical-align: middle;\n",
       "    }\n",
       "\n",
       "    .dataframe tbody tr th {\n",
       "        vertical-align: top;\n",
       "    }\n",
       "\n",
       "    .dataframe thead th {\n",
       "        text-align: right;\n",
       "    }\n",
       "</style>\n",
       "<table border=\"1\" class=\"dataframe\">\n",
       "  <thead>\n",
       "    <tr style=\"text-align: right;\">\n",
       "      <th></th>\n",
       "      <th>count</th>\n",
       "      <th>mean</th>\n",
       "      <th>std</th>\n",
       "      <th>min</th>\n",
       "      <th>25%</th>\n",
       "      <th>50%</th>\n",
       "      <th>75%</th>\n",
       "      <th>max</th>\n",
       "    </tr>\n",
       "  </thead>\n",
       "  <tbody>\n",
       "    <tr>\n",
       "      <th>District</th>\n",
       "      <td>113959.0</td>\n",
       "      <td>18.847498</td>\n",
       "      <td>6.281778</td>\n",
       "      <td>1.000000</td>\n",
       "      <td>18.000000</td>\n",
       "      <td>19.000000</td>\n",
       "      <td>23.000000</td>\n",
       "      <td>2.800000e+01</td>\n",
       "    </tr>\n",
       "    <tr>\n",
       "      <th>District.1</th>\n",
       "      <td>113959.0</td>\n",
       "      <td>18.818084</td>\n",
       "      <td>6.328647</td>\n",
       "      <td>1.000000</td>\n",
       "      <td>18.000000</td>\n",
       "      <td>19.000000</td>\n",
       "      <td>23.000000</td>\n",
       "      <td>2.800000e+01</td>\n",
       "    </tr>\n",
       "    <tr>\n",
       "      <th>floor_area_sqm</th>\n",
       "      <td>113959.0</td>\n",
       "      <td>97.859061</td>\n",
       "      <td>24.147210</td>\n",
       "      <td>31.000000</td>\n",
       "      <td>82.000000</td>\n",
       "      <td>95.000000</td>\n",
       "      <td>113.000000</td>\n",
       "      <td>2.490000e+02</td>\n",
       "    </tr>\n",
       "    <tr>\n",
       "      <th>lease_commence_date</th>\n",
       "      <td>113959.0</td>\n",
       "      <td>1995.010477</td>\n",
       "      <td>13.395018</td>\n",
       "      <td>1966.000000</td>\n",
       "      <td>1985.000000</td>\n",
       "      <td>1995.000000</td>\n",
       "      <td>2005.000000</td>\n",
       "      <td>2.019000e+03</td>\n",
       "    </tr>\n",
       "    <tr>\n",
       "      <th>remaining_lease</th>\n",
       "      <td>113959.0</td>\n",
       "      <td>74.892075</td>\n",
       "      <td>13.288946</td>\n",
       "      <td>44.000000</td>\n",
       "      <td>64.000000</td>\n",
       "      <td>75.000000</td>\n",
       "      <td>85.000000</td>\n",
       "      <td>9.800000e+01</td>\n",
       "    </tr>\n",
       "    <tr>\n",
       "      <th>resale_price</th>\n",
       "      <td>113959.0</td>\n",
       "      <td>457961.507288</td>\n",
       "      <td>158521.858641</td>\n",
       "      <td>140000.000000</td>\n",
       "      <td>342000.000000</td>\n",
       "      <td>428000.000000</td>\n",
       "      <td>540000.000000</td>\n",
       "      <td>1.295000e+06</td>\n",
       "    </tr>\n",
       "    <tr>\n",
       "      <th>Price/sqm</th>\n",
       "      <td>113959.0</td>\n",
       "      <td>4713.508969</td>\n",
       "      <td>1275.304605</td>\n",
       "      <td>2089.552239</td>\n",
       "      <td>3870.967742</td>\n",
       "      <td>4408.602151</td>\n",
       "      <td>5169.651423</td>\n",
       "      <td>1.290323e+04</td>\n",
       "    </tr>\n",
       "    <tr>\n",
       "      <th>Latitude</th>\n",
       "      <td>113959.0</td>\n",
       "      <td>1.367317</td>\n",
       "      <td>0.042705</td>\n",
       "      <td>1.270369</td>\n",
       "      <td>1.336750</td>\n",
       "      <td>1.367785</td>\n",
       "      <td>1.395605</td>\n",
       "      <td>1.459192e+00</td>\n",
       "    </tr>\n",
       "    <tr>\n",
       "      <th>Longitude</th>\n",
       "      <td>113959.0</td>\n",
       "      <td>103.842270</td>\n",
       "      <td>0.071347</td>\n",
       "      <td>103.685206</td>\n",
       "      <td>103.780243</td>\n",
       "      <td>103.848998</td>\n",
       "      <td>103.899620</td>\n",
       "      <td>1.039876e+02</td>\n",
       "    </tr>\n",
       "    <tr>\n",
       "      <th>mrtdist</th>\n",
       "      <td>113959.0</td>\n",
       "      <td>1130.106043</td>\n",
       "      <td>615.371712</td>\n",
       "      <td>44.416611</td>\n",
       "      <td>636.790261</td>\n",
       "      <td>1038.576697</td>\n",
       "      <td>1565.223916</td>\n",
       "      <td>5.045443e+03</td>\n",
       "    </tr>\n",
       "  </tbody>\n",
       "</table>\n",
       "</div>"
      ],
      "text/plain": [
       "                        count           mean            std            min  \\\n",
       "District             113959.0      18.847498       6.281778       1.000000   \n",
       "District.1           113959.0      18.818084       6.328647       1.000000   \n",
       "floor_area_sqm       113959.0      97.859061      24.147210      31.000000   \n",
       "lease_commence_date  113959.0    1995.010477      13.395018    1966.000000   \n",
       "remaining_lease      113959.0      74.892075      13.288946      44.000000   \n",
       "resale_price         113959.0  457961.507288  158521.858641  140000.000000   \n",
       "Price/sqm            113959.0    4713.508969    1275.304605    2089.552239   \n",
       "Latitude             113959.0       1.367317       0.042705       1.270369   \n",
       "Longitude            113959.0     103.842270       0.071347     103.685206   \n",
       "mrtdist              113959.0    1130.106043     615.371712      44.416611   \n",
       "\n",
       "                               25%            50%            75%           max  \n",
       "District                 18.000000      19.000000      23.000000  2.800000e+01  \n",
       "District.1               18.000000      19.000000      23.000000  2.800000e+01  \n",
       "floor_area_sqm           82.000000      95.000000     113.000000  2.490000e+02  \n",
       "lease_commence_date    1985.000000    1995.000000    2005.000000  2.019000e+03  \n",
       "remaining_lease          64.000000      75.000000      85.000000  9.800000e+01  \n",
       "resale_price         342000.000000  428000.000000  540000.000000  1.295000e+06  \n",
       "Price/sqm              3870.967742    4408.602151    5169.651423  1.290323e+04  \n",
       "Latitude                  1.336750       1.367785       1.395605  1.459192e+00  \n",
       "Longitude               103.780243     103.848998     103.899620  1.039876e+02  \n",
       "mrtdist                 636.790261    1038.576697    1565.223916  5.045443e+03  "
      ]
     },
     "execution_count": 7,
     "metadata": {},
     "output_type": "execute_result"
    }
   ],
   "source": [
    "df_dropped.describe().T"
   ]
  },
  {
   "cell_type": "code",
   "execution_count": 8,
   "id": "baa98e5f-2603-4157-b926-df4c50cf1a55",
   "metadata": {},
   "outputs": [
    {
     "data": {
      "text/html": [
       "<div>\n",
       "<style scoped>\n",
       "    .dataframe tbody tr th:only-of-type {\n",
       "        vertical-align: middle;\n",
       "    }\n",
       "\n",
       "    .dataframe tbody tr th {\n",
       "        vertical-align: top;\n",
       "    }\n",
       "\n",
       "    .dataframe thead th {\n",
       "        text-align: right;\n",
       "    }\n",
       "</style>\n",
       "<table border=\"1\" class=\"dataframe\">\n",
       "  <thead>\n",
       "    <tr style=\"text-align: right;\">\n",
       "      <th></th>\n",
       "      <th>District</th>\n",
       "      <th>District info</th>\n",
       "      <th>District.1</th>\n",
       "      <th>month</th>\n",
       "      <th>town</th>\n",
       "      <th>flat_type</th>\n",
       "      <th>block</th>\n",
       "      <th>street_name</th>\n",
       "      <th>storey_range</th>\n",
       "      <th>floor_area_sqm</th>\n",
       "      <th>flat_model</th>\n",
       "      <th>lease_commence_date</th>\n",
       "      <th>remaining_lease</th>\n",
       "      <th>resale_price</th>\n",
       "      <th>Price/sqm</th>\n",
       "      <th>Latitude</th>\n",
       "      <th>Longitude</th>\n",
       "      <th>mrtdist</th>\n",
       "    </tr>\n",
       "  </thead>\n",
       "  <tbody>\n",
       "    <tr>\n",
       "      <th>0</th>\n",
       "      <td>20</td>\n",
       "      <td>AMK, Bishan, Thomson</td>\n",
       "      <td>20</td>\n",
       "      <td>1 01 2017</td>\n",
       "      <td>ANG MO KIO</td>\n",
       "      <td>2 ROOM</td>\n",
       "      <td>406</td>\n",
       "      <td>ANG MO KIO AVE 10</td>\n",
       "      <td>10 TO 12</td>\n",
       "      <td>44.0</td>\n",
       "      <td>Improved</td>\n",
       "      <td>1979</td>\n",
       "      <td>61</td>\n",
       "      <td>232000.0</td>\n",
       "      <td>5272.727273</td>\n",
       "      <td>1.375748</td>\n",
       "      <td>103.854640</td>\n",
       "      <td>858.575938</td>\n",
       "    </tr>\n",
       "    <tr>\n",
       "      <th>1</th>\n",
       "      <td>20</td>\n",
       "      <td>AMK, Bishan, Thomson</td>\n",
       "      <td>20</td>\n",
       "      <td>1 01 2017</td>\n",
       "      <td>ANG MO KIO</td>\n",
       "      <td>3 ROOM</td>\n",
       "      <td>108</td>\n",
       "      <td>ANG MO KIO AVE 4</td>\n",
       "      <td>01 TO 03</td>\n",
       "      <td>67.0</td>\n",
       "      <td>New Generation</td>\n",
       "      <td>1978</td>\n",
       "      <td>60</td>\n",
       "      <td>250000.0</td>\n",
       "      <td>3731.343284</td>\n",
       "      <td>1.369525</td>\n",
       "      <td>103.837238</td>\n",
       "      <td>1370.233958</td>\n",
       "    </tr>\n",
       "    <tr>\n",
       "      <th>2</th>\n",
       "      <td>20</td>\n",
       "      <td>AMK, Bishan, Thomson</td>\n",
       "      <td>20</td>\n",
       "      <td>1 01 2017</td>\n",
       "      <td>ANG MO KIO</td>\n",
       "      <td>3 ROOM</td>\n",
       "      <td>602</td>\n",
       "      <td>ANG MO KIO AVE 5</td>\n",
       "      <td>01 TO 03</td>\n",
       "      <td>67.0</td>\n",
       "      <td>New Generation</td>\n",
       "      <td>1980</td>\n",
       "      <td>62</td>\n",
       "      <td>262000.0</td>\n",
       "      <td>3910.447761</td>\n",
       "      <td>1.380760</td>\n",
       "      <td>103.835425</td>\n",
       "      <td>896.538505</td>\n",
       "    </tr>\n",
       "    <tr>\n",
       "      <th>3</th>\n",
       "      <td>20</td>\n",
       "      <td>AMK, Bishan, Thomson</td>\n",
       "      <td>20</td>\n",
       "      <td>1 01 2017</td>\n",
       "      <td>ANG MO KIO</td>\n",
       "      <td>3 ROOM</td>\n",
       "      <td>465</td>\n",
       "      <td>ANG MO KIO AVE 10</td>\n",
       "      <td>04 TO 06</td>\n",
       "      <td>68.0</td>\n",
       "      <td>New Generation</td>\n",
       "      <td>1980</td>\n",
       "      <td>62</td>\n",
       "      <td>265000.0</td>\n",
       "      <td>3897.058824</td>\n",
       "      <td>1.366213</td>\n",
       "      <td>103.857175</td>\n",
       "      <td>942.352562</td>\n",
       "    </tr>\n",
       "    <tr>\n",
       "      <th>4</th>\n",
       "      <td>20</td>\n",
       "      <td>AMK, Bishan, Thomson</td>\n",
       "      <td>20</td>\n",
       "      <td>1 01 2017</td>\n",
       "      <td>ANG MO KIO</td>\n",
       "      <td>3 ROOM</td>\n",
       "      <td>601</td>\n",
       "      <td>ANG MO KIO AVE 5</td>\n",
       "      <td>01 TO 03</td>\n",
       "      <td>67.0</td>\n",
       "      <td>New Generation</td>\n",
       "      <td>1980</td>\n",
       "      <td>62</td>\n",
       "      <td>265000.0</td>\n",
       "      <td>3955.223881</td>\n",
       "      <td>1.380987</td>\n",
       "      <td>103.835076</td>\n",
       "      <td>856.601041</td>\n",
       "    </tr>\n",
       "  </tbody>\n",
       "</table>\n",
       "</div>"
      ],
      "text/plain": [
       "   District         District info  District.1      month        town  \\\n",
       "0        20  AMK, Bishan, Thomson          20  1 01 2017  ANG MO KIO   \n",
       "1        20  AMK, Bishan, Thomson          20  1 01 2017  ANG MO KIO   \n",
       "2        20  AMK, Bishan, Thomson          20  1 01 2017  ANG MO KIO   \n",
       "3        20  AMK, Bishan, Thomson          20  1 01 2017  ANG MO KIO   \n",
       "4        20  AMK, Bishan, Thomson          20  1 01 2017  ANG MO KIO   \n",
       "\n",
       "  flat_type block        street_name storey_range  floor_area_sqm  \\\n",
       "0    2 ROOM   406  ANG MO KIO AVE 10     10 TO 12            44.0   \n",
       "1    3 ROOM   108   ANG MO KIO AVE 4     01 TO 03            67.0   \n",
       "2    3 ROOM   602   ANG MO KIO AVE 5     01 TO 03            67.0   \n",
       "3    3 ROOM   465  ANG MO KIO AVE 10     04 TO 06            68.0   \n",
       "4    3 ROOM   601   ANG MO KIO AVE 5     01 TO 03            67.0   \n",
       "\n",
       "       flat_model  lease_commence_date  remaining_lease  resale_price  \\\n",
       "0        Improved                 1979               61      232000.0   \n",
       "1  New Generation                 1978               60      250000.0   \n",
       "2  New Generation                 1980               62      262000.0   \n",
       "3  New Generation                 1980               62      265000.0   \n",
       "4  New Generation                 1980               62      265000.0   \n",
       "\n",
       "     Price/sqm  Latitude   Longitude      mrtdist  \n",
       "0  5272.727273  1.375748  103.854640   858.575938  \n",
       "1  3731.343284  1.369525  103.837238  1370.233958  \n",
       "2  3910.447761  1.380760  103.835425   896.538505  \n",
       "3  3897.058824  1.366213  103.857175   942.352562  \n",
       "4  3955.223881  1.380987  103.835076   856.601041  "
      ]
     },
     "execution_count": 8,
     "metadata": {},
     "output_type": "execute_result"
    }
   ],
   "source": [
    "df_dropped.head()"
   ]
  },
  {
   "cell_type": "markdown",
   "id": "464e3440-b5b0-45b8-af3f-2851ed210411",
   "metadata": {},
   "source": [
    "Right off the bat we notice some outliers when it comes to location coordinates"
   ]
  },
  {
   "cell_type": "code",
   "execution_count": 9,
   "id": "28162196-9f38-4710-82ad-219e3eba61cc",
   "metadata": {},
   "outputs": [
    {
     "data": {
      "image/png": "[encoded data removed]",
      "text/plain": [
       "<Figure size 1440x720 with 2 Axes>"
      ]
     },
     "metadata": {
      "needs_background": "light"
     },
     "output_type": "display_data"
    }
   ],
   "source": [
    "df_dropped.plot(kind='scatter', \n",
    "                x = 'Latitude', \n",
    "                y= 'Longitude', \n",
    "                c ='Price/sqm', \n",
    "                label= 'Price/sqm', \n",
    "                cmap = 'cool',\n",
    "                colorbar = True,\n",
    "                figsize = (20,10))\n",
    "plt.show()"
   ]
  },
  {
   "cell_type": "code",
   "execution_count": 10,
   "id": "5d79b2f7-4e04-4baa-b3ba-baeb9a84178e",
   "metadata": {},
   "outputs": [
    {
     "data": {
      "text/plain": [
       "Index(['District', 'District info', 'District.1', 'month', 'town', 'flat_type',\n",
       "       'block', 'street_name', 'storey_range', 'floor_area_sqm', 'flat_model',\n",
       "       'lease_commence_date', 'remaining_lease', 'resale_price', 'Price/sqm',\n",
       "       'Latitude', 'Longitude', 'mrtdist'],\n",
       "      dtype='object')"
      ]
     },
     "execution_count": 10,
     "metadata": {},
     "output_type": "execute_result"
    }
   ],
   "source": [
    "df_dropped.columns"
   ]
  },
  {
   "cell_type": "code",
   "execution_count": 11,
   "id": "6ae1b0fb-7d35-42cb-942d-a50f6758c3b4",
   "metadata": {},
   "outputs": [],
   "source": [
    "# Total features dropped are town, lease commence date, block, address and price/sqm\n",
    "\n",
    "df_dropped.drop(columns=['town','lease_commence_date','Price/sqm','District info','District.1'], inplace = True)\n",
    "df_dropped.drop(columns=['street_name','block'], inplace = True)"
   ]
  },
  {
   "cell_type": "code",
   "execution_count": 12,
   "id": "c7c71dce-2be1-438e-8bdf-9a2f669b0107",
   "metadata": {},
   "outputs": [
    {
     "data": {
      "text/html": [
       "<div>\n",
       "<style scoped>\n",
       "    .dataframe tbody tr th:only-of-type {\n",
       "        vertical-align: middle;\n",
       "    }\n",
       "\n",
       "    .dataframe tbody tr th {\n",
       "        vertical-align: top;\n",
       "    }\n",
       "\n",
       "    .dataframe thead th {\n",
       "        text-align: right;\n",
       "    }\n",
       "</style>\n",
       "<table border=\"1\" class=\"dataframe\">\n",
       "  <thead>\n",
       "    <tr style=\"text-align: right;\">\n",
       "      <th></th>\n",
       "      <th>District</th>\n",
       "      <th>month</th>\n",
       "      <th>flat_type</th>\n",
       "      <th>storey_range</th>\n",
       "      <th>floor_area_sqm</th>\n",
       "      <th>flat_model</th>\n",
       "      <th>remaining_lease</th>\n",
       "      <th>resale_price</th>\n",
       "      <th>Latitude</th>\n",
       "      <th>Longitude</th>\n",
       "      <th>mrtdist</th>\n",
       "    </tr>\n",
       "  </thead>\n",
       "  <tbody>\n",
       "    <tr>\n",
       "      <th>0</th>\n",
       "      <td>20</td>\n",
       "      <td>1 01 2017</td>\n",
       "      <td>2 ROOM</td>\n",
       "      <td>10 TO 12</td>\n",
       "      <td>44.0</td>\n",
       "      <td>Improved</td>\n",
       "      <td>61</td>\n",
       "      <td>232000.0</td>\n",
       "      <td>1.375748</td>\n",
       "      <td>103.854640</td>\n",
       "      <td>858.575938</td>\n",
       "    </tr>\n",
       "    <tr>\n",
       "      <th>1</th>\n",
       "      <td>20</td>\n",
       "      <td>1 01 2017</td>\n",
       "      <td>3 ROOM</td>\n",
       "      <td>01 TO 03</td>\n",
       "      <td>67.0</td>\n",
       "      <td>New Generation</td>\n",
       "      <td>60</td>\n",
       "      <td>250000.0</td>\n",
       "      <td>1.369525</td>\n",
       "      <td>103.837238</td>\n",
       "      <td>1370.233958</td>\n",
       "    </tr>\n",
       "    <tr>\n",
       "      <th>2</th>\n",
       "      <td>20</td>\n",
       "      <td>1 01 2017</td>\n",
       "      <td>3 ROOM</td>\n",
       "      <td>01 TO 03</td>\n",
       "      <td>67.0</td>\n",
       "      <td>New Generation</td>\n",
       "      <td>62</td>\n",
       "      <td>262000.0</td>\n",
       "      <td>1.380760</td>\n",
       "      <td>103.835425</td>\n",
       "      <td>896.538505</td>\n",
       "    </tr>\n",
       "    <tr>\n",
       "      <th>3</th>\n",
       "      <td>20</td>\n",
       "      <td>1 01 2017</td>\n",
       "      <td>3 ROOM</td>\n",
       "      <td>04 TO 06</td>\n",
       "      <td>68.0</td>\n",
       "      <td>New Generation</td>\n",
       "      <td>62</td>\n",
       "      <td>265000.0</td>\n",
       "      <td>1.366213</td>\n",
       "      <td>103.857175</td>\n",
       "      <td>942.352562</td>\n",
       "    </tr>\n",
       "    <tr>\n",
       "      <th>4</th>\n",
       "      <td>20</td>\n",
       "      <td>1 01 2017</td>\n",
       "      <td>3 ROOM</td>\n",
       "      <td>01 TO 03</td>\n",
       "      <td>67.0</td>\n",
       "      <td>New Generation</td>\n",
       "      <td>62</td>\n",
       "      <td>265000.0</td>\n",
       "      <td>1.380987</td>\n",
       "      <td>103.835076</td>\n",
       "      <td>856.601041</td>\n",
       "    </tr>\n",
       "  </tbody>\n",
       "</table>\n",
       "</div>"
      ],
      "text/plain": [
       "   District      month flat_type storey_range  floor_area_sqm      flat_model  \\\n",
       "0        20  1 01 2017    2 ROOM     10 TO 12            44.0        Improved   \n",
       "1        20  1 01 2017    3 ROOM     01 TO 03            67.0  New Generation   \n",
       "2        20  1 01 2017    3 ROOM     01 TO 03            67.0  New Generation   \n",
       "3        20  1 01 2017    3 ROOM     04 TO 06            68.0  New Generation   \n",
       "4        20  1 01 2017    3 ROOM     01 TO 03            67.0  New Generation   \n",
       "\n",
       "   remaining_lease  resale_price  Latitude   Longitude      mrtdist  \n",
       "0               61      232000.0  1.375748  103.854640   858.575938  \n",
       "1               60      250000.0  1.369525  103.837238  1370.233958  \n",
       "2               62      262000.0  1.380760  103.835425   896.538505  \n",
       "3               62      265000.0  1.366213  103.857175   942.352562  \n",
       "4               62      265000.0  1.380987  103.835076   856.601041  "
      ]
     },
     "execution_count": 12,
     "metadata": {},
     "output_type": "execute_result"
    }
   ],
   "source": [
    "df_dropped.head()"
   ]
  },
  {
   "cell_type": "code",
   "execution_count": 13,
   "id": "9b896c06-a4f4-4d1a-b513-e7864b2c76ca",
   "metadata": {},
   "outputs": [
    {
     "name": "stdout",
     "output_type": "stream",
     "text": [
      "<class 'pandas.core.frame.DataFrame'>\n",
      "Int64Index: 113959 entries, 0 to 113958\n",
      "Data columns (total 11 columns):\n",
      " #   Column           Non-Null Count   Dtype  \n",
      "---  ------           --------------   -----  \n",
      " 0   District         113959 non-null  int64  \n",
      " 1   month            113959 non-null  object \n",
      " 2   flat_type        113959 non-null  object \n",
      " 3   storey_range     113959 non-null  object \n",
      " 4   floor_area_sqm   113959 non-null  float64\n",
      " 5   flat_model       113959 non-null  object \n",
      " 6   remaining_lease  113959 non-null  int64  \n",
      " 7   resale_price     113959 non-null  float64\n",
      " 8   Latitude         113959 non-null  float64\n",
      " 9   Longitude        113959 non-null  float64\n",
      " 10  mrtdist          113959 non-null  float64\n",
      "dtypes: float64(5), int64(2), object(4)\n",
      "memory usage: 10.4+ MB\n"
     ]
    }
   ],
   "source": [
    "df_dropped.info()"
   ]
  },
  {
   "cell_type": "markdown",
   "id": "2587b510-2ecd-40e7-b31a-6c8ee5b25ea7",
   "metadata": {
    "tags": []
   },
   "source": [
    "# Feature Engineering"
   ]
  },
  {
   "cell_type": "code",
   "execution_count": 14,
   "id": "ca676a65-f787-4f04-a0d3-ac4effde0b32",
   "metadata": {},
   "outputs": [],
   "source": [
    "## PCA here, DBSCAN\n",
    "\n",
    "from sklearn.decomposition import PCA\n",
    "from sklearn.cluster import DBSCAN"
   ]
  },
  {
   "cell_type": "markdown",
   "id": "28ee199f-03c4-4584-8743-25a7f48dcbce",
   "metadata": {},
   "source": [
    "polynominal features (degree 2) added in for numerical features below in pipeline"
   ]
  },
  {
   "cell_type": "markdown",
   "id": "6c2f0c4d-2d2c-4051-abd9-be02beb37697",
   "metadata": {},
   "source": [
    "# Modelling"
   ]
  },
  {
   "cell_type": "code",
   "execution_count": 15,
   "id": "370a90c4-ee1a-4c65-9f5b-a56ed646dfd4",
   "metadata": {},
   "outputs": [],
   "source": [
    "from sklearn.preprocessing import StandardScaler , OneHotEncoder , PolynomialFeatures\n",
    "from sklearn.compose import ColumnTransformer\n",
    "from sklearn.pipeline import Pipeline\n",
    "from sklearn.model_selection import train_test_split, GridSearchCV, cross_val_score\n",
    "from sklearn.linear_model import LinearRegression , Lasso, Ridge\n",
    "from sklearn.tree import DecisionTreeRegressor\n",
    "from sklearn.ensemble import RandomForestRegressor, BaggingRegressor, VotingRegressor\n",
    "from sklearn.metrics import mean_absolute_error, mean_squared_error, r2_score\n",
    "\n",
    "seed_number = 42"
   ]
  },
  {
   "cell_type": "code",
   "execution_count": 16,
   "id": "6446bce5-8391-421f-aee0-dc2e497075fb",
   "metadata": {},
   "outputs": [],
   "source": [
    "y = df_dropped.resale_price\n",
    "x = df_dropped.loc[:, df_dropped.columns != 'resale_price']"
   ]
  },
  {
   "cell_type": "code",
   "execution_count": 17,
   "id": "ac3769ff-5d7b-4d28-8df2-1d408fbd8c3f",
   "metadata": {},
   "outputs": [],
   "source": [
    "num_cols = x.select_dtypes(['float64','int64']).columns\n",
    "cat_cols = x.select_dtypes(['object']).columns"
   ]
  },
  {
   "cell_type": "code",
   "execution_count": 18,
   "id": "7d5843dc-de23-4953-804c-ec846c385cdb",
   "metadata": {},
   "outputs": [
    {
     "data": {
      "text/plain": [
       "(113959, 11)"
      ]
     },
     "execution_count": 18,
     "metadata": {},
     "output_type": "execute_result"
    }
   ],
   "source": [
    "df_dropped.shape"
   ]
  },
  {
   "cell_type": "code",
   "execution_count": 19,
   "id": "926fcbb3-55ba-4469-9fc7-51b3364e00f1",
   "metadata": {},
   "outputs": [],
   "source": [
    "# Creating training, validation and test sets\n",
    "\n",
    "X_train, X_temp, y_train, y_temp = train_test_split(x, y ,\n",
    "                                                    test_size = 0.2, \n",
    "                                                    shuffle = True,\n",
    "                                                   random_state = seed_number)"
   ]
  },
  {
   "cell_type": "code",
   "execution_count": 20,
   "id": "fbeb6114-3d86-4d64-82bf-f74b12cb777d",
   "metadata": {},
   "outputs": [],
   "source": [
    "X_test, X_val, y_test, y_val = train_test_split(X_temp, y_temp ,\n",
    "                                                    test_size = 0.5, \n",
    "                                                    shuffle = True,\n",
    "                                                   random_state = seed_number)"
   ]
  },
  {
   "cell_type": "code",
   "execution_count": 21,
   "id": "9038c4e7-b839-41af-b75b-4b6f14f0ffb1",
   "metadata": {},
   "outputs": [
    {
     "name": "stdout",
     "output_type": "stream",
     "text": [
      "Shapes\n",
      "X_train.shape \t (91167, 10)\n",
      "X_val.shape \t (11396, 10)\n",
      "X_test.shape \t (11396, 10)\n",
      "y_train.shape \t (91167,)\n",
      "y_val.shape \t (11396,)\n",
      "y_test.shape \t (11396,)\n"
     ]
    }
   ],
   "source": [
    "print('Shapes')\n",
    "print('X_train.shape \\t' , X_train.shape)\n",
    "print('X_val.shape \\t' , X_val.shape)\n",
    "print('X_test.shape \\t' , X_test.shape)\n",
    "print('y_train.shape \\t' , y_train.shape)\n",
    "print('y_val.shape \\t' , y_val.shape)\n",
    "print('y_test.shape \\t' , y_test.shape)"
   ]
  },
  {
   "cell_type": "code",
   "execution_count": 22,
   "id": "57261ce3-99be-42bf-8861-f67138d884bc",
   "metadata": {},
   "outputs": [
    {
     "data": {
      "text/html": [
       "<div>\n",
       "<style scoped>\n",
       "    .dataframe tbody tr th:only-of-type {\n",
       "        vertical-align: middle;\n",
       "    }\n",
       "\n",
       "    .dataframe tbody tr th {\n",
       "        vertical-align: top;\n",
       "    }\n",
       "\n",
       "    .dataframe thead th {\n",
       "        text-align: right;\n",
       "    }\n",
       "</style>\n",
       "<table border=\"1\" class=\"dataframe\">\n",
       "  <thead>\n",
       "    <tr style=\"text-align: right;\">\n",
       "      <th></th>\n",
       "      <th>District</th>\n",
       "      <th>month</th>\n",
       "      <th>flat_type</th>\n",
       "      <th>storey_range</th>\n",
       "      <th>floor_area_sqm</th>\n",
       "      <th>flat_model</th>\n",
       "      <th>remaining_lease</th>\n",
       "      <th>Latitude</th>\n",
       "      <th>Longitude</th>\n",
       "      <th>mrtdist</th>\n",
       "    </tr>\n",
       "  </thead>\n",
       "  <tbody>\n",
       "    <tr>\n",
       "      <th>70882</th>\n",
       "      <td>23</td>\n",
       "      <td>1 06 2020</td>\n",
       "      <td>4 ROOM</td>\n",
       "      <td>10 TO 12</td>\n",
       "      <td>104.0</td>\n",
       "      <td>Model A</td>\n",
       "      <td>62</td>\n",
       "      <td>1.346244</td>\n",
       "      <td>103.749405</td>\n",
       "      <td>310.651595</td>\n",
       "    </tr>\n",
       "    <tr>\n",
       "      <th>88389</th>\n",
       "      <td>13</td>\n",
       "      <td>1 01 2021</td>\n",
       "      <td>3 ROOM</td>\n",
       "      <td>10 TO 12</td>\n",
       "      <td>67.0</td>\n",
       "      <td>Model A</td>\n",
       "      <td>94</td>\n",
       "      <td>1.329476</td>\n",
       "      <td>103.889293</td>\n",
       "      <td>637.971127</td>\n",
       "    </tr>\n",
       "    <tr>\n",
       "      <th>42714</th>\n",
       "      <td>22</td>\n",
       "      <td>1 01 2019</td>\n",
       "      <td>3 ROOM</td>\n",
       "      <td>04 TO 06</td>\n",
       "      <td>67.0</td>\n",
       "      <td>New Generation</td>\n",
       "      <td>63</td>\n",
       "      <td>1.348451</td>\n",
       "      <td>103.717384</td>\n",
       "      <td>611.786052</td>\n",
       "    </tr>\n",
       "    <tr>\n",
       "      <th>66256</th>\n",
       "      <td>16</td>\n",
       "      <td>1 02 2020</td>\n",
       "      <td>3 ROOM</td>\n",
       "      <td>13 TO 15</td>\n",
       "      <td>67.0</td>\n",
       "      <td>New Generation</td>\n",
       "      <td>58</td>\n",
       "      <td>1.334728</td>\n",
       "      <td>103.928924</td>\n",
       "      <td>2110.665998</td>\n",
       "    </tr>\n",
       "    <tr>\n",
       "      <th>61448</th>\n",
       "      <td>18</td>\n",
       "      <td>1 11 2019</td>\n",
       "      <td>EXECUTIVE</td>\n",
       "      <td>13 TO 15</td>\n",
       "      <td>146.0</td>\n",
       "      <td>Apartment</td>\n",
       "      <td>73</td>\n",
       "      <td>1.376877</td>\n",
       "      <td>103.945004</td>\n",
       "      <td>638.883253</td>\n",
       "    </tr>\n",
       "  </tbody>\n",
       "</table>\n",
       "</div>"
      ],
      "text/plain": [
       "       District      month  flat_type storey_range  floor_area_sqm  \\\n",
       "70882        23  1 06 2020     4 ROOM     10 TO 12           104.0   \n",
       "88389        13  1 01 2021     3 ROOM     10 TO 12            67.0   \n",
       "42714        22  1 01 2019     3 ROOM     04 TO 06            67.0   \n",
       "66256        16  1 02 2020     3 ROOM     13 TO 15            67.0   \n",
       "61448        18  1 11 2019  EXECUTIVE     13 TO 15           146.0   \n",
       "\n",
       "           flat_model  remaining_lease  Latitude   Longitude      mrtdist  \n",
       "70882         Model A               62  1.346244  103.749405   310.651595  \n",
       "88389         Model A               94  1.329476  103.889293   637.971127  \n",
       "42714  New Generation               63  1.348451  103.717384   611.786052  \n",
       "66256  New Generation               58  1.334728  103.928924  2110.665998  \n",
       "61448       Apartment               73  1.376877  103.945004   638.883253  "
      ]
     },
     "execution_count": 22,
     "metadata": {},
     "output_type": "execute_result"
    }
   ],
   "source": [
    "X_train.head()"
   ]
  },
  {
   "cell_type": "code",
   "execution_count": 23,
   "id": "2064f34c-fc57-4a81-b9f7-bcf280a9ce16",
   "metadata": {},
   "outputs": [],
   "source": [
    "# Pipeline needs to include the elimination of the column and feature transformation / engineering"
   ]
  },
  {
   "cell_type": "code",
   "execution_count": 24,
   "id": "e60ac87e-62ac-4604-aa63-393b71f0a35a",
   "metadata": {},
   "outputs": [],
   "source": [
    "# Pipeline\n",
    "\n",
    "# Scale numerical variables\n",
    "\n",
    "num_pipeline = Pipeline([\n",
    "    ('ss', StandardScaler()),\n",
    "    ('poly', PolynomialFeatures())\n",
    "])\n",
    "\n",
    "# One hot encoding categorical variables\n",
    "\n",
    "cat_pipline = Pipeline([\n",
    "    ('ohe', OneHotEncoder(drop = 'first'))\n",
    "])\n",
    "\n",
    "preprocess = ColumnTransformer([\n",
    "    ('num', num_pipeline, num_cols),\n",
    "    ('cat', cat_pipline, cat_cols)\n",
    "])"
   ]
  },
  {
   "cell_type": "code",
   "execution_count": 25,
   "id": "a6017e1d-4008-4358-80e2-99504caa94a2",
   "metadata": {},
   "outputs": [],
   "source": [
    "X_train_preprocessed = preprocess.fit_transform(X_train)"
   ]
  },
  {
   "cell_type": "code",
   "execution_count": 26,
   "id": "d03c3409-ee5a-4851-b918-0fa2035ac628",
   "metadata": {},
   "outputs": [],
   "source": [
    "X_val_preprocessed = preprocess.transform(X_val)"
   ]
  },
  {
   "cell_type": "code",
   "execution_count": 27,
   "id": "4d1a4cac-a6f8-4ada-a091-40b1f034dc18",
   "metadata": {},
   "outputs": [
    {
     "data": {
      "text/plain": [
       "(91167, 127)"
      ]
     },
     "execution_count": 27,
     "metadata": {},
     "output_type": "execute_result"
    }
   ],
   "source": [
    "X_train_preprocessed.shape"
   ]
  },
  {
   "cell_type": "code",
   "execution_count": 28,
   "id": "b2b8e921-8623-4f90-8706-be996533333d",
   "metadata": {},
   "outputs": [
    {
     "data": {
      "text/plain": [
       "<10x127 sparse matrix of type '<class 'numpy.float64'>'\n",
       "\twith 320 stored elements in Compressed Sparse Row format>"
      ]
     },
     "execution_count": 28,
     "metadata": {},
     "output_type": "execute_result"
    }
   ],
   "source": [
    "X_train_preprocessed[:10]"
   ]
  },
  {
   "cell_type": "code",
   "execution_count": 29,
   "id": "9866fc7c-0ae2-446c-816f-4352be0602da",
   "metadata": {},
   "outputs": [
    {
     "data": {
      "text/plain": [
       "(1, 127)"
      ]
     },
     "execution_count": 29,
     "metadata": {},
     "output_type": "execute_result"
    }
   ],
   "source": [
    "X_train_preprocessed[0].shape"
   ]
  },
  {
   "cell_type": "code",
   "execution_count": 30,
   "id": "8962bf7f-d906-453d-b1f2-e9406cef639c",
   "metadata": {},
   "outputs": [
    {
     "data": {
      "text/plain": [
       "(11396, 127)"
      ]
     },
     "execution_count": 30,
     "metadata": {},
     "output_type": "execute_result"
    }
   ],
   "source": [
    "X_val_preprocessed.shape"
   ]
  },
  {
   "cell_type": "markdown",
   "id": "7baacd82-1b25-4323-a7c1-5977b23a8078",
   "metadata": {},
   "source": [
    "# Deep Learning Model"
   ]
  },
  {
   "cell_type": "code",
   "execution_count": 31,
   "id": "f54829ce-b389-40df-97f6-1539fdea37a3",
   "metadata": {},
   "outputs": [],
   "source": [
    "import tensorflow as tf\n",
    "import tensorflow.keras.backend as K"
   ]
  },
  {
   "cell_type": "code",
   "execution_count": 32,
   "id": "aa1d43aa-af68-4936-81e2-ff208ca16f6c",
   "metadata": {},
   "outputs": [],
   "source": [
    "def R2_score(y_true, y_pred):\n",
    "    SS_res =  K.sum(K.square(y_true - y_pred)) \n",
    "    SS_tot = K.sum(K.square(y_true - K.mean(y_true))) \n",
    "    return ( 1 - SS_res/(SS_tot + K.epsilon()) )"
   ]
  },
  {
   "cell_type": "code",
   "execution_count": 38,
   "id": "7fff92d8-8f1d-4470-8ef8-9feb0d243a91",
   "metadata": {},
   "outputs": [],
   "source": [
    "dnn_model = tf.keras.models.Sequential([\n",
    "    tf.keras.layers.Dense(512,input_dim = X_train_preprocessed.shape[1],activation = 'relu'),\n",
    "    tf.keras.layers.Dropout(rate= 0.2),\n",
    "    tf.keras.layers.Flatten(),\n",
    "    tf.keras.layers.Dense(1024, activation = 'relu'),\n",
    "    tf.keras.layers.BatchNormalization(),\n",
    "    tf.keras.layers.Dense(1024, activation = 'relu'),\n",
    "    tf.keras.layers.BatchNormalization(),\n",
    "    tf.keras.layers.Dense(1, activation = 'relu')\n",
    "])"
   ]
  },
  {
   "cell_type": "code",
   "execution_count": 39,
   "id": "f188eaa9-26bf-47bd-b527-052039593964",
   "metadata": {},
   "outputs": [
    {
     "name": "stdout",
     "output_type": "stream",
     "text": [
      "Model: \"sequential\"\n",
      "_________________________________________________________________\n",
      " Layer (type)                Output Shape              Param #   \n",
      "=================================================================\n",
      " dense_7 (Dense)             (None, 512)               65536     \n",
      "                                                                 \n",
      " dropout_2 (Dropout)         (None, 512)               0         \n",
      "                                                                 \n",
      " flatten_2 (Flatten)         (None, 512)               0         \n",
      "                                                                 \n",
      " dense_8 (Dense)             (None, 1024)              525312    \n",
      "                                                                 \n",
      " batch_normalization_1 (Batc  (None, 1024)             4096      \n",
      " hNormalization)                                                 \n",
      "                                                                 \n",
      " dense_9 (Dense)             (None, 1024)              1049600   \n",
      "                                                                 \n",
      " batch_normalization_2 (Batc  (None, 1024)             4096      \n",
      " hNormalization)                                                 \n",
      "                                                                 \n",
      " dense_10 (Dense)            (None, 1)                 1025      \n",
      "                                                                 \n",
      "=================================================================\n",
      "Total params: 1,649,665\n",
      "Trainable params: 1,645,569\n",
      "Non-trainable params: 4,096\n",
      "_________________________________________________________________\n"
     ]
    }
   ],
   "source": [
    "dnn_model.summary()"
   ]
  },
  {
   "cell_type": "code",
   "execution_count": 40,
   "id": "74522549-02ef-49a0-9810-601db3684882",
   "metadata": {},
   "outputs": [],
   "source": [
    "early_callback = tf.keras.callbacks.EarlyStopping(patience=50)"
   ]
  },
  {
   "cell_type": "code",
   "execution_count": 41,
   "id": "4fe768ed-dd3d-438d-aa76-17fb6ea1bc3a",
   "metadata": {},
   "outputs": [],
   "source": [
    "dnn_model.compile(loss = 'mse', \n",
    "                  metrics =[tf.metrics.RootMeanSquaredError(),tf.metrics.MeanAbsoluteError(),R2_score],#.,tfa.metrics.RSquare()], \n",
    "                  optimizer = tf.keras.optimizers.RMSprop())"
   ]
  },
  {
   "cell_type": "code",
   "execution_count": 42,
   "id": "bde2953b-d312-4a3f-9f01-55aedc66cdeb",
   "metadata": {
    "tags": []
   },
   "outputs": [
    {
     "name": "stdout",
     "output_type": "stream",
     "text": [
      "Epoch 1/250\n",
      "2849/2849 [==============================] - 52s 17ms/step - loss: 230073188352.0000 - root_mean_squared_error: 479659.4375 - mean_absolute_error: 453831.1250 - R2_score: -9.2199 - val_loss: 226035515392.0000 - val_root_mean_squared_error: 475431.9062 - val_mean_absolute_error: 449973.8750 - val_R2_score: -8.6079\n",
      "Epoch 2/250\n",
      "2849/2849 [==============================] - 49s 17ms/step - loss: 208427958272.0000 - root_mean_squared_error: 456539.0938 - mean_absolute_error: 433812.8125 - R2_score: -8.2176 - val_loss: 193701806080.0000 - val_root_mean_squared_error: 440115.6562 - val_mean_absolute_error: 419263.9375 - val_R2_score: -7.2461\n",
      "Epoch 3/250\n",
      "2849/2849 [==============================] - 49s 17ms/step - loss: 170330226688.0000 - root_mean_squared_error: 412710.8125 - mean_absolute_error: 394865.5938 - R2_score: -6.5189 - val_loss: 146852610048.0000 - val_root_mean_squared_error: 383213.5312 - val_mean_absolute_error: 368926.0000 - val_R2_score: -5.2698\n",
      "Epoch 4/250\n",
      "2849/2849 [==============================] - 49s 17ms/step - loss: 122129317888.0000 - root_mean_squared_error: 349470.0625 - mean_absolute_error: 336667.9062 - R2_score: -4.3716 - val_loss: 90985463808.0000 - val_root_mean_squared_error: 301637.9688 - val_mean_absolute_error: 292031.4375 - val_R2_score: -2.8932\n",
      "Epoch 5/250\n",
      "2849/2849 [==============================] - 49s 17ms/step - loss: 72914886656.0000 - root_mean_squared_error: 270027.5625 - mean_absolute_error: 258939.8281 - R2_score: -2.1807 - val_loss: 51754262528.0000 - val_root_mean_squared_error: 227495.6250 - val_mean_absolute_error: 218233.0312 - val_R2_score: -1.2216\n",
      "Epoch 6/250\n",
      "2849/2849 [==============================] - 49s 17ms/step - loss: 33695449088.0000 - root_mean_squared_error: 183563.2031 - mean_absolute_error: 165118.6250 - R2_score: -0.4534 - val_loss: 16581914624.0000 - val_root_mean_squared_error: 128770.7812 - val_mean_absolute_error: 109072.8828 - val_R2_score: 0.2838\n",
      "Epoch 7/250\n",
      "2849/2849 [==============================] - 49s 17ms/step - loss: 13112532992.0000 - root_mean_squared_error: 114509.9688 - mean_absolute_error: 84213.2500 - R2_score: 0.4292 - val_loss: 4491175936.0000 - val_root_mean_squared_error: 67016.2344 - val_mean_absolute_error: 38046.3828 - val_R2_score: 0.8088\n",
      "Epoch 8/250\n",
      "2849/2849 [==============================] - 49s 17ms/step - loss: 6396165120.0000 - root_mean_squared_error: 79976.0234 - mean_absolute_error: 54284.6367 - R2_score: 0.7187 - val_loss: 3432671488.0000 - val_root_mean_squared_error: 58589.0039 - val_mean_absolute_error: 37541.3281 - val_R2_score: 0.8527\n",
      "Epoch 9/250\n",
      "2849/2849 [==============================] - 49s 17ms/step - loss: 2480275968.0000 - root_mean_squared_error: 49802.3711 - mean_absolute_error: 37446.2500 - R2_score: 0.8924 - val_loss: 1395210240.0000 - val_root_mean_squared_error: 37352.5117 - val_mean_absolute_error: 26383.8379 - val_R2_score: 0.9413\n",
      "Epoch 10/250\n",
      "2849/2849 [==============================] - 49s 17ms/step - loss: 1968559488.0000 - root_mean_squared_error: 44368.4492 - mean_absolute_error: 33874.5469 - R2_score: 0.9101 - val_loss: 1206959872.0000 - val_root_mean_squared_error: 34741.3281 - val_mean_absolute_error: 24713.4121 - val_R2_score: 0.9491\n",
      "Epoch 11/250\n",
      "2849/2849 [==============================] - 49s 17ms/step - loss: 1915568768.0000 - root_mean_squared_error: 43767.2109 - mean_absolute_error: 33520.6719 - R2_score: 0.9133 - val_loss: 1195495296.0000 - val_root_mean_squared_error: 34575.9336 - val_mean_absolute_error: 25179.5273 - val_R2_score: 0.9489\n",
      "Epoch 12/250\n",
      "2849/2849 [==============================] - 49s 17ms/step - loss: 1893111168.0000 - root_mean_squared_error: 43509.8984 - mean_absolute_error: 33285.4570 - R2_score: 0.9143 - val_loss: 1122611712.0000 - val_root_mean_squared_error: 33505.3984 - val_mean_absolute_error: 24902.3242 - val_R2_score: 0.9522\n",
      "Epoch 13/250\n",
      "2849/2849 [==============================] - 49s 17ms/step - loss: 1859212032.0000 - root_mean_squared_error: 43118.5820 - mean_absolute_error: 33149.2070 - R2_score: 0.9152 - val_loss: 1130896512.0000 - val_root_mean_squared_error: 33628.8047 - val_mean_absolute_error: 24080.4746 - val_R2_score: 0.9527\n",
      "Epoch 14/250\n",
      "2849/2849 [==============================] - 49s 17ms/step - loss: 1789704576.0000 - root_mean_squared_error: 42304.8984 - mean_absolute_error: 32450.4648 - R2_score: 0.9188 - val_loss: 1031618624.0000 - val_root_mean_squared_error: 32118.8203 - val_mean_absolute_error: 23513.5879 - val_R2_score: 0.9560\n",
      "Epoch 15/250\n",
      "2849/2849 [==============================] - 49s 17ms/step - loss: 1826405888.0000 - root_mean_squared_error: 42736.4688 - mean_absolute_error: 32824.2891 - R2_score: 0.9170 - val_loss: 998278016.0000 - val_root_mean_squared_error: 31595.5371 - val_mean_absolute_error: 22994.7891 - val_R2_score: 0.9574\n",
      "Epoch 16/250\n",
      "2849/2849 [==============================] - 49s 17ms/step - loss: 1762561536.0000 - root_mean_squared_error: 41982.8711 - mean_absolute_error: 32141.0664 - R2_score: 0.9198 - val_loss: 1005360512.0000 - val_root_mean_squared_error: 31707.4199 - val_mean_absolute_error: 22705.5957 - val_R2_score: 0.9572\n",
      "Epoch 17/250\n",
      "2849/2849 [==============================] - 49s 17ms/step - loss: 1767404416.0000 - root_mean_squared_error: 42040.5078 - mean_absolute_error: 32306.7012 - R2_score: 0.9195 - val_loss: 1078758784.0000 - val_root_mean_squared_error: 32844.4609 - val_mean_absolute_error: 23556.4160 - val_R2_score: 0.9546\n",
      "Epoch 18/250\n",
      "2849/2849 [==============================] - 49s 17ms/step - loss: 1768926976.0000 - root_mean_squared_error: 42058.6133 - mean_absolute_error: 32451.9551 - R2_score: 0.9193 - val_loss: 976177856.0000 - val_root_mean_squared_error: 31243.8438 - val_mean_absolute_error: 22594.8789 - val_R2_score: 0.9586\n",
      "Epoch 19/250\n",
      "2849/2849 [==============================] - 50s 18ms/step - loss: 1763192576.0000 - root_mean_squared_error: 41990.3867 - mean_absolute_error: 32328.0508 - R2_score: 0.9186 - val_loss: 1041845824.0000 - val_root_mean_squared_error: 32277.6367 - val_mean_absolute_error: 23085.2891 - val_R2_score: 0.9563\n",
      "Epoch 20/250\n",
      "2849/2849 [==============================] - 49s 17ms/step - loss: 1740081664.0000 - root_mean_squared_error: 41714.2852 - mean_absolute_error: 32166.6699 - R2_score: 0.9207 - val_loss: 1026359360.0000 - val_root_mean_squared_error: 32036.8438 - val_mean_absolute_error: 23094.8965 - val_R2_score: 0.9566\n",
      "Epoch 21/250\n",
      "2849/2849 [==============================] - 50s 17ms/step - loss: 1704876160.0000 - root_mean_squared_error: 41290.1445 - mean_absolute_error: 31814.9316 - R2_score: 0.9229 - val_loss: 1027041664.0000 - val_root_mean_squared_error: 32047.4902 - val_mean_absolute_error: 23458.7129 - val_R2_score: 0.9567\n",
      "Epoch 22/250\n",
      "2849/2849 [==============================] - 50s 17ms/step - loss: 1678787072.0000 - root_mean_squared_error: 40973.0039 - mean_absolute_error: 31629.4297 - R2_score: 0.9237 - val_loss: 960245184.0000 - val_root_mean_squared_error: 30987.8223 - val_mean_absolute_error: 22382.8281 - val_R2_score: 0.9590\n",
      "Epoch 23/250\n",
      "2849/2849 [==============================] - 49s 17ms/step - loss: 1702040960.0000 - root_mean_squared_error: 41255.7969 - mean_absolute_error: 31820.8789 - R2_score: 0.9215 - val_loss: 1014878144.0000 - val_root_mean_squared_error: 31857.1523 - val_mean_absolute_error: 23811.6250 - val_R2_score: 0.9566\n",
      "Epoch 24/250\n",
      "2849/2849 [==============================] - 49s 17ms/step - loss: 1688086784.0000 - root_mean_squared_error: 41086.3320 - mean_absolute_error: 31632.6074 - R2_score: 0.9229 - val_loss: 947040768.0000 - val_root_mean_squared_error: 30774.0273 - val_mean_absolute_error: 22290.9297 - val_R2_score: 0.9595\n",
      "Epoch 25/250\n",
      "2849/2849 [==============================] - 49s 17ms/step - loss: 1697506560.0000 - root_mean_squared_error: 41200.8086 - mean_absolute_error: 31864.5352 - R2_score: 0.9223 - val_loss: 951291776.0000 - val_root_mean_squared_error: 30843.0176 - val_mean_absolute_error: 22513.8711 - val_R2_score: 0.9596\n",
      "Epoch 26/250\n",
      "2849/2849 [==============================] - 49s 17ms/step - loss: 1644965504.0000 - root_mean_squared_error: 40558.1719 - mean_absolute_error: 31290.5312 - R2_score: 0.9252 - val_loss: 1193447680.0000 - val_root_mean_squared_error: 34546.3125 - val_mean_absolute_error: 25382.2344 - val_R2_score: 0.9508\n",
      "Epoch 27/250\n",
      "2849/2849 [==============================] - 49s 17ms/step - loss: 1655593472.0000 - root_mean_squared_error: 40688.9844 - mean_absolute_error: 31375.6289 - R2_score: 0.9232 - val_loss: 1040290432.0000 - val_root_mean_squared_error: 32253.5332 - val_mean_absolute_error: 23198.3594 - val_R2_score: 0.9558\n",
      "Epoch 28/250\n",
      "2849/2849 [==============================] - 50s 17ms/step - loss: 1635676672.0000 - root_mean_squared_error: 40443.5000 - mean_absolute_error: 31215.9570 - R2_score: 0.9250 - val_loss: 948442688.0000 - val_root_mean_squared_error: 30796.7969 - val_mean_absolute_error: 21977.3965 - val_R2_score: 0.9596\n",
      "Epoch 29/250\n",
      "2849/2849 [==============================] - 50s 17ms/step - loss: 1618734976.0000 - root_mean_squared_error: 40233.5039 - mean_absolute_error: 31051.5215 - R2_score: 0.9261 - val_loss: 1036291392.0000 - val_root_mean_squared_error: 32191.4805 - val_mean_absolute_error: 23645.3320 - val_R2_score: 0.9567\n",
      "Epoch 30/250\n",
      "2849/2849 [==============================] - 49s 17ms/step - loss: 1651636224.0000 - root_mean_squared_error: 40640.3281 - mean_absolute_error: 31369.2090 - R2_score: 0.9237 - val_loss: 940897408.0000 - val_root_mean_squared_error: 30674.0508 - val_mean_absolute_error: 22126.6055 - val_R2_score: 0.9600\n",
      "Epoch 31/250\n",
      "2849/2849 [==============================] - 49s 17ms/step - loss: 1611301120.0000 - root_mean_squared_error: 40141.0156 - mean_absolute_error: 31032.4395 - R2_score: 0.9262 - val_loss: 928958016.0000 - val_root_mean_squared_error: 30478.8125 - val_mean_absolute_error: 22105.4922 - val_R2_score: 0.9604\n",
      "Epoch 32/250\n",
      "2849/2849 [==============================] - 49s 17ms/step - loss: 1628604032.0000 - root_mean_squared_error: 40355.9648 - mean_absolute_error: 31292.9258 - R2_score: 0.9246 - val_loss: 983579392.0000 - val_root_mean_squared_error: 31362.0684 - val_mean_absolute_error: 22945.7520 - val_R2_score: 0.9586\n",
      "Epoch 33/250\n",
      "2849/2849 [==============================] - 49s 17ms/step - loss: 1611136128.0000 - root_mean_squared_error: 40138.9570 - mean_absolute_error: 31045.1035 - R2_score: 0.9257 - val_loss: 1010585728.0000 - val_root_mean_squared_error: 31789.7109 - val_mean_absolute_error: 22667.7910 - val_R2_score: 0.9574\n",
      "Epoch 34/250\n",
      "2849/2849 [==============================] - 49s 17ms/step - loss: 1586779008.0000 - root_mean_squared_error: 39834.3945 - mean_absolute_error: 30814.1895 - R2_score: 0.9267 - val_loss: 941383040.0000 - val_root_mean_squared_error: 30681.9648 - val_mean_absolute_error: 22362.2168 - val_R2_score: 0.9602\n",
      "Epoch 35/250\n",
      "2849/2849 [==============================] - 49s 17ms/step - loss: 1587410176.0000 - root_mean_squared_error: 39842.3164 - mean_absolute_error: 30839.5586 - R2_score: 0.9279 - val_loss: 975591040.0000 - val_root_mean_squared_error: 31234.4531 - val_mean_absolute_error: 22252.0059 - val_R2_score: 0.9591\n",
      "Epoch 36/250\n",
      "2849/2849 [==============================] - 49s 17ms/step - loss: 1580714496.0000 - root_mean_squared_error: 39758.1992 - mean_absolute_error: 30771.3809 - R2_score: 0.9278 - val_loss: 950930368.0000 - val_root_mean_squared_error: 30837.1582 - val_mean_absolute_error: 22459.0781 - val_R2_score: 0.9596\n",
      "Epoch 37/250\n",
      "2849/2849 [==============================] - 49s 17ms/step - loss: 1581760384.0000 - root_mean_squared_error: 39771.3516 - mean_absolute_error: 30841.5312 - R2_score: 0.9270 - val_loss: 971047552.0000 - val_root_mean_squared_error: 31161.6348 - val_mean_absolute_error: 22367.9727 - val_R2_score: 0.9591\n",
      "Epoch 38/250\n",
      "2849/2849 [==============================] - 49s 17ms/step - loss: 1551193856.0000 - root_mean_squared_error: 39385.1992 - mean_absolute_error: 30504.1133 - R2_score: 0.9292 - val_loss: 940429504.0000 - val_root_mean_squared_error: 30666.4219 - val_mean_absolute_error: 21953.2852 - val_R2_score: 0.9604\n",
      "Epoch 39/250\n",
      "2849/2849 [==============================] - 49s 17ms/step - loss: 1596442112.0000 - root_mean_squared_error: 39955.5000 - mean_absolute_error: 31005.9062 - R2_score: 0.9268 - val_loss: 947386688.0000 - val_root_mean_squared_error: 30779.6465 - val_mean_absolute_error: 22593.5957 - val_R2_score: 0.9599\n",
      "Epoch 40/250\n",
      "2849/2849 [==============================] - 49s 17ms/step - loss: 1584139648.0000 - root_mean_squared_error: 39801.2500 - mean_absolute_error: 30844.8965 - R2_score: 0.9267 - val_loss: 986370944.0000 - val_root_mean_squared_error: 31406.5430 - val_mean_absolute_error: 21817.2559 - val_R2_score: 0.9585\n",
      "Epoch 41/250\n",
      "2849/2849 [==============================] - 49s 17ms/step - loss: 1548749056.0000 - root_mean_squared_error: 39354.1484 - mean_absolute_error: 30522.9609 - R2_score: 0.9291 - val_loss: 924896640.0000 - val_root_mean_squared_error: 30412.1133 - val_mean_absolute_error: 21764.6816 - val_R2_score: 0.9608\n",
      "Epoch 42/250\n",
      "2849/2849 [==============================] - 50s 17ms/step - loss: 1539899520.0000 - root_mean_squared_error: 39241.5547 - mean_absolute_error: 30473.5898 - R2_score: 0.9292 - val_loss: 1014246208.0000 - val_root_mean_squared_error: 31847.2324 - val_mean_absolute_error: 22989.2539 - val_R2_score: 0.9577\n",
      "Epoch 43/250\n",
      "2849/2849 [==============================] - 49s 17ms/step - loss: 1541642496.0000 - root_mean_squared_error: 39263.7539 - mean_absolute_error: 30435.6172 - R2_score: 0.9293 - val_loss: 977517312.0000 - val_root_mean_squared_error: 31265.2734 - val_mean_absolute_error: 22442.1211 - val_R2_score: 0.9593\n",
      "Epoch 44/250\n",
      "2849/2849 [==============================] - 49s 17ms/step - loss: 1532140800.0000 - root_mean_squared_error: 39142.5703 - mean_absolute_error: 30258.8867 - R2_score: 0.9291 - val_loss: 955333184.0000 - val_root_mean_squared_error: 30908.4648 - val_mean_absolute_error: 22553.7852 - val_R2_score: 0.9595\n",
      "Epoch 45/250\n",
      "2849/2849 [==============================] - 49s 17ms/step - loss: 1486153728.0000 - root_mean_squared_error: 38550.6641 - mean_absolute_error: 29795.1230 - R2_score: 0.9322 - val_loss: 917886208.0000 - val_root_mean_squared_error: 30296.6367 - val_mean_absolute_error: 21536.5625 - val_R2_score: 0.9609\n",
      "Epoch 46/250\n",
      "2849/2849 [==============================] - 49s 17ms/step - loss: 1524504448.0000 - root_mean_squared_error: 39044.9023 - mean_absolute_error: 30228.6328 - R2_score: 0.9301 - val_loss: 915532608.0000 - val_root_mean_squared_error: 30257.7695 - val_mean_absolute_error: 21781.3867 - val_R2_score: 0.9614\n",
      "Epoch 47/250\n",
      "2849/2849 [==============================] - 49s 17ms/step - loss: 1538590080.0000 - root_mean_squared_error: 39224.8672 - mean_absolute_error: 30422.9551 - R2_score: 0.9303 - val_loss: 960942528.0000 - val_root_mean_squared_error: 30999.0723 - val_mean_absolute_error: 22363.8027 - val_R2_score: 0.9597\n",
      "Epoch 48/250\n",
      "2849/2849 [==============================] - 49s 17ms/step - loss: 1506487040.0000 - root_mean_squared_error: 38813.4922 - mean_absolute_error: 30098.4277 - R2_score: 0.9309 - val_loss: 930179840.0000 - val_root_mean_squared_error: 30498.8496 - val_mean_absolute_error: 21896.5156 - val_R2_score: 0.9606\n",
      "Epoch 49/250\n",
      "2849/2849 [==============================] - 49s 17ms/step - loss: 1507967360.0000 - root_mean_squared_error: 38832.5547 - mean_absolute_error: 30052.9160 - R2_score: 0.9309 - val_loss: 1038157696.0000 - val_root_mean_squared_error: 32220.4551 - val_mean_absolute_error: 23677.8516 - val_R2_score: 0.9565\n",
      "Epoch 50/250\n",
      "2849/2849 [==============================] - 49s 17ms/step - loss: 1518421760.0000 - root_mean_squared_error: 38966.9297 - mean_absolute_error: 30207.4219 - R2_score: 0.9304 - val_loss: 1011761024.0000 - val_root_mean_squared_error: 31808.1914 - val_mean_absolute_error: 23066.4336 - val_R2_score: 0.9578\n",
      "Epoch 51/250\n",
      "2849/2849 [==============================] - 50s 17ms/step - loss: 1521591424.0000 - root_mean_squared_error: 39007.5820 - mean_absolute_error: 30431.7305 - R2_score: 0.9306 - val_loss: 921810944.0000 - val_root_mean_squared_error: 30361.3398 - val_mean_absolute_error: 21888.3770 - val_R2_score: 0.9612\n",
      "Epoch 52/250\n",
      "2849/2849 [==============================] - 50s 17ms/step - loss: 1510181376.0000 - root_mean_squared_error: 38861.0508 - mean_absolute_error: 30249.7773 - R2_score: 0.9312 - val_loss: 924690624.0000 - val_root_mean_squared_error: 30408.7246 - val_mean_absolute_error: 21838.2500 - val_R2_score: 0.9606\n",
      "Epoch 53/250\n",
      "2849/2849 [==============================] - 49s 17ms/step - loss: 1482347776.0000 - root_mean_squared_error: 38501.2695 - mean_absolute_error: 29828.2578 - R2_score: 0.9325 - val_loss: 1014923840.0000 - val_root_mean_squared_error: 31857.8691 - val_mean_absolute_error: 22851.4805 - val_R2_score: 0.9580\n",
      "Epoch 54/250\n",
      "2849/2849 [==============================] - 50s 18ms/step - loss: 1492218368.0000 - root_mean_squared_error: 38629.2422 - mean_absolute_error: 30021.9531 - R2_score: 0.9319 - val_loss: 946222400.0000 - val_root_mean_squared_error: 30760.7285 - val_mean_absolute_error: 21645.2520 - val_R2_score: 0.9600\n",
      "Epoch 55/250\n",
      "2849/2849 [==============================] - 49s 17ms/step - loss: 1499081856.0000 - root_mean_squared_error: 38717.9766 - mean_absolute_error: 30045.0508 - R2_score: 0.9309 - val_loss: 1061250752.0000 - val_root_mean_squared_error: 32576.8438 - val_mean_absolute_error: 22547.6406 - val_R2_score: 0.9548\n",
      "Epoch 56/250\n",
      "2849/2849 [==============================] - 49s 17ms/step - loss: 1446613504.0000 - root_mean_squared_error: 38034.3711 - mean_absolute_error: 29511.5566 - R2_score: 0.9345 - val_loss: 1010069568.0000 - val_root_mean_squared_error: 31781.5918 - val_mean_absolute_error: 23138.6582 - val_R2_score: 0.9580\n",
      "Epoch 57/250\n",
      "2849/2849 [==============================] - 49s 17ms/step - loss: 1473346048.0000 - root_mean_squared_error: 38384.1914 - mean_absolute_error: 29783.2734 - R2_score: 0.9330 - val_loss: 928615424.0000 - val_root_mean_squared_error: 30473.1914 - val_mean_absolute_error: 21699.7676 - val_R2_score: 0.9611\n",
      "Epoch 58/250\n",
      "2849/2849 [==============================] - 49s 17ms/step - loss: 1487324032.0000 - root_mean_squared_error: 38565.8398 - mean_absolute_error: 29895.4434 - R2_score: 0.9319 - val_loss: 1014152128.0000 - val_root_mean_squared_error: 31845.7559 - val_mean_absolute_error: 23510.8242 - val_R2_score: 0.9579\n",
      "Epoch 59/250\n",
      "2849/2849 [==============================] - 50s 17ms/step - loss: 1495491968.0000 - root_mean_squared_error: 38671.5898 - mean_absolute_error: 29997.4668 - R2_score: 0.9304 - val_loss: 916957696.0000 - val_root_mean_squared_error: 30281.3086 - val_mean_absolute_error: 21384.5898 - val_R2_score: 0.9610\n",
      "Epoch 60/250\n",
      "2849/2849 [==============================] - 49s 17ms/step - loss: 1498615040.0000 - root_mean_squared_error: 38711.9492 - mean_absolute_error: 30083.6211 - R2_score: 0.9298 - val_loss: 983476480.0000 - val_root_mean_squared_error: 31360.4277 - val_mean_absolute_error: 22890.8438 - val_R2_score: 0.9587\n",
      "Epoch 61/250\n",
      "2849/2849 [==============================] - 57s 20ms/step - loss: 1485268352.0000 - root_mean_squared_error: 38539.1797 - mean_absolute_error: 29957.0957 - R2_score: 0.9314 - val_loss: 947288000.0000 - val_root_mean_squared_error: 30778.0449 - val_mean_absolute_error: 21855.0625 - val_R2_score: 0.9599\n",
      "Epoch 62/250\n",
      "2849/2849 [==============================] - 68s 24ms/step - loss: 1476695168.0000 - root_mean_squared_error: 38427.7891 - mean_absolute_error: 29879.7461 - R2_score: 0.9320 - val_loss: 960765120.0000 - val_root_mean_squared_error: 30996.2109 - val_mean_absolute_error: 22616.2656 - val_R2_score: 0.9594\n",
      "Epoch 63/250\n",
      "2849/2849 [==============================] - 70s 25ms/step - loss: 1470874112.0000 - root_mean_squared_error: 38351.9766 - mean_absolute_error: 29804.2754 - R2_score: 0.9332 - val_loss: 974547136.0000 - val_root_mean_squared_error: 31217.7363 - val_mean_absolute_error: 22078.3691 - val_R2_score: 0.9589\n",
      "Epoch 64/250\n",
      "2849/2849 [==============================] - 63s 22ms/step - loss: 1471781376.0000 - root_mean_squared_error: 38363.8047 - mean_absolute_error: 29766.8965 - R2_score: 0.9329 - val_loss: 960225088.0000 - val_root_mean_squared_error: 30987.4980 - val_mean_absolute_error: 21996.2676 - val_R2_score: 0.9595\n",
      "Epoch 65/250\n",
      "2849/2849 [==============================] - 50s 17ms/step - loss: 1482302208.0000 - root_mean_squared_error: 38500.6758 - mean_absolute_error: 29930.5098 - R2_score: 0.9318 - val_loss: 943076672.0000 - val_root_mean_squared_error: 30709.5527 - val_mean_absolute_error: 21346.5234 - val_R2_score: 0.9596\n",
      "Epoch 66/250\n",
      "2849/2849 [==============================] - 50s 17ms/step - loss: 1478932352.0000 - root_mean_squared_error: 38456.8867 - mean_absolute_error: 29910.1016 - R2_score: 0.9322 - val_loss: 1070110208.0000 - val_root_mean_squared_error: 32712.5391 - val_mean_absolute_error: 24056.4023 - val_R2_score: 0.9548\n",
      "Epoch 67/250\n",
      "2849/2849 [==============================] - 50s 17ms/step - loss: 1459225216.0000 - root_mean_squared_error: 38199.8086 - mean_absolute_error: 29729.1719 - R2_score: 0.9321 - val_loss: 992661760.0000 - val_root_mean_squared_error: 31506.5352 - val_mean_absolute_error: 21952.4473 - val_R2_score: 0.9575\n",
      "Epoch 68/250\n",
      "2849/2849 [==============================] - 50s 17ms/step - loss: 1459163520.0000 - root_mean_squared_error: 38199.0000 - mean_absolute_error: 29570.1055 - R2_score: 0.9328 - val_loss: 952313600.0000 - val_root_mean_squared_error: 30859.5781 - val_mean_absolute_error: 21953.8516 - val_R2_score: 0.9596\n",
      "Epoch 69/250\n",
      "2849/2849 [==============================] - 49s 17ms/step - loss: 1457474048.0000 - root_mean_squared_error: 38176.8789 - mean_absolute_error: 29696.8711 - R2_score: 0.9331 - val_loss: 981264832.0000 - val_root_mean_squared_error: 31325.1465 - val_mean_absolute_error: 22170.4219 - val_R2_score: 0.9588\n",
      "Epoch 70/250\n",
      "2849/2849 [==============================] - 48s 17ms/step - loss: 1475859072.0000 - root_mean_squared_error: 38416.9102 - mean_absolute_error: 29912.8691 - R2_score: 0.9321 - val_loss: 1005555136.0000 - val_root_mean_squared_error: 31710.4883 - val_mean_absolute_error: 22053.4961 - val_R2_score: 0.9568\n",
      "Epoch 71/250\n",
      "2849/2849 [==============================] - 50s 17ms/step - loss: 1457448704.0000 - root_mean_squared_error: 38176.5469 - mean_absolute_error: 29671.5723 - R2_score: 0.9321 - val_loss: 981451008.0000 - val_root_mean_squared_error: 31328.1191 - val_mean_absolute_error: 22513.9902 - val_R2_score: 0.9588\n",
      "Epoch 72/250\n",
      "2849/2849 [==============================] - 50s 17ms/step - loss: 1425764736.0000 - root_mean_squared_error: 37759.3008 - mean_absolute_error: 29395.6758 - R2_score: 0.9356 - val_loss: 977895552.0000 - val_root_mean_squared_error: 31271.3203 - val_mean_absolute_error: 21532.1953 - val_R2_score: 0.9583\n",
      "Epoch 73/250\n",
      "2849/2849 [==============================] - 50s 17ms/step - loss: 1468051200.0000 - root_mean_squared_error: 38315.1562 - mean_absolute_error: 29834.4805 - R2_score: 0.9328 - val_loss: 961275520.0000 - val_root_mean_squared_error: 31004.4434 - val_mean_absolute_error: 21332.3223 - val_R2_score: 0.9593\n",
      "Epoch 74/250\n",
      "2849/2849 [==============================] - 50s 18ms/step - loss: 1445346432.0000 - root_mean_squared_error: 38017.7109 - mean_absolute_error: 29652.5508 - R2_score: 0.9333 - val_loss: 1071717376.0000 - val_root_mean_squared_error: 32737.0938 - val_mean_absolute_error: 23107.9766 - val_R2_score: 0.9545\n",
      "Epoch 75/250\n",
      "2849/2849 [==============================] - 50s 17ms/step - loss: 1447406592.0000 - root_mean_squared_error: 38044.7969 - mean_absolute_error: 29702.6602 - R2_score: 0.9336 - val_loss: 957251968.0000 - val_root_mean_squared_error: 30939.4883 - val_mean_absolute_error: 21965.5508 - val_R2_score: 0.9596\n",
      "Epoch 76/250\n",
      "2849/2849 [==============================] - 51s 18ms/step - loss: 1473298432.0000 - root_mean_squared_error: 38383.5703 - mean_absolute_error: 29985.4668 - R2_score: 0.9317 - val_loss: 1059844416.0000 - val_root_mean_squared_error: 32555.2520 - val_mean_absolute_error: 22600.7578 - val_R2_score: 0.9551\n",
      "Epoch 77/250\n",
      "2849/2849 [==============================] - 49s 17ms/step - loss: 1472383616.0000 - root_mean_squared_error: 38371.6523 - mean_absolute_error: 29967.6680 - R2_score: 0.9313 - val_loss: 942299776.0000 - val_root_mean_squared_error: 30696.9004 - val_mean_absolute_error: 21279.4023 - val_R2_score: 0.9601\n",
      "Epoch 78/250\n",
      "2849/2849 [==============================] - 49s 17ms/step - loss: 1452374016.0000 - root_mean_squared_error: 38110.0234 - mean_absolute_error: 29674.4141 - R2_score: 0.9337 - val_loss: 1032300160.0000 - val_root_mean_squared_error: 32129.4277 - val_mean_absolute_error: 22487.9766 - val_R2_score: 0.9562\n",
      "Epoch 79/250\n",
      "2849/2849 [==============================] - 50s 18ms/step - loss: 1440570496.0000 - root_mean_squared_error: 37954.8477 - mean_absolute_error: 29476.1562 - R2_score: 0.9334 - val_loss: 1074350464.0000 - val_root_mean_squared_error: 32777.2852 - val_mean_absolute_error: 22147.4590 - val_R2_score: 0.9545\n",
      "Epoch 80/250\n",
      "2849/2849 [==============================] - 48s 17ms/step - loss: 1416288512.0000 - root_mean_squared_error: 37633.6094 - mean_absolute_error: 29244.7598 - R2_score: 0.9350 - val_loss: 976881472.0000 - val_root_mean_squared_error: 31255.1035 - val_mean_absolute_error: 21396.1289 - val_R2_score: 0.9581\n",
      "Epoch 81/250\n",
      "2849/2849 [==============================] - 31s 11ms/step - loss: 1404014464.0000 - root_mean_squared_error: 37470.1797 - mean_absolute_error: 29168.6738 - R2_score: 0.9359 - val_loss: 1004252160.0000 - val_root_mean_squared_error: 31689.9375 - val_mean_absolute_error: 22100.9980 - val_R2_score: 0.9578\n",
      "Epoch 82/250\n",
      "2849/2849 [==============================] - 32s 11ms/step - loss: 1399262976.0000 - root_mean_squared_error: 37406.7227 - mean_absolute_error: 29076.0449 - R2_score: 0.9361 - val_loss: 1002367744.0000 - val_root_mean_squared_error: 31660.1914 - val_mean_absolute_error: 22982.7051 - val_R2_score: 0.9577\n",
      "Epoch 83/250\n",
      "2849/2849 [==============================] - 32s 11ms/step - loss: 1421516288.0000 - root_mean_squared_error: 37703.0000 - mean_absolute_error: 29430.8066 - R2_score: 0.9355 - val_loss: 985702912.0000 - val_root_mean_squared_error: 31395.9062 - val_mean_absolute_error: 21985.4004 - val_R2_score: 0.9585\n",
      "Epoch 84/250\n",
      "2849/2849 [==============================] - 31s 11ms/step - loss: 1398040832.0000 - root_mean_squared_error: 37390.3828 - mean_absolute_error: 29064.3438 - R2_score: 0.9361 - val_loss: 940238400.0000 - val_root_mean_squared_error: 30663.3066 - val_mean_absolute_error: 21448.7168 - val_R2_score: 0.9604\n",
      "Epoch 85/250\n",
      "2849/2849 [==============================] - 32s 11ms/step - loss: 1416121600.0000 - root_mean_squared_error: 37631.3906 - mean_absolute_error: 29324.4492 - R2_score: 0.9342 - val_loss: 996076096.0000 - val_root_mean_squared_error: 31560.6738 - val_mean_absolute_error: 21969.0742 - val_R2_score: 0.9579\n",
      "Epoch 86/250\n",
      "2849/2849 [==============================] - 32s 11ms/step - loss: 1372899968.0000 - root_mean_squared_error: 37052.6641 - mean_absolute_error: 28726.3262 - R2_score: 0.9363 - val_loss: 983419456.0000 - val_root_mean_squared_error: 31359.5195 - val_mean_absolute_error: 21711.1855 - val_R2_score: 0.9586\n",
      "Epoch 87/250\n",
      "2849/2849 [==============================] - 32s 11ms/step - loss: 1427546240.0000 - root_mean_squared_error: 37782.8828 - mean_absolute_error: 29442.0645 - R2_score: 0.9352 - val_loss: 919766784.0000 - val_root_mean_squared_error: 30327.6562 - val_mean_absolute_error: 21436.3496 - val_R2_score: 0.9610\n",
      "Epoch 88/250\n",
      "2849/2849 [==============================] - 31s 11ms/step - loss: 1381480064.0000 - root_mean_squared_error: 37168.2656 - mean_absolute_error: 28909.3906 - R2_score: 0.9368 - val_loss: 1010420416.0000 - val_root_mean_squared_error: 31787.1113 - val_mean_absolute_error: 22637.0645 - val_R2_score: 0.9572\n",
      "Epoch 89/250\n",
      "2849/2849 [==============================] - 32s 11ms/step - loss: 1435103104.0000 - root_mean_squared_error: 37882.7539 - mean_absolute_error: 29478.8652 - R2_score: 0.9344 - val_loss: 1007008896.0000 - val_root_mean_squared_error: 31733.4023 - val_mean_absolute_error: 22135.6191 - val_R2_score: 0.9579\n",
      "Epoch 90/250\n",
      "2849/2849 [==============================] - 32s 11ms/step - loss: 1429334400.0000 - root_mean_squared_error: 37806.5391 - mean_absolute_error: 29441.1934 - R2_score: 0.9334 - val_loss: 1171494912.0000 - val_root_mean_squared_error: 34227.1094 - val_mean_absolute_error: 22895.8730 - val_R2_score: 0.9502\n",
      "Epoch 91/250\n",
      "2849/2849 [==============================] - 31s 11ms/step - loss: 1407274112.0000 - root_mean_squared_error: 37513.6523 - mean_absolute_error: 29308.9746 - R2_score: 0.9351 - val_loss: 984422144.0000 - val_root_mean_squared_error: 31375.5020 - val_mean_absolute_error: 21641.0742 - val_R2_score: 0.9577\n",
      "Epoch 92/250\n",
      "2849/2849 [==============================] - 32s 11ms/step - loss: 1414776704.0000 - root_mean_squared_error: 37613.5156 - mean_absolute_error: 29425.9238 - R2_score: 0.9338 - val_loss: 974620928.0000 - val_root_mean_squared_error: 31218.9180 - val_mean_absolute_error: 21639.7832 - val_R2_score: 0.9592\n",
      "Epoch 93/250\n",
      "2849/2849 [==============================] - 32s 11ms/step - loss: 1416331520.0000 - root_mean_squared_error: 37634.1797 - mean_absolute_error: 29336.5137 - R2_score: 0.9347 - val_loss: 933424128.0000 - val_root_mean_squared_error: 30551.9902 - val_mean_absolute_error: 21353.1133 - val_R2_score: 0.9604\n",
      "Epoch 94/250\n",
      "2849/2849 [==============================] - 31s 11ms/step - loss: 1371510400.0000 - root_mean_squared_error: 37033.9102 - mean_absolute_error: 28851.8574 - R2_score: 0.9375 - val_loss: 948607488.0000 - val_root_mean_squared_error: 30799.4707 - val_mean_absolute_error: 21319.0293 - val_R2_score: 0.9596\n",
      "Epoch 95/250\n",
      "2849/2849 [==============================] - 32s 11ms/step - loss: 1428279040.0000 - root_mean_squared_error: 37792.5781 - mean_absolute_error: 29359.9941 - R2_score: 0.9349 - val_loss: 920148352.0000 - val_root_mean_squared_error: 30333.9473 - val_mean_absolute_error: 21474.8516 - val_R2_score: 0.9608\n",
      "Epoch 96/250\n",
      "2849/2849 [==============================] - 32s 11ms/step - loss: 1404868352.0000 - root_mean_squared_error: 37481.5742 - mean_absolute_error: 29265.2539 - R2_score: 0.9350 - val_loss: 1062694784.0000 - val_root_mean_squared_error: 32599.0000 - val_mean_absolute_error: 21713.9336 - val_R2_score: 0.9553\n"
     ]
    }
   ],
   "source": [
    "# to.array() converts the sparse matrix to numpy array\n",
    "dnn_model_history = dnn_model.fit(X_train_preprocessed.toarray(), \n",
    "                                  np.array(y_train), \n",
    "                                  epochs = 250, \n",
    "                                  validation_data = [X_val_preprocessed.toarray(), np.array(y_val)], \n",
    "                                  batch_size = 32,\n",
    "                                  callbacks=[early_callback])"
   ]
  },
  {
   "cell_type": "code",
   "execution_count": 43,
   "id": "ce6bbfef-053c-413d-bdb6-a9bc668a659e",
   "metadata": {
    "tags": []
   },
   "outputs": [
    {
     "data": {
      "text/plain": [
       "dict_keys(['loss', 'root_mean_squared_error', 'mean_absolute_error', 'R2_score', 'val_loss', 'val_root_mean_squared_error', 'val_mean_absolute_error', 'val_R2_score'])"
      ]
     },
     "execution_count": 43,
     "metadata": {},
     "output_type": "execute_result"
    }
   ],
   "source": [
    "dnn_model_history.history.keys()"
   ]
  },
  {
   "cell_type": "code",
   "execution_count": 44,
   "id": "804a9297-7235-48fc-ba7d-9f2dd041f486",
   "metadata": {},
   "outputs": [],
   "source": [
    "def plot_dnn_results(history):\n",
    "    \n",
    "    fig , axes = plt.subplots(nrows=2,figsize = (10,10))\n",
    "    \n",
    "    rmse = history.history['root_mean_squared_error']\n",
    "    val_rmse = history.history['val_root_mean_squared_error']\n",
    "        \n",
    "    axes[0].plot(range(len(rmse)),np.round(rmse,2), 'r-', label = 'Training RMSE')\n",
    "    axes[0].plot(range(len(rmse)),np.round(val_rmse,2), 'b--', label = 'Validation RMSE')\n",
    "    axes[0].set_ylabel('RMSE')\n",
    "    axes[0].set_xlabel('Epochs')\n",
    "    axes[0].set_title('Training vs Validation RMSE for Full Training Data')\n",
    "    axes[0].legend()\n",
    "    plt.show\n",
    "    \n",
    "    rmse = history.history['root_mean_squared_error'][-50:]\n",
    "    val_rmse = history.history['val_root_mean_squared_error'][-50:]\n",
    "    \n",
    "    axes[1].plot(range(len(rmse))[-50:],np.round(rmse,2), 'r-', label = 'Training RMSE')\n",
    "    axes[1].plot(range(len(rmse))[-50:],np.round(val_rmse,2), 'b--', label = 'Validation RMSE')\n",
    "    axes[1].set_ylabel('RMSE')\n",
    "    axes[1].set_xlabel('Last Epochs')\n",
    "    axes[1].set_title('Training vs Validation RMSE for last 50 epochs')\n",
    "    axes[1].legend()\n",
    "    plt.show"
   ]
  },
  {
   "cell_type": "code",
   "execution_count": 45,
   "id": "0e7f359e-0056-45ca-9026-e670efd245c2",
   "metadata": {},
   "outputs": [
    {
     "data": {
      "image/png": "[encoded data removed]",
      "text/plain": [
       "<Figure size 720x720 with 2 Axes>"
      ]
     },
     "metadata": {
      "needs_background": "light"
     },
     "output_type": "display_data"
    }
   ],
   "source": [
    "plot_dnn_results(dnn_model_history)"
   ]
  },
  {
   "cell_type": "code",
   "execution_count": 46,
   "id": "6bb9a8dc-d4d1-4c69-91a5-79ed306ba154",
   "metadata": {},
   "outputs": [],
   "source": [
    "X_test_preprocess = preprocess.transform(X_test)"
   ]
  },
  {
   "cell_type": "code",
   "execution_count": 47,
   "id": "5bc56965-1bc7-412b-b9e2-5224070fb699",
   "metadata": {},
   "outputs": [
    {
     "name": "stdout",
     "output_type": "stream",
     "text": [
      "357/357 [==============================] - 2s 4ms/step - loss: 1054804992.0000 - root_mean_squared_error: 32477.7617 - mean_absolute_error: 21569.0566 - R2_score: 0.9534\n"
     ]
    }
   ],
   "source": [
    "dnn_model_score = dnn_model.evaluate(X_test_preprocess.toarray(), y_test)"
   ]
  },
  {
   "cell_type": "code",
   "execution_count": 48,
   "id": "f3aa3f29-d18f-4604-ac59-58eb73217467",
   "metadata": {},
   "outputs": [
    {
     "data": {
      "text/plain": [
       "[1054804992.0, 32477.76171875, 21569.056640625, 0.9534403681755066]"
      ]
     },
     "execution_count": 48,
     "metadata": {},
     "output_type": "execute_result"
    }
   ],
   "source": [
    "dnn_model_score"
   ]
  },
  {
   "cell_type": "code",
   "execution_count": 49,
   "id": "fae0bcae-9bc1-4f2c-9f87-a4eb3f0d9422",
   "metadata": {},
   "outputs": [
    {
     "name": "stdout",
     "output_type": "stream",
     "text": [
      "RMSE of Deep Learning Model : 32477.76171875\n",
      "MAE of Deep Learning Model : 21569.056640625\n",
      "R2 score of Deep Learning Model : 0.9534403681755066\n"
     ]
    }
   ],
   "source": [
    "print('RMSE of Deep Learning Model :' ,dnn_model_score[1])\n",
    "print('MAE of Deep Learning Model :' ,dnn_model_score[2])\n",
    "print('R2 score of Deep Learning Model :' ,dnn_model_score[3])"
   ]
  },
  {
   "cell_type": "code",
   "execution_count": 50,
   "id": "e4ea7b80-954c-434c-8a69-22fb0bdb7d3c",
   "metadata": {},
   "outputs": [
    {
     "data": {
      "text/plain": [
       "District                     4\n",
       "month                1 03 2018\n",
       "flat_type               5 ROOM\n",
       "storey_range          04 TO 06\n",
       "floor_area_sqm           117.0\n",
       "flat_model            Standard\n",
       "remaining_lease             56\n",
       "Latitude              1.276749\n",
       "Longitude           103.818872\n",
       "mrtdist            1215.369211\n",
       "Name: 23132, dtype: object"
      ]
     },
     "execution_count": 50,
     "metadata": {},
     "output_type": "execute_result"
    }
   ],
   "source": [
    "X_test.iloc[0]"
   ]
  },
  {
   "cell_type": "code",
   "execution_count": 51,
   "id": "6b4a8041-2830-4164-96e5-d0c13dd7e5ea",
   "metadata": {},
   "outputs": [
    {
     "data": {
      "text/plain": [
       "595000.0"
      ]
     },
     "execution_count": 51,
     "metadata": {},
     "output_type": "execute_result"
    }
   ],
   "source": [
    "y_test.iloc[0]"
   ]
  },
  {
   "cell_type": "code",
   "execution_count": 52,
   "id": "e5a580a1-bf13-4e96-8f9d-6243fa2d4815",
   "metadata": {},
   "outputs": [
    {
     "data": {
      "text/plain": [
       "array([[563997.3]], dtype=float32)"
      ]
     },
     "execution_count": 52,
     "metadata": {},
     "output_type": "execute_result"
    }
   ],
   "source": [
    "dnn_model.predict(X_test_preprocess[0])"
   ]
  },
  {
   "cell_type": "code",
   "execution_count": null,
   "id": "e6a9fc7e-5de4-4120-b6fa-dfbe43c9e739",
   "metadata": {},
   "outputs": [],
   "source": [
    "mse_train = mean_squared_error(lgb_cv.predict(preprocess.transform(X_train)), y_train)**(1/2)\n",
    "mse_test = mean_squared_error(lgb_cv.predict(preprocess.transform(X_test)), y_test)**(1/2)\n",
    "\n",
    "print('mse_train ' , mse_train)\n",
    "print('mse_test ' , mse_test)"
   ]
  },
  {
   "cell_type": "code",
   "execution_count": null,
   "id": "7e4cd713-3796-4b1c-93d9-8e1ada5cc918",
   "metadata": {},
   "outputs": [],
   "source": [
    "pickled_model = pickle.load(open('lgm_pkl.pkl', 'rb'))\n",
    "pickled_model.predict(X_test)"
   ]
  },
  {
   "cell_type": "markdown",
   "id": "36fdee90-14de-4384-9d0a-8d5faedd2e7c",
   "metadata": {},
   "source": [
    "## LSTM"
   ]
  },
  {
   "cell_type": "code",
   "execution_count": null,
   "id": "027e354f-bf68-4516-8467-e84ec07c23d5",
   "metadata": {},
   "outputs": [],
   "source": []
  }
 ],
 "metadata": {
  "kernelspec": {
   "display_name": "Python 3 (ipykernel)",
   "language": "python",
   "name": "python3"
  },
  "language_info": {
   "codemirror_mode": {
    "name": "ipython",
    "version": 3
   },
   "file_extension": ".py",
   "mimetype": "text/x-python",
   "name": "python",
   "nbconvert_exporter": "python",
   "pygments_lexer": "ipython3",
   "version": "3.9.7"
  }
 },
 "nbformat": 4,
 "nbformat_minor": 5
}
