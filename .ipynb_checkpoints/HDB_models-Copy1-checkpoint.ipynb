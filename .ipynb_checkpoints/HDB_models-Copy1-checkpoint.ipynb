{
 "cells": [
  {
   "cell_type": "code",
   "execution_count": 2,
   "id": "33ab9a80-9367-4b1f-a566-710696e87e7e",
   "metadata": {},
   "outputs": [
    {
     "name": "stderr",
     "output_type": "stream",
     "text": [
      "C:\\Users\\Randy\\anaconda3\\envs\\IBM Data Science Project\\lib\\site-packages\\numpy\\_distributor_init.py:32: UserWarning: loaded more than 1 DLL from .libs:\n",
      "C:\\Users\\Randy\\anaconda3\\envs\\IBM Data Science Project\\lib\\site-packages\\numpy\\.libs\\libopenblas.NOIJJG62EMASZI6NYURL6JBKM4EVBGM7.gfortran-win_amd64.dll\n",
      "C:\\Users\\Randy\\anaconda3\\envs\\IBM Data Science Project\\lib\\site-packages\\numpy\\.libs\\libopenblas.WCDJNK7YVMPZQ2ME2ZZHJJRJ3JIKNDB7.gfortran-win_amd64.dll\n",
      "  stacklevel=1)\n"
     ]
    }
   ],
   "source": [
    "import pandas as pd\n",
    "import matplotlib.pyplot as plt\n",
    "import numpy as np\n",
    "import pickle\n",
    "\n",
    "%matplotlib inline"
   ]
  },
  {
   "cell_type": "code",
   "execution_count": 3,
   "id": "915b6ee9-2fc4-4e9a-a7b3-6f4306846814",
   "metadata": {},
   "outputs": [],
   "source": [
    "hdb_string = \"HDBdata with district_coord_dist_full_corrected2.csv\"\n",
    "df = pd.read_csv(hdb_string, na_values=0)"
   ]
  },
  {
   "cell_type": "markdown",
   "id": "fdfe7e5b-f321-4f02-9a04-fb91f87490f5",
   "metadata": {},
   "source": [
    "# EDA"
   ]
  },
  {
   "cell_type": "code",
   "execution_count": 4,
   "id": "d844dd3b-5b90-44e7-901e-a77677d3c25f",
   "metadata": {},
   "outputs": [
    {
     "data": {
      "text/html": [
       "<div>\n",
       "<style scoped>\n",
       "    .dataframe tbody tr th:only-of-type {\n",
       "        vertical-align: middle;\n",
       "    }\n",
       "\n",
       "    .dataframe tbody tr th {\n",
       "        vertical-align: top;\n",
       "    }\n",
       "\n",
       "    .dataframe thead th {\n",
       "        text-align: right;\n",
       "    }\n",
       "</style>\n",
       "<table border=\"1\" class=\"dataframe\">\n",
       "  <thead>\n",
       "    <tr style=\"text-align: right;\">\n",
       "      <th></th>\n",
       "      <th>District</th>\n",
       "      <th>District info</th>\n",
       "      <th>District.1</th>\n",
       "      <th>month</th>\n",
       "      <th>town</th>\n",
       "      <th>flat_type</th>\n",
       "      <th>block</th>\n",
       "      <th>street_name</th>\n",
       "      <th>storey_range</th>\n",
       "      <th>floor_area_sqm</th>\n",
       "      <th>flat_model</th>\n",
       "      <th>lease_commence_date</th>\n",
       "      <th>remaining_lease</th>\n",
       "      <th>resale_price</th>\n",
       "      <th>Price/sqm</th>\n",
       "      <th>Latitude</th>\n",
       "      <th>Longitude</th>\n",
       "      <th>mrtdist</th>\n",
       "    </tr>\n",
       "  </thead>\n",
       "  <tbody>\n",
       "    <tr>\n",
       "      <th>0</th>\n",
       "      <td>20</td>\n",
       "      <td>AMK, Bishan, Thomson</td>\n",
       "      <td>20</td>\n",
       "      <td>1 01 2017</td>\n",
       "      <td>ANG MO KIO</td>\n",
       "      <td>2 ROOM</td>\n",
       "      <td>406</td>\n",
       "      <td>ANG MO KIO AVE 10</td>\n",
       "      <td>10 TO 12</td>\n",
       "      <td>44.0</td>\n",
       "      <td>Improved</td>\n",
       "      <td>1979</td>\n",
       "      <td>61</td>\n",
       "      <td>232000.0</td>\n",
       "      <td>5272.727273</td>\n",
       "      <td>1.375748</td>\n",
       "      <td>103.854640</td>\n",
       "      <td>858.575938</td>\n",
       "    </tr>\n",
       "    <tr>\n",
       "      <th>1</th>\n",
       "      <td>20</td>\n",
       "      <td>AMK, Bishan, Thomson</td>\n",
       "      <td>20</td>\n",
       "      <td>1 01 2017</td>\n",
       "      <td>ANG MO KIO</td>\n",
       "      <td>3 ROOM</td>\n",
       "      <td>108</td>\n",
       "      <td>ANG MO KIO AVE 4</td>\n",
       "      <td>01 TO 03</td>\n",
       "      <td>67.0</td>\n",
       "      <td>New Generation</td>\n",
       "      <td>1978</td>\n",
       "      <td>60</td>\n",
       "      <td>250000.0</td>\n",
       "      <td>3731.343284</td>\n",
       "      <td>1.369525</td>\n",
       "      <td>103.837238</td>\n",
       "      <td>1370.233958</td>\n",
       "    </tr>\n",
       "    <tr>\n",
       "      <th>2</th>\n",
       "      <td>20</td>\n",
       "      <td>AMK, Bishan, Thomson</td>\n",
       "      <td>20</td>\n",
       "      <td>1 01 2017</td>\n",
       "      <td>ANG MO KIO</td>\n",
       "      <td>3 ROOM</td>\n",
       "      <td>602</td>\n",
       "      <td>ANG MO KIO AVE 5</td>\n",
       "      <td>01 TO 03</td>\n",
       "      <td>67.0</td>\n",
       "      <td>New Generation</td>\n",
       "      <td>1980</td>\n",
       "      <td>62</td>\n",
       "      <td>262000.0</td>\n",
       "      <td>3910.447761</td>\n",
       "      <td>1.380760</td>\n",
       "      <td>103.835425</td>\n",
       "      <td>896.538505</td>\n",
       "    </tr>\n",
       "    <tr>\n",
       "      <th>3</th>\n",
       "      <td>20</td>\n",
       "      <td>AMK, Bishan, Thomson</td>\n",
       "      <td>20</td>\n",
       "      <td>1 01 2017</td>\n",
       "      <td>ANG MO KIO</td>\n",
       "      <td>3 ROOM</td>\n",
       "      <td>465</td>\n",
       "      <td>ANG MO KIO AVE 10</td>\n",
       "      <td>04 TO 06</td>\n",
       "      <td>68.0</td>\n",
       "      <td>New Generation</td>\n",
       "      <td>1980</td>\n",
       "      <td>62</td>\n",
       "      <td>265000.0</td>\n",
       "      <td>3897.058824</td>\n",
       "      <td>1.366213</td>\n",
       "      <td>103.857175</td>\n",
       "      <td>942.352562</td>\n",
       "    </tr>\n",
       "    <tr>\n",
       "      <th>4</th>\n",
       "      <td>20</td>\n",
       "      <td>AMK, Bishan, Thomson</td>\n",
       "      <td>20</td>\n",
       "      <td>1 01 2017</td>\n",
       "      <td>ANG MO KIO</td>\n",
       "      <td>3 ROOM</td>\n",
       "      <td>601</td>\n",
       "      <td>ANG MO KIO AVE 5</td>\n",
       "      <td>01 TO 03</td>\n",
       "      <td>67.0</td>\n",
       "      <td>New Generation</td>\n",
       "      <td>1980</td>\n",
       "      <td>62</td>\n",
       "      <td>265000.0</td>\n",
       "      <td>3955.223881</td>\n",
       "      <td>1.380987</td>\n",
       "      <td>103.835076</td>\n",
       "      <td>856.601041</td>\n",
       "    </tr>\n",
       "  </tbody>\n",
       "</table>\n",
       "</div>"
      ],
      "text/plain": [
       "   District         District info  District.1      month        town  \\\n",
       "0        20  AMK, Bishan, Thomson          20  1 01 2017  ANG MO KIO   \n",
       "1        20  AMK, Bishan, Thomson          20  1 01 2017  ANG MO KIO   \n",
       "2        20  AMK, Bishan, Thomson          20  1 01 2017  ANG MO KIO   \n",
       "3        20  AMK, Bishan, Thomson          20  1 01 2017  ANG MO KIO   \n",
       "4        20  AMK, Bishan, Thomson          20  1 01 2017  ANG MO KIO   \n",
       "\n",
       "  flat_type block        street_name storey_range  floor_area_sqm  \\\n",
       "0    2 ROOM   406  ANG MO KIO AVE 10     10 TO 12            44.0   \n",
       "1    3 ROOM   108   ANG MO KIO AVE 4     01 TO 03            67.0   \n",
       "2    3 ROOM   602   ANG MO KIO AVE 5     01 TO 03            67.0   \n",
       "3    3 ROOM   465  ANG MO KIO AVE 10     04 TO 06            68.0   \n",
       "4    3 ROOM   601   ANG MO KIO AVE 5     01 TO 03            67.0   \n",
       "\n",
       "       flat_model  lease_commence_date  remaining_lease  resale_price  \\\n",
       "0        Improved                 1979               61      232000.0   \n",
       "1  New Generation                 1978               60      250000.0   \n",
       "2  New Generation                 1980               62      262000.0   \n",
       "3  New Generation                 1980               62      265000.0   \n",
       "4  New Generation                 1980               62      265000.0   \n",
       "\n",
       "     Price/sqm  Latitude   Longitude      mrtdist  \n",
       "0  5272.727273  1.375748  103.854640   858.575938  \n",
       "1  3731.343284  1.369525  103.837238  1370.233958  \n",
       "2  3910.447761  1.380760  103.835425   896.538505  \n",
       "3  3897.058824  1.366213  103.857175   942.352562  \n",
       "4  3955.223881  1.380987  103.835076   856.601041  "
      ]
     },
     "execution_count": 4,
     "metadata": {},
     "output_type": "execute_result"
    }
   ],
   "source": [
    "df.head()"
   ]
  },
  {
   "cell_type": "code",
   "execution_count": 5,
   "id": "5f1a38cf-98c6-4229-91ab-fcc387d724f3",
   "metadata": {},
   "outputs": [
    {
     "data": {
      "text/html": [
       "<div>\n",
       "<style scoped>\n",
       "    .dataframe tbody tr th:only-of-type {\n",
       "        vertical-align: middle;\n",
       "    }\n",
       "\n",
       "    .dataframe tbody tr th {\n",
       "        vertical-align: top;\n",
       "    }\n",
       "\n",
       "    .dataframe thead th {\n",
       "        text-align: right;\n",
       "    }\n",
       "</style>\n",
       "<table border=\"1\" class=\"dataframe\">\n",
       "  <thead>\n",
       "    <tr style=\"text-align: right;\">\n",
       "      <th></th>\n",
       "      <th>count</th>\n",
       "      <th>mean</th>\n",
       "      <th>std</th>\n",
       "      <th>min</th>\n",
       "      <th>25%</th>\n",
       "      <th>50%</th>\n",
       "      <th>75%</th>\n",
       "      <th>max</th>\n",
       "    </tr>\n",
       "  </thead>\n",
       "  <tbody>\n",
       "    <tr>\n",
       "      <th>District</th>\n",
       "      <td>113959.0</td>\n",
       "      <td>18.847498</td>\n",
       "      <td>6.281778</td>\n",
       "      <td>1.000000</td>\n",
       "      <td>18.000000</td>\n",
       "      <td>19.000000</td>\n",
       "      <td>23.000000</td>\n",
       "      <td>2.800000e+01</td>\n",
       "    </tr>\n",
       "    <tr>\n",
       "      <th>District.1</th>\n",
       "      <td>113959.0</td>\n",
       "      <td>18.818084</td>\n",
       "      <td>6.328647</td>\n",
       "      <td>1.000000</td>\n",
       "      <td>18.000000</td>\n",
       "      <td>19.000000</td>\n",
       "      <td>23.000000</td>\n",
       "      <td>2.800000e+01</td>\n",
       "    </tr>\n",
       "    <tr>\n",
       "      <th>floor_area_sqm</th>\n",
       "      <td>113959.0</td>\n",
       "      <td>97.859061</td>\n",
       "      <td>24.147210</td>\n",
       "      <td>31.000000</td>\n",
       "      <td>82.000000</td>\n",
       "      <td>95.000000</td>\n",
       "      <td>113.000000</td>\n",
       "      <td>2.490000e+02</td>\n",
       "    </tr>\n",
       "    <tr>\n",
       "      <th>lease_commence_date</th>\n",
       "      <td>113959.0</td>\n",
       "      <td>1995.010477</td>\n",
       "      <td>13.395018</td>\n",
       "      <td>1966.000000</td>\n",
       "      <td>1985.000000</td>\n",
       "      <td>1995.000000</td>\n",
       "      <td>2005.000000</td>\n",
       "      <td>2.019000e+03</td>\n",
       "    </tr>\n",
       "    <tr>\n",
       "      <th>remaining_lease</th>\n",
       "      <td>113959.0</td>\n",
       "      <td>74.892075</td>\n",
       "      <td>13.288946</td>\n",
       "      <td>44.000000</td>\n",
       "      <td>64.000000</td>\n",
       "      <td>75.000000</td>\n",
       "      <td>85.000000</td>\n",
       "      <td>9.800000e+01</td>\n",
       "    </tr>\n",
       "    <tr>\n",
       "      <th>resale_price</th>\n",
       "      <td>113959.0</td>\n",
       "      <td>457961.507288</td>\n",
       "      <td>158521.858641</td>\n",
       "      <td>140000.000000</td>\n",
       "      <td>342000.000000</td>\n",
       "      <td>428000.000000</td>\n",
       "      <td>540000.000000</td>\n",
       "      <td>1.295000e+06</td>\n",
       "    </tr>\n",
       "    <tr>\n",
       "      <th>Price/sqm</th>\n",
       "      <td>113959.0</td>\n",
       "      <td>4713.508969</td>\n",
       "      <td>1275.304605</td>\n",
       "      <td>2089.552239</td>\n",
       "      <td>3870.967742</td>\n",
       "      <td>4408.602151</td>\n",
       "      <td>5169.651423</td>\n",
       "      <td>1.290323e+04</td>\n",
       "    </tr>\n",
       "    <tr>\n",
       "      <th>Latitude</th>\n",
       "      <td>113959.0</td>\n",
       "      <td>1.367317</td>\n",
       "      <td>0.042705</td>\n",
       "      <td>1.270369</td>\n",
       "      <td>1.336750</td>\n",
       "      <td>1.367785</td>\n",
       "      <td>1.395605</td>\n",
       "      <td>1.459192e+00</td>\n",
       "    </tr>\n",
       "    <tr>\n",
       "      <th>Longitude</th>\n",
       "      <td>113959.0</td>\n",
       "      <td>103.842270</td>\n",
       "      <td>0.071347</td>\n",
       "      <td>103.685206</td>\n",
       "      <td>103.780243</td>\n",
       "      <td>103.848998</td>\n",
       "      <td>103.899620</td>\n",
       "      <td>1.039876e+02</td>\n",
       "    </tr>\n",
       "    <tr>\n",
       "      <th>mrtdist</th>\n",
       "      <td>113959.0</td>\n",
       "      <td>1130.106043</td>\n",
       "      <td>615.371712</td>\n",
       "      <td>44.416611</td>\n",
       "      <td>636.790261</td>\n",
       "      <td>1038.576697</td>\n",
       "      <td>1565.223916</td>\n",
       "      <td>5.045443e+03</td>\n",
       "    </tr>\n",
       "  </tbody>\n",
       "</table>\n",
       "</div>"
      ],
      "text/plain": [
       "                        count           mean            std            min  \\\n",
       "District             113959.0      18.847498       6.281778       1.000000   \n",
       "District.1           113959.0      18.818084       6.328647       1.000000   \n",
       "floor_area_sqm       113959.0      97.859061      24.147210      31.000000   \n",
       "lease_commence_date  113959.0    1995.010477      13.395018    1966.000000   \n",
       "remaining_lease      113959.0      74.892075      13.288946      44.000000   \n",
       "resale_price         113959.0  457961.507288  158521.858641  140000.000000   \n",
       "Price/sqm            113959.0    4713.508969    1275.304605    2089.552239   \n",
       "Latitude             113959.0       1.367317       0.042705       1.270369   \n",
       "Longitude            113959.0     103.842270       0.071347     103.685206   \n",
       "mrtdist              113959.0    1130.106043     615.371712      44.416611   \n",
       "\n",
       "                               25%            50%            75%           max  \n",
       "District                 18.000000      19.000000      23.000000  2.800000e+01  \n",
       "District.1               18.000000      19.000000      23.000000  2.800000e+01  \n",
       "floor_area_sqm           82.000000      95.000000     113.000000  2.490000e+02  \n",
       "lease_commence_date    1985.000000    1995.000000    2005.000000  2.019000e+03  \n",
       "remaining_lease          64.000000      75.000000      85.000000  9.800000e+01  \n",
       "resale_price         342000.000000  428000.000000  540000.000000  1.295000e+06  \n",
       "Price/sqm              3870.967742    4408.602151    5169.651423  1.290323e+04  \n",
       "Latitude                  1.336750       1.367785       1.395605  1.459192e+00  \n",
       "Longitude               103.780243     103.848998     103.899620  1.039876e+02  \n",
       "mrtdist                 636.790261    1038.576697    1565.223916  5.045443e+03  "
      ]
     },
     "execution_count": 5,
     "metadata": {},
     "output_type": "execute_result"
    }
   ],
   "source": [
    "df.describe().T"
   ]
  },
  {
   "cell_type": "code",
   "execution_count": 6,
   "id": "d5d3cdce-d8e8-4491-866b-acb204f69bb1",
   "metadata": {},
   "outputs": [
    {
     "data": {
      "text/html": [
       "<div>\n",
       "<style scoped>\n",
       "    .dataframe tbody tr th:only-of-type {\n",
       "        vertical-align: middle;\n",
       "    }\n",
       "\n",
       "    .dataframe tbody tr th {\n",
       "        vertical-align: top;\n",
       "    }\n",
       "\n",
       "    .dataframe thead th {\n",
       "        text-align: right;\n",
       "    }\n",
       "</style>\n",
       "<table border=\"1\" class=\"dataframe\">\n",
       "  <thead>\n",
       "    <tr style=\"text-align: right;\">\n",
       "      <th></th>\n",
       "      <th>District</th>\n",
       "      <th>District info</th>\n",
       "      <th>District.1</th>\n",
       "      <th>month</th>\n",
       "      <th>town</th>\n",
       "      <th>flat_type</th>\n",
       "      <th>block</th>\n",
       "      <th>street_name</th>\n",
       "      <th>storey_range</th>\n",
       "      <th>floor_area_sqm</th>\n",
       "      <th>flat_model</th>\n",
       "      <th>lease_commence_date</th>\n",
       "      <th>remaining_lease</th>\n",
       "      <th>resale_price</th>\n",
       "      <th>Price/sqm</th>\n",
       "      <th>Latitude</th>\n",
       "      <th>Longitude</th>\n",
       "      <th>mrtdist</th>\n",
       "    </tr>\n",
       "  </thead>\n",
       "  <tbody>\n",
       "  </tbody>\n",
       "</table>\n",
       "</div>"
      ],
      "text/plain": [
       "Empty DataFrame\n",
       "Columns: [District, District info, District.1, month, town, flat_type, block, street_name, storey_range, floor_area_sqm, flat_model, lease_commence_date, remaining_lease, resale_price, Price/sqm, Latitude, Longitude, mrtdist]\n",
       "Index: []"
      ]
     },
     "execution_count": 6,
     "metadata": {},
     "output_type": "execute_result"
    }
   ],
   "source": [
    "df[df.mrtdist.isna()]"
   ]
  },
  {
   "cell_type": "code",
   "execution_count": 7,
   "id": "5c430847-8ba6-4798-b50c-9f78d4c312b6",
   "metadata": {},
   "outputs": [],
   "source": [
    "df_dropped = df.dropna(axis=0)"
   ]
  },
  {
   "cell_type": "code",
   "execution_count": 8,
   "id": "bba8c294-d394-426e-a1e5-9f711e28af65",
   "metadata": {},
   "outputs": [
    {
     "data": {
      "text/html": [
       "<div>\n",
       "<style scoped>\n",
       "    .dataframe tbody tr th:only-of-type {\n",
       "        vertical-align: middle;\n",
       "    }\n",
       "\n",
       "    .dataframe tbody tr th {\n",
       "        vertical-align: top;\n",
       "    }\n",
       "\n",
       "    .dataframe thead th {\n",
       "        text-align: right;\n",
       "    }\n",
       "</style>\n",
       "<table border=\"1\" class=\"dataframe\">\n",
       "  <thead>\n",
       "    <tr style=\"text-align: right;\">\n",
       "      <th></th>\n",
       "      <th>count</th>\n",
       "      <th>mean</th>\n",
       "      <th>std</th>\n",
       "      <th>min</th>\n",
       "      <th>25%</th>\n",
       "      <th>50%</th>\n",
       "      <th>75%</th>\n",
       "      <th>max</th>\n",
       "    </tr>\n",
       "  </thead>\n",
       "  <tbody>\n",
       "    <tr>\n",
       "      <th>District</th>\n",
       "      <td>113959.0</td>\n",
       "      <td>18.847498</td>\n",
       "      <td>6.281778</td>\n",
       "      <td>1.000000</td>\n",
       "      <td>18.000000</td>\n",
       "      <td>19.000000</td>\n",
       "      <td>23.000000</td>\n",
       "      <td>2.800000e+01</td>\n",
       "    </tr>\n",
       "    <tr>\n",
       "      <th>District.1</th>\n",
       "      <td>113959.0</td>\n",
       "      <td>18.818084</td>\n",
       "      <td>6.328647</td>\n",
       "      <td>1.000000</td>\n",
       "      <td>18.000000</td>\n",
       "      <td>19.000000</td>\n",
       "      <td>23.000000</td>\n",
       "      <td>2.800000e+01</td>\n",
       "    </tr>\n",
       "    <tr>\n",
       "      <th>floor_area_sqm</th>\n",
       "      <td>113959.0</td>\n",
       "      <td>97.859061</td>\n",
       "      <td>24.147210</td>\n",
       "      <td>31.000000</td>\n",
       "      <td>82.000000</td>\n",
       "      <td>95.000000</td>\n",
       "      <td>113.000000</td>\n",
       "      <td>2.490000e+02</td>\n",
       "    </tr>\n",
       "    <tr>\n",
       "      <th>lease_commence_date</th>\n",
       "      <td>113959.0</td>\n",
       "      <td>1995.010477</td>\n",
       "      <td>13.395018</td>\n",
       "      <td>1966.000000</td>\n",
       "      <td>1985.000000</td>\n",
       "      <td>1995.000000</td>\n",
       "      <td>2005.000000</td>\n",
       "      <td>2.019000e+03</td>\n",
       "    </tr>\n",
       "    <tr>\n",
       "      <th>remaining_lease</th>\n",
       "      <td>113959.0</td>\n",
       "      <td>74.892075</td>\n",
       "      <td>13.288946</td>\n",
       "      <td>44.000000</td>\n",
       "      <td>64.000000</td>\n",
       "      <td>75.000000</td>\n",
       "      <td>85.000000</td>\n",
       "      <td>9.800000e+01</td>\n",
       "    </tr>\n",
       "    <tr>\n",
       "      <th>resale_price</th>\n",
       "      <td>113959.0</td>\n",
       "      <td>457961.507288</td>\n",
       "      <td>158521.858641</td>\n",
       "      <td>140000.000000</td>\n",
       "      <td>342000.000000</td>\n",
       "      <td>428000.000000</td>\n",
       "      <td>540000.000000</td>\n",
       "      <td>1.295000e+06</td>\n",
       "    </tr>\n",
       "    <tr>\n",
       "      <th>Price/sqm</th>\n",
       "      <td>113959.0</td>\n",
       "      <td>4713.508969</td>\n",
       "      <td>1275.304605</td>\n",
       "      <td>2089.552239</td>\n",
       "      <td>3870.967742</td>\n",
       "      <td>4408.602151</td>\n",
       "      <td>5169.651423</td>\n",
       "      <td>1.290323e+04</td>\n",
       "    </tr>\n",
       "    <tr>\n",
       "      <th>Latitude</th>\n",
       "      <td>113959.0</td>\n",
       "      <td>1.367317</td>\n",
       "      <td>0.042705</td>\n",
       "      <td>1.270369</td>\n",
       "      <td>1.336750</td>\n",
       "      <td>1.367785</td>\n",
       "      <td>1.395605</td>\n",
       "      <td>1.459192e+00</td>\n",
       "    </tr>\n",
       "    <tr>\n",
       "      <th>Longitude</th>\n",
       "      <td>113959.0</td>\n",
       "      <td>103.842270</td>\n",
       "      <td>0.071347</td>\n",
       "      <td>103.685206</td>\n",
       "      <td>103.780243</td>\n",
       "      <td>103.848998</td>\n",
       "      <td>103.899620</td>\n",
       "      <td>1.039876e+02</td>\n",
       "    </tr>\n",
       "    <tr>\n",
       "      <th>mrtdist</th>\n",
       "      <td>113959.0</td>\n",
       "      <td>1130.106043</td>\n",
       "      <td>615.371712</td>\n",
       "      <td>44.416611</td>\n",
       "      <td>636.790261</td>\n",
       "      <td>1038.576697</td>\n",
       "      <td>1565.223916</td>\n",
       "      <td>5.045443e+03</td>\n",
       "    </tr>\n",
       "  </tbody>\n",
       "</table>\n",
       "</div>"
      ],
      "text/plain": [
       "                        count           mean            std            min  \\\n",
       "District             113959.0      18.847498       6.281778       1.000000   \n",
       "District.1           113959.0      18.818084       6.328647       1.000000   \n",
       "floor_area_sqm       113959.0      97.859061      24.147210      31.000000   \n",
       "lease_commence_date  113959.0    1995.010477      13.395018    1966.000000   \n",
       "remaining_lease      113959.0      74.892075      13.288946      44.000000   \n",
       "resale_price         113959.0  457961.507288  158521.858641  140000.000000   \n",
       "Price/sqm            113959.0    4713.508969    1275.304605    2089.552239   \n",
       "Latitude             113959.0       1.367317       0.042705       1.270369   \n",
       "Longitude            113959.0     103.842270       0.071347     103.685206   \n",
       "mrtdist              113959.0    1130.106043     615.371712      44.416611   \n",
       "\n",
       "                               25%            50%            75%           max  \n",
       "District                 18.000000      19.000000      23.000000  2.800000e+01  \n",
       "District.1               18.000000      19.000000      23.000000  2.800000e+01  \n",
       "floor_area_sqm           82.000000      95.000000     113.000000  2.490000e+02  \n",
       "lease_commence_date    1985.000000    1995.000000    2005.000000  2.019000e+03  \n",
       "remaining_lease          64.000000      75.000000      85.000000  9.800000e+01  \n",
       "resale_price         342000.000000  428000.000000  540000.000000  1.295000e+06  \n",
       "Price/sqm              3870.967742    4408.602151    5169.651423  1.290323e+04  \n",
       "Latitude                  1.336750       1.367785       1.395605  1.459192e+00  \n",
       "Longitude               103.780243     103.848998     103.899620  1.039876e+02  \n",
       "mrtdist                 636.790261    1038.576697    1565.223916  5.045443e+03  "
      ]
     },
     "execution_count": 8,
     "metadata": {},
     "output_type": "execute_result"
    }
   ],
   "source": [
    "df_dropped.describe().T"
   ]
  },
  {
   "cell_type": "code",
   "execution_count": 9,
   "id": "baa98e5f-2603-4157-b926-df4c50cf1a55",
   "metadata": {},
   "outputs": [
    {
     "data": {
      "text/html": [
       "<div>\n",
       "<style scoped>\n",
       "    .dataframe tbody tr th:only-of-type {\n",
       "        vertical-align: middle;\n",
       "    }\n",
       "\n",
       "    .dataframe tbody tr th {\n",
       "        vertical-align: top;\n",
       "    }\n",
       "\n",
       "    .dataframe thead th {\n",
       "        text-align: right;\n",
       "    }\n",
       "</style>\n",
       "<table border=\"1\" class=\"dataframe\">\n",
       "  <thead>\n",
       "    <tr style=\"text-align: right;\">\n",
       "      <th></th>\n",
       "      <th>District</th>\n",
       "      <th>District info</th>\n",
       "      <th>District.1</th>\n",
       "      <th>month</th>\n",
       "      <th>town</th>\n",
       "      <th>flat_type</th>\n",
       "      <th>block</th>\n",
       "      <th>street_name</th>\n",
       "      <th>storey_range</th>\n",
       "      <th>floor_area_sqm</th>\n",
       "      <th>flat_model</th>\n",
       "      <th>lease_commence_date</th>\n",
       "      <th>remaining_lease</th>\n",
       "      <th>resale_price</th>\n",
       "      <th>Price/sqm</th>\n",
       "      <th>Latitude</th>\n",
       "      <th>Longitude</th>\n",
       "      <th>mrtdist</th>\n",
       "    </tr>\n",
       "  </thead>\n",
       "  <tbody>\n",
       "    <tr>\n",
       "      <th>0</th>\n",
       "      <td>20</td>\n",
       "      <td>AMK, Bishan, Thomson</td>\n",
       "      <td>20</td>\n",
       "      <td>1 01 2017</td>\n",
       "      <td>ANG MO KIO</td>\n",
       "      <td>2 ROOM</td>\n",
       "      <td>406</td>\n",
       "      <td>ANG MO KIO AVE 10</td>\n",
       "      <td>10 TO 12</td>\n",
       "      <td>44.0</td>\n",
       "      <td>Improved</td>\n",
       "      <td>1979</td>\n",
       "      <td>61</td>\n",
       "      <td>232000.0</td>\n",
       "      <td>5272.727273</td>\n",
       "      <td>1.375748</td>\n",
       "      <td>103.854640</td>\n",
       "      <td>858.575938</td>\n",
       "    </tr>\n",
       "    <tr>\n",
       "      <th>1</th>\n",
       "      <td>20</td>\n",
       "      <td>AMK, Bishan, Thomson</td>\n",
       "      <td>20</td>\n",
       "      <td>1 01 2017</td>\n",
       "      <td>ANG MO KIO</td>\n",
       "      <td>3 ROOM</td>\n",
       "      <td>108</td>\n",
       "      <td>ANG MO KIO AVE 4</td>\n",
       "      <td>01 TO 03</td>\n",
       "      <td>67.0</td>\n",
       "      <td>New Generation</td>\n",
       "      <td>1978</td>\n",
       "      <td>60</td>\n",
       "      <td>250000.0</td>\n",
       "      <td>3731.343284</td>\n",
       "      <td>1.369525</td>\n",
       "      <td>103.837238</td>\n",
       "      <td>1370.233958</td>\n",
       "    </tr>\n",
       "    <tr>\n",
       "      <th>2</th>\n",
       "      <td>20</td>\n",
       "      <td>AMK, Bishan, Thomson</td>\n",
       "      <td>20</td>\n",
       "      <td>1 01 2017</td>\n",
       "      <td>ANG MO KIO</td>\n",
       "      <td>3 ROOM</td>\n",
       "      <td>602</td>\n",
       "      <td>ANG MO KIO AVE 5</td>\n",
       "      <td>01 TO 03</td>\n",
       "      <td>67.0</td>\n",
       "      <td>New Generation</td>\n",
       "      <td>1980</td>\n",
       "      <td>62</td>\n",
       "      <td>262000.0</td>\n",
       "      <td>3910.447761</td>\n",
       "      <td>1.380760</td>\n",
       "      <td>103.835425</td>\n",
       "      <td>896.538505</td>\n",
       "    </tr>\n",
       "    <tr>\n",
       "      <th>3</th>\n",
       "      <td>20</td>\n",
       "      <td>AMK, Bishan, Thomson</td>\n",
       "      <td>20</td>\n",
       "      <td>1 01 2017</td>\n",
       "      <td>ANG MO KIO</td>\n",
       "      <td>3 ROOM</td>\n",
       "      <td>465</td>\n",
       "      <td>ANG MO KIO AVE 10</td>\n",
       "      <td>04 TO 06</td>\n",
       "      <td>68.0</td>\n",
       "      <td>New Generation</td>\n",
       "      <td>1980</td>\n",
       "      <td>62</td>\n",
       "      <td>265000.0</td>\n",
       "      <td>3897.058824</td>\n",
       "      <td>1.366213</td>\n",
       "      <td>103.857175</td>\n",
       "      <td>942.352562</td>\n",
       "    </tr>\n",
       "    <tr>\n",
       "      <th>4</th>\n",
       "      <td>20</td>\n",
       "      <td>AMK, Bishan, Thomson</td>\n",
       "      <td>20</td>\n",
       "      <td>1 01 2017</td>\n",
       "      <td>ANG MO KIO</td>\n",
       "      <td>3 ROOM</td>\n",
       "      <td>601</td>\n",
       "      <td>ANG MO KIO AVE 5</td>\n",
       "      <td>01 TO 03</td>\n",
       "      <td>67.0</td>\n",
       "      <td>New Generation</td>\n",
       "      <td>1980</td>\n",
       "      <td>62</td>\n",
       "      <td>265000.0</td>\n",
       "      <td>3955.223881</td>\n",
       "      <td>1.380987</td>\n",
       "      <td>103.835076</td>\n",
       "      <td>856.601041</td>\n",
       "    </tr>\n",
       "  </tbody>\n",
       "</table>\n",
       "</div>"
      ],
      "text/plain": [
       "   District         District info  District.1      month        town  \\\n",
       "0        20  AMK, Bishan, Thomson          20  1 01 2017  ANG MO KIO   \n",
       "1        20  AMK, Bishan, Thomson          20  1 01 2017  ANG MO KIO   \n",
       "2        20  AMK, Bishan, Thomson          20  1 01 2017  ANG MO KIO   \n",
       "3        20  AMK, Bishan, Thomson          20  1 01 2017  ANG MO KIO   \n",
       "4        20  AMK, Bishan, Thomson          20  1 01 2017  ANG MO KIO   \n",
       "\n",
       "  flat_type block        street_name storey_range  floor_area_sqm  \\\n",
       "0    2 ROOM   406  ANG MO KIO AVE 10     10 TO 12            44.0   \n",
       "1    3 ROOM   108   ANG MO KIO AVE 4     01 TO 03            67.0   \n",
       "2    3 ROOM   602   ANG MO KIO AVE 5     01 TO 03            67.0   \n",
       "3    3 ROOM   465  ANG MO KIO AVE 10     04 TO 06            68.0   \n",
       "4    3 ROOM   601   ANG MO KIO AVE 5     01 TO 03            67.0   \n",
       "\n",
       "       flat_model  lease_commence_date  remaining_lease  resale_price  \\\n",
       "0        Improved                 1979               61      232000.0   \n",
       "1  New Generation                 1978               60      250000.0   \n",
       "2  New Generation                 1980               62      262000.0   \n",
       "3  New Generation                 1980               62      265000.0   \n",
       "4  New Generation                 1980               62      265000.0   \n",
       "\n",
       "     Price/sqm  Latitude   Longitude      mrtdist  \n",
       "0  5272.727273  1.375748  103.854640   858.575938  \n",
       "1  3731.343284  1.369525  103.837238  1370.233958  \n",
       "2  3910.447761  1.380760  103.835425   896.538505  \n",
       "3  3897.058824  1.366213  103.857175   942.352562  \n",
       "4  3955.223881  1.380987  103.835076   856.601041  "
      ]
     },
     "execution_count": 9,
     "metadata": {},
     "output_type": "execute_result"
    }
   ],
   "source": [
    "df_dropped.head()"
   ]
  },
  {
   "cell_type": "markdown",
   "id": "464e3440-b5b0-45b8-af3f-2851ed210411",
   "metadata": {},
   "source": [
    "Right off the bat we notice some outliers when it comes to location coordinates"
   ]
  },
  {
   "cell_type": "code",
   "execution_count": 10,
   "id": "28162196-9f38-4710-82ad-219e3eba61cc",
   "metadata": {},
   "outputs": [
    {
     "name": "stderr",
     "output_type": "stream",
     "text": [
      "C:\\Users\\Randy\\anaconda3\\envs\\IBM Data Science Project\\lib\\site-packages\\pandas\\plotting\\_matplotlib\\tools.py:331: MatplotlibDeprecationWarning: \n",
      "The is_first_col function was deprecated in Matplotlib 3.4 and will be removed two minor releases later. Use ax.get_subplotspec().is_first_col() instead.\n",
      "  if ax.is_first_col():\n"
     ]
    },
    {
     "data": {
      "image/png": "[encoded data removed]",
      "text/plain": [
       "<Figure size 1440x720 with 2 Axes>"
      ]
     },
     "metadata": {
      "needs_background": "light"
     },
     "output_type": "display_data"
    }
   ],
   "source": [
    "df_dropped.plot(kind='scatter', \n",
    "                x = 'Latitude', \n",
    "                y= 'Longitude', \n",
    "                c ='Price/sqm', \n",
    "                label= 'Price/sqm', \n",
    "                cmap = 'cool',\n",
    "                colorbar = True,\n",
    "                figsize = (20,10))\n",
    "plt.show()"
   ]
  },
  {
   "cell_type": "code",
   "execution_count": 11,
   "id": "6ae1b0fb-7d35-42cb-942d-a50f6758c3b4",
   "metadata": {},
   "outputs": [],
   "source": [
    "# Total features dropped are town, lease commence date, block, address and price/sqm\n",
    "\n",
    "df_dropped.drop(columns=['town','lease_commence_date','Price/sqm','District info','District.1'], inplace = True)\n",
    "df_dropped.District = df_dropped.District.astype(str)\n",
    "df_dropped.drop(columns=['street_name','block'], inplace = True)"
   ]
  },
  {
   "cell_type": "code",
   "execution_count": 12,
   "id": "c7c71dce-2be1-438e-8bdf-9a2f669b0107",
   "metadata": {},
   "outputs": [
    {
     "data": {
      "text/html": [
       "<div>\n",
       "<style scoped>\n",
       "    .dataframe tbody tr th:only-of-type {\n",
       "        vertical-align: middle;\n",
       "    }\n",
       "\n",
       "    .dataframe tbody tr th {\n",
       "        vertical-align: top;\n",
       "    }\n",
       "\n",
       "    .dataframe thead th {\n",
       "        text-align: right;\n",
       "    }\n",
       "</style>\n",
       "<table border=\"1\" class=\"dataframe\">\n",
       "  <thead>\n",
       "    <tr style=\"text-align: right;\">\n",
       "      <th></th>\n",
       "      <th>District</th>\n",
       "      <th>month</th>\n",
       "      <th>flat_type</th>\n",
       "      <th>storey_range</th>\n",
       "      <th>floor_area_sqm</th>\n",
       "      <th>flat_model</th>\n",
       "      <th>remaining_lease</th>\n",
       "      <th>resale_price</th>\n",
       "      <th>Latitude</th>\n",
       "      <th>Longitude</th>\n",
       "      <th>mrtdist</th>\n",
       "    </tr>\n",
       "  </thead>\n",
       "  <tbody>\n",
       "    <tr>\n",
       "      <th>0</th>\n",
       "      <td>20</td>\n",
       "      <td>1 01 2017</td>\n",
       "      <td>2 ROOM</td>\n",
       "      <td>10 TO 12</td>\n",
       "      <td>44.0</td>\n",
       "      <td>Improved</td>\n",
       "      <td>61</td>\n",
       "      <td>232000.0</td>\n",
       "      <td>1.375748</td>\n",
       "      <td>103.854640</td>\n",
       "      <td>858.575938</td>\n",
       "    </tr>\n",
       "    <tr>\n",
       "      <th>1</th>\n",
       "      <td>20</td>\n",
       "      <td>1 01 2017</td>\n",
       "      <td>3 ROOM</td>\n",
       "      <td>01 TO 03</td>\n",
       "      <td>67.0</td>\n",
       "      <td>New Generation</td>\n",
       "      <td>60</td>\n",
       "      <td>250000.0</td>\n",
       "      <td>1.369525</td>\n",
       "      <td>103.837238</td>\n",
       "      <td>1370.233958</td>\n",
       "    </tr>\n",
       "    <tr>\n",
       "      <th>2</th>\n",
       "      <td>20</td>\n",
       "      <td>1 01 2017</td>\n",
       "      <td>3 ROOM</td>\n",
       "      <td>01 TO 03</td>\n",
       "      <td>67.0</td>\n",
       "      <td>New Generation</td>\n",
       "      <td>62</td>\n",
       "      <td>262000.0</td>\n",
       "      <td>1.380760</td>\n",
       "      <td>103.835425</td>\n",
       "      <td>896.538505</td>\n",
       "    </tr>\n",
       "    <tr>\n",
       "      <th>3</th>\n",
       "      <td>20</td>\n",
       "      <td>1 01 2017</td>\n",
       "      <td>3 ROOM</td>\n",
       "      <td>04 TO 06</td>\n",
       "      <td>68.0</td>\n",
       "      <td>New Generation</td>\n",
       "      <td>62</td>\n",
       "      <td>265000.0</td>\n",
       "      <td>1.366213</td>\n",
       "      <td>103.857175</td>\n",
       "      <td>942.352562</td>\n",
       "    </tr>\n",
       "    <tr>\n",
       "      <th>4</th>\n",
       "      <td>20</td>\n",
       "      <td>1 01 2017</td>\n",
       "      <td>3 ROOM</td>\n",
       "      <td>01 TO 03</td>\n",
       "      <td>67.0</td>\n",
       "      <td>New Generation</td>\n",
       "      <td>62</td>\n",
       "      <td>265000.0</td>\n",
       "      <td>1.380987</td>\n",
       "      <td>103.835076</td>\n",
       "      <td>856.601041</td>\n",
       "    </tr>\n",
       "  </tbody>\n",
       "</table>\n",
       "</div>"
      ],
      "text/plain": [
       "  District      month flat_type storey_range  floor_area_sqm      flat_model  \\\n",
       "0       20  1 01 2017    2 ROOM     10 TO 12            44.0        Improved   \n",
       "1       20  1 01 2017    3 ROOM     01 TO 03            67.0  New Generation   \n",
       "2       20  1 01 2017    3 ROOM     01 TO 03            67.0  New Generation   \n",
       "3       20  1 01 2017    3 ROOM     04 TO 06            68.0  New Generation   \n",
       "4       20  1 01 2017    3 ROOM     01 TO 03            67.0  New Generation   \n",
       "\n",
       "   remaining_lease  resale_price  Latitude   Longitude      mrtdist  \n",
       "0               61      232000.0  1.375748  103.854640   858.575938  \n",
       "1               60      250000.0  1.369525  103.837238  1370.233958  \n",
       "2               62      262000.0  1.380760  103.835425   896.538505  \n",
       "3               62      265000.0  1.366213  103.857175   942.352562  \n",
       "4               62      265000.0  1.380987  103.835076   856.601041  "
      ]
     },
     "execution_count": 12,
     "metadata": {},
     "output_type": "execute_result"
    }
   ],
   "source": [
    "df_dropped.head()"
   ]
  },
  {
   "cell_type": "code",
   "execution_count": 13,
   "id": "9b896c06-a4f4-4d1a-b513-e7864b2c76ca",
   "metadata": {},
   "outputs": [
    {
     "name": "stdout",
     "output_type": "stream",
     "text": [
      "<class 'pandas.core.frame.DataFrame'>\n",
      "Int64Index: 113959 entries, 0 to 113958\n",
      "Data columns (total 11 columns):\n",
      " #   Column           Non-Null Count   Dtype  \n",
      "---  ------           --------------   -----  \n",
      " 0   District         113959 non-null  object \n",
      " 1   month            113959 non-null  object \n",
      " 2   flat_type        113959 non-null  object \n",
      " 3   storey_range     113959 non-null  object \n",
      " 4   floor_area_sqm   113959 non-null  float64\n",
      " 5   flat_model       113959 non-null  object \n",
      " 6   remaining_lease  113959 non-null  int64  \n",
      " 7   resale_price     113959 non-null  float64\n",
      " 8   Latitude         113959 non-null  float64\n",
      " 9   Longitude        113959 non-null  float64\n",
      " 10  mrtdist          113959 non-null  float64\n",
      "dtypes: float64(5), int64(1), object(5)\n",
      "memory usage: 10.4+ MB\n"
     ]
    }
   ],
   "source": [
    "df_dropped.info()"
   ]
  },
  {
   "cell_type": "markdown",
   "id": "2587b510-2ecd-40e7-b31a-6c8ee5b25ea7",
   "metadata": {
    "tags": []
   },
   "source": [
    "# Feature Engineering"
   ]
  },
  {
   "cell_type": "code",
   "execution_count": 14,
   "id": "ca676a65-f787-4f04-a0d3-ac4effde0b32",
   "metadata": {},
   "outputs": [],
   "source": [
    "## PCA here, DBSCAN\n",
    "\n",
    "from sklearn.decomposition import PCA\n",
    "from sklearn.cluster import DBSCAN"
   ]
  },
  {
   "cell_type": "markdown",
   "id": "28ee199f-03c4-4584-8743-25a7f48dcbce",
   "metadata": {},
   "source": [
    "polynominal features (degree 2) added in for numerical features below in pipeline"
   ]
  },
  {
   "cell_type": "markdown",
   "id": "6c2f0c4d-2d2c-4051-abd9-be02beb37697",
   "metadata": {},
   "source": [
    "# Modelling"
   ]
  },
  {
   "cell_type": "code",
   "execution_count": 15,
   "id": "370a90c4-ee1a-4c65-9f5b-a56ed646dfd4",
   "metadata": {},
   "outputs": [],
   "source": [
    "from sklearn.preprocessing import StandardScaler , OneHotEncoder , PolynomialFeatures\n",
    "from sklearn.compose import ColumnTransformer\n",
    "from sklearn.pipeline import Pipeline\n",
    "from sklearn.model_selection import train_test_split, GridSearchCV, cross_val_score\n",
    "from sklearn.linear_model import LinearRegression , Lasso, Ridge\n",
    "from sklearn.tree import DecisionTreeRegressor\n",
    "from sklearn.ensemble import RandomForestRegressor, BaggingRegressor, VotingRegressor\n",
    "import xgboost as xgb\n",
    "import lightgbm as lgb\n",
    "from sklearn.metrics import mean_absolute_error, mean_squared_error, r2_score\n",
    "\n",
    "import pickle\n",
    "\n",
    "seed_number = 42"
   ]
  },
  {
   "cell_type": "code",
   "execution_count": 16,
   "id": "6446bce5-8391-421f-aee0-dc2e497075fb",
   "metadata": {},
   "outputs": [],
   "source": [
    "y = df_dropped.resale_price\n",
    "x = df_dropped.loc[:, df_dropped.columns != 'resale_price']"
   ]
  },
  {
   "cell_type": "code",
   "execution_count": 17,
   "id": "ac3769ff-5d7b-4d28-8df2-1d408fbd8c3f",
   "metadata": {},
   "outputs": [],
   "source": [
    "num_cols = x.select_dtypes(['float64','int64']).columns\n",
    "cat_cols = x.select_dtypes(['object']).columns"
   ]
  },
  {
   "cell_type": "code",
   "execution_count": 18,
   "id": "7d5843dc-de23-4953-804c-ec846c385cdb",
   "metadata": {},
   "outputs": [
    {
     "data": {
      "text/plain": [
       "(113959, 11)"
      ]
     },
     "execution_count": 18,
     "metadata": {},
     "output_type": "execute_result"
    }
   ],
   "source": [
    "df_dropped.shape"
   ]
  },
  {
   "cell_type": "code",
   "execution_count": 19,
   "id": "926fcbb3-55ba-4469-9fc7-51b3364e00f1",
   "metadata": {},
   "outputs": [],
   "source": [
    "# Creating training, validation and test sets\n",
    "\n",
    "X_train, X_temp, y_train, y_temp = train_test_split(x, y ,\n",
    "                                                    test_size = 0.2, \n",
    "                                                    shuffle = True,\n",
    "                                                   random_state = seed_number)"
   ]
  },
  {
   "cell_type": "code",
   "execution_count": 20,
   "id": "fbeb6114-3d86-4d64-82bf-f74b12cb777d",
   "metadata": {},
   "outputs": [],
   "source": [
    "X_test, X_val, y_test, y_val = train_test_split(X_temp, y_temp ,\n",
    "                                                    test_size = 0.5, \n",
    "                                                    shuffle = True,\n",
    "                                                   random_state = seed_number)"
   ]
  },
  {
   "cell_type": "code",
   "execution_count": 21,
   "id": "9038c4e7-b839-41af-b75b-4b6f14f0ffb1",
   "metadata": {},
   "outputs": [
    {
     "name": "stdout",
     "output_type": "stream",
     "text": [
      "Shapes\n",
      "X_train.shape \t (91167, 10)\n",
      "X_val.shape \t (11396, 10)\n",
      "X_test.shape \t (11396, 10)\n",
      "y_train.shape \t (91167,)\n",
      "y_val.shape \t (11396,)\n",
      "y_test.shape \t (11396,)\n"
     ]
    }
   ],
   "source": [
    "print('Shapes')\n",
    "print('X_train.shape \\t' , X_train.shape)\n",
    "print('X_val.shape \\t' , X_val.shape)\n",
    "print('X_test.shape \\t' , X_test.shape)\n",
    "print('y_train.shape \\t' , y_train.shape)\n",
    "print('y_val.shape \\t' , y_val.shape)\n",
    "print('y_test.shape \\t' , y_test.shape)"
   ]
  },
  {
   "cell_type": "code",
   "execution_count": 22,
   "id": "57261ce3-99be-42bf-8861-f67138d884bc",
   "metadata": {},
   "outputs": [
    {
     "data": {
      "text/html": [
       "<div>\n",
       "<style scoped>\n",
       "    .dataframe tbody tr th:only-of-type {\n",
       "        vertical-align: middle;\n",
       "    }\n",
       "\n",
       "    .dataframe tbody tr th {\n",
       "        vertical-align: top;\n",
       "    }\n",
       "\n",
       "    .dataframe thead th {\n",
       "        text-align: right;\n",
       "    }\n",
       "</style>\n",
       "<table border=\"1\" class=\"dataframe\">\n",
       "  <thead>\n",
       "    <tr style=\"text-align: right;\">\n",
       "      <th></th>\n",
       "      <th>District</th>\n",
       "      <th>month</th>\n",
       "      <th>flat_type</th>\n",
       "      <th>storey_range</th>\n",
       "      <th>floor_area_sqm</th>\n",
       "      <th>flat_model</th>\n",
       "      <th>remaining_lease</th>\n",
       "      <th>Latitude</th>\n",
       "      <th>Longitude</th>\n",
       "      <th>mrtdist</th>\n",
       "    </tr>\n",
       "  </thead>\n",
       "  <tbody>\n",
       "    <tr>\n",
       "      <th>70882</th>\n",
       "      <td>23</td>\n",
       "      <td>1 06 2020</td>\n",
       "      <td>4 ROOM</td>\n",
       "      <td>10 TO 12</td>\n",
       "      <td>104.0</td>\n",
       "      <td>Model A</td>\n",
       "      <td>62</td>\n",
       "      <td>1.346244</td>\n",
       "      <td>103.749405</td>\n",
       "      <td>310.651595</td>\n",
       "    </tr>\n",
       "    <tr>\n",
       "      <th>88389</th>\n",
       "      <td>13</td>\n",
       "      <td>1 01 2021</td>\n",
       "      <td>3 ROOM</td>\n",
       "      <td>10 TO 12</td>\n",
       "      <td>67.0</td>\n",
       "      <td>Model A</td>\n",
       "      <td>94</td>\n",
       "      <td>1.329476</td>\n",
       "      <td>103.889293</td>\n",
       "      <td>637.971127</td>\n",
       "    </tr>\n",
       "    <tr>\n",
       "      <th>42714</th>\n",
       "      <td>22</td>\n",
       "      <td>1 01 2019</td>\n",
       "      <td>3 ROOM</td>\n",
       "      <td>04 TO 06</td>\n",
       "      <td>67.0</td>\n",
       "      <td>New Generation</td>\n",
       "      <td>63</td>\n",
       "      <td>1.348451</td>\n",
       "      <td>103.717384</td>\n",
       "      <td>611.786052</td>\n",
       "    </tr>\n",
       "    <tr>\n",
       "      <th>66256</th>\n",
       "      <td>16</td>\n",
       "      <td>1 02 2020</td>\n",
       "      <td>3 ROOM</td>\n",
       "      <td>13 TO 15</td>\n",
       "      <td>67.0</td>\n",
       "      <td>New Generation</td>\n",
       "      <td>58</td>\n",
       "      <td>1.334728</td>\n",
       "      <td>103.928924</td>\n",
       "      <td>2110.665998</td>\n",
       "    </tr>\n",
       "    <tr>\n",
       "      <th>61448</th>\n",
       "      <td>18</td>\n",
       "      <td>1 11 2019</td>\n",
       "      <td>EXECUTIVE</td>\n",
       "      <td>13 TO 15</td>\n",
       "      <td>146.0</td>\n",
       "      <td>Apartment</td>\n",
       "      <td>73</td>\n",
       "      <td>1.376877</td>\n",
       "      <td>103.945004</td>\n",
       "      <td>638.883253</td>\n",
       "    </tr>\n",
       "  </tbody>\n",
       "</table>\n",
       "</div>"
      ],
      "text/plain": [
       "      District      month  flat_type storey_range  floor_area_sqm  \\\n",
       "70882       23  1 06 2020     4 ROOM     10 TO 12           104.0   \n",
       "88389       13  1 01 2021     3 ROOM     10 TO 12            67.0   \n",
       "42714       22  1 01 2019     3 ROOM     04 TO 06            67.0   \n",
       "66256       16  1 02 2020     3 ROOM     13 TO 15            67.0   \n",
       "61448       18  1 11 2019  EXECUTIVE     13 TO 15           146.0   \n",
       "\n",
       "           flat_model  remaining_lease  Latitude   Longitude      mrtdist  \n",
       "70882         Model A               62  1.346244  103.749405   310.651595  \n",
       "88389         Model A               94  1.329476  103.889293   637.971127  \n",
       "42714  New Generation               63  1.348451  103.717384   611.786052  \n",
       "66256  New Generation               58  1.334728  103.928924  2110.665998  \n",
       "61448       Apartment               73  1.376877  103.945004   638.883253  "
      ]
     },
     "execution_count": 22,
     "metadata": {},
     "output_type": "execute_result"
    }
   ],
   "source": [
    "X_train.head()"
   ]
  },
  {
   "cell_type": "code",
   "execution_count": 23,
   "id": "2064f34c-fc57-4a81-b9f7-bcf280a9ce16",
   "metadata": {},
   "outputs": [],
   "source": [
    "# Pipeline needs to include the elimination of the column and feature transformation / engineering"
   ]
  },
  {
   "cell_type": "code",
   "execution_count": 24,
   "id": "e60ac87e-62ac-4604-aa63-393b71f0a35a",
   "metadata": {},
   "outputs": [],
   "source": [
    "# Pipeline\n",
    "\n",
    "# Scale numerical variables\n",
    "\n",
    "num_pipeline = Pipeline([\n",
    "    ('ss', StandardScaler()),\n",
    "    ('poly', PolynomialFeatures())\n",
    "])\n",
    "\n",
    "# One hot encoding categorical variables\n",
    "\n",
    "cat_pipline = Pipeline([\n",
    "    ('ohe', OneHotEncoder(drop = 'first'))\n",
    "])\n",
    "\n",
    "preprocess = ColumnTransformer([\n",
    "    ('num', num_pipeline, num_cols),\n",
    "    ('cat', cat_pipline, cat_cols)\n",
    "])"
   ]
  },
  {
   "cell_type": "code",
   "execution_count": 25,
   "id": "a6017e1d-4008-4358-80e2-99504caa94a2",
   "metadata": {},
   "outputs": [],
   "source": [
    "X_train_preprocessed = preprocess.fit_transform(X_train)"
   ]
  },
  {
   "cell_type": "code",
   "execution_count": 26,
   "id": "d03c3409-ee5a-4851-b918-0fa2035ac628",
   "metadata": {},
   "outputs": [],
   "source": [
    "X_val_preprocessed = preprocess.transform(X_val)"
   ]
  },
  {
   "cell_type": "code",
   "execution_count": 27,
   "id": "4d1a4cac-a6f8-4ada-a091-40b1f034dc18",
   "metadata": {},
   "outputs": [
    {
     "data": {
      "text/plain": [
       "(91167, 143)"
      ]
     },
     "execution_count": 27,
     "metadata": {},
     "output_type": "execute_result"
    }
   ],
   "source": [
    "X_train_preprocessed.shape"
   ]
  },
  {
   "cell_type": "code",
   "execution_count": 28,
   "id": "b2b8e921-8623-4f90-8706-be996533333d",
   "metadata": {},
   "outputs": [
    {
     "data": {
      "text/plain": [
       "<10x143 sparse matrix of type '<class 'numpy.float64'>'\n",
       "\twith 260 stored elements in Compressed Sparse Row format>"
      ]
     },
     "execution_count": 28,
     "metadata": {},
     "output_type": "execute_result"
    }
   ],
   "source": [
    "X_train_preprocessed[:10]"
   ]
  },
  {
   "cell_type": "code",
   "execution_count": 29,
   "id": "9866fc7c-0ae2-446c-816f-4352be0602da",
   "metadata": {},
   "outputs": [
    {
     "data": {
      "text/plain": [
       "(1, 143)"
      ]
     },
     "execution_count": 29,
     "metadata": {},
     "output_type": "execute_result"
    }
   ],
   "source": [
    "X_train_preprocessed[0].shape"
   ]
  },
  {
   "cell_type": "code",
   "execution_count": 30,
   "id": "8962bf7f-d906-453d-b1f2-e9406cef639c",
   "metadata": {},
   "outputs": [
    {
     "data": {
      "text/plain": [
       "(11396, 143)"
      ]
     },
     "execution_count": 30,
     "metadata": {},
     "output_type": "execute_result"
    }
   ],
   "source": [
    "X_val_preprocessed.shape"
   ]
  },
  {
   "cell_type": "code",
   "execution_count": 31,
   "id": "dff4e92d-0a66-41ef-bae4-2462ab783204",
   "metadata": {},
   "outputs": [],
   "source": [
    "def plot_results(score, title):\n",
    "    \n",
    "    train_score = score['train_score']\n",
    "    test_score = score['test_score']\n",
    "    \n",
    "    train_score = (-train_score)**(1/2) \n",
    "    test_score = (-test_score)**(1/2)\n",
    "    \n",
    "    cv = len(score['score_time'])\n",
    "    \n",
    "    fig, ax = plt.subplots(figsize = (5,5))\n",
    "    \n",
    "    ax.plot(range(cv), train_score, 'r-', label = 'Training RMSE')\n",
    "    ax.plot(range(cv), test_score, 'b--', label = 'Validation RMSE')\n",
    "    ax.set_title(title)\n",
    "    ax.set_xlabel('K-Folds')\n",
    "    ax.set_ylabel('Error')\n",
    "    ax.legend()\n",
    "    plt.show()"
   ]
  },
  {
   "cell_type": "code",
   "execution_count": 32,
   "id": "2d746df3-d68f-4f92-b2bf-ca751cb0d6f0",
   "metadata": {},
   "outputs": [],
   "source": [
    "model_list = {'Linear Regression':LinearRegression(), \n",
    "              'Lasso':Lasso(),\n",
    "              'Ridge': Ridge(), \n",
    "              'Light Gradient Boosting Machine' : lgb.LGBMRegressor(random_state=seed_number),\n",
    "              'Extreme Gradient Boosting Machine' : xgb.XGBRegressor(random_state=seed_number),\n",
    "              'Decision Tree' :DecisionTreeRegressor(),\n",
    "              'Random Forest' :RandomForestRegressor()\n",
    "             }"
   ]
  },
  {
   "cell_type": "code",
   "execution_count": 33,
   "id": "700e13ba-d345-47ea-8173-7c261cab93d6",
   "metadata": {},
   "outputs": [],
   "source": [
    "# Check for overfitting, shortlisting models"
   ]
  },
  {
   "cell_type": "code",
   "execution_count": 34,
   "id": "6e4d6f79-5788-4120-8cc2-a5b8fba54d8c",
   "metadata": {},
   "outputs": [],
   "source": [
    "def plot_results_wtrain(score, title):\n",
    "    \n",
    "    train_score = score['train_score']\n",
    "    test_score = score['test_score']\n",
    "    \n",
    "    train_score = (-train_score)**(1/2) \n",
    "    test_score = (-test_score)**(1/2)\n",
    "    \n",
    "    cv = len(score['score_time'])\n",
    "    \n",
    "    plt.plot(range(cv), train_score, 'r-', label = 'Training RMSE')\n",
    "    plt.plot(range(cv), test_score, 'b--', label = 'Validation RMSE')\n",
    "    plt.title(title)\n",
    "    plt.xlabel('K-Folds')\n",
    "    plt.ylabel('Error')\n",
    "    plt.legend()\n",
    "    plt.show()"
   ]
  },
  {
   "cell_type": "code",
   "execution_count": 35,
   "id": "5e54a95a-88a1-4906-8e07-1f5d73d82969",
   "metadata": {},
   "outputs": [],
   "source": [
    "from sklearn.model_selection import cross_validate"
   ]
  },
  {
   "cell_type": "code",
   "execution_count": 36,
   "id": "28f372f1-dd76-4e6e-b725-821478a74fca",
   "metadata": {
    "tags": []
   },
   "outputs": [
    {
     "name": "stdout",
     "output_type": "stream",
     "text": [
      "Model is  Linear Regression\n",
      "Mean Train RMSE 48728.03159851424\n",
      "Train RMSE  [-2367637725.2878537, -2366133437.4842014, -2365557902.4385633, -2356901302.0445824, -2370579141.0484767, -2354414667.3649273, -2401307155.720793, -2415635918.7311444, -2346023418.9021997, -2400526438.851671]\n",
      "Val RMSE  [-2630491231.952927, -2642604607.0465665, -2623900523.1399975, -2774371533.7249894, -2737656549.8044014, -2776671444.1326427, -2296687196.2237606, -2175471898.4885473, -2840134335.8781805, -2316089187.414217]\n",
      "Mean Val RMSE  50759.20556925617\n"
     ]
    },
    {
     "data": {
      "image/png": "[encoded data removed]",
      "text/plain": [
       "<Figure size 360x360 with 1 Axes>"
      ]
     },
     "metadata": {
      "needs_background": "light"
     },
     "output_type": "display_data"
    },
    {
     "name": "stderr",
     "output_type": "stream",
     "text": [
      "C:\\Users\\Randy\\anaconda3\\envs\\IBM Data Science Project\\lib\\site-packages\\sklearn\\linear_model\\_coordinate_descent.py:515: ConvergenceWarning: Objective did not converge. You might want to increase the number of iterations. Duality gap: 556718164195.1631, tolerance: 12555542038.48529\n",
      "  max_iter, tol, rng, random, positive)\n"
     ]
    },
    {
     "name": "stdout",
     "output_type": "stream",
     "text": [
      "Model is  Lasso\n",
      "Mean Train RMSE 48728.83160794049\n",
      "Train RMSE  [-2367675246.4167256, -2366201943.673492, -2365656010.234085, -2356970254.304429, -2370667156.3177056, -2354494174.8605585, -2401412012.8781595, -2415724240.6297164, -2346076391.3283324, -2400619855.407466]\n",
      "Val RMSE  [-2633185841.8802433, -2643249629.081828, -2622223632.5284686, -2781514316.326456, -2734782843.5051007, -2774945614.8590775, -2293891915.967673, -2173532212.1996117, -2838292190.702323, -2313800438.1146326]\n",
      "Mean Val RMSE  50754.10926415623\n"
     ]
    },
    {
     "data": {
      "image/png": "[encoded data removed]",
      "text/plain": [
       "<Figure size 360x360 with 1 Axes>"
      ]
     },
     "metadata": {
      "needs_background": "light"
     },
     "output_type": "display_data"
    },
    {
     "name": "stdout",
     "output_type": "stream",
     "text": [
      "Model is  Ridge\n",
      "Mean Train RMSE 48934.89118437625\n",
      "Train RMSE  [-2388837342.068486, -2386909889.235062, -2386788679.268199, -2377274821.5615535, -2386343993.290628, -2374382088.873806, -2425650554.110492, -2434731403.257773, -2367084523.237468, -2418736704.231726]\n",
      "Val RMSE  [-2685312006.7106805, -2660147933.746748, -2632743483.7860284, -2777519243.647092, -2746207067.0617514, -2742159827.0651636, -2286755954.960169, -2194920311.1817145, -2831135195.641761, -2310248307.651629]\n",
      "Mean Val RMSE  50812.24307408139\n"
     ]
    },
    {
     "data": {
      "image/png": "[encoded data removed]",
      "text/plain": [
       "<Figure size 360x360 with 1 Axes>"
      ]
     },
     "metadata": {
      "needs_background": "light"
     },
     "output_type": "display_data"
    },
    {
     "name": "stdout",
     "output_type": "stream",
     "text": [
      "Model is  Light Gradient Boosting Machine\n",
      "Mean Train RMSE 27236.389573552857\n",
      "Train RMSE  [-751830964.7799829, -742205360.6221565, -729342766.6137978, -734633872.8506669, -732430086.128794, -756153353.2539989, -745201367.0281719, -749538542.4717683, -733282595.6994326, -743842640.3953964]\n",
      "Val RMSE  [-1715397472.905608, -1837031147.0648375, -1683343276.053639, -1888332269.9985132, -1836468165.9547162, -1985030608.845046, -1382814517.8208406, -1825043076.5937462, -1875911535.6904852, -1553982921.6395798]\n",
      "Mean Val RMSE  41880.83074053172\n"
     ]
    },
    {
     "data": {
      "image/png": "[encoded data removed]",
      "text/plain": [
       "<Figure size 360x360 with 1 Axes>"
      ]
     },
     "metadata": {
      "needs_background": "light"
     },
     "output_type": "display_data"
    },
    {
     "name": "stdout",
     "output_type": "stream",
     "text": [
      "Model is  Extreme Gradient Boosting Machine\n",
      "Mean Train RMSE 16623.059594337283\n",
      "Train RMSE  [-282740204.26709074, -278201285.118706, -272445686.42326117, -264450613.8470986, -283632080.8283458, -269802289.4977473, -281263755.3248893, -281387150.40138304, -281500943.0907268, -268236735.4892676]\n",
      "Val RMSE  [-1877442706.4831626, -1965744126.2860131, -1771941532.1570375, -2486510539.380252, -1950657547.9581034, -1816685242.4899745, -1734253821.2862325, -1595743885.0233667, -2047202069.4415996, -1760295144.8095665]\n",
      "Mean Val RMSE  43520.740349258864\n"
     ]
    },
    {
     "data": {
      "image/png": "[encoded data removed]",
      "text/plain": [
       "<Figure size 360x360 with 1 Axes>"
      ]
     },
     "metadata": {
      "needs_background": "light"
     },
     "output_type": "display_data"
    },
    {
     "name": "stdout",
     "output_type": "stream",
     "text": [
      "Model is  Decision Tree\n",
      "Mean Train RMSE 504.02159859759524\n",
      "Train RMSE  [-217222.22222222222, -324111.1111111111, -58111.11111111111, -324111.1111111111, -324111.1111111111, -324000.0, -161333.33333333334, -275111.1111111111, -323111.1111111111, -315111.1111111111]\n",
      "Val RMSE  [-4657306496.32, -4379206200.909308, -4248624901.346, -5531221763.304, -4668663374.65, -5362995788.008, -3607464270.862, -4450942532.004, -5195760865.666, -4020535730.326]\n",
      "Mean Val RMSE  67780.06642396249\n"
     ]
    },
    {
     "data": {
      "image/png": "[encoded data removed]",
      "text/plain": [
       "<Figure size 360x360 with 1 Axes>"
      ]
     },
     "metadata": {
      "needs_background": "light"
     },
     "output_type": "display_data"
    },
    {
     "name": "stdout",
     "output_type": "stream",
     "text": [
      "Model is  Random Forest\n",
      "Mean Train RMSE 18275.67814996849\n",
      "Train RMSE  [-338193900.6182175, -335235018.11572415, -335954833.9874596, -317249274.7286564, -329951806.7183657, -333438949.5633612, -336876159.7217646, -333356012.56242645, -341191577.49297136, -338864051.89979696]\n",
      "Val RMSE  [-2311402934.856645, -2582587591.484072, -2168839906.0967817, -2755960724.053927, -2616574308.519003, -2388938364.2092586, -1829247710.5279276, -2196787071.752999, -2629771823.7149005, -2054869597.0473301]\n",
      "Mean Val RMSE  48424.50674936767\n"
     ]
    },
    {
     "data": {
      "image/png": "[encoded data removed]",
      "text/plain": [
       "<Figure size 360x360 with 1 Axes>"
      ]
     },
     "metadata": {
      "needs_background": "light"
     },
     "output_type": "display_data"
    }
   ],
   "source": [
    "cv = 10\n",
    "training_samples = 5000\n",
    "\n",
    "train_rmse_list = []\n",
    "val_rmse_list = []\n",
    "\n",
    "for name , model in model_list.items():\n",
    "    model_instance = model.fit(X_train_preprocessed[:training_samples], y_train[:training_samples])\n",
    "    \n",
    "    model_cv_score = cross_validate(model_instance,X_train_preprocessed[:training_samples], y_train[:training_samples], scoring = 'neg_mean_squared_error', cv=cv, n_jobs = -1,return_train_score= True )\n",
    "    \n",
    "    #model_cv_rmse = (-model_cv_score)**(1/2)\n",
    "    \n",
    "    # with open(name+'_pkl.pkl', 'wb') as files:\n",
    "    #     pickle.dump(model, files)\n",
    "    \n",
    "    # with open(name+'_results_pkl', 'wb') as files:\n",
    "    #     pickle.dump(model, files)\n",
    "    \n",
    "    train_rmse_list.append(model_cv_score['train_score'])\n",
    "    val_rmse_list.append(model_cv_score['test_score'])\n",
    "    \n",
    "    print('Model is ', name)\n",
    "    print('Mean Train RMSE', ((-model_cv_score['train_score'])**(1/2)).mean())\n",
    "    print('Train RMSE ', list(model_cv_score['train_score']))\n",
    "    print('Val RMSE ' , list(model_cv_score['test_score']))\n",
    "    print('Mean Val RMSE ' , ((-model_cv_score['test_score'])**(1/2)).mean())\n",
    "\n",
    "    plot_results(model_cv_score, name)"
   ]
  },
  {
   "cell_type": "markdown",
   "id": "ea4c116f-d671-4bcd-b31b-befed526063d",
   "metadata": {},
   "source": [
    "Random Forest and Decision Tree clearly overfits too much. Light GBM is quick , XGB is slower to tune"
   ]
  },
  {
   "cell_type": "code",
   "execution_count": 37,
   "id": "67288937-168f-4d39-a7e3-f7ccdf37552d",
   "metadata": {},
   "outputs": [
    {
     "data": {
      "image/png": "[encoded data removed]",
      "text/plain": [
       "<Figure size 1080x1080 with 1 Axes>"
      ]
     },
     "metadata": {
      "needs_background": "light"
     },
     "output_type": "display_data"
    }
   ],
   "source": [
    "fig, ax = plt.subplots(figsize = (15,15))\n",
    "\n",
    "for index, model_name in enumerate(model_list.keys()):\n",
    "    \n",
    "    train_rmse_list\n",
    "    \n",
    "    ax.plot(range(len(val_rmse_list[index])), ((-train_rmse_list[index])**(1/2)),label = 'Training RMSE of ' + model_name)\n",
    "    ax.plot(range(len(val_rmse_list[index])), ((-val_rmse_list[index])**(1/2)), '--' , label = 'Validation RMSE of ' + model_name)\n",
    "\n",
    "ax.set_title('Comparison of all models')\n",
    "ax.set_xlabel('K-Folds')\n",
    "ax.set_ylabel('Error')\n",
    "ax.legend()\n",
    "plt.show()"
   ]
  },
  {
   "cell_type": "code",
   "execution_count": 38,
   "id": "d7d87b93-fe52-439d-a339-d6e6e0d0e153",
   "metadata": {},
   "outputs": [],
   "source": [
    "# Hyperparameter Tunning for selected models"
   ]
  },
  {
   "cell_type": "code",
   "execution_count": 39,
   "id": "93207198-7f63-4fbd-9c2a-da8f3e6b2eb3",
   "metadata": {},
   "outputs": [
    {
     "name": "stdout",
     "output_type": "stream",
     "text": [
      "{'learning_rate': 0.1, 'max_bin': 350, 'num_leaves': 340, 'random_state': 42}\n"
     ]
    }
   ],
   "source": [
    "params = {'max_bin': [300,350,400],\n",
    "          'learning_rate': np.arange(0.1,0.5,0.2),\n",
    "          'num_leaves': range(300,360,20),\n",
    "         'random_state': [seed_number]}\n",
    "\n",
    "cv = 3\n",
    "\n",
    "lgb = lgb.LGBMRegressor(random_state = seed_number)\n",
    "\n",
    "cv = GridSearchCV(lgb,param_grid = params, scoring = 'neg_mean_squared_error', cv=3)\n",
    "\n",
    "lgb_cv = cv.fit(X_train_preprocessed, y_train)\n",
    "\n",
    "\n",
    "print(lgb_cv.best_params_)"
   ]
  },
  {
   "cell_type": "code",
   "execution_count": 40,
   "id": "3d1d6d44-1fdc-4581-8b11-8badccf77b18",
   "metadata": {},
   "outputs": [
    {
     "name": "stdout",
     "output_type": "stream",
     "text": [
      "27063.24726899044\n"
     ]
    }
   ],
   "source": [
    "lgb_score = (-lgb_cv.best_score_)**(1/2)\n",
    "print(lgb_score)"
   ]
  },
  {
   "cell_type": "code",
   "execution_count": 41,
   "id": "7f0ac62b-8643-43e5-9e05-32e15b4e180d",
   "metadata": {},
   "outputs": [
    {
     "name": "stderr",
     "output_type": "stream",
     "text": [
      "C:\\Users\\Randy\\anaconda3\\envs\\IBM Data Science Project\\lib\\site-packages\\sklearn\\model_selection\\_validation.py:552: FitFailedWarning: Estimator fit failed. The score on this train-test partition for these parameters will be set to nan. Details: \n",
      "Traceback (most recent call last):\n",
      "  File \"C:\\Users\\Randy\\anaconda3\\envs\\IBM Data Science Project\\lib\\site-packages\\sklearn\\model_selection\\_validation.py\", line 531, in _fit_and_score\n",
      "    estimator.fit(X_train, y_train, **fit_params)\n",
      "  File \"C:\\Users\\Randy\\anaconda3\\envs\\IBM Data Science Project\\lib\\site-packages\\xgboost\\core.py\", line 506, in inner_f\n",
      "    return f(**kwargs)\n",
      "  File \"C:\\Users\\Randy\\anaconda3\\envs\\IBM Data Science Project\\lib\\site-packages\\xgboost\\sklearn.py\", line 800, in fit\n",
      "    callbacks=callbacks,\n",
      "  File \"C:\\Users\\Randy\\anaconda3\\envs\\IBM Data Science Project\\lib\\site-packages\\xgboost\\training.py\", line 196, in train\n",
      "    early_stopping_rounds=early_stopping_rounds)\n",
      "  File \"C:\\Users\\Randy\\anaconda3\\envs\\IBM Data Science Project\\lib\\site-packages\\xgboost\\training.py\", line 81, in _train_internal\n",
      "    bst.update(dtrain, i, obj)\n",
      "  File \"C:\\Users\\Randy\\anaconda3\\envs\\IBM Data Science Project\\lib\\site-packages\\xgboost\\core.py\", line 1682, in update\n",
      "    dtrain.handle))\n",
      "  File \"C:\\Users\\Randy\\anaconda3\\envs\\IBM Data Science Project\\lib\\site-packages\\xgboost\\core.py\", line 218, in _check_call\n",
      "    raise XGBoostError(py_str(_LIB.XGBGetLastError()))\n",
      "xgboost.core.XGBoostError: value 0 for Parameter max_bin should be greater equal to 2\n",
      "max_bin: if using histogram-based algorithm, maximum number of bins per feature\n",
      "\n",
      "  FitFailedWarning)\n",
      "C:\\Users\\Randy\\anaconda3\\envs\\IBM Data Science Project\\lib\\site-packages\\sklearn\\model_selection\\_validation.py:552: FitFailedWarning: Estimator fit failed. The score on this train-test partition for these parameters will be set to nan. Details: \n",
      "Traceback (most recent call last):\n",
      "  File \"C:\\Users\\Randy\\anaconda3\\envs\\IBM Data Science Project\\lib\\site-packages\\sklearn\\model_selection\\_validation.py\", line 531, in _fit_and_score\n",
      "    estimator.fit(X_train, y_train, **fit_params)\n",
      "  File \"C:\\Users\\Randy\\anaconda3\\envs\\IBM Data Science Project\\lib\\site-packages\\xgboost\\core.py\", line 506, in inner_f\n",
      "    return f(**kwargs)\n",
      "  File \"C:\\Users\\Randy\\anaconda3\\envs\\IBM Data Science Project\\lib\\site-packages\\xgboost\\sklearn.py\", line 800, in fit\n",
      "    callbacks=callbacks,\n",
      "  File \"C:\\Users\\Randy\\anaconda3\\envs\\IBM Data Science Project\\lib\\site-packages\\xgboost\\training.py\", line 196, in train\n",
      "    early_stopping_rounds=early_stopping_rounds)\n",
      "  File \"C:\\Users\\Randy\\anaconda3\\envs\\IBM Data Science Project\\lib\\site-packages\\xgboost\\training.py\", line 81, in _train_internal\n",
      "    bst.update(dtrain, i, obj)\n",
      "  File \"C:\\Users\\Randy\\anaconda3\\envs\\IBM Data Science Project\\lib\\site-packages\\xgboost\\core.py\", line 1682, in update\n",
      "    dtrain.handle))\n",
      "  File \"C:\\Users\\Randy\\anaconda3\\envs\\IBM Data Science Project\\lib\\site-packages\\xgboost\\core.py\", line 218, in _check_call\n",
      "    raise XGBoostError(py_str(_LIB.XGBGetLastError()))\n",
      "xgboost.core.XGBoostError: value 0 for Parameter max_bin should be greater equal to 2\n",
      "max_bin: if using histogram-based algorithm, maximum number of bins per feature\n",
      "\n",
      "  FitFailedWarning)\n",
      "C:\\Users\\Randy\\anaconda3\\envs\\IBM Data Science Project\\lib\\site-packages\\sklearn\\model_selection\\_validation.py:552: FitFailedWarning: Estimator fit failed. The score on this train-test partition for these parameters will be set to nan. Details: \n",
      "Traceback (most recent call last):\n",
      "  File \"C:\\Users\\Randy\\anaconda3\\envs\\IBM Data Science Project\\lib\\site-packages\\sklearn\\model_selection\\_validation.py\", line 531, in _fit_and_score\n",
      "    estimator.fit(X_train, y_train, **fit_params)\n",
      "  File \"C:\\Users\\Randy\\anaconda3\\envs\\IBM Data Science Project\\lib\\site-packages\\xgboost\\core.py\", line 506, in inner_f\n",
      "    return f(**kwargs)\n",
      "  File \"C:\\Users\\Randy\\anaconda3\\envs\\IBM Data Science Project\\lib\\site-packages\\xgboost\\sklearn.py\", line 800, in fit\n",
      "    callbacks=callbacks,\n",
      "  File \"C:\\Users\\Randy\\anaconda3\\envs\\IBM Data Science Project\\lib\\site-packages\\xgboost\\training.py\", line 196, in train\n",
      "    early_stopping_rounds=early_stopping_rounds)\n",
      "  File \"C:\\Users\\Randy\\anaconda3\\envs\\IBM Data Science Project\\lib\\site-packages\\xgboost\\training.py\", line 81, in _train_internal\n",
      "    bst.update(dtrain, i, obj)\n",
      "  File \"C:\\Users\\Randy\\anaconda3\\envs\\IBM Data Science Project\\lib\\site-packages\\xgboost\\core.py\", line 1682, in update\n",
      "    dtrain.handle))\n",
      "  File \"C:\\Users\\Randy\\anaconda3\\envs\\IBM Data Science Project\\lib\\site-packages\\xgboost\\core.py\", line 218, in _check_call\n",
      "    raise XGBoostError(py_str(_LIB.XGBGetLastError()))\n",
      "xgboost.core.XGBoostError: value 0 for Parameter max_bin should be greater equal to 2\n",
      "max_bin: if using histogram-based algorithm, maximum number of bins per feature\n",
      "\n",
      "  FitFailedWarning)\n",
      "C:\\Users\\Randy\\anaconda3\\envs\\IBM Data Science Project\\lib\\site-packages\\sklearn\\model_selection\\_validation.py:552: FitFailedWarning: Estimator fit failed. The score on this train-test partition for these parameters will be set to nan. Details: \n",
      "Traceback (most recent call last):\n",
      "  File \"C:\\Users\\Randy\\anaconda3\\envs\\IBM Data Science Project\\lib\\site-packages\\sklearn\\model_selection\\_validation.py\", line 531, in _fit_and_score\n",
      "    estimator.fit(X_train, y_train, **fit_params)\n",
      "  File \"C:\\Users\\Randy\\anaconda3\\envs\\IBM Data Science Project\\lib\\site-packages\\xgboost\\core.py\", line 506, in inner_f\n",
      "    return f(**kwargs)\n",
      "  File \"C:\\Users\\Randy\\anaconda3\\envs\\IBM Data Science Project\\lib\\site-packages\\xgboost\\sklearn.py\", line 800, in fit\n",
      "    callbacks=callbacks,\n",
      "  File \"C:\\Users\\Randy\\anaconda3\\envs\\IBM Data Science Project\\lib\\site-packages\\xgboost\\training.py\", line 196, in train\n",
      "    early_stopping_rounds=early_stopping_rounds)\n",
      "  File \"C:\\Users\\Randy\\anaconda3\\envs\\IBM Data Science Project\\lib\\site-packages\\xgboost\\training.py\", line 81, in _train_internal\n",
      "    bst.update(dtrain, i, obj)\n",
      "  File \"C:\\Users\\Randy\\anaconda3\\envs\\IBM Data Science Project\\lib\\site-packages\\xgboost\\core.py\", line 1682, in update\n",
      "    dtrain.handle))\n",
      "  File \"C:\\Users\\Randy\\anaconda3\\envs\\IBM Data Science Project\\lib\\site-packages\\xgboost\\core.py\", line 218, in _check_call\n",
      "    raise XGBoostError(py_str(_LIB.XGBGetLastError()))\n",
      "xgboost.core.XGBoostError: value 0 for Parameter max_bin should be greater equal to 2\n",
      "max_bin: if using histogram-based algorithm, maximum number of bins per feature\n",
      "\n",
      "  FitFailedWarning)\n"
     ]
    },
    {
     "name": "stdout",
     "output_type": "stream",
     "text": [
      "{'eta': 0.3, 'max_bin': 32, 'max_depth': 10, 'max_leaves': 0, 'random_state': 42}\n"
     ]
    }
   ],
   "source": [
    "params = {'eta': [0.1,0.3,0.5,0.7],\n",
    "          'max_depth': range(4,12,2),\n",
    "          'max_leaves': range(0,4,2),\n",
    "          'max_bin' : [0,32,64,128,256],\n",
    "         'random_state': [seed_number]}\n",
    "\n",
    "cv = 3\n",
    "\n",
    "xgb_model = xgb.XGBRegressor(random_state = seed_number)\n",
    "\n",
    "cv = GridSearchCV(xgb_model,param_grid = params, scoring = 'neg_mean_squared_error', cv=3)\n",
    "\n",
    "xgb_model_cv = cv.fit(X_train_preprocessed, y_train)\n",
    "\n",
    "\n",
    "print(xgb_model_cv.best_params_)"
   ]
  },
  {
   "cell_type": "code",
   "execution_count": 42,
   "id": "749f34b2-4270-42c4-8178-7a6488853175",
   "metadata": {},
   "outputs": [
    {
     "name": "stdout",
     "output_type": "stream",
     "text": [
      "28897.583439745813\n"
     ]
    }
   ],
   "source": [
    "xgb_model_cv_score = (-xgb_model_cv.best_score_)**(1/2)\n",
    "print(xgb_model_cv_score)"
   ]
  },
  {
   "cell_type": "code",
   "execution_count": 43,
   "id": "0e36fa81-b71c-4fe5-83bf-5b6645b51114",
   "metadata": {},
   "outputs": [],
   "source": [
    "# Feature importance"
   ]
  },
  {
   "cell_type": "code",
   "execution_count": 44,
   "id": "d064a16c-4735-4718-afcc-e464740bfae8",
   "metadata": {},
   "outputs": [
    {
     "data": {
      "text/plain": [
       "143"
      ]
     },
     "execution_count": 44,
     "metadata": {},
     "output_type": "execute_result"
    }
   ],
   "source": [
    "len(lgb_cv.best_estimator_.feature_importances_)"
   ]
  },
  {
   "cell_type": "code",
   "execution_count": 45,
   "id": "cdf740db-b1b6-4c40-9300-ce4a07e49c38",
   "metadata": {},
   "outputs": [
    {
     "name": "stdout",
     "output_type": "stream",
     "text": [
      "[   0 1695 1205 1813 1526 1278  564 1620 1426 1112 1297  615 1762 1633\n",
      " 1309 1062 1532 1239 1535 1230  966   65    0   77   14   27    8   11\n",
      "    0   17   34   34  168   52   25   42    5    6   12   54   34   29\n",
      "    2   28   14   21   40   69   40   17   24   38   79   60   38   35\n",
      "   31  103   42   33   29   15  128   50   15   41   10  128   38   25\n",
      "   37   39  156   19   23   31   27  202   34   30   33   39  234   22\n",
      "   24   40   38  236   33   19   35   29  288   23   25   34   42  282\n",
      "   17   19   30   66    7   25   76   45   45   10  301  238  275  263\n",
      "  247  185  176  120   99   63   66   76   61   21   12    0   20   62\n",
      "  121  142    0   80  145   21   18    0   52  134    0    0   35   52\n",
      "   62    7    6]\n"
     ]
    }
   ],
   "source": [
    "print(lgb_cv.best_estimator_.feature_importances_)"
   ]
  },
  {
   "cell_type": "markdown",
   "id": "149acbc4-b7f6-418f-b54e-3557a879834e",
   "metadata": {},
   "source": [
    "https://towardsdatascience.com/how-to-get-feature-importances-from-any-sklearn-pipeline-167a19f1214"
   ]
  },
  {
   "cell_type": "code",
   "execution_count": 46,
   "id": "198e7046-2e04-47ba-b02a-b287ea18bd89",
   "metadata": {},
   "outputs": [
    {
     "data": {
      "text/plain": [
       "<bound method ColumnTransformer.get_params of ColumnTransformer(transformers=[('num',\n",
       "                                 Pipeline(steps=[('ss', StandardScaler()),\n",
       "                                                 ('poly',\n",
       "                                                  PolynomialFeatures())]),\n",
       "                                 Index(['floor_area_sqm', 'remaining_lease', 'Latitude', 'Longitude',\n",
       "       'mrtdist'],\n",
       "      dtype='object')),\n",
       "                                ('cat',\n",
       "                                 Pipeline(steps=[('ohe',\n",
       "                                                  OneHotEncoder(drop='first'))]),\n",
       "                                 Index(['District', 'month', 'flat_type', 'storey_range', 'flat_model'], dtype='object'))])>"
      ]
     },
     "execution_count": 46,
     "metadata": {},
     "output_type": "execute_result"
    }
   ],
   "source": [
    "preprocess.get_params"
   ]
  },
  {
   "cell_type": "code",
   "execution_count": 47,
   "id": "c68637e4-8e7f-41c7-9c0f-79aa71b1ed3c",
   "metadata": {},
   "outputs": [],
   "source": [
    "code_list = ['x0','x1','x2','x3','x4']"
   ]
  },
  {
   "cell_type": "code",
   "execution_count": 48,
   "id": "05d01999-6c1e-4594-8be8-1cdd24db4aa9",
   "metadata": {},
   "outputs": [],
   "source": [
    "map_dict = {}\n",
    "\n",
    "for index , item in enumerate(code_list):\n",
    "    map_dict[item] = num_cols[index]"
   ]
  },
  {
   "cell_type": "code",
   "execution_count": 49,
   "id": "17a567be-fa1e-43e5-b01c-c4e348589183",
   "metadata": {},
   "outputs": [
    {
     "data": {
      "text/plain": [
       "{'x0': 'floor_area_sqm',\n",
       " 'x1': 'remaining_lease',\n",
       " 'x2': 'Latitude',\n",
       " 'x3': 'Longitude',\n",
       " 'x4': 'mrtdist'}"
      ]
     },
     "execution_count": 49,
     "metadata": {},
     "output_type": "execute_result"
    }
   ],
   "source": [
    "map_dict"
   ]
  },
  {
   "cell_type": "code",
   "execution_count": 50,
   "id": "c6817402-2bb8-4010-85db-5dc813f54f40",
   "metadata": {},
   "outputs": [
    {
     "data": {
      "text/plain": [
       "21"
      ]
     },
     "execution_count": 50,
     "metadata": {},
     "output_type": "execute_result"
    }
   ],
   "source": [
    "len(preprocess.named_transformers_['num']['poly'].get_feature_names())"
   ]
  },
  {
   "cell_type": "code",
   "execution_count": 51,
   "id": "7dca45e9-3704-4757-a7ab-0ba897330a24",
   "metadata": {},
   "outputs": [],
   "source": [
    "num_transformed_list = preprocess.named_transformers_['num']['poly'].get_feature_names()"
   ]
  },
  {
   "cell_type": "code",
   "execution_count": 52,
   "id": "583a6ce5-14f6-45d0-920c-f9356b20e137",
   "metadata": {},
   "outputs": [
    {
     "data": {
      "text/plain": [
       "['1',\n",
       " 'x0',\n",
       " 'x1',\n",
       " 'x2',\n",
       " 'x3',\n",
       " 'x4',\n",
       " 'x0^2',\n",
       " 'x0 x1',\n",
       " 'x0 x2',\n",
       " 'x0 x3',\n",
       " 'x0 x4',\n",
       " 'x1^2',\n",
       " 'x1 x2',\n",
       " 'x1 x3',\n",
       " 'x1 x4',\n",
       " 'x2^2',\n",
       " 'x2 x3',\n",
       " 'x2 x4',\n",
       " 'x3^2',\n",
       " 'x3 x4',\n",
       " 'x4^2']"
      ]
     },
     "execution_count": 52,
     "metadata": {},
     "output_type": "execute_result"
    }
   ],
   "source": [
    "num_transformed_list"
   ]
  },
  {
   "cell_type": "code",
   "execution_count": 53,
   "id": "f64a8cd1-e790-44a2-b58c-0d42eb06bcb0",
   "metadata": {},
   "outputs": [],
   "source": [
    "for index, item in enumerate(num_transformed_list):\n",
    "    for key, value in map_dict.items():\n",
    "        if key in item: \n",
    "            num_transformed_list[index] = num_transformed_list[index].replace(key,value)"
   ]
  },
  {
   "cell_type": "code",
   "execution_count": 54,
   "id": "d96e65e9-e138-4f01-9afa-c15945438266",
   "metadata": {},
   "outputs": [
    {
     "data": {
      "text/plain": [
       "['1',\n",
       " 'floor_area_sqm',\n",
       " 'remaining_lease',\n",
       " 'Latitude',\n",
       " 'Longitude',\n",
       " 'mrtdist',\n",
       " 'floor_area_sqm^2',\n",
       " 'floor_area_sqm remaining_lease',\n",
       " 'floor_area_sqm Latitude',\n",
       " 'floor_area_sqm Longitude',\n",
       " 'floor_area_sqm mrtdist',\n",
       " 'remaining_lease^2',\n",
       " 'remaining_lease Latitude',\n",
       " 'remaining_lease Longitude',\n",
       " 'remaining_lease mrtdist',\n",
       " 'Latitude^2',\n",
       " 'Latitude Longitude',\n",
       " 'Latitude mrtdist',\n",
       " 'Longitude^2',\n",
       " 'Longitude mrtdist',\n",
       " 'mrtdist^2']"
      ]
     },
     "execution_count": 54,
     "metadata": {},
     "output_type": "execute_result"
    }
   ],
   "source": [
    "num_transformed_list"
   ]
  },
  {
   "cell_type": "code",
   "execution_count": 55,
   "id": "aadc917f-42bf-4ec5-95a4-e190f7ef81c5",
   "metadata": {},
   "outputs": [
    {
     "data": {
      "text/plain": [
       "Index(['District', 'month', 'flat_type', 'storey_range', 'flat_model'], dtype='object')"
      ]
     },
     "execution_count": 55,
     "metadata": {},
     "output_type": "execute_result"
    }
   ],
   "source": [
    "cat_cols"
   ]
  },
  {
   "cell_type": "code",
   "execution_count": 56,
   "id": "80bf7e84-6c50-48ab-8238-c58f90927c36",
   "metadata": {},
   "outputs": [],
   "source": [
    "map_dict = {}\n",
    "\n",
    "for index , item in enumerate(code_list):\n",
    "    map_dict[item] = cat_cols[index]"
   ]
  },
  {
   "cell_type": "code",
   "execution_count": 57,
   "id": "4367f758-e857-47d5-96f0-fe2f7daf7709",
   "metadata": {},
   "outputs": [
    {
     "data": {
      "text/plain": [
       "{'x0': 'District',\n",
       " 'x1': 'month',\n",
       " 'x2': 'flat_type',\n",
       " 'x3': 'storey_range',\n",
       " 'x4': 'flat_model'}"
      ]
     },
     "execution_count": 57,
     "metadata": {},
     "output_type": "execute_result"
    }
   ],
   "source": [
    "map_dict"
   ]
  },
  {
   "cell_type": "code",
   "execution_count": 58,
   "id": "84e8a83b-688f-4374-96f6-f2bac5ac2522",
   "metadata": {},
   "outputs": [
    {
     "data": {
      "text/plain": [
       "array(['x0_10', 'x0_11', 'x0_12', 'x0_13', 'x0_14', 'x0_15', 'x0_16',\n",
       "       'x0_17', 'x0_18', 'x0_19', 'x0_2', 'x0_20', 'x0_21', 'x0_22',\n",
       "       'x0_23', 'x0_25', 'x0_27', 'x0_28', 'x0_3', 'x0_4', 'x0_5', 'x0_7',\n",
       "       'x0_8', 'x1_1 01 2018', 'x1_1 01 2019', 'x1_1 01 2020',\n",
       "       'x1_1 01 2021', 'x1_1 02 2017', 'x1_1 02 2018', 'x1_1 02 2019',\n",
       "       'x1_1 02 2020', 'x1_1 02 2021', 'x1_1 03 2017', 'x1_1 03 2018',\n",
       "       'x1_1 03 2019', 'x1_1 03 2020', 'x1_1 03 2021', 'x1_1 04 2017',\n",
       "       'x1_1 04 2018', 'x1_1 04 2019', 'x1_1 04 2020', 'x1_1 04 2021',\n",
       "       'x1_1 05 2017', 'x1_1 05 2018', 'x1_1 05 2019', 'x1_1 05 2020',\n",
       "       'x1_1 05 2021', 'x1_1 06 2017', 'x1_1 06 2018', 'x1_1 06 2019',\n",
       "       'x1_1 06 2020', 'x1_1 06 2021', 'x1_1 07 2017', 'x1_1 07 2018',\n",
       "       'x1_1 07 2019', 'x1_1 07 2020', 'x1_1 07 2021', 'x1_1 08 2017',\n",
       "       'x1_1 08 2018', 'x1_1 08 2019', 'x1_1 08 2020', 'x1_1 08 2021',\n",
       "       'x1_1 09 2017', 'x1_1 09 2018', 'x1_1 09 2019', 'x1_1 09 2020',\n",
       "       'x1_1 09 2021', 'x1_1 10 2017', 'x1_1 10 2018', 'x1_1 10 2019',\n",
       "       'x1_1 10 2020', 'x1_1 10 2021', 'x1_1 11 2017', 'x1_1 11 2018',\n",
       "       'x1_1 11 2019', 'x1_1 11 2020', 'x1_1 11 2021', 'x1_1 12 2017',\n",
       "       'x1_1 12 2018', 'x1_1 12 2019', 'x1_1 12 2020', 'x2_2 ROOM',\n",
       "       'x2_3 ROOM', 'x2_4 ROOM', 'x2_5 ROOM', 'x2_EXECUTIVE',\n",
       "       'x2_MULTI-GENERATION', 'x3_04 TO 06', 'x3_07 TO 09', 'x3_10 TO 12',\n",
       "       'x3_13 TO 15', 'x3_16 TO 18', 'x3_19 TO 21', 'x3_22 TO 24',\n",
       "       'x3_25 TO 27', 'x3_28 TO 30', 'x3_31 TO 33', 'x3_34 TO 36',\n",
       "       'x3_37 TO 39', 'x3_40 TO 42', 'x3_43 TO 45', 'x3_46 TO 48',\n",
       "       'x3_49 TO 51', 'x4_Adjoined flat', 'x4_Apartment', 'x4_DBSS',\n",
       "       'x4_Improved', 'x4_Improved-Maisonette', 'x4_Maisonette',\n",
       "       'x4_Model A', 'x4_Model A-Maisonette', 'x4_Model A2',\n",
       "       'x4_Multi Generation', 'x4_New Generation', 'x4_Premium Apartment',\n",
       "       'x4_Premium Apartment Loft', 'x4_Premium Maisonette',\n",
       "       'x4_Simplified', 'x4_Standard', 'x4_Terrace', 'x4_Type S1',\n",
       "       'x4_Type S2'], dtype=object)"
      ]
     },
     "execution_count": 58,
     "metadata": {},
     "output_type": "execute_result"
    }
   ],
   "source": [
    "preprocess.named_transformers_['cat']['ohe'].get_feature_names()"
   ]
  },
  {
   "cell_type": "code",
   "execution_count": 59,
   "id": "c0815373-699e-4571-b07d-abb859ebc4ab",
   "metadata": {},
   "outputs": [],
   "source": [
    "cat_transformed_list = preprocess.named_transformers_['cat']['ohe'].get_feature_names()"
   ]
  },
  {
   "cell_type": "code",
   "execution_count": 60,
   "id": "2e58d7f7-a11f-4b90-a370-b885cb2616d8",
   "metadata": {},
   "outputs": [
    {
     "data": {
      "text/plain": [
       "array(['x0_10', 'x0_11', 'x0_12', 'x0_13', 'x0_14', 'x0_15', 'x0_16',\n",
       "       'x0_17', 'x0_18', 'x0_19', 'x0_2', 'x0_20', 'x0_21', 'x0_22',\n",
       "       'x0_23', 'x0_25', 'x0_27', 'x0_28', 'x0_3', 'x0_4', 'x0_5', 'x0_7',\n",
       "       'x0_8', 'x1_1 01 2018', 'x1_1 01 2019', 'x1_1 01 2020',\n",
       "       'x1_1 01 2021', 'x1_1 02 2017', 'x1_1 02 2018', 'x1_1 02 2019',\n",
       "       'x1_1 02 2020', 'x1_1 02 2021', 'x1_1 03 2017', 'x1_1 03 2018',\n",
       "       'x1_1 03 2019', 'x1_1 03 2020', 'x1_1 03 2021', 'x1_1 04 2017',\n",
       "       'x1_1 04 2018', 'x1_1 04 2019', 'x1_1 04 2020', 'x1_1 04 2021',\n",
       "       'x1_1 05 2017', 'x1_1 05 2018', 'x1_1 05 2019', 'x1_1 05 2020',\n",
       "       'x1_1 05 2021', 'x1_1 06 2017', 'x1_1 06 2018', 'x1_1 06 2019',\n",
       "       'x1_1 06 2020', 'x1_1 06 2021', 'x1_1 07 2017', 'x1_1 07 2018',\n",
       "       'x1_1 07 2019', 'x1_1 07 2020', 'x1_1 07 2021', 'x1_1 08 2017',\n",
       "       'x1_1 08 2018', 'x1_1 08 2019', 'x1_1 08 2020', 'x1_1 08 2021',\n",
       "       'x1_1 09 2017', 'x1_1 09 2018', 'x1_1 09 2019', 'x1_1 09 2020',\n",
       "       'x1_1 09 2021', 'x1_1 10 2017', 'x1_1 10 2018', 'x1_1 10 2019',\n",
       "       'x1_1 10 2020', 'x1_1 10 2021', 'x1_1 11 2017', 'x1_1 11 2018',\n",
       "       'x1_1 11 2019', 'x1_1 11 2020', 'x1_1 11 2021', 'x1_1 12 2017',\n",
       "       'x1_1 12 2018', 'x1_1 12 2019', 'x1_1 12 2020', 'x2_2 ROOM',\n",
       "       'x2_3 ROOM', 'x2_4 ROOM', 'x2_5 ROOM', 'x2_EXECUTIVE',\n",
       "       'x2_MULTI-GENERATION', 'x3_04 TO 06', 'x3_07 TO 09', 'x3_10 TO 12',\n",
       "       'x3_13 TO 15', 'x3_16 TO 18', 'x3_19 TO 21', 'x3_22 TO 24',\n",
       "       'x3_25 TO 27', 'x3_28 TO 30', 'x3_31 TO 33', 'x3_34 TO 36',\n",
       "       'x3_37 TO 39', 'x3_40 TO 42', 'x3_43 TO 45', 'x3_46 TO 48',\n",
       "       'x3_49 TO 51', 'x4_Adjoined flat', 'x4_Apartment', 'x4_DBSS',\n",
       "       'x4_Improved', 'x4_Improved-Maisonette', 'x4_Maisonette',\n",
       "       'x4_Model A', 'x4_Model A-Maisonette', 'x4_Model A2',\n",
       "       'x4_Multi Generation', 'x4_New Generation', 'x4_Premium Apartment',\n",
       "       'x4_Premium Apartment Loft', 'x4_Premium Maisonette',\n",
       "       'x4_Simplified', 'x4_Standard', 'x4_Terrace', 'x4_Type S1',\n",
       "       'x4_Type S2'], dtype=object)"
      ]
     },
     "execution_count": 60,
     "metadata": {},
     "output_type": "execute_result"
    }
   ],
   "source": [
    "cat_transformed_list"
   ]
  },
  {
   "cell_type": "code",
   "execution_count": 61,
   "id": "b30b3677-360c-4e9e-9518-f727779b8612",
   "metadata": {},
   "outputs": [],
   "source": [
    "for index, item in enumerate(cat_transformed_list):\n",
    "    for key, value in map_dict.items():\n",
    "        if key in item: \n",
    "            cat_transformed_list[index] = cat_transformed_list[index].replace(key,value)"
   ]
  },
  {
   "cell_type": "code",
   "execution_count": 62,
   "id": "80ebb120-bad5-476d-a625-83926446f88c",
   "metadata": {},
   "outputs": [],
   "source": [
    "num_transformed_list.extend(cat_transformed_list)"
   ]
  },
  {
   "cell_type": "code",
   "execution_count": 63,
   "id": "7020754f-d718-4bfa-8a78-221951bcbd08",
   "metadata": {
    "tags": []
   },
   "outputs": [
    {
     "data": {
      "text/plain": [
       "['1',\n",
       " 'floor_area_sqm',\n",
       " 'remaining_lease',\n",
       " 'Latitude',\n",
       " 'Longitude',\n",
       " 'mrtdist',\n",
       " 'floor_area_sqm^2',\n",
       " 'floor_area_sqm remaining_lease',\n",
       " 'floor_area_sqm Latitude',\n",
       " 'floor_area_sqm Longitude',\n",
       " 'floor_area_sqm mrtdist',\n",
       " 'remaining_lease^2',\n",
       " 'remaining_lease Latitude',\n",
       " 'remaining_lease Longitude',\n",
       " 'remaining_lease mrtdist',\n",
       " 'Latitude^2',\n",
       " 'Latitude Longitude',\n",
       " 'Latitude mrtdist',\n",
       " 'Longitude^2',\n",
       " 'Longitude mrtdist',\n",
       " 'mrtdist^2',\n",
       " 'District_10',\n",
       " 'District_11',\n",
       " 'District_12',\n",
       " 'District_13',\n",
       " 'District_14',\n",
       " 'District_15',\n",
       " 'District_16',\n",
       " 'District_17',\n",
       " 'District_18',\n",
       " 'District_19',\n",
       " 'District_2',\n",
       " 'District_20',\n",
       " 'District_21',\n",
       " 'District_22',\n",
       " 'District_23',\n",
       " 'District_25',\n",
       " 'District_27',\n",
       " 'District_28',\n",
       " 'District_3',\n",
       " 'District_4',\n",
       " 'District_5',\n",
       " 'District_7',\n",
       " 'District_8',\n",
       " 'month_1 01 2018',\n",
       " 'month_1 01 2019',\n",
       " 'month_1 01 2020',\n",
       " 'month_1 01 2021',\n",
       " 'month_1 02 2017',\n",
       " 'month_1 02 2018',\n",
       " 'month_1 02 2019',\n",
       " 'month_1 02 2020',\n",
       " 'month_1 02 2021',\n",
       " 'month_1 03 2017',\n",
       " 'month_1 03 2018',\n",
       " 'month_1 03 2019',\n",
       " 'month_1 03 2020',\n",
       " 'month_1 03 2021',\n",
       " 'month_1 04 2017',\n",
       " 'month_1 04 2018',\n",
       " 'month_1 04 2019',\n",
       " 'month_1 04 2020',\n",
       " 'month_1 04 2021',\n",
       " 'month_1 05 2017',\n",
       " 'month_1 05 2018',\n",
       " 'month_1 05 2019',\n",
       " 'month_1 05 2020',\n",
       " 'month_1 05 2021',\n",
       " 'month_1 06 2017',\n",
       " 'month_1 06 2018',\n",
       " 'month_1 06 2019',\n",
       " 'month_1 06 2020',\n",
       " 'month_1 06 2021',\n",
       " 'month_1 07 2017',\n",
       " 'month_1 07 2018',\n",
       " 'month_1 07 2019',\n",
       " 'month_1 07 2020',\n",
       " 'month_1 07 2021',\n",
       " 'month_1 08 2017',\n",
       " 'month_1 08 2018',\n",
       " 'month_1 08 2019',\n",
       " 'month_1 08 2020',\n",
       " 'month_1 08 2021',\n",
       " 'month_1 09 2017',\n",
       " 'month_1 09 2018',\n",
       " 'month_1 09 2019',\n",
       " 'month_1 09 2020',\n",
       " 'month_1 09 2021',\n",
       " 'month_1 10 2017',\n",
       " 'month_1 10 2018',\n",
       " 'month_1 10 2019',\n",
       " 'month_1 10 2020',\n",
       " 'month_1 10 2021',\n",
       " 'month_1 11 2017',\n",
       " 'month_1 11 2018',\n",
       " 'month_1 11 2019',\n",
       " 'month_1 11 2020',\n",
       " 'month_1 11 2021',\n",
       " 'month_1 12 2017',\n",
       " 'month_1 12 2018',\n",
       " 'month_1 12 2019',\n",
       " 'month_1 12 2020',\n",
       " 'flat_type_2 ROOM',\n",
       " 'flat_type_3 ROOM',\n",
       " 'flat_type_4 ROOM',\n",
       " 'flat_type_5 ROOM',\n",
       " 'flat_type_EXECUTIVE',\n",
       " 'flat_type_MULTI-GENERATION',\n",
       " 'storey_range_04 TO 06',\n",
       " 'storey_range_07 TO 09',\n",
       " 'storey_range_10 TO 12',\n",
       " 'storey_range_13 TO 15',\n",
       " 'storey_range_16 TO 18',\n",
       " 'storey_range_19 TO 21',\n",
       " 'storey_range_22 TO 24',\n",
       " 'storey_range_25 TO 27',\n",
       " 'storey_range_28 TO 30',\n",
       " 'storey_range_31 TO 33',\n",
       " 'storey_range_34 TO 36',\n",
       " 'storey_range_37 TO 39',\n",
       " 'storey_range_40 TO 42',\n",
       " 'storey_range_43 TO 45',\n",
       " 'storey_range_46 TO 48',\n",
       " 'storey_range_49 TO 51',\n",
       " 'flat_model_Adjoined flat',\n",
       " 'flat_model_Apartment',\n",
       " 'flat_model_DBSS',\n",
       " 'flat_model_Improved',\n",
       " 'flat_model_Improved-Maisonette',\n",
       " 'flat_model_Maisonette',\n",
       " 'flat_model_Model A',\n",
       " 'flat_model_Model A-Maisonette',\n",
       " 'flat_model_Model A2',\n",
       " 'flat_model_Multi Generation',\n",
       " 'flat_model_New Generation',\n",
       " 'flat_model_Premium Apartment',\n",
       " 'flat_model_Premium Apartment Loft',\n",
       " 'flat_model_Premium Maisonette',\n",
       " 'flat_model_Simplified',\n",
       " 'flat_model_Standard',\n",
       " 'flat_model_Terrace',\n",
       " 'flat_model_Type S1',\n",
       " 'flat_model_Type S2']"
      ]
     },
     "execution_count": 63,
     "metadata": {},
     "output_type": "execute_result"
    }
   ],
   "source": [
    "num_transformed_list"
   ]
  },
  {
   "cell_type": "code",
   "execution_count": 64,
   "id": "745b3439-4f29-4c7a-8310-e2d62c52adc6",
   "metadata": {
    "tags": []
   },
   "outputs": [
    {
     "data": {
      "text/plain": [
       "[(1813, 'x2'),\n",
       " (1762, 'x1 x2'),\n",
       " (1695, 'x0'),\n",
       " (1633, 'x1 x3'),\n",
       " (1620, 'x0 x1'),\n",
       " (1535, 'x3^2'),\n",
       " (1532, 'x2 x3'),\n",
       " (1526, 'x3'),\n",
       " (1426, 'x0 x2'),\n",
       " (1309, 'x1 x4'),\n",
       " (1297, 'x0 x4'),\n",
       " (1278, 'x4'),\n",
       " (1239, 'x2 x4'),\n",
       " (1230, 'x3 x4'),\n",
       " (1205, 'x1'),\n",
       " (1112, 'x0 x3'),\n",
       " (1062, 'x2^2'),\n",
       " (966, 'x4^2'),\n",
       " (615, 'x1^2'),\n",
       " (564, 'x0^2'),\n",
       " (301, 'x3_04 TO 06'),\n",
       " (288, 'x1_1 10 2021'),\n",
       " (282, 'x1_1 11 2021'),\n",
       " (275, 'x3_10 TO 12'),\n",
       " (263, 'x3_13 TO 15'),\n",
       " (247, 'x3_16 TO 18'),\n",
       " (238, 'x3_07 TO 09'),\n",
       " (236, 'x1_1 09 2021'),\n",
       " (234, 'x1_1 08 2021'),\n",
       " (202, 'x1_1 07 2021'),\n",
       " (185, 'x3_19 TO 21'),\n",
       " (176, 'x3_22 TO 24'),\n",
       " (168, 'x0_20'),\n",
       " (156, 'x1_1 06 2021'),\n",
       " (145, 'x4_Model A'),\n",
       " (142, 'x4_Improved'),\n",
       " (134, 'x4_Premium Apartment'),\n",
       " (128, 'x1_1 05 2021'),\n",
       " (128, 'x1_1 04 2021'),\n",
       " (121, 'x4_DBSS'),\n",
       " (120, 'x3_25 TO 27'),\n",
       " (103, 'x1_1 03 2021'),\n",
       " (99, 'x3_28 TO 30'),\n",
       " (80, 'x4_Maisonette'),\n",
       " (79, 'x1_1 02 2021'),\n",
       " (77, 'x0_12'),\n",
       " (76, 'x3_37 TO 39'),\n",
       " (76, 'x2_4 ROOM'),\n",
       " (69, 'x1_1 01 2021'),\n",
       " (66, 'x3_34 TO 36'),\n",
       " (66, 'x1_1 12 2020'),\n",
       " (65, 'x0_10'),\n",
       " (63, 'x3_31 TO 33'),\n",
       " (62, 'x4_Terrace'),\n",
       " (62, 'x4_Apartment'),\n",
       " (61, 'x3_40 TO 42'),\n",
       " (60, 'x1_1 03 2017'),\n",
       " (54, 'x0_3'),\n",
       " (52, 'x4_Standard'),\n",
       " (52, 'x4_New Generation'),\n",
       " (52, 'x0_21'),\n",
       " (50, 'x1_1 05 2017'),\n",
       " (45, 'x2_EXECUTIVE'),\n",
       " (45, 'x2_5 ROOM'),\n",
       " (42, 'x1_1 11 2020'),\n",
       " (42, 'x1_1 04 2017'),\n",
       " (42, 'x0_23'),\n",
       " (41, 'x1_1 05 2019'),\n",
       " (40, 'x1_1 09 2019'),\n",
       " (40, 'x1_1 02 2017'),\n",
       " (40, 'x1_1 01 2020'),\n",
       " (39, 'x1_1 08 2020'),\n",
       " (39, 'x1_1 06 2020'),\n",
       " (38, 'x1_1 09 2020'),\n",
       " (38, 'x1_1 06 2017'),\n",
       " (38, 'x1_1 03 2018'),\n",
       " (38, 'x1_1 02 2020'),\n",
       " (37, 'x1_1 06 2019'),\n",
       " (35, 'x4_Simplified'),\n",
       " (35, 'x1_1 10 2019'),\n",
       " (35, 'x1_1 03 2019'),\n",
       " (34, 'x1_1 11 2019'),\n",
       " (34, 'x1_1 08 2017'),\n",
       " (34, 'x0_4'),\n",
       " (34, 'x0_2'),\n",
       " (34, 'x0_19'),\n",
       " (33, 'x1_1 10 2017'),\n",
       " (33, 'x1_1 08 2019'),\n",
       " (33, 'x1_1 04 2018'),\n",
       " (31, 'x1_1 07 2019'),\n",
       " (31, 'x1_1 03 2020'),\n",
       " (30, 'x1_1 12 2019'),\n",
       " (30, 'x1_1 08 2018'),\n",
       " (29, 'x1_1 10 2020'),\n",
       " (29, 'x1_1 04 2019'),\n",
       " (29, 'x0_5'),\n",
       " (28, 'x0_8'),\n",
       " (27, 'x1_1 07 2020'),\n",
       " (27, 'x0_14'),\n",
       " (25, 'x2_3 ROOM'),\n",
       " (25, 'x1_1 11 2018'),\n",
       " (25, 'x1_1 06 2018'),\n",
       " (25, 'x0_22'),\n",
       " (24, 'x1_1 09 2018'),\n",
       " (24, 'x1_1 02 2019'),\n",
       " (23, 'x1_1 11 2017'),\n",
       " (23, 'x1_1 07 2018'),\n",
       " (22, 'x1_1 09 2017'),\n",
       " (21, 'x4_Model A-Maisonette'),\n",
       " (21, 'x3_43 TO 45'),\n",
       " (21, 'x1_1 01 2019'),\n",
       " (20, 'x4_Adjoined flat'),\n",
       " (19, 'x1_1 12 2018'),\n",
       " (19, 'x1_1 10 2018'),\n",
       " (19, 'x1_1 07 2017'),\n",
       " (18, 'x4_Model A2'),\n",
       " (17, 'x1_1 12 2017'),\n",
       " (17, 'x1_1 02 2018'),\n",
       " (17, 'x0_18'),\n",
       " (15, 'x1_1 05 2018'),\n",
       " (15, 'x1_1 04 2020'),\n",
       " (14, 'x1_1 01 2018'),\n",
       " (14, 'x0_13'),\n",
       " (12, 'x3_46 TO 48'),\n",
       " (12, 'x0_28'),\n",
       " (11, 'x0_16'),\n",
       " (10, 'x2_MULTI-GENERATION'),\n",
       " (10, 'x1_1 05 2020'),\n",
       " (8, 'x0_15'),\n",
       " (7, 'x4_Type S1'),\n",
       " (7, 'x2_2 ROOM'),\n",
       " (6, 'x4_Type S2'),\n",
       " (6, 'x0_27'),\n",
       " (5, 'x0_25'),\n",
       " (2, 'x0_7'),\n",
       " (0, 'x4_Premium Maisonette'),\n",
       " (0, 'x4_Premium Apartment Loft'),\n",
       " (0, 'x4_Multi Generation'),\n",
       " (0, 'x4_Improved-Maisonette'),\n",
       " (0, 'x3_49 TO 51'),\n",
       " (0, 'x0_17'),\n",
       " (0, 'x0_11'),\n",
       " (0, '1')]"
      ]
     },
     "execution_count": 64,
     "metadata": {},
     "output_type": "execute_result"
    }
   ],
   "source": [
    "sorted(zip(lgb_cv.best_estimator_.feature_importances_,preprocess.named_transformers_['num']['poly'].get_feature_names() + \\\n",
    "           preprocess.named_transformers_['cat']['ohe'].get_feature_names().tolist()),reverse = True)"
   ]
  },
  {
   "cell_type": "code",
   "execution_count": 65,
   "id": "73a6edf8-02a5-4cf3-a3fa-a251c70f260a",
   "metadata": {},
   "outputs": [],
   "source": [
    "feature_importance = sorted(zip(lgb_cv.best_estimator_.feature_importances_,num_transformed_list),reverse = True)"
   ]
  },
  {
   "cell_type": "code",
   "execution_count": 66,
   "id": "16da8f20-94e0-49af-9187-f67d5d7dc304",
   "metadata": {},
   "outputs": [
    {
     "data": {
      "text/plain": [
       "[(1813, 'Latitude'),\n",
       " (1762, 'remaining_lease Latitude'),\n",
       " (1695, 'floor_area_sqm'),\n",
       " (1633, 'remaining_lease Longitude'),\n",
       " (1620, 'floor_area_sqm remaining_lease'),\n",
       " (1535, 'Longitude^2'),\n",
       " (1532, 'Latitude Longitude'),\n",
       " (1526, 'Longitude'),\n",
       " (1426, 'floor_area_sqm Latitude'),\n",
       " (1309, 'remaining_lease mrtdist')]"
      ]
     },
     "execution_count": 66,
     "metadata": {},
     "output_type": "execute_result"
    }
   ],
   "source": [
    "# top Ten most important features\n",
    "feature_importance[:10]"
   ]
  },
  {
   "cell_type": "code",
   "execution_count": 67,
   "id": "284e77a8-23c9-4637-96be-203ef87dc8b1",
   "metadata": {},
   "outputs": [
    {
     "data": {
      "text/plain": [
       "[(5, 'District_25'),\n",
       " (2, 'District_7'),\n",
       " (0, 'storey_range_49 TO 51'),\n",
       " (0, 'flat_model_Premium Maisonette'),\n",
       " (0, 'flat_model_Premium Apartment Loft'),\n",
       " (0, 'flat_model_Multi Generation'),\n",
       " (0, 'flat_model_Improved-Maisonette'),\n",
       " (0, 'District_17'),\n",
       " (0, 'District_11'),\n",
       " (0, '1')]"
      ]
     },
     "execution_count": 67,
     "metadata": {},
     "output_type": "execute_result"
    }
   ],
   "source": [
    "# bottom ten least important\n",
    "feature_importance[-10:]"
   ]
  },
  {
   "cell_type": "code",
   "execution_count": 71,
   "id": "b924bae5-2312-4a1c-aebc-e8efdb10bbd4",
   "metadata": {},
   "outputs": [],
   "source": [
    "features_df = pd.DataFrame(feature_importance)"
   ]
  },
  {
   "cell_type": "code",
   "execution_count": 83,
   "id": "0ed45fa4-bfd3-4e95-a77e-a5a2a9d842c5",
   "metadata": {},
   "outputs": [
    {
     "data": {
      "text/plain": [
       "Text(0.5, 1.0, 'Top Ten Relative Feature Importance')"
      ]
     },
     "execution_count": 83,
     "metadata": {},
     "output_type": "execute_result"
    },
    {
     "data": {
      "image/png": "[encoded data removed]",
      "text/plain": [
       "<Figure size 720x720 with 1 Axes>"
      ]
     },
     "metadata": {
      "needs_background": "light"
     },
     "output_type": "display_data"
    }
   ],
   "source": [
    "fig = plt.subplots( figsize = (10,10))\n",
    "plt.bar(features_df[1][:10], height = features_df[0][:10])\n",
    "plt.xticks(rotation=90)\n",
    "plt.title('Top Ten Relative Feature Importance')"
   ]
  },
  {
   "cell_type": "code",
   "execution_count": 86,
   "id": "2b8bd2a4-19b3-4650-ad1d-2108162266ff",
   "metadata": {},
   "outputs": [
    {
     "data": {
      "text/plain": [
       "Text(0.5, 1.0, 'Top Ten Relative Feature Importance')"
      ]
     },
     "execution_count": 86,
     "metadata": {},
     "output_type": "execute_result"
    },
    {
     "data": {
      "image/png": "[encoded data removed]",
      "text/plain": [
       "<Figure size 720x720 with 1 Axes>"
      ]
     },
     "metadata": {
      "needs_background": "light"
     },
     "output_type": "display_data"
    }
   ],
   "source": [
    "fig = plt.subplots( figsize = (10,10))\n",
    "plt.barh(features_df[1][:10], width = features_df[0][:10])\n",
    "plt.xticks(rotation=90)\n",
    "plt.title('Top Ten Relative Feature Importance')"
   ]
  },
  {
   "cell_type": "code",
   "execution_count": 90,
   "id": "80970a68-e7ea-4d93-ab55-e735e09b7158",
   "metadata": {},
   "outputs": [
    {
     "data": {
      "text/plain": [
       "Text(0.5, 1.0, 'Btm Ten Relative Feature Importance')"
      ]
     },
     "execution_count": 90,
     "metadata": {},
     "output_type": "execute_result"
    },
    {
     "data": {
      "image/png": "[encoded data removed]",
      "text/plain": [
       "<Figure size 720x720 with 1 Axes>"
      ]
     },
     "metadata": {
      "needs_background": "light"
     },
     "output_type": "display_data"
    }
   ],
   "source": [
    "fig = plt.subplots( figsize = (10,10))\n",
    "plt.barh(features_df[1][-18:-10], width = features_df[0][-18:-10])\n",
    "plt.xticks(rotation=90)\n",
    "plt.title('Btm Ten Relative Feature Importance')"
   ]
  },
  {
   "cell_type": "code",
   "execution_count": 77,
   "id": "66a4e2d6-5a63-4138-ae64-7110951e0409",
   "metadata": {},
   "outputs": [
    {
     "data": {
      "text/plain": [
       "([0, 1, 2, 3, 4, 5, 6, 7, 8, 9],\n",
       " [Text(0, 0, ''),\n",
       "  Text(0, 0, ''),\n",
       "  Text(0, 0, ''),\n",
       "  Text(0, 0, ''),\n",
       "  Text(0, 0, ''),\n",
       "  Text(0, 0, ''),\n",
       "  Text(0, 0, ''),\n",
       "  Text(0, 0, ''),\n",
       "  Text(0, 0, ''),\n",
       "  Text(0, 0, '')])"
      ]
     },
     "execution_count": 77,
     "metadata": {},
     "output_type": "execute_result"
    },
    {
     "data": {
      "image/png": "[encoded data removed]",
      "text/plain": [
       "<Figure size 432x288 with 1 Axes>"
      ]
     },
     "metadata": {
      "needs_background": "light"
     },
     "output_type": "display_data"
    }
   ],
   "source": [
    "plt.bar(features_df[1][-10:], height = features_df[0][-10:])\n",
    "plt.xticks(rotation=90)"
   ]
  },
  {
   "cell_type": "code",
   "execution_count": null,
   "id": "4c77747c-668e-4ccd-b2a5-131ccc4e18ea",
   "metadata": {},
   "outputs": [],
   "source": [
    "y_pred = lgb_cv.predict(preprocess.transform(X_test))\n",
    "\n",
    "lgb_mse = mean_squared_error(y_test,y_pred)**(1/2)\n",
    "lgb_mae = mean_absolute_error(y_test,y_pred)\n",
    "lgb_r2 = r2_score(y_test,y_pred)\n",
    "\n",
    "print('RMSE on test set', lgb_mse)\n",
    "print('MAE on test set', lgb_mae)\n",
    "print('R2 on test set', lgb_r2)"
   ]
  },
  {
   "cell_type": "markdown",
   "id": "f38ca48e-42a0-4710-91ef-2e0a9c7b056a",
   "metadata": {},
   "source": [
    "We narrow down to lgbm because of its accuracy and quick training speed "
   ]
  },
  {
   "cell_type": "code",
   "execution_count": 70,
   "id": "c3f8b147-e093-469e-9dc1-0480282026c9",
   "metadata": {},
   "outputs": [],
   "source": [
    "# Asessing Final model on test set"
   ]
  },
  {
   "cell_type": "code",
   "execution_count": 71,
   "id": "f27bbccb-c217-4427-9a71-c9f645a8b2c8",
   "metadata": {},
   "outputs": [
    {
     "data": {
      "text/plain": [
       "District                   4\n",
       "month              1 03 2018\n",
       "flat_type             5 ROOM\n",
       "storey_range        04 TO 06\n",
       "floor_area_sqm           117\n",
       "flat_model          Standard\n",
       "remaining_lease           56\n",
       "Latitude             1.27675\n",
       "Longitude            103.819\n",
       "mrtdist              1215.37\n",
       "Name: 23132, dtype: object"
      ]
     },
     "execution_count": 71,
     "metadata": {},
     "output_type": "execute_result"
    }
   ],
   "source": [
    "X_test.iloc[0]"
   ]
  },
  {
   "cell_type": "code",
   "execution_count": 72,
   "id": "ca0ac554-77de-483e-a311-a8040342ab5c",
   "metadata": {},
   "outputs": [
    {
     "data": {
      "text/plain": [
       "595000.0"
      ]
     },
     "execution_count": 72,
     "metadata": {},
     "output_type": "execute_result"
    }
   ],
   "source": [
    "y_test.iloc[0]"
   ]
  },
  {
   "cell_type": "code",
   "execution_count": 73,
   "id": "db85fa94-506d-4594-a45a-2150529d8a74",
   "metadata": {},
   "outputs": [],
   "source": [
    "X_test_preprocess = preprocess.transform(X_test)"
   ]
  },
  {
   "cell_type": "code",
   "execution_count": 74,
   "id": "9df28fb6-2c86-4fcf-ad4e-3b80b9fba0b0",
   "metadata": {},
   "outputs": [
    {
     "data": {
      "text/plain": [
       "array([589287.41699229])"
      ]
     },
     "execution_count": 74,
     "metadata": {},
     "output_type": "execute_result"
    }
   ],
   "source": [
    "lgb_cv.predict(X_test_preprocess[0])"
   ]
  },
  {
   "cell_type": "markdown",
   "id": "7baacd82-1b25-4323-a7c1-5977b23a8078",
   "metadata": {},
   "source": [
    "# Deep Learning Model"
   ]
  },
  {
   "cell_type": "code",
   "execution_count": 75,
   "id": "f54829ce-b389-40df-97f6-1539fdea37a3",
   "metadata": {},
   "outputs": [],
   "source": [
    "import tensorflow as tf\n",
    "import tensorflow_addons as tfa\n",
    "import tensorflow.keras.backend as K"
   ]
  },
  {
   "cell_type": "code",
   "execution_count": 76,
   "id": "aa1d43aa-af68-4936-81e2-ff208ca16f6c",
   "metadata": {},
   "outputs": [],
   "source": [
    "def R2_score(y_true, y_pred):\n",
    "    SS_res =  K.sum(K.square(y_true - y_pred)) \n",
    "    SS_tot = K.sum(K.square(y_true - K.mean(y_true))) \n",
    "    return ( 1 - SS_res/(SS_tot + K.epsilon()) )"
   ]
  },
  {
   "cell_type": "code",
   "execution_count": 77,
   "id": "7fff92d8-8f1d-4470-8ef8-9feb0d243a91",
   "metadata": {},
   "outputs": [],
   "source": [
    "dnn_model = tf.keras.models.Sequential([\n",
    "    tf.keras.layers.Dense(512,input_dim = X_train_preprocessed.shape[1],activation = 'relu'),\n",
    "    tf.keras.layers.Flatten(),\n",
    "    tf.keras.layers.Dense(1024, activation = 'relu'),\n",
    "    tf.keras.layers.Dense(1, activation = 'relu')\n",
    "])"
   ]
  },
  {
   "cell_type": "code",
   "execution_count": 78,
   "id": "f188eaa9-26bf-47bd-b527-052039593964",
   "metadata": {},
   "outputs": [
    {
     "name": "stdout",
     "output_type": "stream",
     "text": [
      "Model: \"sequential\"\n",
      "_________________________________________________________________\n",
      " Layer (type)                Output Shape              Param #   \n",
      "=================================================================\n",
      " dense (Dense)               (None, 512)               73728     \n",
      "                                                                 \n",
      " flatten (Flatten)           (None, 512)               0         \n",
      "                                                                 \n",
      " dense_1 (Dense)             (None, 1024)              525312    \n",
      "                                                                 \n",
      " dense_2 (Dense)             (None, 1)                 1025      \n",
      "                                                                 \n",
      "=================================================================\n",
      "Total params: 600,065\n",
      "Trainable params: 600,065\n",
      "Non-trainable params: 0\n",
      "_________________________________________________________________\n"
     ]
    }
   ],
   "source": [
    "dnn_model.summary()"
   ]
  },
  {
   "cell_type": "code",
   "execution_count": 79,
   "id": "74522549-02ef-49a0-9810-601db3684882",
   "metadata": {},
   "outputs": [],
   "source": [
    "early_callback = tf.keras.callbacks.EarlyStopping(patience=50)"
   ]
  },
  {
   "cell_type": "code",
   "execution_count": 80,
   "id": "4fe768ed-dd3d-438d-aa76-17fb6ea1bc3a",
   "metadata": {},
   "outputs": [],
   "source": [
    "dnn_model.compile(loss = 'mse', \n",
    "                  metrics =[tf.metrics.RootMeanSquaredError(),tf.metrics.MeanAbsoluteError(),R2_score],#.,tfa.metrics.RSquare()], \n",
    "                  optimizer = tf.keras.optimizers.RMSprop())"
   ]
  },
  {
   "cell_type": "code",
   "execution_count": 81,
   "id": "bde2953b-d312-4a3f-9f01-55aedc66cdeb",
   "metadata": {
    "tags": []
   },
   "outputs": [
    {
     "name": "stdout",
     "output_type": "stream",
     "text": [
      "Epoch 1/250\n",
      "2849/2849 [==============================] - 25s 8ms/step - loss: 30964379648.0000 - root_mean_squared_error: 175966.9844 - mean_absolute_error: 102299.2344 - R2_score: -0.3584 - val_loss: 2974378496.0000 - val_root_mean_squared_error: 54537.8633 - val_mean_absolute_error: 40691.9531 - val_R2_score: 0.8753\n",
      "Epoch 2/250\n",
      "2849/2849 [==============================] - 23s 8ms/step - loss: 2828560896.0000 - root_mean_squared_error: 53184.2148 - mean_absolute_error: 39527.9492 - R2_score: 0.8764 - val_loss: 2671719936.0000 - val_root_mean_squared_error: 51688.6836 - val_mean_absolute_error: 38652.3945 - val_R2_score: 0.8879\n",
      "Epoch 3/250\n",
      "2849/2849 [==============================] - 23s 8ms/step - loss: 2583980288.0000 - root_mean_squared_error: 50832.8672 - mean_absolute_error: 37901.3555 - R2_score: 0.8868 - val_loss: 2451709184.0000 - val_root_mean_squared_error: 49514.7344 - val_mean_absolute_error: 36934.3789 - val_R2_score: 0.8971\n",
      "Epoch 4/250\n",
      "2849/2849 [==============================] - 23s 8ms/step - loss: 2361706496.0000 - root_mean_squared_error: 48597.3906 - mean_absolute_error: 36014.2227 - R2_score: 0.8962 - val_loss: 2241257472.0000 - val_root_mean_squared_error: 47341.9219 - val_mean_absolute_error: 35022.7930 - val_R2_score: 0.9056\n",
      "Epoch 5/250\n",
      "2849/2849 [==============================] - 23s 8ms/step - loss: 2211954176.0000 - root_mean_squared_error: 47031.4180 - mean_absolute_error: 34593.3359 - R2_score: 0.9024 - val_loss: 2135177728.0000 - val_root_mean_squared_error: 46207.9844 - val_mean_absolute_error: 33930.5586 - val_R2_score: 0.9099\n",
      "Epoch 6/250\n",
      "2849/2849 [==============================] - 23s 8ms/step - loss: 2108720896.0000 - root_mean_squared_error: 45920.8125 - mean_absolute_error: 33621.2656 - R2_score: 0.9073 - val_loss: 2060642432.0000 - val_root_mean_squared_error: 45394.3008 - val_mean_absolute_error: 33242.7617 - val_R2_score: 0.9130\n",
      "Epoch 7/250\n",
      "2849/2849 [==============================] - 23s 8ms/step - loss: 2017985664.0000 - root_mean_squared_error: 44921.9961 - mean_absolute_error: 32756.0625 - R2_score: 0.9111 - val_loss: 1956996736.0000 - val_root_mean_squared_error: 44237.9531 - val_mean_absolute_error: 32155.3691 - val_R2_score: 0.9172\n",
      "Epoch 8/250\n",
      "2849/2849 [==============================] - 23s 8ms/step - loss: 1929359360.0000 - root_mean_squared_error: 43924.4727 - mean_absolute_error: 31986.3359 - R2_score: 0.9148 - val_loss: 1863226496.0000 - val_root_mean_squared_error: 43165.1055 - val_mean_absolute_error: 31493.0547 - val_R2_score: 0.9211\n",
      "Epoch 9/250\n",
      "2849/2849 [==============================] - 23s 8ms/step - loss: 1852706560.0000 - root_mean_squared_error: 43043.0781 - mean_absolute_error: 31271.4551 - R2_score: 0.9183 - val_loss: 1793371008.0000 - val_root_mean_squared_error: 42348.2109 - val_mean_absolute_error: 30871.3730 - val_R2_score: 0.9242\n",
      "Epoch 10/250\n",
      "2849/2849 [==============================] - 23s 8ms/step - loss: 1784576640.0000 - root_mean_squared_error: 42244.2500 - mean_absolute_error: 30639.8887 - R2_score: 0.9211 - val_loss: 1746321664.0000 - val_root_mean_squared_error: 41789.0117 - val_mean_absolute_error: 30332.5859 - val_R2_score: 0.9262\n",
      "Epoch 11/250\n",
      "2849/2849 [==============================] - 23s 8ms/step - loss: 1724595712.0000 - root_mean_squared_error: 41528.2539 - mean_absolute_error: 30079.3359 - R2_score: 0.9240 - val_loss: 1708114432.0000 - val_root_mean_squared_error: 41329.3398 - val_mean_absolute_error: 30372.6895 - val_R2_score: 0.9274\n",
      "Epoch 12/250\n",
      "2849/2849 [==============================] - 23s 8ms/step - loss: 1674808320.0000 - root_mean_squared_error: 40924.4219 - mean_absolute_error: 29646.1328 - R2_score: 0.9260 - val_loss: 1641620480.0000 - val_root_mean_squared_error: 40516.9141 - val_mean_absolute_error: 29379.0742 - val_R2_score: 0.9305\n",
      "Epoch 13/250\n",
      "2849/2849 [==============================] - 23s 8ms/step - loss: 1628913280.0000 - root_mean_squared_error: 40359.7969 - mean_absolute_error: 29196.3809 - R2_score: 0.9280 - val_loss: 1604079616.0000 - val_root_mean_squared_error: 40050.9609 - val_mean_absolute_error: 29076.3125 - val_R2_score: 0.9323\n",
      "Epoch 14/250\n",
      "2849/2849 [==============================] - 23s 8ms/step - loss: 1587826816.0000 - root_mean_squared_error: 39847.5430 - mean_absolute_error: 28784.8164 - R2_score: 0.9300 - val_loss: 1584545536.0000 - val_root_mean_squared_error: 39806.3516 - val_mean_absolute_error: 28640.0117 - val_R2_score: 0.9332\n",
      "Epoch 15/250\n",
      "2849/2849 [==============================] - 23s 8ms/step - loss: 1550713344.0000 - root_mean_squared_error: 39379.0977 - mean_absolute_error: 28384.1230 - R2_score: 0.9314 - val_loss: 1520615936.0000 - val_root_mean_squared_error: 38995.0742 - val_mean_absolute_error: 28284.3770 - val_R2_score: 0.9351\n",
      "Epoch 16/250\n",
      "2849/2849 [==============================] - 23s 8ms/step - loss: 1516151936.0000 - root_mean_squared_error: 38937.7930 - mean_absolute_error: 28059.6016 - R2_score: 0.9326 - val_loss: 1510523520.0000 - val_root_mean_squared_error: 38865.4531 - val_mean_absolute_error: 28083.8574 - val_R2_score: 0.9360\n",
      "Epoch 17/250\n",
      "2849/2849 [==============================] - 23s 8ms/step - loss: 1485086720.0000 - root_mean_squared_error: 38536.8203 - mean_absolute_error: 27731.3027 - R2_score: 0.9343 - val_loss: 1457355648.0000 - val_root_mean_squared_error: 38175.3281 - val_mean_absolute_error: 27495.5039 - val_R2_score: 0.9383\n",
      "Epoch 18/250\n",
      "2849/2849 [==============================] - 23s 8ms/step - loss: 1452633472.0000 - root_mean_squared_error: 38113.4297 - mean_absolute_error: 27378.1934 - R2_score: 0.9356 - val_loss: 1453867008.0000 - val_root_mean_squared_error: 38129.6094 - val_mean_absolute_error: 27493.0098 - val_R2_score: 0.9384\n",
      "Epoch 19/250\n",
      "2849/2849 [==============================] - 23s 8ms/step - loss: 1425304832.0000 - root_mean_squared_error: 37753.2109 - mean_absolute_error: 27052.3125 - R2_score: 0.9366 - val_loss: 1421170688.0000 - val_root_mean_squared_error: 37698.4180 - val_mean_absolute_error: 27144.0625 - val_R2_score: 0.9397\n",
      "Epoch 20/250\n",
      "2849/2849 [==============================] - 23s 8ms/step - loss: 1398729472.0000 - root_mean_squared_error: 37399.5898 - mean_absolute_error: 26787.6738 - R2_score: 0.9378 - val_loss: 1412360320.0000 - val_root_mean_squared_error: 37581.3828 - val_mean_absolute_error: 26936.6094 - val_R2_score: 0.9402\n",
      "Epoch 21/250\n",
      "2849/2849 [==============================] - 23s 8ms/step - loss: 1373023872.0000 - root_mean_squared_error: 37054.3359 - mean_absolute_error: 26527.8145 - R2_score: 0.9394 - val_loss: 1391847808.0000 - val_root_mean_squared_error: 37307.4766 - val_mean_absolute_error: 26712.9414 - val_R2_score: 0.9411\n",
      "Epoch 22/250\n",
      "2849/2849 [==============================] - 23s 8ms/step - loss: 1350786304.0000 - root_mean_squared_error: 36753.0430 - mean_absolute_error: 26270.7949 - R2_score: 0.9402 - val_loss: 1352916352.0000 - val_root_mean_squared_error: 36782.0117 - val_mean_absolute_error: 26334.6035 - val_R2_score: 0.9426\n",
      "Epoch 23/250\n",
      "2849/2849 [==============================] - 23s 8ms/step - loss: 1327668224.0000 - root_mean_squared_error: 36437.1797 - mean_absolute_error: 26052.6973 - R2_score: 0.9413 - val_loss: 1356159616.0000 - val_root_mean_squared_error: 36826.0742 - val_mean_absolute_error: 26593.4609 - val_R2_score: 0.9424\n",
      "Epoch 24/250\n",
      "2849/2849 [==============================] - 23s 8ms/step - loss: 1306347520.0000 - root_mean_squared_error: 36143.4297 - mean_absolute_error: 25837.0762 - R2_score: 0.9423 - val_loss: 1321783168.0000 - val_root_mean_squared_error: 36356.3359 - val_mean_absolute_error: 25940.0176 - val_R2_score: 0.9443\n",
      "Epoch 25/250\n",
      "2849/2849 [==============================] - 23s 8ms/step - loss: 1290991872.0000 - root_mean_squared_error: 35930.3750 - mean_absolute_error: 25658.0059 - R2_score: 0.9430 - val_loss: 1375252608.0000 - val_root_mean_squared_error: 37084.3984 - val_mean_absolute_error: 26654.0352 - val_R2_score: 0.9418\n",
      "Epoch 26/250\n",
      "2849/2849 [==============================] - 23s 8ms/step - loss: 1273757824.0000 - root_mean_squared_error: 35689.7461 - mean_absolute_error: 25462.6484 - R2_score: 0.9435 - val_loss: 1291351680.0000 - val_root_mean_squared_error: 35935.3828 - val_mean_absolute_error: 25740.3926 - val_R2_score: 0.9452\n",
      "Epoch 27/250\n",
      "2849/2849 [==============================] - 23s 8ms/step - loss: 1258117760.0000 - root_mean_squared_error: 35469.9570 - mean_absolute_error: 25317.8711 - R2_score: 0.9442 - val_loss: 1274039680.0000 - val_root_mean_squared_error: 35693.6914 - val_mean_absolute_error: 25424.6758 - val_R2_score: 0.9462\n",
      "Epoch 28/250\n",
      "2849/2849 [==============================] - 23s 8ms/step - loss: 1243888000.0000 - root_mean_squared_error: 35268.7969 - mean_absolute_error: 25150.1836 - R2_score: 0.9446 - val_loss: 1290754816.0000 - val_root_mean_squared_error: 35927.0781 - val_mean_absolute_error: 25734.5840 - val_R2_score: 0.9456\n",
      "Epoch 29/250\n",
      "2849/2849 [==============================] - 23s 8ms/step - loss: 1230221824.0000 - root_mean_squared_error: 35074.5156 - mean_absolute_error: 25029.6660 - R2_score: 0.9455 - val_loss: 1259292544.0000 - val_root_mean_squared_error: 35486.5117 - val_mean_absolute_error: 25302.5371 - val_R2_score: 0.9467\n",
      "Epoch 30/250\n",
      "2849/2849 [==============================] - 23s 8ms/step - loss: 1217315072.0000 - root_mean_squared_error: 34890.0430 - mean_absolute_error: 24877.6309 - R2_score: 0.9457 - val_loss: 1245666304.0000 - val_root_mean_squared_error: 35293.9961 - val_mean_absolute_error: 25247.5176 - val_R2_score: 0.9470\n",
      "Epoch 31/250\n",
      "2849/2849 [==============================] - 23s 8ms/step - loss: 1205198080.0000 - root_mean_squared_error: 34715.9609 - mean_absolute_error: 24747.4668 - R2_score: 0.9466 - val_loss: 1228941952.0000 - val_root_mean_squared_error: 35056.2656 - val_mean_absolute_error: 25045.1641 - val_R2_score: 0.9479\n",
      "Epoch 32/250\n",
      "2849/2849 [==============================] - 23s 8ms/step - loss: 1193205376.0000 - root_mean_squared_error: 34542.8047 - mean_absolute_error: 24607.1094 - R2_score: 0.9474 - val_loss: 1231063424.0000 - val_root_mean_squared_error: 35086.5117 - val_mean_absolute_error: 25234.8301 - val_R2_score: 0.9478\n",
      "Epoch 33/250\n",
      "2849/2849 [==============================] - 23s 8ms/step - loss: 1181252096.0000 - root_mean_squared_error: 34369.3477 - mean_absolute_error: 24499.3047 - R2_score: 0.9476 - val_loss: 1237718912.0000 - val_root_mean_squared_error: 35181.2305 - val_mean_absolute_error: 25112.8398 - val_R2_score: 0.9477\n",
      "Epoch 34/250\n",
      "2849/2849 [==============================] - 23s 8ms/step - loss: 1170692864.0000 - root_mean_squared_error: 34215.3906 - mean_absolute_error: 24415.1758 - R2_score: 0.9480 - val_loss: 1197042560.0000 - val_root_mean_squared_error: 34598.3008 - val_mean_absolute_error: 24697.4766 - val_R2_score: 0.9492\n",
      "Epoch 35/250\n",
      "2849/2849 [==============================] - 23s 8ms/step - loss: 1163192064.0000 - root_mean_squared_error: 34105.6016 - mean_absolute_error: 24329.6094 - R2_score: 0.9486 - val_loss: 1203611776.0000 - val_root_mean_squared_error: 34693.1094 - val_mean_absolute_error: 24862.7168 - val_R2_score: 0.9489\n",
      "Epoch 36/250\n",
      "2849/2849 [==============================] - 23s 8ms/step - loss: 1151641856.0000 - root_mean_squared_error: 33935.8477 - mean_absolute_error: 24202.2402 - R2_score: 0.9489 - val_loss: 1187181312.0000 - val_root_mean_squared_error: 34455.4961 - val_mean_absolute_error: 24575.9941 - val_R2_score: 0.9499\n",
      "Epoch 37/250\n",
      "2849/2849 [==============================] - 23s 8ms/step - loss: 1142823552.0000 - root_mean_squared_error: 33805.6719 - mean_absolute_error: 24071.9570 - R2_score: 0.9490 - val_loss: 1198843904.0000 - val_root_mean_squared_error: 34624.3242 - val_mean_absolute_error: 24776.1094 - val_R2_score: 0.9493\n",
      "Epoch 38/250\n",
      "2849/2849 [==============================] - 23s 8ms/step - loss: 1133111040.0000 - root_mean_squared_error: 33661.7148 - mean_absolute_error: 23980.4941 - R2_score: 0.9497 - val_loss: 1175623680.0000 - val_root_mean_squared_error: 34287.3672 - val_mean_absolute_error: 24531.0801 - val_R2_score: 0.9501\n",
      "Epoch 39/250\n",
      "2849/2849 [==============================] - 23s 8ms/step - loss: 1124403584.0000 - root_mean_squared_error: 33532.1250 - mean_absolute_error: 23898.8223 - R2_score: 0.9498 - val_loss: 1179510400.0000 - val_root_mean_squared_error: 34344.0000 - val_mean_absolute_error: 24485.4863 - val_R2_score: 0.9501\n",
      "Epoch 40/250\n",
      "2849/2849 [==============================] - 23s 8ms/step - loss: 1117816960.0000 - root_mean_squared_error: 33433.7695 - mean_absolute_error: 23815.4355 - R2_score: 0.9506 - val_loss: 1159822592.0000 - val_root_mean_squared_error: 34056.1680 - val_mean_absolute_error: 24295.8867 - val_R2_score: 0.9509\n",
      "Epoch 41/250\n",
      "2849/2849 [==============================] - 23s 8ms/step - loss: 1107747968.0000 - root_mean_squared_error: 33282.8477 - mean_absolute_error: 23683.9277 - R2_score: 0.9508 - val_loss: 1157763712.0000 - val_root_mean_squared_error: 34025.9258 - val_mean_absolute_error: 24431.8516 - val_R2_score: 0.9508\n",
      "Epoch 42/250\n",
      "2849/2849 [==============================] - 23s 8ms/step - loss: 1100747008.0000 - root_mean_squared_error: 33177.5078 - mean_absolute_error: 23633.0039 - R2_score: 0.9508 - val_loss: 1151334144.0000 - val_root_mean_squared_error: 33931.3164 - val_mean_absolute_error: 24267.7578 - val_R2_score: 0.9511\n",
      "Epoch 43/250\n",
      "2849/2849 [==============================] - 23s 8ms/step - loss: 1092976128.0000 - root_mean_squared_error: 33060.1875 - mean_absolute_error: 23518.7793 - R2_score: 0.9515 - val_loss: 1143681792.0000 - val_root_mean_squared_error: 33818.3633 - val_mean_absolute_error: 24199.8535 - val_R2_score: 0.9517\n",
      "Epoch 44/250\n",
      "2849/2849 [==============================] - 23s 8ms/step - loss: 1085355264.0000 - root_mean_squared_error: 32944.7305 - mean_absolute_error: 23458.2910 - R2_score: 0.9518 - val_loss: 1137683584.0000 - val_root_mean_squared_error: 33729.5664 - val_mean_absolute_error: 24171.0488 - val_R2_score: 0.9518\n",
      "Epoch 45/250\n",
      "2849/2849 [==============================] - 23s 8ms/step - loss: 1078028032.0000 - root_mean_squared_error: 32833.3359 - mean_absolute_error: 23359.2402 - R2_score: 0.9523 - val_loss: 1144193536.0000 - val_root_mean_squared_error: 33825.9297 - val_mean_absolute_error: 24128.2305 - val_R2_score: 0.9517\n",
      "Epoch 46/250\n",
      "2849/2849 [==============================] - 23s 8ms/step - loss: 1070626624.0000 - root_mean_squared_error: 32720.4316 - mean_absolute_error: 23286.3750 - R2_score: 0.9525 - val_loss: 1146795136.0000 - val_root_mean_squared_error: 33864.3633 - val_mean_absolute_error: 24379.8926 - val_R2_score: 0.9512\n",
      "Epoch 47/250\n",
      "2849/2849 [==============================] - 23s 8ms/step - loss: 1063013248.0000 - root_mean_squared_error: 32603.8828 - mean_absolute_error: 23195.9941 - R2_score: 0.9526 - val_loss: 1144768768.0000 - val_root_mean_squared_error: 33834.4297 - val_mean_absolute_error: 24399.8320 - val_R2_score: 0.9512\n",
      "Epoch 48/250\n",
      "2849/2849 [==============================] - 23s 8ms/step - loss: 1055055616.0000 - root_mean_squared_error: 32481.6191 - mean_absolute_error: 23112.3418 - R2_score: 0.9530 - val_loss: 1106669696.0000 - val_root_mean_squared_error: 33266.6445 - val_mean_absolute_error: 23707.7676 - val_R2_score: 0.9530\n",
      "Epoch 49/250\n",
      "2849/2849 [==============================] - 23s 8ms/step - loss: 1047435328.0000 - root_mean_squared_error: 32364.1055 - mean_absolute_error: 23034.5898 - R2_score: 0.9535 - val_loss: 1109167360.0000 - val_root_mean_squared_error: 33304.1641 - val_mean_absolute_error: 23829.1387 - val_R2_score: 0.9530\n",
      "Epoch 50/250\n",
      "2849/2849 [==============================] - 23s 8ms/step - loss: 1041052160.0000 - root_mean_squared_error: 32265.3398 - mean_absolute_error: 22962.3359 - R2_score: 0.9535 - val_loss: 1099732096.0000 - val_root_mean_squared_error: 33162.2070 - val_mean_absolute_error: 23764.0332 - val_R2_score: 0.9535\n",
      "Epoch 51/250\n",
      "2849/2849 [==============================] - 23s 8ms/step - loss: 1033601728.0000 - root_mean_squared_error: 32149.6758 - mean_absolute_error: 22896.9707 - R2_score: 0.9538 - val_loss: 1083118592.0000 - val_root_mean_squared_error: 32910.7656 - val_mean_absolute_error: 23509.1309 - val_R2_score: 0.9541\n",
      "Epoch 52/250\n",
      "2849/2849 [==============================] - 23s 8ms/step - loss: 1026325696.0000 - root_mean_squared_error: 32036.3184 - mean_absolute_error: 22794.0801 - R2_score: 0.9542 - val_loss: 1079744640.0000 - val_root_mean_squared_error: 32859.4688 - val_mean_absolute_error: 23532.6270 - val_R2_score: 0.9540\n",
      "Epoch 53/250\n",
      "2849/2849 [==============================] - 23s 8ms/step - loss: 1018258688.0000 - root_mean_squared_error: 31910.1660 - mean_absolute_error: 22725.2207 - R2_score: 0.9547 - val_loss: 1074904320.0000 - val_root_mean_squared_error: 32785.7305 - val_mean_absolute_error: 23401.9160 - val_R2_score: 0.9544\n",
      "Epoch 54/250\n",
      "2849/2849 [==============================] - 23s 8ms/step - loss: 1010183872.0000 - root_mean_squared_error: 31783.3906 - mean_absolute_error: 22630.1387 - R2_score: 0.9551 - val_loss: 1072692224.0000 - val_root_mean_squared_error: 32751.9805 - val_mean_absolute_error: 23393.6758 - val_R2_score: 0.9545\n",
      "Epoch 55/250\n",
      "2849/2849 [==============================] - 23s 8ms/step - loss: 1002056384.0000 - root_mean_squared_error: 31655.2734 - mean_absolute_error: 22549.4961 - R2_score: 0.9554 - val_loss: 1089941248.0000 - val_root_mean_squared_error: 33014.2578 - val_mean_absolute_error: 23813.3945 - val_R2_score: 0.9534\n",
      "Epoch 56/250\n",
      "2849/2849 [==============================] - 23s 8ms/step - loss: 993540416.0000 - root_mean_squared_error: 31520.4766 - mean_absolute_error: 22448.2988 - R2_score: 0.9559 - val_loss: 1059379008.0000 - val_root_mean_squared_error: 32548.1035 - val_mean_absolute_error: 23376.3750 - val_R2_score: 0.9549\n",
      "Epoch 57/250\n",
      "2849/2849 [==============================] - 23s 8ms/step - loss: 987663616.0000 - root_mean_squared_error: 31427.1152 - mean_absolute_error: 22379.4277 - R2_score: 0.9561 - val_loss: 1096771328.0000 - val_root_mean_squared_error: 33117.5391 - val_mean_absolute_error: 23890.3945 - val_R2_score: 0.9533\n",
      "Epoch 58/250\n",
      "2849/2849 [==============================] - 23s 8ms/step - loss: 979492736.0000 - root_mean_squared_error: 31296.8477 - mean_absolute_error: 22295.7188 - R2_score: 0.9565 - val_loss: 1054270016.0000 - val_root_mean_squared_error: 32469.5234 - val_mean_absolute_error: 23356.6797 - val_R2_score: 0.9551\n",
      "Epoch 59/250\n",
      "2849/2849 [==============================] - 23s 8ms/step - loss: 971976000.0000 - root_mean_squared_error: 31176.5293 - mean_absolute_error: 22193.7832 - R2_score: 0.9569 - val_loss: 1052885504.0000 - val_root_mean_squared_error: 32448.1973 - val_mean_absolute_error: 23223.8691 - val_R2_score: 0.9555\n",
      "Epoch 60/250\n",
      "2849/2849 [==============================] - 23s 8ms/step - loss: 962536960.0000 - root_mean_squared_error: 31024.7793 - mean_absolute_error: 22125.3242 - R2_score: 0.9571 - val_loss: 1038717504.0000 - val_root_mean_squared_error: 32229.1406 - val_mean_absolute_error: 23095.8457 - val_R2_score: 0.9559\n",
      "Epoch 61/250\n",
      "2849/2849 [==============================] - 23s 8ms/step - loss: 956260288.0000 - root_mean_squared_error: 30923.4590 - mean_absolute_error: 22062.6836 - R2_score: 0.9573 - val_loss: 1025854208.0000 - val_root_mean_squared_error: 32028.9590 - val_mean_absolute_error: 22855.6797 - val_R2_score: 0.9565\n",
      "Epoch 62/250\n",
      "2849/2849 [==============================] - 23s 8ms/step - loss: 947533888.0000 - root_mean_squared_error: 30782.0391 - mean_absolute_error: 21941.7363 - R2_score: 0.9578 - val_loss: 1029857856.0000 - val_root_mean_squared_error: 32091.3984 - val_mean_absolute_error: 22949.1426 - val_R2_score: 0.9564\n",
      "Epoch 63/250\n",
      "2849/2849 [==============================] - 23s 8ms/step - loss: 940388352.0000 - root_mean_squared_error: 30665.7520 - mean_absolute_error: 21881.9492 - R2_score: 0.9582 - val_loss: 1012865152.0000 - val_root_mean_squared_error: 31825.5430 - val_mean_absolute_error: 22760.5820 - val_R2_score: 0.9570\n",
      "Epoch 64/250\n",
      "2849/2849 [==============================] - 23s 8ms/step - loss: 933318592.0000 - root_mean_squared_error: 30550.2637 - mean_absolute_error: 21778.7695 - R2_score: 0.9586 - val_loss: 1036153664.0000 - val_root_mean_squared_error: 32189.3398 - val_mean_absolute_error: 23098.9980 - val_R2_score: 0.9559\n",
      "Epoch 65/250\n",
      "2849/2849 [==============================] - 23s 8ms/step - loss: 924938176.0000 - root_mean_squared_error: 30412.7949 - mean_absolute_error: 21688.8828 - R2_score: 0.9587 - val_loss: 1026360192.0000 - val_root_mean_squared_error: 32036.8555 - val_mean_absolute_error: 22962.8281 - val_R2_score: 0.9566\n",
      "Epoch 66/250\n",
      "2849/2849 [==============================] - 23s 8ms/step - loss: 919547200.0000 - root_mean_squared_error: 30324.0371 - mean_absolute_error: 21643.0488 - R2_score: 0.9591 - val_loss: 1017936256.0000 - val_root_mean_squared_error: 31905.1133 - val_mean_absolute_error: 22755.1836 - val_R2_score: 0.9572\n",
      "Epoch 67/250\n",
      "2849/2849 [==============================] - 23s 8ms/step - loss: 910346752.0000 - root_mean_squared_error: 30171.9531 - mean_absolute_error: 21524.6738 - R2_score: 0.9596 - val_loss: 997229824.0000 - val_root_mean_squared_error: 31578.9453 - val_mean_absolute_error: 22508.7324 - val_R2_score: 0.9577\n",
      "Epoch 68/250\n",
      "2849/2849 [==============================] - 23s 8ms/step - loss: 902971136.0000 - root_mean_squared_error: 30049.4785 - mean_absolute_error: 21443.7598 - R2_score: 0.9598 - val_loss: 1043982912.0000 - val_root_mean_squared_error: 32310.7246 - val_mean_absolute_error: 23478.4434 - val_R2_score: 0.9554\n",
      "Epoch 69/250\n",
      "2849/2849 [==============================] - 23s 8ms/step - loss: 897005056.0000 - root_mean_squared_error: 29950.0430 - mean_absolute_error: 21381.6250 - R2_score: 0.9603 - val_loss: 994641664.0000 - val_root_mean_squared_error: 31537.9395 - val_mean_absolute_error: 22519.0586 - val_R2_score: 0.9579\n",
      "Epoch 70/250\n",
      "2849/2849 [==============================] - 23s 8ms/step - loss: 889259328.0000 - root_mean_squared_error: 29820.4512 - mean_absolute_error: 21316.4062 - R2_score: 0.9604 - val_loss: 987119104.0000 - val_root_mean_squared_error: 31418.4512 - val_mean_absolute_error: 22556.3125 - val_R2_score: 0.9582\n",
      "Epoch 71/250\n",
      "2849/2849 [==============================] - 23s 8ms/step - loss: 882877824.0000 - root_mean_squared_error: 29713.2598 - mean_absolute_error: 21203.6953 - R2_score: 0.9607 - val_loss: 967577664.0000 - val_root_mean_squared_error: 31105.9102 - val_mean_absolute_error: 22255.0410 - val_R2_score: 0.9588\n",
      "Epoch 72/250\n",
      "2849/2849 [==============================] - 23s 8ms/step - loss: 875569088.0000 - root_mean_squared_error: 29590.0156 - mean_absolute_error: 21129.4180 - R2_score: 0.9610 - val_loss: 981533568.0000 - val_root_mean_squared_error: 31329.4355 - val_mean_absolute_error: 22524.6406 - val_R2_score: 0.9581\n",
      "Epoch 73/250\n",
      "2849/2849 [==============================] - 23s 8ms/step - loss: 867877760.0000 - root_mean_squared_error: 29459.7656 - mean_absolute_error: 21059.6406 - R2_score: 0.9614 - val_loss: 991397120.0000 - val_root_mean_squared_error: 31486.4590 - val_mean_absolute_error: 22788.8203 - val_R2_score: 0.9577\n",
      "Epoch 74/250\n",
      "2849/2849 [==============================] - 23s 8ms/step - loss: 862378304.0000 - root_mean_squared_error: 29366.2773 - mean_absolute_error: 20992.9980 - R2_score: 0.9616 - val_loss: 1000221120.0000 - val_root_mean_squared_error: 31626.2715 - val_mean_absolute_error: 23030.7441 - val_R2_score: 0.9572\n",
      "Epoch 75/250\n",
      "2849/2849 [==============================] - 23s 8ms/step - loss: 856740608.0000 - root_mean_squared_error: 29270.1309 - mean_absolute_error: 20914.4492 - R2_score: 0.9617 - val_loss: 976253120.0000 - val_root_mean_squared_error: 31245.0488 - val_mean_absolute_error: 22606.3652 - val_R2_score: 0.9582\n",
      "Epoch 76/250\n",
      "2849/2849 [==============================] - 23s 8ms/step - loss: 850858112.0000 - root_mean_squared_error: 29169.4727 - mean_absolute_error: 20861.2363 - R2_score: 0.9619 - val_loss: 951865664.0000 - val_root_mean_squared_error: 30852.3203 - val_mean_absolute_error: 22065.1738 - val_R2_score: 0.9596\n",
      "Epoch 77/250\n",
      "2849/2849 [==============================] - 23s 8ms/step - loss: 843350528.0000 - root_mean_squared_error: 29040.4980 - mean_absolute_error: 20758.8164 - R2_score: 0.9626 - val_loss: 964108864.0000 - val_root_mean_squared_error: 31050.1035 - val_mean_absolute_error: 22449.9375 - val_R2_score: 0.9587\n",
      "Epoch 78/250\n",
      "2849/2849 [==============================] - 23s 8ms/step - loss: 838332800.0000 - root_mean_squared_error: 28953.9766 - mean_absolute_error: 20715.9785 - R2_score: 0.9627 - val_loss: 982686208.0000 - val_root_mean_squared_error: 31347.8262 - val_mean_absolute_error: 22497.5605 - val_R2_score: 0.9582\n",
      "Epoch 79/250\n",
      "2849/2849 [==============================] - 24s 8ms/step - loss: 834363712.0000 - root_mean_squared_error: 28885.3535 - mean_absolute_error: 20669.6523 - R2_score: 0.9630 - val_loss: 946040320.0000 - val_root_mean_squared_error: 30757.7676 - val_mean_absolute_error: 22186.8848 - val_R2_score: 0.9597\n",
      "Epoch 80/250\n",
      "2849/2849 [==============================] - 23s 8ms/step - loss: 827570240.0000 - root_mean_squared_error: 28767.5215 - mean_absolute_error: 20592.3965 - R2_score: 0.9632 - val_loss: 989176960.0000 - val_root_mean_squared_error: 31451.1836 - val_mean_absolute_error: 22478.4004 - val_R2_score: 0.9583\n",
      "Epoch 81/250\n",
      "2849/2849 [==============================] - 24s 8ms/step - loss: 818426496.0000 - root_mean_squared_error: 28608.1543 - mean_absolute_error: 20507.2852 - R2_score: 0.9635 - val_loss: 961488256.0000 - val_root_mean_squared_error: 31007.8750 - val_mean_absolute_error: 22507.4883 - val_R2_score: 0.9589\n",
      "Epoch 82/250\n",
      "2849/2849 [==============================] - 23s 8ms/step - loss: 814959424.0000 - root_mean_squared_error: 28547.4941 - mean_absolute_error: 20451.0566 - R2_score: 0.9637 - val_loss: 935678336.0000 - val_root_mean_squared_error: 30588.8594 - val_mean_absolute_error: 22084.3027 - val_R2_score: 0.9601\n",
      "Epoch 83/250\n",
      "2849/2849 [==============================] - 23s 8ms/step - loss: 809878080.0000 - root_mean_squared_error: 28458.3574 - mean_absolute_error: 20386.8145 - R2_score: 0.9638 - val_loss: 972034176.0000 - val_root_mean_squared_error: 31177.4629 - val_mean_absolute_error: 22775.0449 - val_R2_score: 0.9581\n",
      "Epoch 84/250\n",
      "2849/2849 [==============================] - 23s 8ms/step - loss: 803133760.0000 - root_mean_squared_error: 28339.6152 - mean_absolute_error: 20318.4688 - R2_score: 0.9642 - val_loss: 933071552.0000 - val_root_mean_squared_error: 30546.2188 - val_mean_absolute_error: 22067.0488 - val_R2_score: 0.9601\n",
      "Epoch 85/250\n",
      "2849/2849 [==============================] - 23s 8ms/step - loss: 800104960.0000 - root_mean_squared_error: 28286.1270 - mean_absolute_error: 20263.3594 - R2_score: 0.9643 - val_loss: 921299712.0000 - val_root_mean_squared_error: 30352.9199 - val_mean_absolute_error: 21840.7363 - val_R2_score: 0.9607\n",
      "Epoch 86/250\n",
      "2849/2849 [==============================] - 23s 8ms/step - loss: 794637824.0000 - root_mean_squared_error: 28189.3203 - mean_absolute_error: 20201.8652 - R2_score: 0.9644 - val_loss: 919462656.0000 - val_root_mean_squared_error: 30322.6426 - val_mean_absolute_error: 21788.4883 - val_R2_score: 0.9608\n",
      "Epoch 87/250\n",
      "2849/2849 [==============================] - 23s 8ms/step - loss: 789459072.0000 - root_mean_squared_error: 28097.3145 - mean_absolute_error: 20140.9180 - R2_score: 0.9647 - val_loss: 913882688.0000 - val_root_mean_squared_error: 30230.4922 - val_mean_absolute_error: 21808.5078 - val_R2_score: 0.9609\n",
      "Epoch 88/250\n",
      "2849/2849 [==============================] - 24s 8ms/step - loss: 784589376.0000 - root_mean_squared_error: 28010.5215 - mean_absolute_error: 20082.1055 - R2_score: 0.9651 - val_loss: 911810368.0000 - val_root_mean_squared_error: 30196.1973 - val_mean_absolute_error: 21750.0527 - val_R2_score: 0.9610\n",
      "Epoch 89/250\n",
      "2849/2849 [==============================] - 23s 8ms/step - loss: 780603200.0000 - root_mean_squared_error: 27939.2773 - mean_absolute_error: 20043.0996 - R2_score: 0.9651 - val_loss: 909225536.0000 - val_root_mean_squared_error: 30153.3672 - val_mean_absolute_error: 21683.9668 - val_R2_score: 0.9611\n",
      "Epoch 90/250\n",
      "2849/2849 [==============================] - 23s 8ms/step - loss: 776740480.0000 - root_mean_squared_error: 27870.0645 - mean_absolute_error: 19972.1562 - R2_score: 0.9653 - val_loss: 913277312.0000 - val_root_mean_squared_error: 30220.4785 - val_mean_absolute_error: 21686.8672 - val_R2_score: 0.9612\n",
      "Epoch 91/250\n",
      "2849/2849 [==============================] - 23s 8ms/step - loss: 771219392.0000 - root_mean_squared_error: 27770.8379 - mean_absolute_error: 19917.7520 - R2_score: 0.9655 - val_loss: 893722240.0000 - val_root_mean_squared_error: 29895.1875 - val_mean_absolute_error: 21480.1777 - val_R2_score: 0.9616\n",
      "Epoch 92/250\n",
      "2849/2849 [==============================] - 23s 8ms/step - loss: 767429632.0000 - root_mean_squared_error: 27702.5195 - mean_absolute_error: 19871.3750 - R2_score: 0.9657 - val_loss: 917521728.0000 - val_root_mean_squared_error: 30290.6211 - val_mean_absolute_error: 21734.6621 - val_R2_score: 0.9608\n",
      "Epoch 93/250\n",
      "2849/2849 [==============================] - 24s 8ms/step - loss: 763877120.0000 - root_mean_squared_error: 27638.3262 - mean_absolute_error: 19796.2480 - R2_score: 0.9661 - val_loss: 886616768.0000 - val_root_mean_squared_error: 29776.1113 - val_mean_absolute_error: 21432.6270 - val_R2_score: 0.9621\n",
      "Epoch 94/250\n",
      "2849/2849 [==============================] - 23s 8ms/step - loss: 758374080.0000 - root_mean_squared_error: 27538.5918 - mean_absolute_error: 19748.0645 - R2_score: 0.9662 - val_loss: 913577536.0000 - val_root_mean_squared_error: 30225.4453 - val_mean_absolute_error: 21758.1895 - val_R2_score: 0.9607\n",
      "Epoch 95/250\n",
      "2849/2849 [==============================] - 23s 8ms/step - loss: 752998848.0000 - root_mean_squared_error: 27440.8242 - mean_absolute_error: 19684.1816 - R2_score: 0.9663 - val_loss: 891649088.0000 - val_root_mean_squared_error: 29860.4941 - val_mean_absolute_error: 21521.4902 - val_R2_score: 0.9618\n",
      "Epoch 96/250\n",
      "2849/2849 [==============================] - 23s 8ms/step - loss: 750774272.0000 - root_mean_squared_error: 27400.2598 - mean_absolute_error: 19626.7207 - R2_score: 0.9665 - val_loss: 904581312.0000 - val_root_mean_squared_error: 30076.2578 - val_mean_absolute_error: 21737.0508 - val_R2_score: 0.9610\n",
      "Epoch 97/250\n",
      "2849/2849 [==============================] - 23s 8ms/step - loss: 745944896.0000 - root_mean_squared_error: 27311.9922 - mean_absolute_error: 19591.0391 - R2_score: 0.9667 - val_loss: 911361408.0000 - val_root_mean_squared_error: 30188.7637 - val_mean_absolute_error: 21770.2598 - val_R2_score: 0.9609\n",
      "Epoch 98/250\n",
      "2849/2849 [==============================] - 23s 8ms/step - loss: 742828096.0000 - root_mean_squared_error: 27254.8730 - mean_absolute_error: 19558.6016 - R2_score: 0.9669 - val_loss: 899009536.0000 - val_root_mean_squared_error: 29983.4863 - val_mean_absolute_error: 21642.1895 - val_R2_score: 0.9618\n",
      "Epoch 99/250\n",
      "2849/2849 [==============================] - 23s 8ms/step - loss: 737825792.0000 - root_mean_squared_error: 27162.9492 - mean_absolute_error: 19481.6367 - R2_score: 0.9670 - val_loss: 906845248.0000 - val_root_mean_squared_error: 30113.8711 - val_mean_absolute_error: 21973.3359 - val_R2_score: 0.9610\n",
      "Epoch 100/250\n",
      "2849/2849 [==============================] - 23s 8ms/step - loss: 734168384.0000 - root_mean_squared_error: 27095.5410 - mean_absolute_error: 19459.3008 - R2_score: 0.9671 - val_loss: 881768896.0000 - val_root_mean_squared_error: 29694.5938 - val_mean_absolute_error: 21477.5469 - val_R2_score: 0.9621\n",
      "Epoch 101/250\n",
      "2849/2849 [==============================] - 23s 8ms/step - loss: 732082240.0000 - root_mean_squared_error: 27057.0176 - mean_absolute_error: 19416.1934 - R2_score: 0.9673 - val_loss: 874737472.0000 - val_root_mean_squared_error: 29575.9609 - val_mean_absolute_error: 21314.5938 - val_R2_score: 0.9623\n",
      "Epoch 102/250\n",
      "2849/2849 [==============================] - 23s 8ms/step - loss: 726223808.0000 - root_mean_squared_error: 26948.5391 - mean_absolute_error: 19344.2305 - R2_score: 0.9675 - val_loss: 885335168.0000 - val_root_mean_squared_error: 29754.5820 - val_mean_absolute_error: 21584.6309 - val_R2_score: 0.9620\n",
      "Epoch 103/250\n",
      "2849/2849 [==============================] - 23s 8ms/step - loss: 724815680.0000 - root_mean_squared_error: 26922.4004 - mean_absolute_error: 19335.6738 - R2_score: 0.9676 - val_loss: 925106112.0000 - val_root_mean_squared_error: 30415.5566 - val_mean_absolute_error: 21981.3711 - val_R2_score: 0.9607\n",
      "Epoch 104/250\n",
      "2849/2849 [==============================] - 23s 8ms/step - loss: 719474176.0000 - root_mean_squared_error: 26823.0156 - mean_absolute_error: 19282.7949 - R2_score: 0.9679 - val_loss: 881045440.0000 - val_root_mean_squared_error: 29682.4102 - val_mean_absolute_error: 21314.4531 - val_R2_score: 0.9625\n",
      "Epoch 105/250\n",
      "2849/2849 [==============================] - 23s 8ms/step - loss: 716771968.0000 - root_mean_squared_error: 26772.5977 - mean_absolute_error: 19236.9492 - R2_score: 0.9679 - val_loss: 931666944.0000 - val_root_mean_squared_error: 30523.2188 - val_mean_absolute_error: 22136.1328 - val_R2_score: 0.9597\n",
      "Epoch 106/250\n",
      "2849/2849 [==============================] - 23s 8ms/step - loss: 713353728.0000 - root_mean_squared_error: 26708.6816 - mean_absolute_error: 19183.4277 - R2_score: 0.9683 - val_loss: 896186176.0000 - val_root_mean_squared_error: 29936.3691 - val_mean_absolute_error: 21697.8223 - val_R2_score: 0.9613\n",
      "Epoch 107/250\n",
      "2849/2849 [==============================] - 23s 8ms/step - loss: 709315392.0000 - root_mean_squared_error: 26632.9746 - mean_absolute_error: 19133.5762 - R2_score: 0.9684 - val_loss: 889139008.0000 - val_root_mean_squared_error: 29818.4336 - val_mean_absolute_error: 21523.5254 - val_R2_score: 0.9620\n",
      "Epoch 108/250\n",
      "2849/2849 [==============================] - 23s 8ms/step - loss: 707798912.0000 - root_mean_squared_error: 26604.4902 - mean_absolute_error: 19098.6992 - R2_score: 0.9686 - val_loss: 917059200.0000 - val_root_mean_squared_error: 30282.9844 - val_mean_absolute_error: 22156.6816 - val_R2_score: 0.9604\n",
      "Epoch 109/250\n",
      "2849/2849 [==============================] - 23s 8ms/step - loss: 702624640.0000 - root_mean_squared_error: 26507.0684 - mean_absolute_error: 19050.9219 - R2_score: 0.9687 - val_loss: 918250304.0000 - val_root_mean_squared_error: 30302.6445 - val_mean_absolute_error: 21856.2793 - val_R2_score: 0.9604\n",
      "Epoch 110/250\n",
      "2849/2849 [==============================] - 23s 8ms/step - loss: 701126848.0000 - root_mean_squared_error: 26478.7988 - mean_absolute_error: 19021.0957 - R2_score: 0.9686 - val_loss: 887172096.0000 - val_root_mean_squared_error: 29785.4336 - val_mean_absolute_error: 21401.5137 - val_R2_score: 0.9622\n",
      "Epoch 111/250\n",
      "2849/2849 [==============================] - 23s 8ms/step - loss: 696755136.0000 - root_mean_squared_error: 26396.1191 - mean_absolute_error: 18951.9062 - R2_score: 0.9687 - val_loss: 896352896.0000 - val_root_mean_squared_error: 29939.1543 - val_mean_absolute_error: 21464.5098 - val_R2_score: 0.9619\n",
      "Epoch 112/250\n",
      "2849/2849 [==============================] - 23s 8ms/step - loss: 694526272.0000 - root_mean_squared_error: 26353.8672 - mean_absolute_error: 18951.0898 - R2_score: 0.9688 - val_loss: 909607040.0000 - val_root_mean_squared_error: 30159.6914 - val_mean_absolute_error: 21545.3652 - val_R2_score: 0.9613\n",
      "Epoch 113/250\n",
      "2849/2849 [==============================] - 23s 8ms/step - loss: 692713216.0000 - root_mean_squared_error: 26319.4453 - mean_absolute_error: 18900.3750 - R2_score: 0.9690 - val_loss: 874054912.0000 - val_root_mean_squared_error: 29564.4199 - val_mean_absolute_error: 21456.8848 - val_R2_score: 0.9622\n",
      "Epoch 114/250\n",
      "2849/2849 [==============================] - 23s 8ms/step - loss: 688123008.0000 - root_mean_squared_error: 26232.0977 - mean_absolute_error: 18882.5527 - R2_score: 0.9693 - val_loss: 872505664.0000 - val_root_mean_squared_error: 29538.2070 - val_mean_absolute_error: 21438.6895 - val_R2_score: 0.9623\n",
      "Epoch 115/250\n",
      "2849/2849 [==============================] - 23s 8ms/step - loss: 685100096.0000 - root_mean_squared_error: 26174.4160 - mean_absolute_error: 18816.0312 - R2_score: 0.9693 - val_loss: 892370112.0000 - val_root_mean_squared_error: 29872.5645 - val_mean_absolute_error: 21436.8008 - val_R2_score: 0.9620\n",
      "Epoch 116/250\n",
      "2849/2849 [==============================] - 23s 8ms/step - loss: 682930752.0000 - root_mean_squared_error: 26132.9434 - mean_absolute_error: 18774.2539 - R2_score: 0.9694 - val_loss: 906730176.0000 - val_root_mean_squared_error: 30111.9609 - val_mean_absolute_error: 22045.0469 - val_R2_score: 0.9609\n",
      "Epoch 117/250\n",
      "2849/2849 [==============================] - 23s 8ms/step - loss: 678950400.0000 - root_mean_squared_error: 26056.6777 - mean_absolute_error: 18748.1543 - R2_score: 0.9697 - val_loss: 860582528.0000 - val_root_mean_squared_error: 29335.6855 - val_mean_absolute_error: 21255.0957 - val_R2_score: 0.9629\n",
      "Epoch 118/250\n",
      "2849/2849 [==============================] - 23s 8ms/step - loss: 677279360.0000 - root_mean_squared_error: 26024.5918 - mean_absolute_error: 18710.6621 - R2_score: 0.9699 - val_loss: 876484032.0000 - val_root_mean_squared_error: 29605.4727 - val_mean_absolute_error: 21466.8457 - val_R2_score: 0.9625\n",
      "Epoch 119/250\n",
      "2849/2849 [==============================] - 23s 8ms/step - loss: 673418944.0000 - root_mean_squared_error: 25950.3164 - mean_absolute_error: 18668.1914 - R2_score: 0.9698 - val_loss: 860619840.0000 - val_root_mean_squared_error: 29336.3223 - val_mean_absolute_error: 21217.4141 - val_R2_score: 0.9630\n",
      "Epoch 120/250\n",
      "2849/2849 [==============================] - 23s 8ms/step - loss: 669397376.0000 - root_mean_squared_error: 25872.7148 - mean_absolute_error: 18616.9219 - R2_score: 0.9699 - val_loss: 868697216.0000 - val_root_mean_squared_error: 29473.6699 - val_mean_absolute_error: 21400.1484 - val_R2_score: 0.9627\n",
      "Epoch 121/250\n",
      "2849/2849 [==============================] - 23s 8ms/step - loss: 670113088.0000 - root_mean_squared_error: 25886.5430 - mean_absolute_error: 18624.1133 - R2_score: 0.9701 - val_loss: 856591360.0000 - val_root_mean_squared_error: 29267.5820 - val_mean_absolute_error: 21175.7637 - val_R2_score: 0.9634\n",
      "Epoch 122/250\n",
      "2849/2849 [==============================] - 23s 8ms/step - loss: 665559232.0000 - root_mean_squared_error: 25798.4336 - mean_absolute_error: 18559.7383 - R2_score: 0.9704 - val_loss: 850929472.0000 - val_root_mean_squared_error: 29170.6953 - val_mean_absolute_error: 21049.6973 - val_R2_score: 0.9634\n",
      "Epoch 123/250\n",
      "2849/2849 [==============================] - 23s 8ms/step - loss: 663325568.0000 - root_mean_squared_error: 25755.1074 - mean_absolute_error: 18525.9863 - R2_score: 0.9705 - val_loss: 868048384.0000 - val_root_mean_squared_error: 29462.6602 - val_mean_absolute_error: 21548.0801 - val_R2_score: 0.9624\n",
      "Epoch 124/250\n",
      "2849/2849 [==============================] - 23s 8ms/step - loss: 659987392.0000 - root_mean_squared_error: 25690.2207 - mean_absolute_error: 18489.6719 - R2_score: 0.9705 - val_loss: 861535680.0000 - val_root_mean_squared_error: 29351.9277 - val_mean_absolute_error: 21388.4551 - val_R2_score: 0.9628\n",
      "Epoch 125/250\n",
      "2849/2849 [==============================] - 24s 8ms/step - loss: 658935104.0000 - root_mean_squared_error: 25669.7305 - mean_absolute_error: 18460.1680 - R2_score: 0.9706 - val_loss: 854737408.0000 - val_root_mean_squared_error: 29235.8926 - val_mean_absolute_error: 21177.9941 - val_R2_score: 0.9630\n",
      "Epoch 126/250\n",
      "2849/2849 [==============================] - 23s 8ms/step - loss: 655418816.0000 - root_mean_squared_error: 25601.1484 - mean_absolute_error: 18408.7715 - R2_score: 0.9704 - val_loss: 854175680.0000 - val_root_mean_squared_error: 29226.2832 - val_mean_absolute_error: 21197.4590 - val_R2_score: 0.9636\n",
      "Epoch 127/250\n",
      "2849/2849 [==============================] - 23s 8ms/step - loss: 653083648.0000 - root_mean_squared_error: 25555.5020 - mean_absolute_error: 18389.4434 - R2_score: 0.9710 - val_loss: 899688768.0000 - val_root_mean_squared_error: 29994.8125 - val_mean_absolute_error: 21677.7188 - val_R2_score: 0.9619\n",
      "Epoch 128/250\n",
      "2849/2849 [==============================] - 23s 8ms/step - loss: 649928576.0000 - root_mean_squared_error: 25493.6973 - mean_absolute_error: 18360.7344 - R2_score: 0.9709 - val_loss: 891883648.0000 - val_root_mean_squared_error: 29864.4199 - val_mean_absolute_error: 21688.2305 - val_R2_score: 0.9619\n",
      "Epoch 129/250\n",
      "2849/2849 [==============================] - 23s 8ms/step - loss: 648340096.0000 - root_mean_squared_error: 25462.5234 - mean_absolute_error: 18341.9766 - R2_score: 0.9710 - val_loss: 851220928.0000 - val_root_mean_squared_error: 29175.6914 - val_mean_absolute_error: 21174.0840 - val_R2_score: 0.9633\n",
      "Epoch 130/250\n",
      "2849/2849 [==============================] - 24s 8ms/step - loss: 645311872.0000 - root_mean_squared_error: 25402.9902 - mean_absolute_error: 18288.6855 - R2_score: 0.9712 - val_loss: 852387584.0000 - val_root_mean_squared_error: 29195.6777 - val_mean_absolute_error: 21249.0566 - val_R2_score: 0.9634\n",
      "Epoch 131/250\n",
      "2849/2849 [==============================] - 23s 8ms/step - loss: 642481280.0000 - root_mean_squared_error: 25347.2148 - mean_absolute_error: 18226.9355 - R2_score: 0.9713 - val_loss: 859188864.0000 - val_root_mean_squared_error: 29311.9238 - val_mean_absolute_error: 21302.6348 - val_R2_score: 0.9629\n",
      "Epoch 132/250\n",
      "2849/2849 [==============================] - 23s 8ms/step - loss: 640662848.0000 - root_mean_squared_error: 25311.3184 - mean_absolute_error: 18200.9102 - R2_score: 0.9712 - val_loss: 863910720.0000 - val_root_mean_squared_error: 29392.3574 - val_mean_absolute_error: 21411.6523 - val_R2_score: 0.9627\n",
      "Epoch 133/250\n",
      "2849/2849 [==============================] - 23s 8ms/step - loss: 637960128.0000 - root_mean_squared_error: 25257.8730 - mean_absolute_error: 18184.2930 - R2_score: 0.9713 - val_loss: 870797952.0000 - val_root_mean_squared_error: 29509.2852 - val_mean_absolute_error: 21521.2988 - val_R2_score: 0.9626\n",
      "Epoch 134/250\n",
      "2849/2849 [==============================] - 23s 8ms/step - loss: 637378368.0000 - root_mean_squared_error: 25246.3535 - mean_absolute_error: 18168.1797 - R2_score: 0.9716 - val_loss: 859001600.0000 - val_root_mean_squared_error: 29308.7285 - val_mean_absolute_error: 21348.8477 - val_R2_score: 0.9629\n",
      "Epoch 135/250\n",
      "2849/2849 [==============================] - 24s 8ms/step - loss: 632264640.0000 - root_mean_squared_error: 25144.8730 - mean_absolute_error: 18106.5039 - R2_score: 0.9718 - val_loss: 842080512.0000 - val_root_mean_squared_error: 29018.6230 - val_mean_absolute_error: 21094.7148 - val_R2_score: 0.9638\n",
      "Epoch 136/250\n",
      "2849/2849 [==============================] - 23s 8ms/step - loss: 630767040.0000 - root_mean_squared_error: 25115.0762 - mean_absolute_error: 18079.7852 - R2_score: 0.9718 - val_loss: 847845376.0000 - val_root_mean_squared_error: 29117.7832 - val_mean_absolute_error: 21126.2148 - val_R2_score: 0.9636\n",
      "Epoch 137/250\n",
      "2849/2849 [==============================] - 23s 8ms/step - loss: 628952576.0000 - root_mean_squared_error: 25078.9277 - mean_absolute_error: 18034.4473 - R2_score: 0.9719 - val_loss: 851862528.0000 - val_root_mean_squared_error: 29186.6836 - val_mean_absolute_error: 21177.1641 - val_R2_score: 0.9635\n",
      "Epoch 138/250\n",
      "2849/2849 [==============================] - 23s 8ms/step - loss: 624631424.0000 - root_mean_squared_error: 24992.6270 - mean_absolute_error: 18017.6250 - R2_score: 0.9720 - val_loss: 849327808.0000 - val_root_mean_squared_error: 29143.2285 - val_mean_absolute_error: 21165.0391 - val_R2_score: 0.9635\n",
      "Epoch 139/250\n",
      "2849/2849 [==============================] - 23s 8ms/step - loss: 624296192.0000 - root_mean_squared_error: 24985.9199 - mean_absolute_error: 18005.2480 - R2_score: 0.9720 - val_loss: 888839488.0000 - val_root_mean_squared_error: 29813.4121 - val_mean_absolute_error: 21905.3320 - val_R2_score: 0.9614\n",
      "Epoch 140/250\n",
      "2849/2849 [==============================] - 23s 8ms/step - loss: 622572928.0000 - root_mean_squared_error: 24951.4102 - mean_absolute_error: 17958.5938 - R2_score: 0.9722 - val_loss: 843657600.0000 - val_root_mean_squared_error: 29045.7852 - val_mean_absolute_error: 21156.2188 - val_R2_score: 0.9636\n",
      "Epoch 141/250\n",
      "2849/2849 [==============================] - 23s 8ms/step - loss: 620132288.0000 - root_mean_squared_error: 24902.4551 - mean_absolute_error: 17925.0508 - R2_score: 0.9724 - val_loss: 852414016.0000 - val_root_mean_squared_error: 29196.1309 - val_mean_absolute_error: 21307.2891 - val_R2_score: 0.9630\n",
      "Epoch 142/250\n",
      "2849/2849 [==============================] - 23s 8ms/step - loss: 617178368.0000 - root_mean_squared_error: 24843.0742 - mean_absolute_error: 17896.6270 - R2_score: 0.9723 - val_loss: 847123904.0000 - val_root_mean_squared_error: 29105.3926 - val_mean_absolute_error: 21247.6758 - val_R2_score: 0.9636\n",
      "Epoch 143/250\n",
      "2849/2849 [==============================] - 23s 8ms/step - loss: 615121856.0000 - root_mean_squared_error: 24801.6504 - mean_absolute_error: 17848.5898 - R2_score: 0.9723 - val_loss: 840118336.0000 - val_root_mean_squared_error: 28984.7949 - val_mean_absolute_error: 21045.9102 - val_R2_score: 0.9639\n",
      "Epoch 144/250\n",
      "2849/2849 [==============================] - 23s 8ms/step - loss: 613285504.0000 - root_mean_squared_error: 24764.6016 - mean_absolute_error: 17845.4492 - R2_score: 0.9724 - val_loss: 827399616.0000 - val_root_mean_squared_error: 28764.5547 - val_mean_absolute_error: 20897.1172 - val_R2_score: 0.9644\n",
      "Epoch 145/250\n",
      "2849/2849 [==============================] - 24s 8ms/step - loss: 610392448.0000 - root_mean_squared_error: 24706.1211 - mean_absolute_error: 17810.4258 - R2_score: 0.9726 - val_loss: 838342016.0000 - val_root_mean_squared_error: 28954.1367 - val_mean_absolute_error: 21089.0469 - val_R2_score: 0.9639\n",
      "Epoch 146/250\n",
      "2849/2849 [==============================] - 23s 8ms/step - loss: 607303232.0000 - root_mean_squared_error: 24643.5234 - mean_absolute_error: 17762.9883 - R2_score: 0.9725 - val_loss: 850707776.0000 - val_root_mean_squared_error: 29166.8945 - val_mean_absolute_error: 21246.2598 - val_R2_score: 0.9631\n",
      "Epoch 147/250\n",
      "2849/2849 [==============================] - 23s 8ms/step - loss: 606618176.0000 - root_mean_squared_error: 24629.6191 - mean_absolute_error: 17749.0059 - R2_score: 0.9729 - val_loss: 849532544.0000 - val_root_mean_squared_error: 29146.7422 - val_mean_absolute_error: 21127.7090 - val_R2_score: 0.9635\n",
      "Epoch 148/250\n",
      "2849/2849 [==============================] - 23s 8ms/step - loss: 604279424.0000 - root_mean_squared_error: 24582.0957 - mean_absolute_error: 17700.3281 - R2_score: 0.9728 - val_loss: 858370880.0000 - val_root_mean_squared_error: 29297.9668 - val_mean_absolute_error: 21392.0293 - val_R2_score: 0.9632\n",
      "Epoch 149/250\n",
      "2849/2849 [==============================] - 23s 8ms/step - loss: 601274240.0000 - root_mean_squared_error: 24520.8945 - mean_absolute_error: 17663.8672 - R2_score: 0.9730 - val_loss: 829759488.0000 - val_root_mean_squared_error: 28805.5469 - val_mean_absolute_error: 20962.4668 - val_R2_score: 0.9640\n",
      "Epoch 150/250\n",
      "2849/2849 [==============================] - 23s 8ms/step - loss: 599689664.0000 - root_mean_squared_error: 24488.5625 - mean_absolute_error: 17645.9277 - R2_score: 0.9730 - val_loss: 845207488.0000 - val_root_mean_squared_error: 29072.4531 - val_mean_absolute_error: 21151.4258 - val_R2_score: 0.9639\n",
      "Epoch 151/250\n",
      "2849/2849 [==============================] - 23s 8ms/step - loss: 597731968.0000 - root_mean_squared_error: 24448.5566 - mean_absolute_error: 17616.9629 - R2_score: 0.9733 - val_loss: 871213888.0000 - val_root_mean_squared_error: 29516.3320 - val_mean_absolute_error: 21417.0137 - val_R2_score: 0.9631\n",
      "Epoch 152/250\n",
      "2849/2849 [==============================] - 23s 8ms/step - loss: 596631168.0000 - root_mean_squared_error: 24426.0332 - mean_absolute_error: 17611.5391 - R2_score: 0.9731 - val_loss: 846828288.0000 - val_root_mean_squared_error: 29100.3145 - val_mean_absolute_error: 21241.4297 - val_R2_score: 0.9634\n",
      "Epoch 153/250\n",
      "2849/2849 [==============================] - 24s 8ms/step - loss: 594469504.0000 - root_mean_squared_error: 24381.7461 - mean_absolute_error: 17553.4219 - R2_score: 0.9733 - val_loss: 843929024.0000 - val_root_mean_squared_error: 29050.4570 - val_mean_absolute_error: 21147.6426 - val_R2_score: 0.9634\n",
      "Epoch 154/250\n",
      "2849/2849 [==============================] - 23s 8ms/step - loss: 591594944.0000 - root_mean_squared_error: 24322.7246 - mean_absolute_error: 17551.0039 - R2_score: 0.9736 - val_loss: 879690112.0000 - val_root_mean_squared_error: 29659.5703 - val_mean_absolute_error: 21505.2812 - val_R2_score: 0.9624\n",
      "Epoch 155/250\n",
      "2849/2849 [==============================] - 23s 8ms/step - loss: 589251136.0000 - root_mean_squared_error: 24274.4941 - mean_absolute_error: 17489.7969 - R2_score: 0.9736 - val_loss: 841589696.0000 - val_root_mean_squared_error: 29010.1660 - val_mean_absolute_error: 21204.7793 - val_R2_score: 0.9635\n",
      "Epoch 156/250\n",
      "2849/2849 [==============================] - 23s 8ms/step - loss: 588003008.0000 - root_mean_squared_error: 24248.7734 - mean_absolute_error: 17468.0293 - R2_score: 0.9737 - val_loss: 842279744.0000 - val_root_mean_squared_error: 29022.0566 - val_mean_absolute_error: 21198.7266 - val_R2_score: 0.9636\n",
      "Epoch 157/250\n",
      "2849/2849 [==============================] - 23s 8ms/step - loss: 586435328.0000 - root_mean_squared_error: 24216.4258 - mean_absolute_error: 17432.4180 - R2_score: 0.9737 - val_loss: 832852096.0000 - val_root_mean_squared_error: 28859.1758 - val_mean_absolute_error: 20965.8984 - val_R2_score: 0.9643\n",
      "Epoch 158/250\n",
      "2849/2849 [==============================] - 23s 8ms/step - loss: 583592704.0000 - root_mean_squared_error: 24157.6641 - mean_absolute_error: 17425.4219 - R2_score: 0.9738 - val_loss: 862154880.0000 - val_root_mean_squared_error: 29362.4746 - val_mean_absolute_error: 21261.8789 - val_R2_score: 0.9632\n",
      "Epoch 159/250\n",
      "2849/2849 [==============================] - 23s 8ms/step - loss: 581756736.0000 - root_mean_squared_error: 24119.6328 - mean_absolute_error: 17408.5020 - R2_score: 0.9740 - val_loss: 828544256.0000 - val_root_mean_squared_error: 28784.4453 - val_mean_absolute_error: 20972.6113 - val_R2_score: 0.9644\n",
      "Epoch 160/250\n",
      "2849/2849 [==============================] - 23s 8ms/step - loss: 579588416.0000 - root_mean_squared_error: 24074.6426 - mean_absolute_error: 17376.9043 - R2_score: 0.9740 - val_loss: 850412416.0000 - val_root_mean_squared_error: 29161.8320 - val_mean_absolute_error: 21265.3184 - val_R2_score: 0.9638\n",
      "Epoch 161/250\n",
      "2849/2849 [==============================] - 24s 8ms/step - loss: 579239104.0000 - root_mean_squared_error: 24067.3867 - mean_absolute_error: 17336.3789 - R2_score: 0.9740 - val_loss: 850604032.0000 - val_root_mean_squared_error: 29165.1172 - val_mean_absolute_error: 21271.5625 - val_R2_score: 0.9635\n",
      "Epoch 162/250\n",
      "2849/2849 [==============================] - 23s 8ms/step - loss: 576509312.0000 - root_mean_squared_error: 24010.6094 - mean_absolute_error: 17311.9004 - R2_score: 0.9741 - val_loss: 840805312.0000 - val_root_mean_squared_error: 28996.6426 - val_mean_absolute_error: 21052.4824 - val_R2_score: 0.9639\n",
      "Epoch 163/250\n",
      "2849/2849 [==============================] - 23s 8ms/step - loss: 573991168.0000 - root_mean_squared_error: 23958.1133 - mean_absolute_error: 17273.3848 - R2_score: 0.9743 - val_loss: 840296448.0000 - val_root_mean_squared_error: 28987.8672 - val_mean_absolute_error: 21173.4355 - val_R2_score: 0.9640\n",
      "Epoch 164/250\n",
      "2849/2849 [==============================] - 23s 8ms/step - loss: 571786432.0000 - root_mean_squared_error: 23912.0566 - mean_absolute_error: 17240.3984 - R2_score: 0.9744 - val_loss: 841376768.0000 - val_root_mean_squared_error: 29006.4941 - val_mean_absolute_error: 21172.6660 - val_R2_score: 0.9639\n",
      "Epoch 165/250\n",
      "2849/2849 [==============================] - 23s 8ms/step - loss: 568949696.0000 - root_mean_squared_error: 23852.6660 - mean_absolute_error: 17208.7480 - R2_score: 0.9744 - val_loss: 860338368.0000 - val_root_mean_squared_error: 29331.5254 - val_mean_absolute_error: 21393.3711 - val_R2_score: 0.9633\n",
      "Epoch 166/250\n",
      "2849/2849 [==============================] - 23s 8ms/step - loss: 569122816.0000 - root_mean_squared_error: 23856.2949 - mean_absolute_error: 17206.4531 - R2_score: 0.9745 - val_loss: 848371200.0000 - val_root_mean_squared_error: 29126.8125 - val_mean_absolute_error: 21218.0391 - val_R2_score: 0.9636\n",
      "Epoch 167/250\n",
      "2849/2849 [==============================] - 23s 8ms/step - loss: 566930112.0000 - root_mean_squared_error: 23810.2949 - mean_absolute_error: 17189.3516 - R2_score: 0.9746 - val_loss: 838756096.0000 - val_root_mean_squared_error: 28961.2871 - val_mean_absolute_error: 21109.9707 - val_R2_score: 0.9641\n",
      "Epoch 168/250\n",
      "2849/2849 [==============================] - 23s 8ms/step - loss: 565028672.0000 - root_mean_squared_error: 23770.3320 - mean_absolute_error: 17137.5352 - R2_score: 0.9747 - val_loss: 844297728.0000 - val_root_mean_squared_error: 29056.8008 - val_mean_absolute_error: 21229.8770 - val_R2_score: 0.9641\n",
      "Epoch 169/250\n",
      "2849/2849 [==============================] - 23s 8ms/step - loss: 563351488.0000 - root_mean_squared_error: 23735.0254 - mean_absolute_error: 17118.2656 - R2_score: 0.9748 - val_loss: 847975232.0000 - val_root_mean_squared_error: 29120.0137 - val_mean_absolute_error: 21208.0977 - val_R2_score: 0.9637\n",
      "Epoch 170/250\n",
      "2849/2849 [==============================] - 23s 8ms/step - loss: 562568320.0000 - root_mean_squared_error: 23718.5215 - mean_absolute_error: 17089.4824 - R2_score: 0.9749 - val_loss: 875539776.0000 - val_root_mean_squared_error: 29589.5215 - val_mean_absolute_error: 21722.6445 - val_R2_score: 0.9621\n",
      "Epoch 171/250\n",
      "2849/2849 [==============================] - 24s 8ms/step - loss: 560433024.0000 - root_mean_squared_error: 23673.4668 - mean_absolute_error: 17076.3086 - R2_score: 0.9748 - val_loss: 844620544.0000 - val_root_mean_squared_error: 29062.3555 - val_mean_absolute_error: 21202.2969 - val_R2_score: 0.9635\n",
      "Epoch 172/250\n",
      "2849/2849 [==============================] - 23s 8ms/step - loss: 558410368.0000 - root_mean_squared_error: 23630.7090 - mean_absolute_error: 17030.3145 - R2_score: 0.9749 - val_loss: 883880448.0000 - val_root_mean_squared_error: 29730.1270 - val_mean_absolute_error: 21801.7637 - val_R2_score: 0.9622\n",
      "Epoch 173/250\n",
      "2849/2849 [==============================] - 23s 8ms/step - loss: 555872704.0000 - root_mean_squared_error: 23576.9531 - mean_absolute_error: 17034.3145 - R2_score: 0.9751 - val_loss: 835485440.0000 - val_root_mean_squared_error: 28904.7637 - val_mean_absolute_error: 21097.0527 - val_R2_score: 0.9643\n",
      "Epoch 174/250\n",
      "2849/2849 [==============================] - 23s 8ms/step - loss: 554561408.0000 - root_mean_squared_error: 23549.1270 - mean_absolute_error: 16999.6328 - R2_score: 0.9751 - val_loss: 855758528.0000 - val_root_mean_squared_error: 29253.3496 - val_mean_absolute_error: 21363.9844 - val_R2_score: 0.9632\n",
      "Epoch 175/250\n",
      "2849/2849 [==============================] - 23s 8ms/step - loss: 552367040.0000 - root_mean_squared_error: 23502.4902 - mean_absolute_error: 16964.4199 - R2_score: 0.9754 - val_loss: 861452864.0000 - val_root_mean_squared_error: 29350.5176 - val_mean_absolute_error: 21533.1367 - val_R2_score: 0.9626\n",
      "Epoch 176/250\n",
      "2849/2849 [==============================] - 24s 8ms/step - loss: 551970112.0000 - root_mean_squared_error: 23494.0449 - mean_absolute_error: 16962.8711 - R2_score: 0.9752 - val_loss: 831755776.0000 - val_root_mean_squared_error: 28840.1758 - val_mean_absolute_error: 21030.9473 - val_R2_score: 0.9642\n",
      "Epoch 177/250\n",
      "2849/2849 [==============================] - 23s 8ms/step - loss: 549785920.0000 - root_mean_squared_error: 23447.5137 - mean_absolute_error: 16932.1953 - R2_score: 0.9753 - val_loss: 833648576.0000 - val_root_mean_squared_error: 28872.9727 - val_mean_absolute_error: 21106.6914 - val_R2_score: 0.9642\n",
      "Epoch 178/250\n",
      "2849/2849 [==============================] - 23s 8ms/step - loss: 547578816.0000 - root_mean_squared_error: 23400.4004 - mean_absolute_error: 16896.2500 - R2_score: 0.9754 - val_loss: 853531456.0000 - val_root_mean_squared_error: 29215.2598 - val_mean_absolute_error: 21390.2324 - val_R2_score: 0.9632\n",
      "Epoch 179/250\n",
      "2849/2849 [==============================] - 23s 8ms/step - loss: 545948352.0000 - root_mean_squared_error: 23365.5371 - mean_absolute_error: 16865.3262 - R2_score: 0.9756 - val_loss: 875816128.0000 - val_root_mean_squared_error: 29594.1914 - val_mean_absolute_error: 21665.4980 - val_R2_score: 0.9622\n",
      "Epoch 180/250\n",
      "2849/2849 [==============================] - 23s 8ms/step - loss: 545276608.0000 - root_mean_squared_error: 23351.1582 - mean_absolute_error: 16838.0527 - R2_score: 0.9754 - val_loss: 850903936.0000 - val_root_mean_squared_error: 29170.2578 - val_mean_absolute_error: 21302.6934 - val_R2_score: 0.9632\n",
      "Epoch 181/250\n",
      "2849/2849 [==============================] - 24s 8ms/step - loss: 541628032.0000 - root_mean_squared_error: 23272.9023 - mean_absolute_error: 16811.3359 - R2_score: 0.9757 - val_loss: 845697728.0000 - val_root_mean_squared_error: 29080.8828 - val_mean_absolute_error: 21370.2891 - val_R2_score: 0.9635\n",
      "Epoch 182/250\n",
      "2849/2849 [==============================] - 23s 8ms/step - loss: 541274624.0000 - root_mean_squared_error: 23265.3086 - mean_absolute_error: 16801.5020 - R2_score: 0.9757 - val_loss: 839296128.0000 - val_root_mean_squared_error: 28970.6074 - val_mean_absolute_error: 21152.5508 - val_R2_score: 0.9641\n",
      "Epoch 183/250\n",
      "2849/2849 [==============================] - 23s 8ms/step - loss: 539546240.0000 - root_mean_squared_error: 23228.1348 - mean_absolute_error: 16775.3945 - R2_score: 0.9759 - val_loss: 854307584.0000 - val_root_mean_squared_error: 29228.5410 - val_mean_absolute_error: 21372.0371 - val_R2_score: 0.9635\n",
      "Epoch 184/250\n",
      "2849/2849 [==============================] - 23s 8ms/step - loss: 536971776.0000 - root_mean_squared_error: 23172.6504 - mean_absolute_error: 16745.1855 - R2_score: 0.9760 - val_loss: 840998336.0000 - val_root_mean_squared_error: 28999.9707 - val_mean_absolute_error: 21120.7676 - val_R2_score: 0.9639\n",
      "Epoch 185/250\n",
      "2849/2849 [==============================] - 24s 8ms/step - loss: 536111168.0000 - root_mean_squared_error: 23154.0742 - mean_absolute_error: 16694.6074 - R2_score: 0.9761 - val_loss: 836385920.0000 - val_root_mean_squared_error: 28920.3379 - val_mean_absolute_error: 21109.7559 - val_R2_score: 0.9642\n",
      "Epoch 186/250\n",
      "2849/2849 [==============================] - 23s 8ms/step - loss: 535872736.0000 - root_mean_squared_error: 23148.9258 - mean_absolute_error: 16703.6602 - R2_score: 0.9760 - val_loss: 838583296.0000 - val_root_mean_squared_error: 28958.3027 - val_mean_absolute_error: 21158.6934 - val_R2_score: 0.9639\n",
      "Epoch 187/250\n",
      "2849/2849 [==============================] - 24s 8ms/step - loss: 532508192.0000 - root_mean_squared_error: 23076.1387 - mean_absolute_error: 16672.8652 - R2_score: 0.9762 - val_loss: 845774464.0000 - val_root_mean_squared_error: 29082.2012 - val_mean_absolute_error: 21390.1289 - val_R2_score: 0.9638\n",
      "Epoch 188/250\n",
      "2849/2849 [==============================] - 23s 8ms/step - loss: 531803616.0000 - root_mean_squared_error: 23060.8672 - mean_absolute_error: 16623.3984 - R2_score: 0.9761 - val_loss: 848727872.0000 - val_root_mean_squared_error: 29132.9336 - val_mean_absolute_error: 21328.7969 - val_R2_score: 0.9635\n",
      "Epoch 189/250\n",
      "2849/2849 [==============================] - 24s 8ms/step - loss: 530338592.0000 - root_mean_squared_error: 23029.0820 - mean_absolute_error: 16626.8398 - R2_score: 0.9762 - val_loss: 855702144.0000 - val_root_mean_squared_error: 29252.3867 - val_mean_absolute_error: 21385.8359 - val_R2_score: 0.9633\n",
      "Epoch 190/250\n",
      "2849/2849 [==============================] - 23s 8ms/step - loss: 528275104.0000 - root_mean_squared_error: 22984.2363 - mean_absolute_error: 16599.1855 - R2_score: 0.9764 - val_loss: 836189696.0000 - val_root_mean_squared_error: 28916.9453 - val_mean_absolute_error: 21128.5820 - val_R2_score: 0.9641\n",
      "Epoch 191/250\n",
      "2849/2849 [==============================] - 23s 8ms/step - loss: 526240192.0000 - root_mean_squared_error: 22939.9258 - mean_absolute_error: 16569.0215 - R2_score: 0.9765 - val_loss: 897169280.0000 - val_root_mean_squared_error: 29952.7852 - val_mean_absolute_error: 22011.9668 - val_R2_score: 0.9613\n",
      "Epoch 192/250\n",
      "2849/2849 [==============================] - 24s 8ms/step - loss: 525782624.0000 - root_mean_squared_error: 22929.9492 - mean_absolute_error: 16543.2520 - R2_score: 0.9763 - val_loss: 835595008.0000 - val_root_mean_squared_error: 28906.6602 - val_mean_absolute_error: 21164.4121 - val_R2_score: 0.9643\n",
      "Epoch 193/250\n",
      "2849/2849 [==============================] - 23s 8ms/step - loss: 524073376.0000 - root_mean_squared_error: 22892.6484 - mean_absolute_error: 16517.2402 - R2_score: 0.9763 - val_loss: 828672128.0000 - val_root_mean_squared_error: 28786.6660 - val_mean_absolute_error: 21075.0840 - val_R2_score: 0.9645\n",
      "Epoch 194/250\n",
      "2849/2849 [==============================] - 23s 8ms/step - loss: 521051936.0000 - root_mean_squared_error: 22826.5625 - mean_absolute_error: 16480.4961 - R2_score: 0.9767 - val_loss: 868743808.0000 - val_root_mean_squared_error: 29474.4609 - val_mean_absolute_error: 21636.2754 - val_R2_score: 0.9628\n"
     ]
    }
   ],
   "source": [
    "# to.array() converts the sparse matrix to numpy array\n",
    "dnn_model_history = dnn_model.fit(X_train_preprocessed.toarray(), \n",
    "                                  np.array(y_train), \n",
    "                                  epochs = 250, \n",
    "                                  validation_data = [X_val_preprocessed.toarray(), np.array(y_val)], \n",
    "                                  batch_size = 32,\n",
    "                                  callbacks=[early_callback])"
   ]
  },
  {
   "cell_type": "code",
   "execution_count": 82,
   "id": "916528f1-123e-45bd-ae73-313e5fe79d2e",
   "metadata": {},
   "outputs": [],
   "source": [
    "dnn_model.save('dnn_model.h5')"
   ]
  },
  {
   "cell_type": "code",
   "execution_count": 83,
   "id": "ac262315-f09a-4c48-9319-5d8d3fb00953",
   "metadata": {},
   "outputs": [
    {
     "name": "stdout",
     "output_type": "stream",
     "text": [
      "INFO:tensorflow:Assets written to: ram://af588624-8159-41f3-a20b-57452c611477/assets\n"
     ]
    },
    {
     "ename": "NotFoundError",
     "evalue": "",
     "output_type": "error",
     "traceback": [
      "\u001b[1;31m---------------------------------------------------------------------------\u001b[0m",
      "\u001b[1;31mNotFoundError\u001b[0m                             Traceback (most recent call last)",
      "\u001b[1;32m~\\AppData\\Local\\Temp/ipykernel_44264/324472370.py\u001b[0m in \u001b[0;36m<module>\u001b[1;34m\u001b[0m\n\u001b[0;32m      1\u001b[0m \u001b[1;32mwith\u001b[0m \u001b[0mopen\u001b[0m\u001b[1;33m(\u001b[0m\u001b[1;34m'dnn_model_history_pkl.pkl'\u001b[0m\u001b[1;33m,\u001b[0m \u001b[1;34m'wb'\u001b[0m\u001b[1;33m)\u001b[0m \u001b[1;32mas\u001b[0m \u001b[0mfiles\u001b[0m\u001b[1;33m:\u001b[0m\u001b[1;33m\u001b[0m\u001b[1;33m\u001b[0m\u001b[0m\n\u001b[1;32m----> 2\u001b[1;33m     \u001b[0mpickle\u001b[0m\u001b[1;33m.\u001b[0m\u001b[0mdump\u001b[0m\u001b[1;33m(\u001b[0m\u001b[0mdnn_model_history\u001b[0m\u001b[1;33m,\u001b[0m \u001b[0mfiles\u001b[0m\u001b[1;33m)\u001b[0m\u001b[1;33m\u001b[0m\u001b[1;33m\u001b[0m\u001b[0m\n\u001b[0m",
      "\u001b[1;32m~\\anaconda3\\envs\\IBM Data Science Project\\lib\\site-packages\\keras\\engine\\training.py\u001b[0m in \u001b[0;36m__reduce__\u001b[1;34m(self)\u001b[0m\n\u001b[0;32m    313\u001b[0m     \u001b[1;32mif\u001b[0m \u001b[0mself\u001b[0m\u001b[1;33m.\u001b[0m\u001b[0mbuilt\u001b[0m\u001b[1;33m:\u001b[0m\u001b[1;33m\u001b[0m\u001b[1;33m\u001b[0m\u001b[0m\n\u001b[0;32m    314\u001b[0m       return (pickle_utils.deserialize_model_from_bytecode,\n\u001b[1;32m--> 315\u001b[1;33m               pickle_utils.serialize_model_as_bytecode(self))\n\u001b[0m\u001b[0;32m    316\u001b[0m     \u001b[1;32melse\u001b[0m\u001b[1;33m:\u001b[0m\u001b[1;33m\u001b[0m\u001b[1;33m\u001b[0m\u001b[0m\n\u001b[0;32m    317\u001b[0m       \u001b[1;31m# SavedModel (and hence serialize_model_as_bytecode) only support\u001b[0m\u001b[1;33m\u001b[0m\u001b[1;33m\u001b[0m\u001b[1;33m\u001b[0m\u001b[0m\n",
      "\u001b[1;32m~\\anaconda3\\envs\\IBM Data Science Project\\lib\\site-packages\\keras\\saving\\pickle_utils.py\u001b[0m in \u001b[0;36mserialize_model_as_bytecode\u001b[1;34m(model)\u001b[0m\n\u001b[0;32m     75\u001b[0m         \u001b[1;32mwith\u001b[0m \u001b[0mtf\u001b[0m\u001b[1;33m.\u001b[0m\u001b[0mio\u001b[0m\u001b[1;33m.\u001b[0m\u001b[0mgfile\u001b[0m\u001b[1;33m.\u001b[0m\u001b[0mGFile\u001b[0m\u001b[1;33m(\u001b[0m\u001b[0mdest_path\u001b[0m\u001b[1;33m,\u001b[0m \u001b[1;34m\"rb\"\u001b[0m\u001b[1;33m)\u001b[0m \u001b[1;32mas\u001b[0m \u001b[0mf\u001b[0m\u001b[1;33m:\u001b[0m\u001b[1;33m\u001b[0m\u001b[1;33m\u001b[0m\u001b[0m\n\u001b[0;32m     76\u001b[0m           \u001b[0minfo\u001b[0m \u001b[1;33m=\u001b[0m \u001b[0mtarfile\u001b[0m\u001b[1;33m.\u001b[0m\u001b[0mTarInfo\u001b[0m\u001b[1;33m(\u001b[0m\u001b[0mname\u001b[0m\u001b[1;33m=\u001b[0m\u001b[0mos\u001b[0m\u001b[1;33m.\u001b[0m\u001b[0mpath\u001b[0m\u001b[1;33m.\u001b[0m\u001b[0mrelpath\u001b[0m\u001b[1;33m(\u001b[0m\u001b[0mdest_path\u001b[0m\u001b[1;33m,\u001b[0m \u001b[0mtemp_dir\u001b[0m\u001b[1;33m)\u001b[0m\u001b[1;33m)\u001b[0m\u001b[1;33m\u001b[0m\u001b[1;33m\u001b[0m\u001b[0m\n\u001b[1;32m---> 77\u001b[1;33m           \u001b[0minfo\u001b[0m\u001b[1;33m.\u001b[0m\u001b[0msize\u001b[0m \u001b[1;33m=\u001b[0m \u001b[0mf\u001b[0m\u001b[1;33m.\u001b[0m\u001b[0msize\u001b[0m\u001b[1;33m(\u001b[0m\u001b[1;33m)\u001b[0m\u001b[1;33m\u001b[0m\u001b[1;33m\u001b[0m\u001b[0m\n\u001b[0m\u001b[0;32m     78\u001b[0m           \u001b[0marchive\u001b[0m\u001b[1;33m.\u001b[0m\u001b[0maddfile\u001b[0m\u001b[1;33m(\u001b[0m\u001b[0mtarinfo\u001b[0m\u001b[1;33m=\u001b[0m\u001b[0minfo\u001b[0m\u001b[1;33m,\u001b[0m \u001b[0mfileobj\u001b[0m\u001b[1;33m=\u001b[0m\u001b[0mf\u001b[0m\u001b[1;33m)\u001b[0m\u001b[1;33m\u001b[0m\u001b[1;33m\u001b[0m\u001b[0m\n\u001b[0;32m     79\u001b[0m   \u001b[0mtf\u001b[0m\u001b[1;33m.\u001b[0m\u001b[0mio\u001b[0m\u001b[1;33m.\u001b[0m\u001b[0mgfile\u001b[0m\u001b[1;33m.\u001b[0m\u001b[0mrmtree\u001b[0m\u001b[1;33m(\u001b[0m\u001b[0mtemp_dir\u001b[0m\u001b[1;33m)\u001b[0m\u001b[1;33m\u001b[0m\u001b[1;33m\u001b[0m\u001b[0m\n",
      "\u001b[1;32m~\\anaconda3\\envs\\IBM Data Science Project\\lib\\site-packages\\tensorflow\\python\\lib\\io\\file_io.py\u001b[0m in \u001b[0;36msize\u001b[1;34m(self)\u001b[0m\n\u001b[0;32m     97\u001b[0m   \u001b[1;32mdef\u001b[0m \u001b[0msize\u001b[0m\u001b[1;33m(\u001b[0m\u001b[0mself\u001b[0m\u001b[1;33m)\u001b[0m\u001b[1;33m:\u001b[0m\u001b[1;33m\u001b[0m\u001b[1;33m\u001b[0m\u001b[0m\n\u001b[0;32m     98\u001b[0m     \u001b[1;34m\"\"\"Returns the size of the file.\"\"\"\u001b[0m\u001b[1;33m\u001b[0m\u001b[1;33m\u001b[0m\u001b[0m\n\u001b[1;32m---> 99\u001b[1;33m     \u001b[1;32mreturn\u001b[0m \u001b[0mstat\u001b[0m\u001b[1;33m(\u001b[0m\u001b[0mself\u001b[0m\u001b[1;33m.\u001b[0m\u001b[0m__name\u001b[0m\u001b[1;33m)\u001b[0m\u001b[1;33m.\u001b[0m\u001b[0mlength\u001b[0m\u001b[1;33m\u001b[0m\u001b[1;33m\u001b[0m\u001b[0m\n\u001b[0m\u001b[0;32m    100\u001b[0m \u001b[1;33m\u001b[0m\u001b[0m\n\u001b[0;32m    101\u001b[0m   \u001b[1;32mdef\u001b[0m \u001b[0mwrite\u001b[0m\u001b[1;33m(\u001b[0m\u001b[0mself\u001b[0m\u001b[1;33m,\u001b[0m \u001b[0mfile_content\u001b[0m\u001b[1;33m)\u001b[0m\u001b[1;33m:\u001b[0m\u001b[1;33m\u001b[0m\u001b[1;33m\u001b[0m\u001b[0m\n",
      "\u001b[1;32m~\\anaconda3\\envs\\IBM Data Science Project\\lib\\site-packages\\tensorflow\\python\\lib\\io\\file_io.py\u001b[0m in \u001b[0;36mstat\u001b[1;34m(filename)\u001b[0m\n\u001b[0;32m    908\u001b[0m     \u001b[0merrors\u001b[0m\u001b[1;33m.\u001b[0m\u001b[0mOpError\u001b[0m\u001b[1;33m:\u001b[0m \u001b[0mIf\u001b[0m \u001b[0mthe\u001b[0m \u001b[0moperation\u001b[0m \u001b[0mfails\u001b[0m\u001b[1;33m.\u001b[0m\u001b[1;33m\u001b[0m\u001b[1;33m\u001b[0m\u001b[0m\n\u001b[0;32m    909\u001b[0m   \"\"\"\n\u001b[1;32m--> 910\u001b[1;33m   \u001b[1;32mreturn\u001b[0m \u001b[0mstat_v2\u001b[0m\u001b[1;33m(\u001b[0m\u001b[0mfilename\u001b[0m\u001b[1;33m)\u001b[0m\u001b[1;33m\u001b[0m\u001b[1;33m\u001b[0m\u001b[0m\n\u001b[0m\u001b[0;32m    911\u001b[0m \u001b[1;33m\u001b[0m\u001b[0m\n\u001b[0;32m    912\u001b[0m \u001b[1;33m\u001b[0m\u001b[0m\n",
      "\u001b[1;32m~\\anaconda3\\envs\\IBM Data Science Project\\lib\\site-packages\\tensorflow\\python\\lib\\io\\file_io.py\u001b[0m in \u001b[0;36mstat_v2\u001b[1;34m(path)\u001b[0m\n\u001b[0;32m    924\u001b[0m     \u001b[0merrors\u001b[0m\u001b[1;33m.\u001b[0m\u001b[0mOpError\u001b[0m\u001b[1;33m:\u001b[0m \u001b[0mIf\u001b[0m \u001b[0mthe\u001b[0m \u001b[0moperation\u001b[0m \u001b[0mfails\u001b[0m\u001b[1;33m.\u001b[0m\u001b[1;33m\u001b[0m\u001b[1;33m\u001b[0m\u001b[0m\n\u001b[0;32m    925\u001b[0m   \"\"\"\n\u001b[1;32m--> 926\u001b[1;33m   \u001b[1;32mreturn\u001b[0m \u001b[0m_pywrap_file_io\u001b[0m\u001b[1;33m.\u001b[0m\u001b[0mStat\u001b[0m\u001b[1;33m(\u001b[0m\u001b[0mcompat\u001b[0m\u001b[1;33m.\u001b[0m\u001b[0mpath_to_str\u001b[0m\u001b[1;33m(\u001b[0m\u001b[0mpath\u001b[0m\u001b[1;33m)\u001b[0m\u001b[1;33m)\u001b[0m\u001b[1;33m\u001b[0m\u001b[1;33m\u001b[0m\u001b[0m\n\u001b[0m\u001b[0;32m    927\u001b[0m \u001b[1;33m\u001b[0m\u001b[0m\n\u001b[0;32m    928\u001b[0m \u001b[1;33m\u001b[0m\u001b[0m\n",
      "\u001b[1;31mNotFoundError\u001b[0m: "
     ]
    }
   ],
   "source": [
    "with open('dnn_model_history_pkl.pkl', 'wb') as files:\n",
    "    pickle.dump(dnn_model_history, files)"
   ]
  },
  {
   "cell_type": "code",
   "execution_count": null,
   "id": "ce6bbfef-053c-413d-bdb6-a9bc668a659e",
   "metadata": {
    "tags": []
   },
   "outputs": [],
   "source": [
    "dnn_model_history.history.keys()"
   ]
  },
  {
   "cell_type": "code",
   "execution_count": null,
   "id": "804a9297-7235-48fc-ba7d-9f2dd041f486",
   "metadata": {},
   "outputs": [],
   "source": [
    "def plot_dnn_results(history):\n",
    "    \n",
    "    fig , axes = plt.subplots(nrows=2,figsize = (10,10))\n",
    "    \n",
    "    rmse = history.history['root_mean_squared_error']\n",
    "    val_rmse = history.history['val_root_mean_squared_error']\n",
    "        \n",
    "    axes[0].plot(range(len(rmse)),np.round(rmse,2), 'r-', label = 'Training RMSE')\n",
    "    axes[0].plot(range(len(rmse)),np.round(val_rmse,2), 'b--', label = 'Validation RMSE')\n",
    "    axes[0].set_ylabel('RMSE')\n",
    "    axes[0].set_xlabel('Epochs')\n",
    "    axes[0].set_title('Training vs Validation RMSE for Full Training Data')\n",
    "    axes[0].legend()\n",
    "    plt.show\n",
    "    \n",
    "    rmse = history.history['root_mean_squared_error'][-50:]\n",
    "    val_rmse = history.history['val_root_mean_squared_error'][-50:]\n",
    "    \n",
    "    axes[1].plot(range(len(rmse))[-50:],np.round(rmse,2), 'r-', label = 'Training RMSE')\n",
    "    axes[1].plot(range(len(rmse))[-50:],np.round(val_rmse,2), 'b--', label = 'Validation RMSE')\n",
    "    axes[1].set_ylabel('RMSE')\n",
    "    axes[1].set_xlabel('Last Epochs')\n",
    "    axes[1].set_title('Training vs Validation RMSE for last 50 epochs')\n",
    "    axes[1].legend()\n",
    "    plt.show"
   ]
  },
  {
   "cell_type": "code",
   "execution_count": null,
   "id": "0e7f359e-0056-45ca-9026-e670efd245c2",
   "metadata": {},
   "outputs": [],
   "source": [
    "plot_dnn_results(dnn_model_history)"
   ]
  },
  {
   "cell_type": "code",
   "execution_count": null,
   "id": "6bb9a8dc-d4d1-4c69-91a5-79ed306ba154",
   "metadata": {},
   "outputs": [],
   "source": [
    "X_test_preprocess = preprocess.transform(X_test)"
   ]
  },
  {
   "cell_type": "code",
   "execution_count": null,
   "id": "5bc56965-1bc7-412b-b9e2-5224070fb699",
   "metadata": {},
   "outputs": [],
   "source": [
    "dnn_model_score = dnn_model.evaluate(X_test_preprocess.toarray(), y_test)"
   ]
  },
  {
   "cell_type": "code",
   "execution_count": null,
   "id": "f3aa3f29-d18f-4604-ac59-58eb73217467",
   "metadata": {},
   "outputs": [],
   "source": [
    "dnn_model_score"
   ]
  },
  {
   "cell_type": "code",
   "execution_count": null,
   "id": "fae0bcae-9bc1-4f2c-9f87-a4eb3f0d9422",
   "metadata": {},
   "outputs": [],
   "source": [
    "print('RMSE of Deep Learning Model :' ,dnn_model_score[1])\n",
    "print('MAE of Deep Learning Model :' ,dnn_model_score[2])\n",
    "print('R2 score of Deep Learning Model :' ,dnn_model_score[3])"
   ]
  },
  {
   "cell_type": "code",
   "execution_count": null,
   "id": "e4ea7b80-954c-434c-8a69-22fb0bdb7d3c",
   "metadata": {},
   "outputs": [],
   "source": [
    "X_test.iloc[0]"
   ]
  },
  {
   "cell_type": "code",
   "execution_count": null,
   "id": "6b4a8041-2830-4164-96e5-d0c13dd7e5ea",
   "metadata": {},
   "outputs": [],
   "source": [
    "y_test.iloc[0]"
   ]
  },
  {
   "cell_type": "code",
   "execution_count": null,
   "id": "e5a580a1-bf13-4e96-8f9d-6243fa2d4815",
   "metadata": {},
   "outputs": [],
   "source": [
    "dnn_model.predict(X_test_preprocess[0])"
   ]
  },
  {
   "cell_type": "code",
   "execution_count": null,
   "id": "e6a9fc7e-5de4-4120-b6fa-dfbe43c9e739",
   "metadata": {},
   "outputs": [],
   "source": [
    "mse_train = mean_squared_error(lgb_cv.predict(preprocess.transform(X_train)), y_train)**(1/2)\n",
    "mse_test = mean_squared_error(lgb_cv.predict(preprocess.transform(X_test)), y_test)**(1/2)\n",
    "\n",
    "print('mse_train ' , mse_train)\n",
    "print('mse_test ' , mse_test)"
   ]
  },
  {
   "cell_type": "code",
   "execution_count": null,
   "id": "7e4cd713-3796-4b1c-93d9-8e1ada5cc918",
   "metadata": {},
   "outputs": [],
   "source": [
    "pickled_model = pickle.load(open('lgm_pkl.pkl', 'rb'))\n",
    "pickled_model.predict(X_test)"
   ]
  },
  {
   "cell_type": "markdown",
   "id": "36fdee90-14de-4384-9d0a-8d5faedd2e7c",
   "metadata": {},
   "source": [
    "## LSTM"
   ]
  },
  {
   "cell_type": "code",
   "execution_count": null,
   "id": "027e354f-bf68-4516-8467-e84ec07c23d5",
   "metadata": {},
   "outputs": [],
   "source": []
  }
 ],
 "metadata": {
  "kernelspec": {
   "display_name": "Python 3 (ipykernel)",
   "language": "python",
   "name": "python3"
  },
  "language_info": {
   "codemirror_mode": {
    "name": "ipython",
    "version": 3
   },
   "file_extension": ".py",
   "mimetype": "text/x-python",
   "name": "python",
   "nbconvert_exporter": "python",
   "pygments_lexer": "ipython3",
   "version": "3.8.12"
  }
 },
 "nbformat": 4,
 "nbformat_minor": 5
}
