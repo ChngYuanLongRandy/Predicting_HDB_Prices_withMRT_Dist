{
 "cells": [
  {
   "cell_type": "markdown",
   "id": "60780e08-fa26-491d-8e6b-ad405e23af37",
   "metadata": {},
   "source": [
    "Source: https://github.com/mylee16/onemap-api"
   ]
  },
  {
   "cell_type": "code",
   "execution_count": 1,
   "id": "a7a690d5-7f96-42fd-bdaa-14062b681fbe",
   "metadata": {},
   "outputs": [
    {
     "name": "stderr",
     "output_type": "stream",
     "text": [
      "C:\\Users\\Randy\\anaconda3\\envs\\IBM Data Science Project\\lib\\site-packages\\numpy\\_distributor_init.py:32: UserWarning: loaded more than 1 DLL from .libs:\n",
      "C:\\Users\\Randy\\anaconda3\\envs\\IBM Data Science Project\\lib\\site-packages\\numpy\\.libs\\libopenblas.GK7GX5KEQ4F6UYO3P26ULGBQYHGQO7J4.gfortran-win_amd64.dll\n",
      "C:\\Users\\Randy\\anaconda3\\envs\\IBM Data Science Project\\lib\\site-packages\\numpy\\.libs\\libopenblas.NOIJJG62EMASZI6NYURL6JBKM4EVBGM7.gfortran-win_amd64.dll\n",
      "  stacklevel=1)\n"
     ]
    }
   ],
   "source": [
    "import pandas as pd\n",
    "import numpy as np\n",
    "import requests\n",
    "\n",
    "hdb_string = './resale-flat-prices-based-on-registration-date-from-jan-2017-onwards.csv'"
   ]
  },
  {
   "cell_type": "code",
   "execution_count": 2,
   "id": "c9df7530-39f1-4f78-bc80-4b6611d822c6",
   "metadata": {},
   "outputs": [],
   "source": [
    "df = pd.read_csv(hdb_string)"
   ]
  },
  {
   "cell_type": "code",
   "execution_count": 3,
   "id": "776f2d87-ea83-4a26-8900-469eb9cef093",
   "metadata": {},
   "outputs": [
    {
     "data": {
      "text/html": [
       "<div>\n",
       "<style scoped>\n",
       "    .dataframe tbody tr th:only-of-type {\n",
       "        vertical-align: middle;\n",
       "    }\n",
       "\n",
       "    .dataframe tbody tr th {\n",
       "        vertical-align: top;\n",
       "    }\n",
       "\n",
       "    .dataframe thead th {\n",
       "        text-align: right;\n",
       "    }\n",
       "</style>\n",
       "<table border=\"1\" class=\"dataframe\">\n",
       "  <thead>\n",
       "    <tr style=\"text-align: right;\">\n",
       "      <th></th>\n",
       "      <th>month</th>\n",
       "      <th>town</th>\n",
       "      <th>flat_type</th>\n",
       "      <th>block</th>\n",
       "      <th>street_name</th>\n",
       "      <th>storey_range</th>\n",
       "      <th>floor_area_sqm</th>\n",
       "      <th>flat_model</th>\n",
       "      <th>lease_commence_date</th>\n",
       "      <th>remaining_lease</th>\n",
       "      <th>resale_price</th>\n",
       "    </tr>\n",
       "  </thead>\n",
       "  <tbody>\n",
       "    <tr>\n",
       "      <th>0</th>\n",
       "      <td>2017-01</td>\n",
       "      <td>ANG MO KIO</td>\n",
       "      <td>2 ROOM</td>\n",
       "      <td>406</td>\n",
       "      <td>ANG MO KIO AVE 10</td>\n",
       "      <td>10 TO 12</td>\n",
       "      <td>44.0</td>\n",
       "      <td>Improved</td>\n",
       "      <td>1979</td>\n",
       "      <td>61 years 04 months</td>\n",
       "      <td>232000.0</td>\n",
       "    </tr>\n",
       "    <tr>\n",
       "      <th>1</th>\n",
       "      <td>2017-01</td>\n",
       "      <td>ANG MO KIO</td>\n",
       "      <td>3 ROOM</td>\n",
       "      <td>108</td>\n",
       "      <td>ANG MO KIO AVE 4</td>\n",
       "      <td>01 TO 03</td>\n",
       "      <td>67.0</td>\n",
       "      <td>New Generation</td>\n",
       "      <td>1978</td>\n",
       "      <td>60 years 07 months</td>\n",
       "      <td>250000.0</td>\n",
       "    </tr>\n",
       "    <tr>\n",
       "      <th>2</th>\n",
       "      <td>2017-01</td>\n",
       "      <td>ANG MO KIO</td>\n",
       "      <td>3 ROOM</td>\n",
       "      <td>602</td>\n",
       "      <td>ANG MO KIO AVE 5</td>\n",
       "      <td>01 TO 03</td>\n",
       "      <td>67.0</td>\n",
       "      <td>New Generation</td>\n",
       "      <td>1980</td>\n",
       "      <td>62 years 05 months</td>\n",
       "      <td>262000.0</td>\n",
       "    </tr>\n",
       "    <tr>\n",
       "      <th>3</th>\n",
       "      <td>2017-01</td>\n",
       "      <td>ANG MO KIO</td>\n",
       "      <td>3 ROOM</td>\n",
       "      <td>465</td>\n",
       "      <td>ANG MO KIO AVE 10</td>\n",
       "      <td>04 TO 06</td>\n",
       "      <td>68.0</td>\n",
       "      <td>New Generation</td>\n",
       "      <td>1980</td>\n",
       "      <td>62 years 01 month</td>\n",
       "      <td>265000.0</td>\n",
       "    </tr>\n",
       "    <tr>\n",
       "      <th>4</th>\n",
       "      <td>2017-01</td>\n",
       "      <td>ANG MO KIO</td>\n",
       "      <td>3 ROOM</td>\n",
       "      <td>601</td>\n",
       "      <td>ANG MO KIO AVE 5</td>\n",
       "      <td>01 TO 03</td>\n",
       "      <td>67.0</td>\n",
       "      <td>New Generation</td>\n",
       "      <td>1980</td>\n",
       "      <td>62 years 05 months</td>\n",
       "      <td>265000.0</td>\n",
       "    </tr>\n",
       "  </tbody>\n",
       "</table>\n",
       "</div>"
      ],
      "text/plain": [
       "     month        town flat_type block        street_name storey_range  \\\n",
       "0  2017-01  ANG MO KIO    2 ROOM   406  ANG MO KIO AVE 10     10 TO 12   \n",
       "1  2017-01  ANG MO KIO    3 ROOM   108   ANG MO KIO AVE 4     01 TO 03   \n",
       "2  2017-01  ANG MO KIO    3 ROOM   602   ANG MO KIO AVE 5     01 TO 03   \n",
       "3  2017-01  ANG MO KIO    3 ROOM   465  ANG MO KIO AVE 10     04 TO 06   \n",
       "4  2017-01  ANG MO KIO    3 ROOM   601   ANG MO KIO AVE 5     01 TO 03   \n",
       "\n",
       "   floor_area_sqm      flat_model  lease_commence_date     remaining_lease  \\\n",
       "0            44.0        Improved                 1979  61 years 04 months   \n",
       "1            67.0  New Generation                 1978  60 years 07 months   \n",
       "2            67.0  New Generation                 1980  62 years 05 months   \n",
       "3            68.0  New Generation                 1980   62 years 01 month   \n",
       "4            67.0  New Generation                 1980  62 years 05 months   \n",
       "\n",
       "   resale_price  \n",
       "0      232000.0  \n",
       "1      250000.0  \n",
       "2      262000.0  \n",
       "3      265000.0  \n",
       "4      265000.0  "
      ]
     },
     "execution_count": 3,
     "metadata": {},
     "output_type": "execute_result"
    }
   ],
   "source": [
    "df.head()"
   ]
  },
  {
   "cell_type": "code",
   "execution_count": 4,
   "id": "f90cbe9e-2a4c-4344-ae03-db769664f26b",
   "metadata": {},
   "outputs": [
    {
     "name": "stdout",
     "output_type": "stream",
     "text": [
      "<class 'pandas.core.frame.DataFrame'>\n",
      "RangeIndex: 113959 entries, 0 to 113958\n",
      "Data columns (total 11 columns):\n",
      " #   Column               Non-Null Count   Dtype  \n",
      "---  ------               --------------   -----  \n",
      " 0   month                113959 non-null  object \n",
      " 1   town                 113959 non-null  object \n",
      " 2   flat_type            113959 non-null  object \n",
      " 3   block                113959 non-null  object \n",
      " 4   street_name          113959 non-null  object \n",
      " 5   storey_range         113959 non-null  object \n",
      " 6   floor_area_sqm       113959 non-null  float64\n",
      " 7   flat_model           113959 non-null  object \n",
      " 8   lease_commence_date  113959 non-null  int64  \n",
      " 9   remaining_lease      113959 non-null  object \n",
      " 10  resale_price         113959 non-null  float64\n",
      "dtypes: float64(2), int64(1), object(8)\n",
      "memory usage: 9.6+ MB\n"
     ]
    }
   ],
   "source": [
    "df.info()"
   ]
  },
  {
   "cell_type": "code",
   "execution_count": 5,
   "id": "a0f1f5a8-7793-43fe-9969-60ab76f42608",
   "metadata": {},
   "outputs": [],
   "source": [
    "df['Address'] = df['block'] + \" \" + df['street_name']\n",
    "# Prints only every 20 entries, This reduces total dataset of 113959 to a much manageable number\n",
    "# API only accepts certain format so having them fed into the API as 'Block number' 'Street Name ' works best\n",
    "addresslist = list(df['Address'])[::20]"
   ]
  },
  {
   "cell_type": "code",
   "execution_count": 6,
   "id": "83419182-b793-4706-990c-7f0ea9e0cd3c",
   "metadata": {
    "tags": []
   },
   "outputs": [
    {
     "data": {
      "text/plain": [
       "['406 ANG MO KIO AVE 10',\n",
       " '119 ANG MO KIO AVE 3',\n",
       " '601 ANG MO KIO AVE 5',\n",
       " '1 BEDOK STH AVE 1',\n",
       " '2 BEDOK STH AVE 1',\n",
       " '142 BEDOK RESERVOIR RD',\n",
       " '722 BEDOK RESERVOIR RD',\n",
       " '182 BISHAN ST 13',\n",
       " '226 BT BATOK CTRL',\n",
       " '106 BT BATOK CTRL']"
      ]
     },
     "execution_count": 6,
     "metadata": {},
     "output_type": "execute_result"
    }
   ],
   "source": [
    "addresslist[:10]"
   ]
  },
  {
   "cell_type": "code",
   "execution_count": 7,
   "id": "e300f599-3684-4aa6-b56a-cd1c2f3b1bca",
   "metadata": {},
   "outputs": [],
   "source": [
    "def getcoordinates(address):\n",
    "    # get request with query\n",
    "    req = requests.get('https://developers.onemap.sg/commonapi/search?searchVal='+address+'&returnGeom=Y&getAddrDetails=Y&pageNum=1')\n",
    "    # eval parse the string as a python statement. The resulting output is put into resultsdict\n",
    "    resultsdict = eval(req.text)\n",
    "    \n",
    "    # the output is a dictionary. Fetches coordinates from results \n",
    "    if len(resultsdict['results'])>0:\n",
    "        return resultsdict['results'][0]['LATITUDE'], resultsdict['results'][0]['LONGITUDE']\n",
    "    else:\n",
    "        pass"
   ]
  },
  {
   "cell_type": "code",
   "execution_count": null,
   "id": "5cd9af2d-0489-4944-8286-92b4efb0a8c7",
   "metadata": {},
   "outputs": [
    {
     "name": "stdout",
     "output_type": "stream",
     "text": [
      "Extracting 1 out of 5698 addresses\n",
      "Extracting 2 out of 5698 addresses\n",
      "Extracting 3 out of 5698 addresses\n",
      "Extracting 4 out of 5698 addresses\n",
      "Extracting 5 out of 5698 addresses\n",
      "Extracting 6 out of 5698 addresses\n",
      "Extracting 7 out of 5698 addresses\n",
      "Extracting 8 out of 5698 addresses\n",
      "Extracting 9 out of 5698 addresses\n",
      "Extracting 10 out of 5698 addresses\n",
      "Extracting 11 out of 5698 addresses\n",
      "Extracting 12 out of 5698 addresses\n",
      "Extracting 13 out of 5698 addresses\n",
      "Extracting 14 out of 5698 addresses\n",
      "Extracting 15 out of 5698 addresses\n",
      "Extracting 16 out of 5698 addresses\n",
      "Extracting 17 out of 5698 addresses\n",
      "Extracting 18 out of 5698 addresses\n",
      "Extracting 19 out of 5698 addresses\n",
      "Extracting 20 out of 5698 addresses\n",
      "Extracting 21 out of 5698 addresses\n",
      "Extracting 22 out of 5698 addresses\n",
      "Extracting 23 out of 5698 addresses\n",
      "Extracting 24 out of 5698 addresses\n",
      "Extracting 25 out of 5698 addresses\n",
      "Extracting 26 out of 5698 addresses\n",
      "Extracting 27 out of 5698 addresses\n",
      "Extracting 28 out of 5698 addresses\n",
      "Extracting 29 out of 5698 addresses\n",
      "Extracting 30 out of 5698 addresses\n",
      "Extracting 31 out of 5698 addresses\n",
      "Extracting 32 out of 5698 addresses\n",
      "Extracting 33 out of 5698 addresses\n",
      "Extracting 34 out of 5698 addresses\n",
      "Extracting 35 out of 5698 addresses\n",
      "Extracting 36 out of 5698 addresses\n",
      "Extracting 37 out of 5698 addresses\n",
      "Extracting 38 out of 5698 addresses\n"
     ]
    }
   ],
   "source": [
    "%%time\n",
    "\n",
    "coordinateslist= []\n",
    "count = 0\n",
    "failed_count = 0\n",
    "for address in addresslist:\n",
    "    try:\n",
    "        if len(getcoordinates(address))>0:\n",
    "            count = count + 1\n",
    "            print('Extracting',count,'out of',len(addresslist),'addresses')\n",
    "            coordinateslist.append(getcoordinates(address))\n",
    "    except:\n",
    "        count = count + 1           \n",
    "        failed_count = failed_count + 1\n",
    "        print('Failed to extract',count,'out of',len(addresslist),'addresses')\n",
    "        coordinateslist.append(None)\n",
    "print('Total Number of Addresses With No Coordinates',failed_count)"
   ]
  },
  {
   "cell_type": "code",
   "execution_count": null,
   "id": "6fe3c121-6422-4845-91be-399d1a5c0cc8",
   "metadata": {},
   "outputs": [],
   "source": [
    "df_coordinates = pd.DataFrame(coordinateslist)\n",
    "df_combined = df.join(df_coordinates)\n",
    "df_combined  = df_combined .rename(columns={0:'Latitude', 1:'Longitude'})"
   ]
  },
  {
   "cell_type": "code",
   "execution_count": null,
   "id": "1cb04f45-b78f-496c-a052-a3489ab93db4",
   "metadata": {},
   "outputs": [],
   "source": [
    "df_combined.to_csv('hdb-property-information with coordinates.csv',index=False)"
   ]
  }
 ],
 "metadata": {
  "kernelspec": {
   "display_name": "Python 3 (ipykernel)",
   "language": "python",
   "name": "python3"
  },
  "language_info": {
   "codemirror_mode": {
    "name": "ipython",
    "version": 3
   },
   "file_extension": ".py",
   "mimetype": "text/x-python",
   "name": "python",
   "nbconvert_exporter": "python",
   "pygments_lexer": "ipython3",
   "version": "3.7.11"
  }
 },
 "nbformat": 4,
 "nbformat_minor": 5
}
