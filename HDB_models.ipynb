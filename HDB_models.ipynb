{
 "cells": [
  {
   "cell_type": "code",
   "execution_count": 1,
   "id": "33ab9a80-9367-4b1f-a566-710696e87e7e",
   "metadata": {},
   "outputs": [
    {
     "name": "stderr",
     "output_type": "stream",
     "text": [
      "C:\\Users\\Randy\\anaconda3\\envs\\IBM Data Science Project\\lib\\site-packages\\numpy\\_distributor_init.py:32: UserWarning: loaded more than 1 DLL from .libs:\n",
      "C:\\Users\\Randy\\anaconda3\\envs\\IBM Data Science Project\\lib\\site-packages\\numpy\\.libs\\libopenblas.NOIJJG62EMASZI6NYURL6JBKM4EVBGM7.gfortran-win_amd64.dll\n",
      "C:\\Users\\Randy\\anaconda3\\envs\\IBM Data Science Project\\lib\\site-packages\\numpy\\.libs\\libopenblas.WCDJNK7YVMPZQ2ME2ZZHJJRJ3JIKNDB7.gfortran-win_amd64.dll\n",
      "  stacklevel=1)\n"
     ]
    }
   ],
   "source": [
    "import pandas as pd\n",
    "import matplotlib.pyplot as plt\n",
    "import numpy as np\n",
    "\n",
    "%matplotlib inline"
   ]
  },
  {
   "cell_type": "code",
   "execution_count": 2,
   "id": "915b6ee9-2fc4-4e9a-a7b3-6f4306846814",
   "metadata": {},
   "outputs": [],
   "source": [
    "hdb_string = \"HDBdata with district_coord_dist_full.csv\"\n",
    "df = pd.read_csv(hdb_string, na_values=0)"
   ]
  },
  {
   "cell_type": "markdown",
   "id": "fdfe7e5b-f321-4f02-9a04-fb91f87490f5",
   "metadata": {},
   "source": [
    "# EDA"
   ]
  },
  {
   "cell_type": "code",
   "execution_count": 3,
   "id": "d844dd3b-5b90-44e7-901e-a77677d3c25f",
   "metadata": {},
   "outputs": [
    {
     "data": {
      "text/html": [
       "<div>\n",
       "<style scoped>\n",
       "    .dataframe tbody tr th:only-of-type {\n",
       "        vertical-align: middle;\n",
       "    }\n",
       "\n",
       "    .dataframe tbody tr th {\n",
       "        vertical-align: top;\n",
       "    }\n",
       "\n",
       "    .dataframe thead th {\n",
       "        text-align: right;\n",
       "    }\n",
       "</style>\n",
       "<table border=\"1\" class=\"dataframe\">\n",
       "  <thead>\n",
       "    <tr style=\"text-align: right;\">\n",
       "      <th></th>\n",
       "      <th>District</th>\n",
       "      <th>month</th>\n",
       "      <th>town</th>\n",
       "      <th>flat_type</th>\n",
       "      <th>block</th>\n",
       "      <th>street_name</th>\n",
       "      <th>storey_range</th>\n",
       "      <th>floor_area_sqm</th>\n",
       "      <th>flat_model</th>\n",
       "      <th>lease_commence_date</th>\n",
       "      <th>remaining_lease</th>\n",
       "      <th>resale_price</th>\n",
       "      <th>Price/sqm</th>\n",
       "      <th>Latitude</th>\n",
       "      <th>Longitude</th>\n",
       "      <th>mrtdist</th>\n",
       "    </tr>\n",
       "  </thead>\n",
       "  <tbody>\n",
       "    <tr>\n",
       "      <th>0</th>\n",
       "      <td>20</td>\n",
       "      <td>1 01 2017</td>\n",
       "      <td>ANG MO KIO</td>\n",
       "      <td>2 ROOM</td>\n",
       "      <td>406</td>\n",
       "      <td>ANG MO KIO AVE 10</td>\n",
       "      <td>10 TO 12</td>\n",
       "      <td>44.0</td>\n",
       "      <td>Improved</td>\n",
       "      <td>1979</td>\n",
       "      <td>61</td>\n",
       "      <td>232000.0</td>\n",
       "      <td>5272.727273</td>\n",
       "      <td>1.375748</td>\n",
       "      <td>103.854640</td>\n",
       "      <td>11816.314673</td>\n",
       "    </tr>\n",
       "    <tr>\n",
       "      <th>1</th>\n",
       "      <td>20</td>\n",
       "      <td>1 01 2017</td>\n",
       "      <td>ANG MO KIO</td>\n",
       "      <td>3 ROOM</td>\n",
       "      <td>108</td>\n",
       "      <td>ANG MO KIO AVE 4</td>\n",
       "      <td>01 TO 03</td>\n",
       "      <td>67.0</td>\n",
       "      <td>New Generation</td>\n",
       "      <td>1978</td>\n",
       "      <td>60</td>\n",
       "      <td>250000.0</td>\n",
       "      <td>3731.343284</td>\n",
       "      <td>1.369525</td>\n",
       "      <td>103.837238</td>\n",
       "      <td>9815.395378</td>\n",
       "    </tr>\n",
       "    <tr>\n",
       "      <th>2</th>\n",
       "      <td>20</td>\n",
       "      <td>1 01 2017</td>\n",
       "      <td>ANG MO KIO</td>\n",
       "      <td>3 ROOM</td>\n",
       "      <td>602</td>\n",
       "      <td>ANG MO KIO AVE 5</td>\n",
       "      <td>01 TO 03</td>\n",
       "      <td>67.0</td>\n",
       "      <td>New Generation</td>\n",
       "      <td>1980</td>\n",
       "      <td>62</td>\n",
       "      <td>262000.0</td>\n",
       "      <td>3910.447761</td>\n",
       "      <td>1.380760</td>\n",
       "      <td>103.835425</td>\n",
       "      <td>10411.841335</td>\n",
       "    </tr>\n",
       "    <tr>\n",
       "      <th>3</th>\n",
       "      <td>20</td>\n",
       "      <td>1 01 2017</td>\n",
       "      <td>ANG MO KIO</td>\n",
       "      <td>3 ROOM</td>\n",
       "      <td>465</td>\n",
       "      <td>ANG MO KIO AVE 10</td>\n",
       "      <td>04 TO 06</td>\n",
       "      <td>68.0</td>\n",
       "      <td>New Generation</td>\n",
       "      <td>1980</td>\n",
       "      <td>62</td>\n",
       "      <td>265000.0</td>\n",
       "      <td>3897.058824</td>\n",
       "      <td>1.366213</td>\n",
       "      <td>103.857175</td>\n",
       "      <td>11548.766494</td>\n",
       "    </tr>\n",
       "    <tr>\n",
       "      <th>4</th>\n",
       "      <td>20</td>\n",
       "      <td>1 01 2017</td>\n",
       "      <td>ANG MO KIO</td>\n",
       "      <td>3 ROOM</td>\n",
       "      <td>601</td>\n",
       "      <td>ANG MO KIO AVE 5</td>\n",
       "      <td>01 TO 03</td>\n",
       "      <td>67.0</td>\n",
       "      <td>New Generation</td>\n",
       "      <td>1980</td>\n",
       "      <td>62</td>\n",
       "      <td>265000.0</td>\n",
       "      <td>3955.223881</td>\n",
       "      <td>1.380987</td>\n",
       "      <td>103.835076</td>\n",
       "      <td>10398.678760</td>\n",
       "    </tr>\n",
       "  </tbody>\n",
       "</table>\n",
       "</div>"
      ],
      "text/plain": [
       "   District      month        town flat_type block        street_name  \\\n",
       "0        20  1 01 2017  ANG MO KIO    2 ROOM   406  ANG MO KIO AVE 10   \n",
       "1        20  1 01 2017  ANG MO KIO    3 ROOM   108   ANG MO KIO AVE 4   \n",
       "2        20  1 01 2017  ANG MO KIO    3 ROOM   602   ANG MO KIO AVE 5   \n",
       "3        20  1 01 2017  ANG MO KIO    3 ROOM   465  ANG MO KIO AVE 10   \n",
       "4        20  1 01 2017  ANG MO KIO    3 ROOM   601   ANG MO KIO AVE 5   \n",
       "\n",
       "  storey_range  floor_area_sqm      flat_model  lease_commence_date  \\\n",
       "0     10 TO 12            44.0        Improved                 1979   \n",
       "1     01 TO 03            67.0  New Generation                 1978   \n",
       "2     01 TO 03            67.0  New Generation                 1980   \n",
       "3     04 TO 06            68.0  New Generation                 1980   \n",
       "4     01 TO 03            67.0  New Generation                 1980   \n",
       "\n",
       "   remaining_lease  resale_price    Price/sqm  Latitude   Longitude  \\\n",
       "0               61      232000.0  5272.727273  1.375748  103.854640   \n",
       "1               60      250000.0  3731.343284  1.369525  103.837238   \n",
       "2               62      262000.0  3910.447761  1.380760  103.835425   \n",
       "3               62      265000.0  3897.058824  1.366213  103.857175   \n",
       "4               62      265000.0  3955.223881  1.380987  103.835076   \n",
       "\n",
       "        mrtdist  \n",
       "0  11816.314673  \n",
       "1   9815.395378  \n",
       "2  10411.841335  \n",
       "3  11548.766494  \n",
       "4  10398.678760  "
      ]
     },
     "execution_count": 3,
     "metadata": {},
     "output_type": "execute_result"
    }
   ],
   "source": [
    "df.head()"
   ]
  },
  {
   "cell_type": "code",
   "execution_count": 4,
   "id": "5f1a38cf-98c6-4229-91ab-fcc387d724f3",
   "metadata": {},
   "outputs": [
    {
     "data": {
      "text/html": [
       "<div>\n",
       "<style scoped>\n",
       "    .dataframe tbody tr th:only-of-type {\n",
       "        vertical-align: middle;\n",
       "    }\n",
       "\n",
       "    .dataframe tbody tr th {\n",
       "        vertical-align: top;\n",
       "    }\n",
       "\n",
       "    .dataframe thead th {\n",
       "        text-align: right;\n",
       "    }\n",
       "</style>\n",
       "<table border=\"1\" class=\"dataframe\">\n",
       "  <thead>\n",
       "    <tr style=\"text-align: right;\">\n",
       "      <th></th>\n",
       "      <th>count</th>\n",
       "      <th>mean</th>\n",
       "      <th>std</th>\n",
       "      <th>min</th>\n",
       "      <th>25%</th>\n",
       "      <th>50%</th>\n",
       "      <th>75%</th>\n",
       "      <th>max</th>\n",
       "    </tr>\n",
       "  </thead>\n",
       "  <tbody>\n",
       "    <tr>\n",
       "      <th>District</th>\n",
       "      <td>113959.0</td>\n",
       "      <td>18.818084</td>\n",
       "      <td>6.328647</td>\n",
       "      <td>1.000000</td>\n",
       "      <td>18.000000</td>\n",
       "      <td>19.000000</td>\n",
       "      <td>23.000000</td>\n",
       "      <td>2.800000e+01</td>\n",
       "    </tr>\n",
       "    <tr>\n",
       "      <th>floor_area_sqm</th>\n",
       "      <td>113959.0</td>\n",
       "      <td>97.859061</td>\n",
       "      <td>24.147210</td>\n",
       "      <td>31.000000</td>\n",
       "      <td>82.000000</td>\n",
       "      <td>95.000000</td>\n",
       "      <td>113.000000</td>\n",
       "      <td>2.490000e+02</td>\n",
       "    </tr>\n",
       "    <tr>\n",
       "      <th>lease_commence_date</th>\n",
       "      <td>113959.0</td>\n",
       "      <td>1995.010477</td>\n",
       "      <td>13.395018</td>\n",
       "      <td>1966.000000</td>\n",
       "      <td>1985.000000</td>\n",
       "      <td>1995.000000</td>\n",
       "      <td>2005.000000</td>\n",
       "      <td>2.019000e+03</td>\n",
       "    </tr>\n",
       "    <tr>\n",
       "      <th>remaining_lease</th>\n",
       "      <td>113959.0</td>\n",
       "      <td>74.892075</td>\n",
       "      <td>13.288946</td>\n",
       "      <td>44.000000</td>\n",
       "      <td>64.000000</td>\n",
       "      <td>75.000000</td>\n",
       "      <td>85.000000</td>\n",
       "      <td>9.800000e+01</td>\n",
       "    </tr>\n",
       "    <tr>\n",
       "      <th>resale_price</th>\n",
       "      <td>113959.0</td>\n",
       "      <td>457961.507288</td>\n",
       "      <td>158521.858641</td>\n",
       "      <td>140000.000000</td>\n",
       "      <td>342000.000000</td>\n",
       "      <td>428000.000000</td>\n",
       "      <td>540000.000000</td>\n",
       "      <td>1.295000e+06</td>\n",
       "    </tr>\n",
       "    <tr>\n",
       "      <th>Price/sqm</th>\n",
       "      <td>113959.0</td>\n",
       "      <td>4713.508969</td>\n",
       "      <td>1275.304605</td>\n",
       "      <td>2089.552239</td>\n",
       "      <td>3870.967742</td>\n",
       "      <td>4408.602151</td>\n",
       "      <td>5169.651423</td>\n",
       "      <td>1.290323e+04</td>\n",
       "    </tr>\n",
       "    <tr>\n",
       "      <th>Latitude</th>\n",
       "      <td>113959.0</td>\n",
       "      <td>1.367317</td>\n",
       "      <td>0.042705</td>\n",
       "      <td>1.270369</td>\n",
       "      <td>1.336750</td>\n",
       "      <td>1.367785</td>\n",
       "      <td>1.395605</td>\n",
       "      <td>1.459192e+00</td>\n",
       "    </tr>\n",
       "    <tr>\n",
       "      <th>Longitude</th>\n",
       "      <td>113959.0</td>\n",
       "      <td>103.842270</td>\n",
       "      <td>0.071347</td>\n",
       "      <td>103.685206</td>\n",
       "      <td>103.780243</td>\n",
       "      <td>103.848998</td>\n",
       "      <td>103.899620</td>\n",
       "      <td>1.039876e+02</td>\n",
       "    </tr>\n",
       "    <tr>\n",
       "      <th>mrtdist</th>\n",
       "      <td>113959.0</td>\n",
       "      <td>12619.837991</td>\n",
       "      <td>5413.134785</td>\n",
       "      <td>58.626066</td>\n",
       "      <td>7841.104159</td>\n",
       "      <td>13618.287075</td>\n",
       "      <td>16664.566584</td>\n",
       "      <td>2.599007e+04</td>\n",
       "    </tr>\n",
       "  </tbody>\n",
       "</table>\n",
       "</div>"
      ],
      "text/plain": [
       "                        count           mean            std            min  \\\n",
       "District             113959.0      18.818084       6.328647       1.000000   \n",
       "floor_area_sqm       113959.0      97.859061      24.147210      31.000000   \n",
       "lease_commence_date  113959.0    1995.010477      13.395018    1966.000000   \n",
       "remaining_lease      113959.0      74.892075      13.288946      44.000000   \n",
       "resale_price         113959.0  457961.507288  158521.858641  140000.000000   \n",
       "Price/sqm            113959.0    4713.508969    1275.304605    2089.552239   \n",
       "Latitude             113959.0       1.367317       0.042705       1.270369   \n",
       "Longitude            113959.0     103.842270       0.071347     103.685206   \n",
       "mrtdist              113959.0   12619.837991    5413.134785      58.626066   \n",
       "\n",
       "                               25%            50%            75%           max  \n",
       "District                 18.000000      19.000000      23.000000  2.800000e+01  \n",
       "floor_area_sqm           82.000000      95.000000     113.000000  2.490000e+02  \n",
       "lease_commence_date    1985.000000    1995.000000    2005.000000  2.019000e+03  \n",
       "remaining_lease          64.000000      75.000000      85.000000  9.800000e+01  \n",
       "resale_price         342000.000000  428000.000000  540000.000000  1.295000e+06  \n",
       "Price/sqm              3870.967742    4408.602151    5169.651423  1.290323e+04  \n",
       "Latitude                  1.336750       1.367785       1.395605  1.459192e+00  \n",
       "Longitude               103.780243     103.848998     103.899620  1.039876e+02  \n",
       "mrtdist                7841.104159   13618.287075   16664.566584  2.599007e+04  "
      ]
     },
     "execution_count": 4,
     "metadata": {},
     "output_type": "execute_result"
    }
   ],
   "source": [
    "df.describe().T"
   ]
  },
  {
   "cell_type": "code",
   "execution_count": 5,
   "id": "d5d3cdce-d8e8-4491-866b-acb204f69bb1",
   "metadata": {},
   "outputs": [
    {
     "data": {
      "text/html": [
       "<div>\n",
       "<style scoped>\n",
       "    .dataframe tbody tr th:only-of-type {\n",
       "        vertical-align: middle;\n",
       "    }\n",
       "\n",
       "    .dataframe tbody tr th {\n",
       "        vertical-align: top;\n",
       "    }\n",
       "\n",
       "    .dataframe thead th {\n",
       "        text-align: right;\n",
       "    }\n",
       "</style>\n",
       "<table border=\"1\" class=\"dataframe\">\n",
       "  <thead>\n",
       "    <tr style=\"text-align: right;\">\n",
       "      <th></th>\n",
       "      <th>District</th>\n",
       "      <th>month</th>\n",
       "      <th>town</th>\n",
       "      <th>flat_type</th>\n",
       "      <th>block</th>\n",
       "      <th>street_name</th>\n",
       "      <th>storey_range</th>\n",
       "      <th>floor_area_sqm</th>\n",
       "      <th>flat_model</th>\n",
       "      <th>lease_commence_date</th>\n",
       "      <th>remaining_lease</th>\n",
       "      <th>resale_price</th>\n",
       "      <th>Price/sqm</th>\n",
       "      <th>Latitude</th>\n",
       "      <th>Longitude</th>\n",
       "      <th>mrtdist</th>\n",
       "    </tr>\n",
       "  </thead>\n",
       "  <tbody>\n",
       "  </tbody>\n",
       "</table>\n",
       "</div>"
      ],
      "text/plain": [
       "Empty DataFrame\n",
       "Columns: [District, month, town, flat_type, block, street_name, storey_range, floor_area_sqm, flat_model, lease_commence_date, remaining_lease, resale_price, Price/sqm, Latitude, Longitude, mrtdist]\n",
       "Index: []"
      ]
     },
     "execution_count": 5,
     "metadata": {},
     "output_type": "execute_result"
    }
   ],
   "source": [
    "df[df.mrtdist.isna()]"
   ]
  },
  {
   "cell_type": "code",
   "execution_count": 6,
   "id": "5c430847-8ba6-4798-b50c-9f78d4c312b6",
   "metadata": {},
   "outputs": [],
   "source": [
    "df_dropped = df.dropna(axis=0)"
   ]
  },
  {
   "cell_type": "code",
   "execution_count": 7,
   "id": "bba8c294-d394-426e-a1e5-9f711e28af65",
   "metadata": {},
   "outputs": [
    {
     "data": {
      "text/html": [
       "<div>\n",
       "<style scoped>\n",
       "    .dataframe tbody tr th:only-of-type {\n",
       "        vertical-align: middle;\n",
       "    }\n",
       "\n",
       "    .dataframe tbody tr th {\n",
       "        vertical-align: top;\n",
       "    }\n",
       "\n",
       "    .dataframe thead th {\n",
       "        text-align: right;\n",
       "    }\n",
       "</style>\n",
       "<table border=\"1\" class=\"dataframe\">\n",
       "  <thead>\n",
       "    <tr style=\"text-align: right;\">\n",
       "      <th></th>\n",
       "      <th>count</th>\n",
       "      <th>mean</th>\n",
       "      <th>std</th>\n",
       "      <th>min</th>\n",
       "      <th>25%</th>\n",
       "      <th>50%</th>\n",
       "      <th>75%</th>\n",
       "      <th>max</th>\n",
       "    </tr>\n",
       "  </thead>\n",
       "  <tbody>\n",
       "    <tr>\n",
       "      <th>District</th>\n",
       "      <td>113959.0</td>\n",
       "      <td>18.818084</td>\n",
       "      <td>6.328647</td>\n",
       "      <td>1.000000</td>\n",
       "      <td>18.000000</td>\n",
       "      <td>19.000000</td>\n",
       "      <td>23.000000</td>\n",
       "      <td>2.800000e+01</td>\n",
       "    </tr>\n",
       "    <tr>\n",
       "      <th>floor_area_sqm</th>\n",
       "      <td>113959.0</td>\n",
       "      <td>97.859061</td>\n",
       "      <td>24.147210</td>\n",
       "      <td>31.000000</td>\n",
       "      <td>82.000000</td>\n",
       "      <td>95.000000</td>\n",
       "      <td>113.000000</td>\n",
       "      <td>2.490000e+02</td>\n",
       "    </tr>\n",
       "    <tr>\n",
       "      <th>lease_commence_date</th>\n",
       "      <td>113959.0</td>\n",
       "      <td>1995.010477</td>\n",
       "      <td>13.395018</td>\n",
       "      <td>1966.000000</td>\n",
       "      <td>1985.000000</td>\n",
       "      <td>1995.000000</td>\n",
       "      <td>2005.000000</td>\n",
       "      <td>2.019000e+03</td>\n",
       "    </tr>\n",
       "    <tr>\n",
       "      <th>remaining_lease</th>\n",
       "      <td>113959.0</td>\n",
       "      <td>74.892075</td>\n",
       "      <td>13.288946</td>\n",
       "      <td>44.000000</td>\n",
       "      <td>64.000000</td>\n",
       "      <td>75.000000</td>\n",
       "      <td>85.000000</td>\n",
       "      <td>9.800000e+01</td>\n",
       "    </tr>\n",
       "    <tr>\n",
       "      <th>resale_price</th>\n",
       "      <td>113959.0</td>\n",
       "      <td>457961.507288</td>\n",
       "      <td>158521.858641</td>\n",
       "      <td>140000.000000</td>\n",
       "      <td>342000.000000</td>\n",
       "      <td>428000.000000</td>\n",
       "      <td>540000.000000</td>\n",
       "      <td>1.295000e+06</td>\n",
       "    </tr>\n",
       "    <tr>\n",
       "      <th>Price/sqm</th>\n",
       "      <td>113959.0</td>\n",
       "      <td>4713.508969</td>\n",
       "      <td>1275.304605</td>\n",
       "      <td>2089.552239</td>\n",
       "      <td>3870.967742</td>\n",
       "      <td>4408.602151</td>\n",
       "      <td>5169.651423</td>\n",
       "      <td>1.290323e+04</td>\n",
       "    </tr>\n",
       "    <tr>\n",
       "      <th>Latitude</th>\n",
       "      <td>113959.0</td>\n",
       "      <td>1.367317</td>\n",
       "      <td>0.042705</td>\n",
       "      <td>1.270369</td>\n",
       "      <td>1.336750</td>\n",
       "      <td>1.367785</td>\n",
       "      <td>1.395605</td>\n",
       "      <td>1.459192e+00</td>\n",
       "    </tr>\n",
       "    <tr>\n",
       "      <th>Longitude</th>\n",
       "      <td>113959.0</td>\n",
       "      <td>103.842270</td>\n",
       "      <td>0.071347</td>\n",
       "      <td>103.685206</td>\n",
       "      <td>103.780243</td>\n",
       "      <td>103.848998</td>\n",
       "      <td>103.899620</td>\n",
       "      <td>1.039876e+02</td>\n",
       "    </tr>\n",
       "    <tr>\n",
       "      <th>mrtdist</th>\n",
       "      <td>113959.0</td>\n",
       "      <td>12619.837991</td>\n",
       "      <td>5413.134785</td>\n",
       "      <td>58.626066</td>\n",
       "      <td>7841.104159</td>\n",
       "      <td>13618.287075</td>\n",
       "      <td>16664.566584</td>\n",
       "      <td>2.599007e+04</td>\n",
       "    </tr>\n",
       "  </tbody>\n",
       "</table>\n",
       "</div>"
      ],
      "text/plain": [
       "                        count           mean            std            min  \\\n",
       "District             113959.0      18.818084       6.328647       1.000000   \n",
       "floor_area_sqm       113959.0      97.859061      24.147210      31.000000   \n",
       "lease_commence_date  113959.0    1995.010477      13.395018    1966.000000   \n",
       "remaining_lease      113959.0      74.892075      13.288946      44.000000   \n",
       "resale_price         113959.0  457961.507288  158521.858641  140000.000000   \n",
       "Price/sqm            113959.0    4713.508969    1275.304605    2089.552239   \n",
       "Latitude             113959.0       1.367317       0.042705       1.270369   \n",
       "Longitude            113959.0     103.842270       0.071347     103.685206   \n",
       "mrtdist              113959.0   12619.837991    5413.134785      58.626066   \n",
       "\n",
       "                               25%            50%            75%           max  \n",
       "District                 18.000000      19.000000      23.000000  2.800000e+01  \n",
       "floor_area_sqm           82.000000      95.000000     113.000000  2.490000e+02  \n",
       "lease_commence_date    1985.000000    1995.000000    2005.000000  2.019000e+03  \n",
       "remaining_lease          64.000000      75.000000      85.000000  9.800000e+01  \n",
       "resale_price         342000.000000  428000.000000  540000.000000  1.295000e+06  \n",
       "Price/sqm              3870.967742    4408.602151    5169.651423  1.290323e+04  \n",
       "Latitude                  1.336750       1.367785       1.395605  1.459192e+00  \n",
       "Longitude               103.780243     103.848998     103.899620  1.039876e+02  \n",
       "mrtdist                7841.104159   13618.287075   16664.566584  2.599007e+04  "
      ]
     },
     "execution_count": 7,
     "metadata": {},
     "output_type": "execute_result"
    }
   ],
   "source": [
    "df_dropped.describe().T"
   ]
  },
  {
   "cell_type": "code",
   "execution_count": 8,
   "id": "baa98e5f-2603-4157-b926-df4c50cf1a55",
   "metadata": {},
   "outputs": [
    {
     "data": {
      "text/html": [
       "<div>\n",
       "<style scoped>\n",
       "    .dataframe tbody tr th:only-of-type {\n",
       "        vertical-align: middle;\n",
       "    }\n",
       "\n",
       "    .dataframe tbody tr th {\n",
       "        vertical-align: top;\n",
       "    }\n",
       "\n",
       "    .dataframe thead th {\n",
       "        text-align: right;\n",
       "    }\n",
       "</style>\n",
       "<table border=\"1\" class=\"dataframe\">\n",
       "  <thead>\n",
       "    <tr style=\"text-align: right;\">\n",
       "      <th></th>\n",
       "      <th>District</th>\n",
       "      <th>month</th>\n",
       "      <th>town</th>\n",
       "      <th>flat_type</th>\n",
       "      <th>block</th>\n",
       "      <th>street_name</th>\n",
       "      <th>storey_range</th>\n",
       "      <th>floor_area_sqm</th>\n",
       "      <th>flat_model</th>\n",
       "      <th>lease_commence_date</th>\n",
       "      <th>remaining_lease</th>\n",
       "      <th>resale_price</th>\n",
       "      <th>Price/sqm</th>\n",
       "      <th>Latitude</th>\n",
       "      <th>Longitude</th>\n",
       "      <th>mrtdist</th>\n",
       "    </tr>\n",
       "  </thead>\n",
       "  <tbody>\n",
       "    <tr>\n",
       "      <th>0</th>\n",
       "      <td>20</td>\n",
       "      <td>1 01 2017</td>\n",
       "      <td>ANG MO KIO</td>\n",
       "      <td>2 ROOM</td>\n",
       "      <td>406</td>\n",
       "      <td>ANG MO KIO AVE 10</td>\n",
       "      <td>10 TO 12</td>\n",
       "      <td>44.0</td>\n",
       "      <td>Improved</td>\n",
       "      <td>1979</td>\n",
       "      <td>61</td>\n",
       "      <td>232000.0</td>\n",
       "      <td>5272.727273</td>\n",
       "      <td>1.375748</td>\n",
       "      <td>103.854640</td>\n",
       "      <td>11816.314673</td>\n",
       "    </tr>\n",
       "    <tr>\n",
       "      <th>1</th>\n",
       "      <td>20</td>\n",
       "      <td>1 01 2017</td>\n",
       "      <td>ANG MO KIO</td>\n",
       "      <td>3 ROOM</td>\n",
       "      <td>108</td>\n",
       "      <td>ANG MO KIO AVE 4</td>\n",
       "      <td>01 TO 03</td>\n",
       "      <td>67.0</td>\n",
       "      <td>New Generation</td>\n",
       "      <td>1978</td>\n",
       "      <td>60</td>\n",
       "      <td>250000.0</td>\n",
       "      <td>3731.343284</td>\n",
       "      <td>1.369525</td>\n",
       "      <td>103.837238</td>\n",
       "      <td>9815.395378</td>\n",
       "    </tr>\n",
       "    <tr>\n",
       "      <th>2</th>\n",
       "      <td>20</td>\n",
       "      <td>1 01 2017</td>\n",
       "      <td>ANG MO KIO</td>\n",
       "      <td>3 ROOM</td>\n",
       "      <td>602</td>\n",
       "      <td>ANG MO KIO AVE 5</td>\n",
       "      <td>01 TO 03</td>\n",
       "      <td>67.0</td>\n",
       "      <td>New Generation</td>\n",
       "      <td>1980</td>\n",
       "      <td>62</td>\n",
       "      <td>262000.0</td>\n",
       "      <td>3910.447761</td>\n",
       "      <td>1.380760</td>\n",
       "      <td>103.835425</td>\n",
       "      <td>10411.841335</td>\n",
       "    </tr>\n",
       "    <tr>\n",
       "      <th>3</th>\n",
       "      <td>20</td>\n",
       "      <td>1 01 2017</td>\n",
       "      <td>ANG MO KIO</td>\n",
       "      <td>3 ROOM</td>\n",
       "      <td>465</td>\n",
       "      <td>ANG MO KIO AVE 10</td>\n",
       "      <td>04 TO 06</td>\n",
       "      <td>68.0</td>\n",
       "      <td>New Generation</td>\n",
       "      <td>1980</td>\n",
       "      <td>62</td>\n",
       "      <td>265000.0</td>\n",
       "      <td>3897.058824</td>\n",
       "      <td>1.366213</td>\n",
       "      <td>103.857175</td>\n",
       "      <td>11548.766494</td>\n",
       "    </tr>\n",
       "    <tr>\n",
       "      <th>4</th>\n",
       "      <td>20</td>\n",
       "      <td>1 01 2017</td>\n",
       "      <td>ANG MO KIO</td>\n",
       "      <td>3 ROOM</td>\n",
       "      <td>601</td>\n",
       "      <td>ANG MO KIO AVE 5</td>\n",
       "      <td>01 TO 03</td>\n",
       "      <td>67.0</td>\n",
       "      <td>New Generation</td>\n",
       "      <td>1980</td>\n",
       "      <td>62</td>\n",
       "      <td>265000.0</td>\n",
       "      <td>3955.223881</td>\n",
       "      <td>1.380987</td>\n",
       "      <td>103.835076</td>\n",
       "      <td>10398.678760</td>\n",
       "    </tr>\n",
       "  </tbody>\n",
       "</table>\n",
       "</div>"
      ],
      "text/plain": [
       "   District      month        town flat_type block        street_name  \\\n",
       "0        20  1 01 2017  ANG MO KIO    2 ROOM   406  ANG MO KIO AVE 10   \n",
       "1        20  1 01 2017  ANG MO KIO    3 ROOM   108   ANG MO KIO AVE 4   \n",
       "2        20  1 01 2017  ANG MO KIO    3 ROOM   602   ANG MO KIO AVE 5   \n",
       "3        20  1 01 2017  ANG MO KIO    3 ROOM   465  ANG MO KIO AVE 10   \n",
       "4        20  1 01 2017  ANG MO KIO    3 ROOM   601   ANG MO KIO AVE 5   \n",
       "\n",
       "  storey_range  floor_area_sqm      flat_model  lease_commence_date  \\\n",
       "0     10 TO 12            44.0        Improved                 1979   \n",
       "1     01 TO 03            67.0  New Generation                 1978   \n",
       "2     01 TO 03            67.0  New Generation                 1980   \n",
       "3     04 TO 06            68.0  New Generation                 1980   \n",
       "4     01 TO 03            67.0  New Generation                 1980   \n",
       "\n",
       "   remaining_lease  resale_price    Price/sqm  Latitude   Longitude  \\\n",
       "0               61      232000.0  5272.727273  1.375748  103.854640   \n",
       "1               60      250000.0  3731.343284  1.369525  103.837238   \n",
       "2               62      262000.0  3910.447761  1.380760  103.835425   \n",
       "3               62      265000.0  3897.058824  1.366213  103.857175   \n",
       "4               62      265000.0  3955.223881  1.380987  103.835076   \n",
       "\n",
       "        mrtdist  \n",
       "0  11816.314673  \n",
       "1   9815.395378  \n",
       "2  10411.841335  \n",
       "3  11548.766494  \n",
       "4  10398.678760  "
      ]
     },
     "execution_count": 8,
     "metadata": {},
     "output_type": "execute_result"
    }
   ],
   "source": [
    "df_dropped.head()"
   ]
  },
  {
   "cell_type": "code",
   "execution_count": 174,
   "id": "c3257ba7-9cb2-4984-962d-129347ceed5f",
   "metadata": {},
   "outputs": [
    {
     "ename": "ValueError",
     "evalue": "'c' argument must be a color, a sequence of colors, or a sequence of numbers, not Price/sqm",
     "output_type": "error",
     "traceback": [
      "\u001b[1;31m---------------------------------------------------------------------------\u001b[0m",
      "\u001b[1;31mValueError\u001b[0m                                Traceback (most recent call last)",
      "\u001b[1;32m~\\anaconda3\\envs\\IBM Data Science Project\\lib\\site-packages\\matplotlib\\axes\\_axes.py\u001b[0m in \u001b[0;36m_parse_scatter_color_args\u001b[1;34m(c, edgecolors, kwargs, xsize, get_next_color_func)\u001b[0m\n\u001b[0;32m   4349\u001b[0m             \u001b[1;32mtry\u001b[0m\u001b[1;33m:\u001b[0m  \u001b[1;31m# Is 'c' acceptable as PathCollection facecolors?\u001b[0m\u001b[1;33m\u001b[0m\u001b[1;33m\u001b[0m\u001b[0m\n\u001b[1;32m-> 4350\u001b[1;33m                 \u001b[0mcolors\u001b[0m \u001b[1;33m=\u001b[0m \u001b[0mmcolors\u001b[0m\u001b[1;33m.\u001b[0m\u001b[0mto_rgba_array\u001b[0m\u001b[1;33m(\u001b[0m\u001b[0mc\u001b[0m\u001b[1;33m)\u001b[0m\u001b[1;33m\u001b[0m\u001b[1;33m\u001b[0m\u001b[0m\n\u001b[0m\u001b[0;32m   4351\u001b[0m             \u001b[1;32mexcept\u001b[0m \u001b[1;33m(\u001b[0m\u001b[0mTypeError\u001b[0m\u001b[1;33m,\u001b[0m \u001b[0mValueError\u001b[0m\u001b[1;33m)\u001b[0m \u001b[1;32mas\u001b[0m \u001b[0merr\u001b[0m\u001b[1;33m:\u001b[0m\u001b[1;33m\u001b[0m\u001b[1;33m\u001b[0m\u001b[0m\n",
      "\u001b[1;32m~\\anaconda3\\envs\\IBM Data Science Project\\lib\\site-packages\\matplotlib\\colors.py\u001b[0m in \u001b[0;36mto_rgba_array\u001b[1;34m(c, alpha)\u001b[0m\n\u001b[0;32m    366\u001b[0m     \u001b[1;32mif\u001b[0m \u001b[0misinstance\u001b[0m\u001b[1;33m(\u001b[0m\u001b[0mc\u001b[0m\u001b[1;33m,\u001b[0m \u001b[0mstr\u001b[0m\u001b[1;33m)\u001b[0m\u001b[1;33m:\u001b[0m\u001b[1;33m\u001b[0m\u001b[1;33m\u001b[0m\u001b[0m\n\u001b[1;32m--> 367\u001b[1;33m         raise ValueError(\"Using a string of single character colors as \"\n\u001b[0m\u001b[0;32m    368\u001b[0m                          \u001b[1;34m\"a color sequence is not supported. The colors can \"\u001b[0m\u001b[1;33m\u001b[0m\u001b[1;33m\u001b[0m\u001b[0m\n",
      "\u001b[1;31mValueError\u001b[0m: Using a string of single character colors as a color sequence is not supported. The colors can be passed as an explicit list instead.",
      "\nThe above exception was the direct cause of the following exception:\n",
      "\u001b[1;31mValueError\u001b[0m                                Traceback (most recent call last)",
      "\u001b[1;32m~\\AppData\\Local\\Temp/ipykernel_25260/2897580637.py\u001b[0m in \u001b[0;36m<module>\u001b[1;34m\u001b[0m\n\u001b[0;32m      6\u001b[0m                 \u001b[0mcmap\u001b[0m \u001b[1;33m=\u001b[0m \u001b[1;34m'cool'\u001b[0m\u001b[1;33m,\u001b[0m\u001b[1;33m\u001b[0m\u001b[1;33m\u001b[0m\u001b[0m\n\u001b[0;32m      7\u001b[0m                 \u001b[0mcolorbar\u001b[0m \u001b[1;33m=\u001b[0m \u001b[1;32mTrue\u001b[0m\u001b[1;33m,\u001b[0m\u001b[1;33m\u001b[0m\u001b[1;33m\u001b[0m\u001b[0m\n\u001b[1;32m----> 8\u001b[1;33m                 figsize = (20,10))\n\u001b[0m\u001b[0;32m      9\u001b[0m \u001b[0mplt\u001b[0m\u001b[1;33m.\u001b[0m\u001b[0mshow\u001b[0m\u001b[1;33m(\u001b[0m\u001b[1;33m)\u001b[0m\u001b[1;33m\u001b[0m\u001b[1;33m\u001b[0m\u001b[0m\n",
      "\u001b[1;32m~\\anaconda3\\envs\\IBM Data Science Project\\lib\\site-packages\\pandas\\plotting\\_core.py\u001b[0m in \u001b[0;36m__call__\u001b[1;34m(self, *args, **kwargs)\u001b[0m\n\u001b[0;32m    790\u001b[0m         \u001b[1;32mif\u001b[0m \u001b[0mkind\u001b[0m \u001b[1;32min\u001b[0m \u001b[0mself\u001b[0m\u001b[1;33m.\u001b[0m\u001b[0m_dataframe_kinds\u001b[0m\u001b[1;33m:\u001b[0m\u001b[1;33m\u001b[0m\u001b[1;33m\u001b[0m\u001b[0m\n\u001b[0;32m    791\u001b[0m             \u001b[1;32mif\u001b[0m \u001b[0misinstance\u001b[0m\u001b[1;33m(\u001b[0m\u001b[0mdata\u001b[0m\u001b[1;33m,\u001b[0m \u001b[0mABCDataFrame\u001b[0m\u001b[1;33m)\u001b[0m\u001b[1;33m:\u001b[0m\u001b[1;33m\u001b[0m\u001b[1;33m\u001b[0m\u001b[0m\n\u001b[1;32m--> 792\u001b[1;33m                 \u001b[1;32mreturn\u001b[0m \u001b[0mplot_backend\u001b[0m\u001b[1;33m.\u001b[0m\u001b[0mplot\u001b[0m\u001b[1;33m(\u001b[0m\u001b[0mdata\u001b[0m\u001b[1;33m,\u001b[0m \u001b[0mx\u001b[0m\u001b[1;33m=\u001b[0m\u001b[0mx\u001b[0m\u001b[1;33m,\u001b[0m \u001b[0my\u001b[0m\u001b[1;33m=\u001b[0m\u001b[0my\u001b[0m\u001b[1;33m,\u001b[0m \u001b[0mkind\u001b[0m\u001b[1;33m=\u001b[0m\u001b[0mkind\u001b[0m\u001b[1;33m,\u001b[0m \u001b[1;33m**\u001b[0m\u001b[0mkwargs\u001b[0m\u001b[1;33m)\u001b[0m\u001b[1;33m\u001b[0m\u001b[1;33m\u001b[0m\u001b[0m\n\u001b[0m\u001b[0;32m    793\u001b[0m             \u001b[1;32melse\u001b[0m\u001b[1;33m:\u001b[0m\u001b[1;33m\u001b[0m\u001b[1;33m\u001b[0m\u001b[0m\n\u001b[0;32m    794\u001b[0m                 \u001b[1;32mraise\u001b[0m \u001b[0mValueError\u001b[0m\u001b[1;33m(\u001b[0m\u001b[1;34mf\"plot kind {kind} can only be used for data frames\"\u001b[0m\u001b[1;33m)\u001b[0m\u001b[1;33m\u001b[0m\u001b[1;33m\u001b[0m\u001b[0m\n",
      "\u001b[1;32m~\\anaconda3\\envs\\IBM Data Science Project\\lib\\site-packages\\pandas\\plotting\\_matplotlib\\__init__.py\u001b[0m in \u001b[0;36mplot\u001b[1;34m(data, kind, **kwargs)\u001b[0m\n\u001b[0;32m     59\u001b[0m             \u001b[0mkwargs\u001b[0m\u001b[1;33m[\u001b[0m\u001b[1;34m\"ax\"\u001b[0m\u001b[1;33m]\u001b[0m \u001b[1;33m=\u001b[0m \u001b[0mgetattr\u001b[0m\u001b[1;33m(\u001b[0m\u001b[0max\u001b[0m\u001b[1;33m,\u001b[0m \u001b[1;34m\"left_ax\"\u001b[0m\u001b[1;33m,\u001b[0m \u001b[0max\u001b[0m\u001b[1;33m)\u001b[0m\u001b[1;33m\u001b[0m\u001b[1;33m\u001b[0m\u001b[0m\n\u001b[0;32m     60\u001b[0m     \u001b[0mplot_obj\u001b[0m \u001b[1;33m=\u001b[0m \u001b[0mPLOT_CLASSES\u001b[0m\u001b[1;33m[\u001b[0m\u001b[0mkind\u001b[0m\u001b[1;33m]\u001b[0m\u001b[1;33m(\u001b[0m\u001b[0mdata\u001b[0m\u001b[1;33m,\u001b[0m \u001b[1;33m**\u001b[0m\u001b[0mkwargs\u001b[0m\u001b[1;33m)\u001b[0m\u001b[1;33m\u001b[0m\u001b[1;33m\u001b[0m\u001b[0m\n\u001b[1;32m---> 61\u001b[1;33m     \u001b[0mplot_obj\u001b[0m\u001b[1;33m.\u001b[0m\u001b[0mgenerate\u001b[0m\u001b[1;33m(\u001b[0m\u001b[1;33m)\u001b[0m\u001b[1;33m\u001b[0m\u001b[1;33m\u001b[0m\u001b[0m\n\u001b[0m\u001b[0;32m     62\u001b[0m     \u001b[0mplot_obj\u001b[0m\u001b[1;33m.\u001b[0m\u001b[0mdraw\u001b[0m\u001b[1;33m(\u001b[0m\u001b[1;33m)\u001b[0m\u001b[1;33m\u001b[0m\u001b[1;33m\u001b[0m\u001b[0m\n\u001b[0;32m     63\u001b[0m     \u001b[1;32mreturn\u001b[0m \u001b[0mplot_obj\u001b[0m\u001b[1;33m.\u001b[0m\u001b[0mresult\u001b[0m\u001b[1;33m\u001b[0m\u001b[1;33m\u001b[0m\u001b[0m\n",
      "\u001b[1;32m~\\anaconda3\\envs\\IBM Data Science Project\\lib\\site-packages\\pandas\\plotting\\_matplotlib\\core.py\u001b[0m in \u001b[0;36mgenerate\u001b[1;34m(self)\u001b[0m\n\u001b[0;32m    261\u001b[0m         \u001b[0mself\u001b[0m\u001b[1;33m.\u001b[0m\u001b[0m_compute_plot_data\u001b[0m\u001b[1;33m(\u001b[0m\u001b[1;33m)\u001b[0m\u001b[1;33m\u001b[0m\u001b[1;33m\u001b[0m\u001b[0m\n\u001b[0;32m    262\u001b[0m         \u001b[0mself\u001b[0m\u001b[1;33m.\u001b[0m\u001b[0m_setup_subplots\u001b[0m\u001b[1;33m(\u001b[0m\u001b[1;33m)\u001b[0m\u001b[1;33m\u001b[0m\u001b[1;33m\u001b[0m\u001b[0m\n\u001b[1;32m--> 263\u001b[1;33m         \u001b[0mself\u001b[0m\u001b[1;33m.\u001b[0m\u001b[0m_make_plot\u001b[0m\u001b[1;33m(\u001b[0m\u001b[1;33m)\u001b[0m\u001b[1;33m\u001b[0m\u001b[1;33m\u001b[0m\u001b[0m\n\u001b[0m\u001b[0;32m    264\u001b[0m         \u001b[0mself\u001b[0m\u001b[1;33m.\u001b[0m\u001b[0m_add_table\u001b[0m\u001b[1;33m(\u001b[0m\u001b[1;33m)\u001b[0m\u001b[1;33m\u001b[0m\u001b[1;33m\u001b[0m\u001b[0m\n\u001b[0;32m    265\u001b[0m         \u001b[0mself\u001b[0m\u001b[1;33m.\u001b[0m\u001b[0m_make_legend\u001b[0m\u001b[1;33m(\u001b[0m\u001b[1;33m)\u001b[0m\u001b[1;33m\u001b[0m\u001b[1;33m\u001b[0m\u001b[0m\n",
      "\u001b[1;32m~\\anaconda3\\envs\\IBM Data Science Project\\lib\\site-packages\\pandas\\plotting\\_matplotlib\\core.py\u001b[0m in \u001b[0;36m_make_plot\u001b[1;34m(self)\u001b[0m\n\u001b[0;32m    973\u001b[0m             \u001b[0mlabel\u001b[0m\u001b[1;33m=\u001b[0m\u001b[0mlabel\u001b[0m\u001b[1;33m,\u001b[0m\u001b[1;33m\u001b[0m\u001b[1;33m\u001b[0m\u001b[0m\n\u001b[0;32m    974\u001b[0m             \u001b[0mcmap\u001b[0m\u001b[1;33m=\u001b[0m\u001b[0mcmap\u001b[0m\u001b[1;33m,\u001b[0m\u001b[1;33m\u001b[0m\u001b[1;33m\u001b[0m\u001b[0m\n\u001b[1;32m--> 975\u001b[1;33m             \u001b[1;33m**\u001b[0m\u001b[0mself\u001b[0m\u001b[1;33m.\u001b[0m\u001b[0mkwds\u001b[0m\u001b[1;33m,\u001b[0m\u001b[1;33m\u001b[0m\u001b[1;33m\u001b[0m\u001b[0m\n\u001b[0m\u001b[0;32m    976\u001b[0m         )\n\u001b[0;32m    977\u001b[0m         \u001b[1;32mif\u001b[0m \u001b[0mcb\u001b[0m\u001b[1;33m:\u001b[0m\u001b[1;33m\u001b[0m\u001b[1;33m\u001b[0m\u001b[0m\n",
      "\u001b[1;32m~\\anaconda3\\envs\\IBM Data Science Project\\lib\\site-packages\\matplotlib\\__init__.py\u001b[0m in \u001b[0;36minner\u001b[1;34m(ax, data, *args, **kwargs)\u001b[0m\n\u001b[0;32m   1359\u001b[0m     \u001b[1;32mdef\u001b[0m \u001b[0minner\u001b[0m\u001b[1;33m(\u001b[0m\u001b[0max\u001b[0m\u001b[1;33m,\u001b[0m \u001b[1;33m*\u001b[0m\u001b[0margs\u001b[0m\u001b[1;33m,\u001b[0m \u001b[0mdata\u001b[0m\u001b[1;33m=\u001b[0m\u001b[1;32mNone\u001b[0m\u001b[1;33m,\u001b[0m \u001b[1;33m**\u001b[0m\u001b[0mkwargs\u001b[0m\u001b[1;33m)\u001b[0m\u001b[1;33m:\u001b[0m\u001b[1;33m\u001b[0m\u001b[1;33m\u001b[0m\u001b[0m\n\u001b[0;32m   1360\u001b[0m         \u001b[1;32mif\u001b[0m \u001b[0mdata\u001b[0m \u001b[1;32mis\u001b[0m \u001b[1;32mNone\u001b[0m\u001b[1;33m:\u001b[0m\u001b[1;33m\u001b[0m\u001b[1;33m\u001b[0m\u001b[0m\n\u001b[1;32m-> 1361\u001b[1;33m             \u001b[1;32mreturn\u001b[0m \u001b[0mfunc\u001b[0m\u001b[1;33m(\u001b[0m\u001b[0max\u001b[0m\u001b[1;33m,\u001b[0m \u001b[1;33m*\u001b[0m\u001b[0mmap\u001b[0m\u001b[1;33m(\u001b[0m\u001b[0msanitize_sequence\u001b[0m\u001b[1;33m,\u001b[0m \u001b[0margs\u001b[0m\u001b[1;33m)\u001b[0m\u001b[1;33m,\u001b[0m \u001b[1;33m**\u001b[0m\u001b[0mkwargs\u001b[0m\u001b[1;33m)\u001b[0m\u001b[1;33m\u001b[0m\u001b[1;33m\u001b[0m\u001b[0m\n\u001b[0m\u001b[0;32m   1362\u001b[0m \u001b[1;33m\u001b[0m\u001b[0m\n\u001b[0;32m   1363\u001b[0m         \u001b[0mbound\u001b[0m \u001b[1;33m=\u001b[0m \u001b[0mnew_sig\u001b[0m\u001b[1;33m.\u001b[0m\u001b[0mbind\u001b[0m\u001b[1;33m(\u001b[0m\u001b[0max\u001b[0m\u001b[1;33m,\u001b[0m \u001b[1;33m*\u001b[0m\u001b[0margs\u001b[0m\u001b[1;33m,\u001b[0m \u001b[1;33m**\u001b[0m\u001b[0mkwargs\u001b[0m\u001b[1;33m)\u001b[0m\u001b[1;33m\u001b[0m\u001b[1;33m\u001b[0m\u001b[0m\n",
      "\u001b[1;32m~\\anaconda3\\envs\\IBM Data Science Project\\lib\\site-packages\\matplotlib\\axes\\_axes.py\u001b[0m in \u001b[0;36mscatter\u001b[1;34m(self, x, y, s, c, marker, cmap, norm, vmin, vmax, alpha, linewidths, edgecolors, plotnonfinite, **kwargs)\u001b[0m\n\u001b[0;32m   4516\u001b[0m             self._parse_scatter_color_args(\n\u001b[0;32m   4517\u001b[0m                 \u001b[0mc\u001b[0m\u001b[1;33m,\u001b[0m \u001b[0medgecolors\u001b[0m\u001b[1;33m,\u001b[0m \u001b[0mkwargs\u001b[0m\u001b[1;33m,\u001b[0m \u001b[0mx\u001b[0m\u001b[1;33m.\u001b[0m\u001b[0msize\u001b[0m\u001b[1;33m,\u001b[0m\u001b[1;33m\u001b[0m\u001b[1;33m\u001b[0m\u001b[0m\n\u001b[1;32m-> 4518\u001b[1;33m                 get_next_color_func=self._get_patches_for_fill.get_next_color)\n\u001b[0m\u001b[0;32m   4519\u001b[0m \u001b[1;33m\u001b[0m\u001b[0m\n\u001b[0;32m   4520\u001b[0m         \u001b[1;32mif\u001b[0m \u001b[0mplotnonfinite\u001b[0m \u001b[1;32mand\u001b[0m \u001b[0mcolors\u001b[0m \u001b[1;32mis\u001b[0m \u001b[1;32mNone\u001b[0m\u001b[1;33m:\u001b[0m\u001b[1;33m\u001b[0m\u001b[1;33m\u001b[0m\u001b[0m\n",
      "\u001b[1;32m~\\anaconda3\\envs\\IBM Data Science Project\\lib\\site-packages\\matplotlib\\axes\\_axes.py\u001b[0m in \u001b[0;36m_parse_scatter_color_args\u001b[1;34m(c, edgecolors, kwargs, xsize, get_next_color_func)\u001b[0m\n\u001b[0;32m   4359\u001b[0m                     raise ValueError(\n\u001b[0;32m   4360\u001b[0m                         \u001b[1;34mf\"'c' argument must be a color, a sequence of colors, \"\u001b[0m\u001b[1;33m\u001b[0m\u001b[1;33m\u001b[0m\u001b[0m\n\u001b[1;32m-> 4361\u001b[1;33m                         f\"or a sequence of numbers, not {c}\") from err\n\u001b[0m\u001b[0;32m   4362\u001b[0m             \u001b[1;32melse\u001b[0m\u001b[1;33m:\u001b[0m\u001b[1;33m\u001b[0m\u001b[1;33m\u001b[0m\u001b[0m\n\u001b[0;32m   4363\u001b[0m                 \u001b[1;32mif\u001b[0m \u001b[0mlen\u001b[0m\u001b[1;33m(\u001b[0m\u001b[0mcolors\u001b[0m\u001b[1;33m)\u001b[0m \u001b[1;32mnot\u001b[0m \u001b[1;32min\u001b[0m \u001b[1;33m(\u001b[0m\u001b[1;36m0\u001b[0m\u001b[1;33m,\u001b[0m \u001b[1;36m1\u001b[0m\u001b[1;33m,\u001b[0m \u001b[0mxsize\u001b[0m\u001b[1;33m)\u001b[0m\u001b[1;33m:\u001b[0m\u001b[1;33m\u001b[0m\u001b[1;33m\u001b[0m\u001b[0m\n",
      "\u001b[1;31mValueError\u001b[0m: 'c' argument must be a color, a sequence of colors, or a sequence of numbers, not Price/sqm"
     ]
    },
    {
     "data": {
      "image/png": "[encoded data removed]",
      "text/plain": [
       "<Figure size 1440x720 with 1 Axes>"
      ]
     },
     "metadata": {
      "needs_background": "light"
     },
     "output_type": "display_data"
    }
   ],
   "source": [
    "df_dropped.plot(kind='scatter', \n",
    "                x = 'Latitude', \n",
    "                y= 'Longitude', \n",
    "                c='Price/sqm', \n",
    "                label= 'Price', \n",
    "                cmap = 'cool',\n",
    "                colorbar = True,\n",
    "                figsize = (20,10))\n",
    "plt.show()"
   ]
  },
  {
   "cell_type": "code",
   "execution_count": 173,
   "id": "3933bf3f-579c-41f3-a6f6-59790292e4b9",
   "metadata": {},
   "outputs": [
    {
     "name": "stderr",
     "output_type": "stream",
     "text": [
      "C:\\Users\\Randy\\anaconda3\\envs\\IBM Data Science Project\\lib\\site-packages\\pandas\\plotting\\_matplotlib\\tools.py:331: MatplotlibDeprecationWarning: \n",
      "The is_first_col function was deprecated in Matplotlib 3.4 and will be removed two minor releases later. Use ax.get_subplotspec().is_first_col() instead.\n",
      "  if ax.is_first_col():\n"
     ]
    },
    {
     "data": {
      "image/png": "[encoded data removed]",
      "text/plain": [
       "<Figure size 432x288 with 1 Axes>"
      ]
     },
     "metadata": {
      "needs_background": "light"
     },
     "output_type": "display_data"
    },
    {
     "data": {
      "image/png": "[encoded data removed]",
      "text/plain": [
       "<Figure size 1440x720 with 2 Axes>"
      ]
     },
     "metadata": {
      "needs_background": "light"
     },
     "output_type": "display_data"
    }
   ],
   "source": [
    "fig , ax = plt.subplots()\n",
    "#plt.figure(figsize=(10,7))\n",
    "img= plt.imread('SingaporeMap.png')\n",
    "\n",
    "\n",
    "plt.imshow(img,zorder=0,extent=[df_dropped.Longitude.min(),df_dropped.Longitude.max(),df_dropped.Latitude.min(),df_dropped.Latitude.max()], cmap= 'gray')\n",
    "ax = plt.gca()\n",
    "df_dropped.plot(kind='scatter', \n",
    "                x = 'Latitude', \n",
    "                y= 'Longitude', \n",
    "                c='resale_price', \n",
    "                #s = df_dropped\n",
    "                label= 'Price', \n",
    "                cmap = 'jet',\n",
    "                colorbar = True,\n",
    "                figsize = (20,10))\n",
    "plt.legend()\n",
    "plt.show()"
   ]
  },
  {
   "cell_type": "code",
   "execution_count": 9,
   "id": "6ae1b0fb-7d35-42cb-942d-a50f6758c3b4",
   "metadata": {},
   "outputs": [],
   "source": [
    "df_dropped.drop(columns=['town','lease_commence_date','Price/sqm'], inplace = True)\n",
    "df_dropped.District = df_dropped.District.astype(str)\n",
    "df_dropped.drop(columns=['street_name','block'], inplace = True)"
   ]
  },
  {
   "cell_type": "code",
   "execution_count": 10,
   "id": "c7c71dce-2be1-438e-8bdf-9a2f669b0107",
   "metadata": {},
   "outputs": [
    {
     "data": {
      "text/html": [
       "<div>\n",
       "<style scoped>\n",
       "    .dataframe tbody tr th:only-of-type {\n",
       "        vertical-align: middle;\n",
       "    }\n",
       "\n",
       "    .dataframe tbody tr th {\n",
       "        vertical-align: top;\n",
       "    }\n",
       "\n",
       "    .dataframe thead th {\n",
       "        text-align: right;\n",
       "    }\n",
       "</style>\n",
       "<table border=\"1\" class=\"dataframe\">\n",
       "  <thead>\n",
       "    <tr style=\"text-align: right;\">\n",
       "      <th></th>\n",
       "      <th>District</th>\n",
       "      <th>month</th>\n",
       "      <th>flat_type</th>\n",
       "      <th>storey_range</th>\n",
       "      <th>floor_area_sqm</th>\n",
       "      <th>flat_model</th>\n",
       "      <th>remaining_lease</th>\n",
       "      <th>resale_price</th>\n",
       "      <th>Latitude</th>\n",
       "      <th>Longitude</th>\n",
       "      <th>mrtdist</th>\n",
       "    </tr>\n",
       "  </thead>\n",
       "  <tbody>\n",
       "    <tr>\n",
       "      <th>0</th>\n",
       "      <td>20</td>\n",
       "      <td>1 01 2017</td>\n",
       "      <td>2 ROOM</td>\n",
       "      <td>10 TO 12</td>\n",
       "      <td>44.0</td>\n",
       "      <td>Improved</td>\n",
       "      <td>61</td>\n",
       "      <td>232000.0</td>\n",
       "      <td>1.375748</td>\n",
       "      <td>103.854640</td>\n",
       "      <td>11816.314673</td>\n",
       "    </tr>\n",
       "    <tr>\n",
       "      <th>1</th>\n",
       "      <td>20</td>\n",
       "      <td>1 01 2017</td>\n",
       "      <td>3 ROOM</td>\n",
       "      <td>01 TO 03</td>\n",
       "      <td>67.0</td>\n",
       "      <td>New Generation</td>\n",
       "      <td>60</td>\n",
       "      <td>250000.0</td>\n",
       "      <td>1.369525</td>\n",
       "      <td>103.837238</td>\n",
       "      <td>9815.395378</td>\n",
       "    </tr>\n",
       "    <tr>\n",
       "      <th>2</th>\n",
       "      <td>20</td>\n",
       "      <td>1 01 2017</td>\n",
       "      <td>3 ROOM</td>\n",
       "      <td>01 TO 03</td>\n",
       "      <td>67.0</td>\n",
       "      <td>New Generation</td>\n",
       "      <td>62</td>\n",
       "      <td>262000.0</td>\n",
       "      <td>1.380760</td>\n",
       "      <td>103.835425</td>\n",
       "      <td>10411.841335</td>\n",
       "    </tr>\n",
       "    <tr>\n",
       "      <th>3</th>\n",
       "      <td>20</td>\n",
       "      <td>1 01 2017</td>\n",
       "      <td>3 ROOM</td>\n",
       "      <td>04 TO 06</td>\n",
       "      <td>68.0</td>\n",
       "      <td>New Generation</td>\n",
       "      <td>62</td>\n",
       "      <td>265000.0</td>\n",
       "      <td>1.366213</td>\n",
       "      <td>103.857175</td>\n",
       "      <td>11548.766494</td>\n",
       "    </tr>\n",
       "    <tr>\n",
       "      <th>4</th>\n",
       "      <td>20</td>\n",
       "      <td>1 01 2017</td>\n",
       "      <td>3 ROOM</td>\n",
       "      <td>01 TO 03</td>\n",
       "      <td>67.0</td>\n",
       "      <td>New Generation</td>\n",
       "      <td>62</td>\n",
       "      <td>265000.0</td>\n",
       "      <td>1.380987</td>\n",
       "      <td>103.835076</td>\n",
       "      <td>10398.678760</td>\n",
       "    </tr>\n",
       "  </tbody>\n",
       "</table>\n",
       "</div>"
      ],
      "text/plain": [
       "  District      month flat_type storey_range  floor_area_sqm      flat_model  \\\n",
       "0       20  1 01 2017    2 ROOM     10 TO 12            44.0        Improved   \n",
       "1       20  1 01 2017    3 ROOM     01 TO 03            67.0  New Generation   \n",
       "2       20  1 01 2017    3 ROOM     01 TO 03            67.0  New Generation   \n",
       "3       20  1 01 2017    3 ROOM     04 TO 06            68.0  New Generation   \n",
       "4       20  1 01 2017    3 ROOM     01 TO 03            67.0  New Generation   \n",
       "\n",
       "   remaining_lease  resale_price  Latitude   Longitude       mrtdist  \n",
       "0               61      232000.0  1.375748  103.854640  11816.314673  \n",
       "1               60      250000.0  1.369525  103.837238   9815.395378  \n",
       "2               62      262000.0  1.380760  103.835425  10411.841335  \n",
       "3               62      265000.0  1.366213  103.857175  11548.766494  \n",
       "4               62      265000.0  1.380987  103.835076  10398.678760  "
      ]
     },
     "execution_count": 10,
     "metadata": {},
     "output_type": "execute_result"
    }
   ],
   "source": [
    "df_dropped.head()"
   ]
  },
  {
   "cell_type": "code",
   "execution_count": 11,
   "id": "9b896c06-a4f4-4d1a-b513-e7864b2c76ca",
   "metadata": {},
   "outputs": [
    {
     "name": "stdout",
     "output_type": "stream",
     "text": [
      "<class 'pandas.core.frame.DataFrame'>\n",
      "Int64Index: 113959 entries, 0 to 113958\n",
      "Data columns (total 11 columns):\n",
      " #   Column           Non-Null Count   Dtype  \n",
      "---  ------           --------------   -----  \n",
      " 0   District         113959 non-null  object \n",
      " 1   month            113959 non-null  object \n",
      " 2   flat_type        113959 non-null  object \n",
      " 3   storey_range     113959 non-null  object \n",
      " 4   floor_area_sqm   113959 non-null  float64\n",
      " 5   flat_model       113959 non-null  object \n",
      " 6   remaining_lease  113959 non-null  int64  \n",
      " 7   resale_price     113959 non-null  float64\n",
      " 8   Latitude         113959 non-null  float64\n",
      " 9   Longitude        113959 non-null  float64\n",
      " 10  mrtdist          113959 non-null  float64\n",
      "dtypes: float64(5), int64(1), object(5)\n",
      "memory usage: 10.4+ MB\n"
     ]
    }
   ],
   "source": [
    "df_dropped.info()"
   ]
  },
  {
   "cell_type": "markdown",
   "id": "2587b510-2ecd-40e7-b31a-6c8ee5b25ea7",
   "metadata": {
    "tags": []
   },
   "source": [
    "# Feature Engineering"
   ]
  },
  {
   "cell_type": "code",
   "execution_count": 12,
   "id": "ca676a65-f787-4f04-a0d3-ac4effde0b32",
   "metadata": {},
   "outputs": [],
   "source": [
    "## PCA here, DBSCAN\n",
    "\n",
    "from sklearn.decomposition import PCA\n",
    "from sklearn.cluster import DBSCAN"
   ]
  },
  {
   "cell_type": "markdown",
   "id": "28ee199f-03c4-4584-8743-25a7f48dcbce",
   "metadata": {},
   "source": [
    "polynominal features (degree 2) added in for numerical features below in pipeline"
   ]
  },
  {
   "cell_type": "markdown",
   "id": "6c2f0c4d-2d2c-4051-abd9-be02beb37697",
   "metadata": {},
   "source": [
    "# Modelling"
   ]
  },
  {
   "cell_type": "code",
   "execution_count": 13,
   "id": "370a90c4-ee1a-4c65-9f5b-a56ed646dfd4",
   "metadata": {},
   "outputs": [],
   "source": [
    "from sklearn.preprocessing import StandardScaler , OneHotEncoder , PolynomialFeatures\n",
    "from sklearn.compose import ColumnTransformer\n",
    "from sklearn.pipeline import Pipeline\n",
    "from sklearn.model_selection import train_test_split, GridSearchCV, cross_val_score\n",
    "from sklearn.linear_model import LinearRegression , Lasso, Ridge\n",
    "from sklearn.tree import DecisionTreeRegressor\n",
    "from sklearn.ensemble import RandomForestRegressor, BaggingRegressor, VotingRegressor\n",
    "import xgboost as xgb\n",
    "import lightgbm as lgb\n",
    "from sklearn.metrics import mean_absolute_error, mean_squared_error, r2_score\n",
    "\n",
    "import pickle\n",
    "\n",
    "seed_number = 42"
   ]
  },
  {
   "cell_type": "code",
   "execution_count": 14,
   "id": "6446bce5-8391-421f-aee0-dc2e497075fb",
   "metadata": {},
   "outputs": [],
   "source": [
    "y = df_dropped.resale_price\n",
    "x = df_dropped.loc[:, df_dropped.columns != 'resale_price']"
   ]
  },
  {
   "cell_type": "code",
   "execution_count": 15,
   "id": "ac3769ff-5d7b-4d28-8df2-1d408fbd8c3f",
   "metadata": {},
   "outputs": [],
   "source": [
    "num_cols = x.select_dtypes(['float64','int64']).columns\n",
    "cat_cols = x.select_dtypes(['object']).columns"
   ]
  },
  {
   "cell_type": "code",
   "execution_count": 16,
   "id": "7d5843dc-de23-4953-804c-ec846c385cdb",
   "metadata": {},
   "outputs": [
    {
     "data": {
      "text/plain": [
       "(113959, 11)"
      ]
     },
     "execution_count": 16,
     "metadata": {},
     "output_type": "execute_result"
    }
   ],
   "source": [
    "df_dropped.shape"
   ]
  },
  {
   "cell_type": "code",
   "execution_count": 17,
   "id": "926fcbb3-55ba-4469-9fc7-51b3364e00f1",
   "metadata": {},
   "outputs": [],
   "source": [
    "# Creating training, validation and test sets\n",
    "\n",
    "X_train, X_temp, y_train, y_temp = train_test_split(x, y ,\n",
    "                                                    test_size = 0.2, \n",
    "                                                    shuffle = True,\n",
    "                                                   random_state = seed_number)"
   ]
  },
  {
   "cell_type": "code",
   "execution_count": 18,
   "id": "fbeb6114-3d86-4d64-82bf-f74b12cb777d",
   "metadata": {},
   "outputs": [],
   "source": [
    "X_test, X_val, y_test, y_val = train_test_split(X_temp, y_temp ,\n",
    "                                                    test_size = 0.5, \n",
    "                                                    shuffle = True,\n",
    "                                                   random_state = seed_number)"
   ]
  },
  {
   "cell_type": "code",
   "execution_count": 19,
   "id": "9038c4e7-b839-41af-b75b-4b6f14f0ffb1",
   "metadata": {},
   "outputs": [
    {
     "name": "stdout",
     "output_type": "stream",
     "text": [
      "Shapes\n",
      "X_train.shape \t (91167, 10)\n",
      "X_val.shape \t (11396, 10)\n",
      "X_test.shape \t (11396, 10)\n",
      "y_train.shape \t (91167,)\n",
      "y_val.shape \t (11396,)\n",
      "y_test.shape \t (11396,)\n"
     ]
    }
   ],
   "source": [
    "print('Shapes')\n",
    "print('X_train.shape \\t' , X_train.shape)\n",
    "print('X_val.shape \\t' , X_val.shape)\n",
    "print('X_test.shape \\t' , X_test.shape)\n",
    "print('y_train.shape \\t' , y_train.shape)\n",
    "print('y_val.shape \\t' , y_val.shape)\n",
    "print('y_test.shape \\t' , y_test.shape)"
   ]
  },
  {
   "cell_type": "code",
   "execution_count": 20,
   "id": "57261ce3-99be-42bf-8861-f67138d884bc",
   "metadata": {},
   "outputs": [
    {
     "data": {
      "text/html": [
       "<div>\n",
       "<style scoped>\n",
       "    .dataframe tbody tr th:only-of-type {\n",
       "        vertical-align: middle;\n",
       "    }\n",
       "\n",
       "    .dataframe tbody tr th {\n",
       "        vertical-align: top;\n",
       "    }\n",
       "\n",
       "    .dataframe thead th {\n",
       "        text-align: right;\n",
       "    }\n",
       "</style>\n",
       "<table border=\"1\" class=\"dataframe\">\n",
       "  <thead>\n",
       "    <tr style=\"text-align: right;\">\n",
       "      <th></th>\n",
       "      <th>District</th>\n",
       "      <th>month</th>\n",
       "      <th>flat_type</th>\n",
       "      <th>storey_range</th>\n",
       "      <th>floor_area_sqm</th>\n",
       "      <th>flat_model</th>\n",
       "      <th>remaining_lease</th>\n",
       "      <th>Latitude</th>\n",
       "      <th>Longitude</th>\n",
       "      <th>mrtdist</th>\n",
       "    </tr>\n",
       "  </thead>\n",
       "  <tbody>\n",
       "    <tr>\n",
       "      <th>70882</th>\n",
       "      <td>23</td>\n",
       "      <td>1 06 2020</td>\n",
       "      <td>4 ROOM</td>\n",
       "      <td>10 TO 12</td>\n",
       "      <td>104.0</td>\n",
       "      <td>Model A</td>\n",
       "      <td>62</td>\n",
       "      <td>1.346244</td>\n",
       "      <td>103.749405</td>\n",
       "      <td>3338.185833</td>\n",
       "    </tr>\n",
       "    <tr>\n",
       "      <th>88389</th>\n",
       "      <td>13</td>\n",
       "      <td>1 01 2021</td>\n",
       "      <td>3 ROOM</td>\n",
       "      <td>10 TO 12</td>\n",
       "      <td>67.0</td>\n",
       "      <td>Model A</td>\n",
       "      <td>94</td>\n",
       "      <td>1.329476</td>\n",
       "      <td>103.889293</td>\n",
       "      <td>13955.930962</td>\n",
       "    </tr>\n",
       "    <tr>\n",
       "      <th>42714</th>\n",
       "      <td>22</td>\n",
       "      <td>1 01 2019</td>\n",
       "      <td>3 ROOM</td>\n",
       "      <td>04 TO 06</td>\n",
       "      <td>67.0</td>\n",
       "      <td>New Generation</td>\n",
       "      <td>63</td>\n",
       "      <td>1.348451</td>\n",
       "      <td>103.717384</td>\n",
       "      <td>6077.481309</td>\n",
       "    </tr>\n",
       "    <tr>\n",
       "      <th>66256</th>\n",
       "      <td>16</td>\n",
       "      <td>1 02 2020</td>\n",
       "      <td>3 ROOM</td>\n",
       "      <td>13 TO 15</td>\n",
       "      <td>67.0</td>\n",
       "      <td>New Generation</td>\n",
       "      <td>58</td>\n",
       "      <td>1.334728</td>\n",
       "      <td>103.928924</td>\n",
       "      <td>18394.625537</td>\n",
       "    </tr>\n",
       "    <tr>\n",
       "      <th>61448</th>\n",
       "      <td>18</td>\n",
       "      <td>1 11 2019</td>\n",
       "      <td>EXECUTIVE</td>\n",
       "      <td>13 TO 15</td>\n",
       "      <td>146.0</td>\n",
       "      <td>Apartment</td>\n",
       "      <td>73</td>\n",
       "      <td>1.376877</td>\n",
       "      <td>103.945004</td>\n",
       "      <td>21078.464975</td>\n",
       "    </tr>\n",
       "  </tbody>\n",
       "</table>\n",
       "</div>"
      ],
      "text/plain": [
       "      District      month  flat_type storey_range  floor_area_sqm  \\\n",
       "70882       23  1 06 2020     4 ROOM     10 TO 12           104.0   \n",
       "88389       13  1 01 2021     3 ROOM     10 TO 12            67.0   \n",
       "42714       22  1 01 2019     3 ROOM     04 TO 06            67.0   \n",
       "66256       16  1 02 2020     3 ROOM     13 TO 15            67.0   \n",
       "61448       18  1 11 2019  EXECUTIVE     13 TO 15           146.0   \n",
       "\n",
       "           flat_model  remaining_lease  Latitude   Longitude       mrtdist  \n",
       "70882         Model A               62  1.346244  103.749405   3338.185833  \n",
       "88389         Model A               94  1.329476  103.889293  13955.930962  \n",
       "42714  New Generation               63  1.348451  103.717384   6077.481309  \n",
       "66256  New Generation               58  1.334728  103.928924  18394.625537  \n",
       "61448       Apartment               73  1.376877  103.945004  21078.464975  "
      ]
     },
     "execution_count": 20,
     "metadata": {},
     "output_type": "execute_result"
    }
   ],
   "source": [
    "X_train.head()"
   ]
  },
  {
   "cell_type": "code",
   "execution_count": 21,
   "id": "2064f34c-fc57-4a81-b9f7-bcf280a9ce16",
   "metadata": {},
   "outputs": [],
   "source": [
    "# Pipeline needs to include the elimination of the column and feature transformation / engineering"
   ]
  },
  {
   "cell_type": "code",
   "execution_count": 22,
   "id": "e60ac87e-62ac-4604-aa63-393b71f0a35a",
   "metadata": {},
   "outputs": [],
   "source": [
    "# Pipeline\n",
    "\n",
    "# Scale numerical variables\n",
    "\n",
    "num_pipeline = Pipeline([\n",
    "    ('ss', StandardScaler()),\n",
    "    ('poly', PolynomialFeatures())\n",
    "])\n",
    "\n",
    "# One hot encoding categorical variables\n",
    "\n",
    "cat_pipline = Pipeline([\n",
    "    ('ohe', OneHotEncoder(drop = 'first'))\n",
    "])\n",
    "\n",
    "preprocess = ColumnTransformer([\n",
    "    ('num', num_pipeline, num_cols),\n",
    "    ('cat', cat_pipline, cat_cols)\n",
    "])"
   ]
  },
  {
   "cell_type": "code",
   "execution_count": 23,
   "id": "a6017e1d-4008-4358-80e2-99504caa94a2",
   "metadata": {},
   "outputs": [],
   "source": [
    "X_train_preprocessed = preprocess.fit_transform(X_train)"
   ]
  },
  {
   "cell_type": "code",
   "execution_count": 24,
   "id": "d03c3409-ee5a-4851-b918-0fa2035ac628",
   "metadata": {},
   "outputs": [],
   "source": [
    "X_val_preprocessed = preprocess.transform(X_val)"
   ]
  },
  {
   "cell_type": "code",
   "execution_count": 25,
   "id": "4d1a4cac-a6f8-4ada-a091-40b1f034dc18",
   "metadata": {},
   "outputs": [
    {
     "data": {
      "text/plain": [
       "(91167, 143)"
      ]
     },
     "execution_count": 25,
     "metadata": {},
     "output_type": "execute_result"
    }
   ],
   "source": [
    "X_train_preprocessed.shape"
   ]
  },
  {
   "cell_type": "code",
   "execution_count": 26,
   "id": "b2b8e921-8623-4f90-8706-be996533333d",
   "metadata": {},
   "outputs": [
    {
     "data": {
      "text/plain": [
       "<10x143 sparse matrix of type '<class 'numpy.float64'>'\n",
       "\twith 260 stored elements in Compressed Sparse Row format>"
      ]
     },
     "execution_count": 26,
     "metadata": {},
     "output_type": "execute_result"
    }
   ],
   "source": [
    "X_train_preprocessed[:10]"
   ]
  },
  {
   "cell_type": "code",
   "execution_count": 27,
   "id": "9866fc7c-0ae2-446c-816f-4352be0602da",
   "metadata": {},
   "outputs": [
    {
     "data": {
      "text/plain": [
       "(1, 143)"
      ]
     },
     "execution_count": 27,
     "metadata": {},
     "output_type": "execute_result"
    }
   ],
   "source": [
    "X_train_preprocessed[0].shape"
   ]
  },
  {
   "cell_type": "code",
   "execution_count": 28,
   "id": "8962bf7f-d906-453d-b1f2-e9406cef639c",
   "metadata": {},
   "outputs": [
    {
     "data": {
      "text/plain": [
       "(11396, 143)"
      ]
     },
     "execution_count": 28,
     "metadata": {},
     "output_type": "execute_result"
    }
   ],
   "source": [
    "X_val_preprocessed.shape"
   ]
  },
  {
   "cell_type": "code",
   "execution_count": 29,
   "id": "4a25191e-afa2-46f8-89c4-99745a9151d3",
   "metadata": {},
   "outputs": [],
   "source": [
    "def plot_results(mse_train, mse_cv, title):\n",
    "    \n",
    "    cv = len(mse_cv)    \n",
    "    fig, ax = plt.subplots(figsize = (5,5))\n",
    "    \n",
    "    train_mse_list = []\n",
    "    for i in range(cv):\n",
    "        train_mse_list.append(mse_train)\n",
    "    \n",
    "    ax.plot(range(cv), train_mse_list, 'r-', label = 'Training RMSE')\n",
    "    ax.plot(range(cv), mse_cv, 'b--', label = 'Validation RMSE')\n",
    "    ax.set_title(title)\n",
    "    ax.set_xlabel('K-Folds')\n",
    "    ax.set_ylabel('Error')\n",
    "    ax.legend()\n",
    "    plt.show()"
   ]
  },
  {
   "cell_type": "code",
   "execution_count": 30,
   "id": "2d746df3-d68f-4f92-b2bf-ca751cb0d6f0",
   "metadata": {},
   "outputs": [],
   "source": [
    "model_list = {'Linear Regression':LinearRegression(), \n",
    "              'Lasso':Lasso(),\n",
    "              'Ridge': Ridge(), \n",
    "              'Light Gradient Boosting Machine' : lgb.LGBMRegressor(random_state=seed_number),\n",
    "              'Decision Tree' :DecisionTreeRegressor()\n",
    "              #'Random Forest' :RandomForestRegressor()\n",
    "             }"
   ]
  },
  {
   "cell_type": "code",
   "execution_count": 31,
   "id": "700e13ba-d345-47ea-8173-7c261cab93d6",
   "metadata": {},
   "outputs": [],
   "source": [
    "# Check for overfitting, shortlisting models"
   ]
  },
  {
   "cell_type": "code",
   "execution_count": 32,
   "id": "fb8e50ff-80c6-463f-a408-56312fbfb28b",
   "metadata": {},
   "outputs": [
    {
     "name": "stdout",
     "output_type": "stream",
     "text": [
      "Model is  Linear Regression\n",
      "RMSE  49810.200254529394\n",
      "MAE  37906.006422190956\n",
      "Val RMSE  [52083.30557033009, 52146.53349526144, 51671.04395674182, 52385.2931983819, 49468.92071564983, 49782.675100117536, 50032.807760023315]\n",
      "Mean Val RMSE  51081.51139950085\n",
      "R2 Score  0.9047519253161234\n"
     ]
    },
    {
     "data": {
      "image/png": "[encoded data removed]",
      "text/plain": [
       "<Figure size 360x360 with 1 Axes>"
      ]
     },
     "metadata": {
      "needs_background": "light"
     },
     "output_type": "display_data"
    },
    {
     "name": "stderr",
     "output_type": "stream",
     "text": [
      "C:\\Users\\Randy\\anaconda3\\envs\\IBM Data Science Project\\lib\\site-packages\\sklearn\\linear_model\\_coordinate_descent.py:515: ConvergenceWarning: Objective did not converge. You might want to increase the number of iterations. Duality gap: 60653559128272.3, tolerance: 227761282658.64008\n",
      "  max_iter, tol, rng, random, positive)\n"
     ]
    },
    {
     "name": "stdout",
     "output_type": "stream",
     "text": [
      "Model is  Lasso\n",
      "RMSE  49809.80195752661\n",
      "MAE  37905.536420302065\n",
      "Val RMSE  [52107.20317377479, 52129.96470860463, 51606.544403379085, 52367.67340380643, 49463.2047111623, 49776.66794420368, 50009.268869035805]\n",
      "Mean Val RMSE  51065.78960199525\n",
      "R2 Score  0.9047534485732392\n"
     ]
    },
    {
     "data": {
      "image/png": "[encoded data removed]",
      "text/plain": [
       "<Figure size 360x360 with 1 Axes>"
      ]
     },
     "metadata": {
      "needs_background": "light"
     },
     "output_type": "display_data"
    },
    {
     "name": "stdout",
     "output_type": "stream",
     "text": [
      "Model is  Ridge\n",
      "RMSE  49893.746220772686\n",
      "MAE  37984.94084608994\n",
      "Val RMSE  [52606.269738833726, 51960.75688657594, 51470.21001213606, 52442.7485219503, 49355.35395303374, 50117.08261918657, 49894.02515784334]\n",
      "Mean Val RMSE  51120.9209842228\n",
      "R2 Score  0.904432140775128\n"
     ]
    },
    {
     "data": {
      "image/png": "[encoded data removed]",
      "text/plain": [
       "<Figure size 360x360 with 1 Axes>"
      ]
     },
     "metadata": {
      "needs_background": "light"
     },
     "output_type": "display_data"
    },
    {
     "name": "stdout",
     "output_type": "stream",
     "text": [
      "Model is  Light Gradient Boosting Machine\n",
      "RMSE  34644.378884782\n",
      "MAE  25359.940191078073\n",
      "Val RMSE  [41300.13517926713, 43223.955972324315, 43755.01800123391, 44170.693610235205, 38941.62888285342, 44202.96129670231, 40603.01210958522]\n",
      "Mean Val RMSE  42313.91500745736\n",
      "R2 Score  0.9539228945123425\n"
     ]
    },
    {
     "data": {
      "image/png": "[encoded data removed]",
      "text/plain": [
       "<Figure size 360x360 with 1 Axes>"
      ]
     },
     "metadata": {
      "needs_background": "light"
     },
     "output_type": "display_data"
    },
    {
     "name": "stdout",
     "output_type": "stream",
     "text": [
      "Model is  Decision Tree\n",
      "RMSE  41344.16226107062\n",
      "MAE  28566.32504007254\n",
      "Val RMSE  [65366.78899067208, 70703.88088852561, 69125.37741400658, 63351.02318026845, 63380.016379127635, 65856.87322618841, 62087.67077014941]\n",
      "Mean Val RMSE  65695.94726413403\n",
      "R2 Score  0.9343782174932647\n"
     ]
    },
    {
     "data": {
      "image/png": "[encoded data removed]",
      "text/plain": [
       "<Figure size 360x360 with 1 Axes>"
      ]
     },
     "metadata": {
      "needs_background": "light"
     },
     "output_type": "display_data"
    }
   ],
   "source": [
    "cv = 7\n",
    "training_samples = 5000\n",
    "\n",
    "train_rmse_list = []\n",
    "val_rmse_list = []\n",
    "\n",
    "for name , model in model_list.items():\n",
    "    \n",
    "    model_instance = model.fit(X_train_preprocessed, y_train)\n",
    "    y_pred = model_instance.predict(X_val_preprocessed)\n",
    "\n",
    "    mse_train = mean_squared_error(y_val, y_pred)**(1/2)\n",
    "    mae_train = mean_absolute_error(y_val, y_pred)\n",
    "    r2_train = r2_score(y_val, y_pred)\n",
    "    \n",
    "    model_cv_score = cross_val_score(model_instance,X_train_preprocessed[:training_samples], y_train[:training_samples], scoring = 'neg_mean_squared_error', cv=cv, n_jobs = -1)\n",
    "    \n",
    "    model_cv_rmse = (-model_cv_score)**(1/2)\n",
    "    \n",
    "    with open(name+'_pkl', 'wb') as files:\n",
    "        pickle.dump(model, files)\n",
    "    \n",
    "    # with open(name+'_results_pkl', 'wb') as files:\n",
    "    #     pickle.dump(model, files)\n",
    "    \n",
    "    train_rmse_list.append(mse_train)\n",
    "    val_rmse_list.append(model_cv_rmse)\n",
    "    \n",
    "    print('Model is ', name)\n",
    "    print('RMSE ', mse_train)\n",
    "    print('MAE ', mae_train)\n",
    "    print('Val RMSE ' , list(model_cv_rmse))\n",
    "    print('Mean Val RMSE ' , model_cv_rmse.mean())\n",
    "    print('R2 Score ' , r2_train)\n",
    "\n",
    "    plot_results(mse_train,model_cv_rmse, name)"
   ]
  },
  {
   "cell_type": "code",
   "execution_count": 33,
   "id": "c811a965-2f7d-493d-948c-2efe3395bd7a",
   "metadata": {},
   "outputs": [
    {
     "data": {
      "image/png": "[encoded data removed]",
      "text/plain": [
       "<Figure size 1440x1440 with 1 Axes>"
      ]
     },
     "metadata": {
      "needs_background": "light"
     },
     "output_type": "display_data"
    }
   ],
   "source": [
    "fig, ax = plt.subplots(figsize = (20,20))\n",
    "\n",
    "for index, model_name in enumerate(model_list.keys()):\n",
    "    train_mse_list = []\n",
    "\n",
    "    # creates a line of the training error\n",
    "    for i in range(len(val_rmse_list[index])):\n",
    "        train_mse_list.append(train_rmse_list[index])\n",
    "    \n",
    "    ax.plot(range(len(val_rmse_list[index])), train_mse_list,label = 'Training RMSE of ' + model_name)\n",
    "    ax.plot(range(len(val_rmse_list[index])), val_rmse_list[index], '--' , label = 'Validation RMSE of ' + model_name)\n",
    "\n",
    "ax.set_title('Comparison of all models')\n",
    "ax.set_xlabel('K-Folds')\n",
    "ax.set_ylabel('Error')\n",
    "ax.legend()\n",
    "plt.show()"
   ]
  },
  {
   "cell_type": "code",
   "execution_count": 34,
   "id": "d7d87b93-fe52-439d-a339-d6e6e0d0e153",
   "metadata": {},
   "outputs": [],
   "source": [
    "# Hyperparameter Tunning for selected models"
   ]
  },
  {
   "cell_type": "code",
   "execution_count": 35,
   "id": "b26a4682-5dc2-4434-898c-c81dba0ee74b",
   "metadata": {},
   "outputs": [
    {
     "name": "stdout",
     "output_type": "stream",
     "text": [
      "{'learning_rate': 0.30000000000000004, 'max_bin': 350, 'num_leaves': 240, 'random_state': 42}\n"
     ]
    }
   ],
   "source": [
    "params = {'max_bin': [300,350,400],\n",
    "          'learning_rate': np.arange(0.1,0.7,0.2),\n",
    "          'num_leaves': range(200,300,20),\n",
    "         'random_state': [seed_number]}\n",
    "\n",
    "cv = 7\n",
    "\n",
    "lgb = lgb.LGBMRegressor()\n",
    "\n",
    "cv = GridSearchCV(lgb,param_grid = params, scoring = 'neg_mean_squared_error', cv=7)\n",
    "\n",
    "lgb_cv = cv.fit(X_train_preprocessed, y_train)\n",
    "\n",
    "print(lgb_cv.best_params_)"
   ]
  },
  {
   "cell_type": "code",
   "execution_count": 36,
   "id": "296d5aa1-ec8e-49e8-882a-cc6b4e14e38f",
   "metadata": {},
   "outputs": [
    {
     "name": "stdout",
     "output_type": "stream",
     "text": [
      "26569.95433510077\n"
     ]
    }
   ],
   "source": [
    "lgb_score = (-lgb_cv.best_score_)**(1/2)\n",
    "print(lgb_score)"
   ]
  },
  {
   "cell_type": "code",
   "execution_count": 52,
   "id": "0e36fa81-b71c-4fe5-83bf-5b6645b51114",
   "metadata": {},
   "outputs": [],
   "source": [
    "# Feature importance"
   ]
  },
  {
   "cell_type": "code",
   "execution_count": 37,
   "id": "d064a16c-4735-4718-afcc-e464740bfae8",
   "metadata": {},
   "outputs": [
    {
     "data": {
      "text/plain": [
       "143"
      ]
     },
     "execution_count": 37,
     "metadata": {},
     "output_type": "execute_result"
    }
   ],
   "source": [
    "len(lgb_cv.best_estimator_.feature_importances_)"
   ]
  },
  {
   "cell_type": "code",
   "execution_count": 144,
   "id": "cdf740db-b1b6-4c40-9300-ce4a07e49c38",
   "metadata": {},
   "outputs": [
    {
     "name": "stdout",
     "output_type": "stream",
     "text": [
      "[   0 1054  826 1222  931  784  593 1569 1302 1049 1142  563 1436 1288\n",
      " 1175 1020  974  945  995  824  818   34    0   25   11   26    6    0\n",
      "    0    5   22   17   46    7    7   11    1    5    6   21    6    0\n",
      "    8   13   15   13   22   37   18   22   17   25   32   34   21   14\n",
      "   17   35   23   26   16    7   44   20   18   16    6   46   34   19\n",
      "   12   23   45   18   16   22   21   62   25   31   12   22   72   19\n",
      "   25   16   27   71   27   13   13   18   92   27   14   12   23   73\n",
      "   19   16   15   32    4   22   45   38   23    9  206  133  145   80\n",
      "   69   54   54   44   35   22   27   29   28    9    6    0   13   38\n",
      "   44   77    0   44  100   13    6    0   29   58    0    0   20   18\n",
      "   30    5    6]\n"
     ]
    }
   ],
   "source": [
    "print(lgb_cv.best_estimator_.feature_importances_)"
   ]
  },
  {
   "cell_type": "markdown",
   "id": "149acbc4-b7f6-418f-b54e-3557a879834e",
   "metadata": {},
   "source": [
    "https://towardsdatascience.com/how-to-get-feature-importances-from-any-sklearn-pipeline-167a19f1214"
   ]
  },
  {
   "cell_type": "code",
   "execution_count": 176,
   "id": "198e7046-2e04-47ba-b02a-b287ea18bd89",
   "metadata": {},
   "outputs": [
    {
     "data": {
      "text/plain": [
       "<bound method ColumnTransformer.get_params of ColumnTransformer(transformers=[('num',\n",
       "                                 Pipeline(steps=[('ss', StandardScaler()),\n",
       "                                                 ('poly',\n",
       "                                                  PolynomialFeatures())]),\n",
       "                                 Index(['floor_area_sqm', 'remaining_lease', 'Latitude', 'Longitude',\n",
       "       'mrtdist'],\n",
       "      dtype='object')),\n",
       "                                ('cat',\n",
       "                                 Pipeline(steps=[('ohe',\n",
       "                                                  OneHotEncoder(drop='first'))]),\n",
       "                                 Index(['District', 'month', 'flat_type', 'storey_range', 'flat_model'], dtype='object'))])>"
      ]
     },
     "execution_count": 176,
     "metadata": {},
     "output_type": "execute_result"
    }
   ],
   "source": [
    "preprocess.get_params"
   ]
  },
  {
   "cell_type": "code",
   "execution_count": 177,
   "id": "c68637e4-8e7f-41c7-9c0f-79aa71b1ed3c",
   "metadata": {},
   "outputs": [],
   "source": [
    "code_list = ['x0','x1','x2','x3','x4']"
   ]
  },
  {
   "cell_type": "code",
   "execution_count": 178,
   "id": "05d01999-6c1e-4594-8be8-1cdd24db4aa9",
   "metadata": {},
   "outputs": [],
   "source": [
    "map_dict = {}\n",
    "\n",
    "for index , item in enumerate(code_list):\n",
    "    map_dict[item] = num_cols[index]"
   ]
  },
  {
   "cell_type": "code",
   "execution_count": 179,
   "id": "17a567be-fa1e-43e5-b01c-c4e348589183",
   "metadata": {},
   "outputs": [
    {
     "data": {
      "text/plain": [
       "{'x0': 'floor_area_sqm',\n",
       " 'x1': 'remaining_lease',\n",
       " 'x2': 'Latitude',\n",
       " 'x3': 'Longitude',\n",
       " 'x4': 'mrtdist'}"
      ]
     },
     "execution_count": 179,
     "metadata": {},
     "output_type": "execute_result"
    }
   ],
   "source": [
    "map_dict"
   ]
  },
  {
   "cell_type": "code",
   "execution_count": 180,
   "id": "c6817402-2bb8-4010-85db-5dc813f54f40",
   "metadata": {},
   "outputs": [
    {
     "data": {
      "text/plain": [
       "21"
      ]
     },
     "execution_count": 180,
     "metadata": {},
     "output_type": "execute_result"
    }
   ],
   "source": [
    "len(preprocess.named_transformers_['num']['poly'].get_feature_names())"
   ]
  },
  {
   "cell_type": "code",
   "execution_count": 181,
   "id": "7dca45e9-3704-4757-a7ab-0ba897330a24",
   "metadata": {},
   "outputs": [],
   "source": [
    "num_transformed_list = preprocess.named_transformers_['num']['poly'].get_feature_names()"
   ]
  },
  {
   "cell_type": "code",
   "execution_count": 182,
   "id": "583a6ce5-14f6-45d0-920c-f9356b20e137",
   "metadata": {},
   "outputs": [
    {
     "data": {
      "text/plain": [
       "['1',\n",
       " 'x0',\n",
       " 'x1',\n",
       " 'x2',\n",
       " 'x3',\n",
       " 'x4',\n",
       " 'x0^2',\n",
       " 'x0 x1',\n",
       " 'x0 x2',\n",
       " 'x0 x3',\n",
       " 'x0 x4',\n",
       " 'x1^2',\n",
       " 'x1 x2',\n",
       " 'x1 x3',\n",
       " 'x1 x4',\n",
       " 'x2^2',\n",
       " 'x2 x3',\n",
       " 'x2 x4',\n",
       " 'x3^2',\n",
       " 'x3 x4',\n",
       " 'x4^2']"
      ]
     },
     "execution_count": 182,
     "metadata": {},
     "output_type": "execute_result"
    }
   ],
   "source": [
    "num_transformed_list"
   ]
  },
  {
   "cell_type": "code",
   "execution_count": 183,
   "id": "f64a8cd1-e790-44a2-b58c-0d42eb06bcb0",
   "metadata": {},
   "outputs": [],
   "source": [
    "for index, item in enumerate(num_transformed_list):\n",
    "    for key, value in map_dict.items():\n",
    "        if key in item: \n",
    "            num_transformed_list[index] = num_transformed_list[index].replace(key,value)"
   ]
  },
  {
   "cell_type": "code",
   "execution_count": 184,
   "id": "d96e65e9-e138-4f01-9afa-c15945438266",
   "metadata": {},
   "outputs": [
    {
     "data": {
      "text/plain": [
       "['1',\n",
       " 'floor_area_sqm',\n",
       " 'remaining_lease',\n",
       " 'Latitude',\n",
       " 'Longitude',\n",
       " 'mrtdist',\n",
       " 'floor_area_sqm^2',\n",
       " 'floor_area_sqm remaining_lease',\n",
       " 'floor_area_sqm Latitude',\n",
       " 'floor_area_sqm Longitude',\n",
       " 'floor_area_sqm mrtdist',\n",
       " 'remaining_lease^2',\n",
       " 'remaining_lease Latitude',\n",
       " 'remaining_lease Longitude',\n",
       " 'remaining_lease mrtdist',\n",
       " 'Latitude^2',\n",
       " 'Latitude Longitude',\n",
       " 'Latitude mrtdist',\n",
       " 'Longitude^2',\n",
       " 'Longitude mrtdist',\n",
       " 'mrtdist^2']"
      ]
     },
     "execution_count": 184,
     "metadata": {},
     "output_type": "execute_result"
    }
   ],
   "source": [
    "num_transformed_list"
   ]
  },
  {
   "cell_type": "code",
   "execution_count": 132,
   "id": "aadc917f-42bf-4ec5-95a4-e190f7ef81c5",
   "metadata": {},
   "outputs": [
    {
     "data": {
      "text/plain": [
       "Index(['District', 'month', 'flat_type', 'storey_range', 'flat_model'], dtype='object')"
      ]
     },
     "execution_count": 132,
     "metadata": {},
     "output_type": "execute_result"
    }
   ],
   "source": [
    "cat_cols"
   ]
  },
  {
   "cell_type": "code",
   "execution_count": 133,
   "id": "80bf7e84-6c50-48ab-8238-c58f90927c36",
   "metadata": {},
   "outputs": [],
   "source": [
    "map_dict = {}\n",
    "\n",
    "for index , item in enumerate(code_list):\n",
    "    map_dict[item] = cat_cols[index]"
   ]
  },
  {
   "cell_type": "code",
   "execution_count": 134,
   "id": "4367f758-e857-47d5-96f0-fe2f7daf7709",
   "metadata": {},
   "outputs": [
    {
     "data": {
      "text/plain": [
       "{'x0': 'District',\n",
       " 'x1': 'month',\n",
       " 'x2': 'flat_type',\n",
       " 'x3': 'storey_range',\n",
       " 'x4': 'flat_model'}"
      ]
     },
     "execution_count": 134,
     "metadata": {},
     "output_type": "execute_result"
    }
   ],
   "source": [
    "map_dict"
   ]
  },
  {
   "cell_type": "code",
   "execution_count": 164,
   "id": "84e8a83b-688f-4374-96f6-f2bac5ac2522",
   "metadata": {},
   "outputs": [
    {
     "data": {
      "text/plain": [
       "array(['x0_10', 'x0_11', 'x0_12', 'x0_13', 'x0_14', 'x0_15', 'x0_16',\n",
       "       'x0_17', 'x0_18', 'x0_19', 'x0_2', 'x0_20', 'x0_21', 'x0_22',\n",
       "       'x0_23', 'x0_25', 'x0_27', 'x0_28', 'x0_3', 'x0_4', 'x0_5', 'x0_7',\n",
       "       'x0_8', 'x1_1 01 2018', 'x1_1 01 2019', 'x1_1 01 2020',\n",
       "       'x1_1 01 2021', 'x1_1 02 2017', 'x1_1 02 2018', 'x1_1 02 2019',\n",
       "       'x1_1 02 2020', 'x1_1 02 2021', 'x1_1 03 2017', 'x1_1 03 2018',\n",
       "       'x1_1 03 2019', 'x1_1 03 2020', 'x1_1 03 2021', 'x1_1 04 2017',\n",
       "       'x1_1 04 2018', 'x1_1 04 2019', 'x1_1 04 2020', 'x1_1 04 2021',\n",
       "       'x1_1 05 2017', 'x1_1 05 2018', 'x1_1 05 2019', 'x1_1 05 2020',\n",
       "       'x1_1 05 2021', 'x1_1 06 2017', 'x1_1 06 2018', 'x1_1 06 2019',\n",
       "       'x1_1 06 2020', 'x1_1 06 2021', 'x1_1 07 2017', 'x1_1 07 2018',\n",
       "       'x1_1 07 2019', 'x1_1 07 2020', 'x1_1 07 2021', 'x1_1 08 2017',\n",
       "       'x1_1 08 2018', 'x1_1 08 2019', 'x1_1 08 2020', 'x1_1 08 2021',\n",
       "       'x1_1 09 2017', 'x1_1 09 2018', 'x1_1 09 2019', 'x1_1 09 2020',\n",
       "       'x1_1 09 2021', 'x1_1 10 2017', 'x1_1 10 2018', 'x1_1 10 2019',\n",
       "       'x1_1 10 2020', 'x1_1 10 2021', 'x1_1 11 2017', 'x1_1 11 2018',\n",
       "       'x1_1 11 2019', 'x1_1 11 2020', 'x1_1 11 2021', 'x1_1 12 2017',\n",
       "       'x1_1 12 2018', 'x1_1 12 2019', 'x1_1 12 2020', 'x2_2 ROOM',\n",
       "       'x2_3 ROOM', 'x2_4 ROOM', 'x2_5 ROOM', 'x2_EXECUTIVE',\n",
       "       'x2_MULTI-GENERATION', 'x3_04 TO 06', 'x3_07 TO 09', 'x3_10 TO 12',\n",
       "       'x3_13 TO 15', 'x3_16 TO 18', 'x3_19 TO 21', 'x3_22 TO 24',\n",
       "       'x3_25 TO 27', 'x3_28 TO 30', 'x3_31 TO 33', 'x3_34 TO 36',\n",
       "       'x3_37 TO 39', 'x3_40 TO 42', 'x3_43 TO 45', 'x3_46 TO 48',\n",
       "       'x3_49 TO 51', 'x4_Adjoined flat', 'x4_Apartment', 'x4_DBSS',\n",
       "       'x4_Improved', 'x4_Improved-Maisonette', 'x4_Maisonette',\n",
       "       'x4_Model A', 'x4_Model A-Maisonette', 'x4_Model A2',\n",
       "       'x4_Multi Generation', 'x4_New Generation', 'x4_Premium Apartment',\n",
       "       'x4_Premium Apartment Loft', 'x4_Premium Maisonette',\n",
       "       'x4_Simplified', 'x4_Standard', 'x4_Terrace', 'x4_Type S1',\n",
       "       'x4_Type S2'], dtype=object)"
      ]
     },
     "execution_count": 164,
     "metadata": {},
     "output_type": "execute_result"
    }
   ],
   "source": [
    "preprocess.named_transformers_['cat']['ohe'].get_feature_names()"
   ]
  },
  {
   "cell_type": "code",
   "execution_count": 136,
   "id": "c0815373-699e-4571-b07d-abb859ebc4ab",
   "metadata": {},
   "outputs": [],
   "source": [
    "cat_transformed_list = preprocess.named_transformers_['cat']['ohe'].get_feature_names()"
   ]
  },
  {
   "cell_type": "code",
   "execution_count": 185,
   "id": "2e58d7f7-a11f-4b90-a370-b885cb2616d8",
   "metadata": {},
   "outputs": [
    {
     "data": {
      "text/plain": [
       "array(['District_10', 'District_11', 'District_12', 'District_13',\n",
       "       'District_14', 'District_15', 'District_16', 'District_17',\n",
       "       'District_18', 'District_19', 'District_2', 'District_20',\n",
       "       'District_21', 'District_22', 'District_23', 'District_25',\n",
       "       'District_27', 'District_28', 'District_3', 'District_4',\n",
       "       'District_5', 'District_7', 'District_8', 'month_1 01 2018',\n",
       "       'month_1 01 2019', 'month_1 01 2020', 'month_1 01 2021',\n",
       "       'month_1 02 2017', 'month_1 02 2018', 'month_1 02 2019',\n",
       "       'month_1 02 2020', 'month_1 02 2021', 'month_1 03 2017',\n",
       "       'month_1 03 2018', 'month_1 03 2019', 'month_1 03 2020',\n",
       "       'month_1 03 2021', 'month_1 04 2017', 'month_1 04 2018',\n",
       "       'month_1 04 2019', 'month_1 04 2020', 'month_1 04 2021',\n",
       "       'month_1 05 2017', 'month_1 05 2018', 'month_1 05 2019',\n",
       "       'month_1 05 2020', 'month_1 05 2021', 'month_1 06 2017',\n",
       "       'month_1 06 2018', 'month_1 06 2019', 'month_1 06 2020',\n",
       "       'month_1 06 2021', 'month_1 07 2017', 'month_1 07 2018',\n",
       "       'month_1 07 2019', 'month_1 07 2020', 'month_1 07 2021',\n",
       "       'month_1 08 2017', 'month_1 08 2018', 'month_1 08 2019',\n",
       "       'month_1 08 2020', 'month_1 08 2021', 'month_1 09 2017',\n",
       "       'month_1 09 2018', 'month_1 09 2019', 'month_1 09 2020',\n",
       "       'month_1 09 2021', 'month_1 10 2017', 'month_1 10 2018',\n",
       "       'month_1 10 2019', 'month_1 10 2020', 'month_1 10 2021',\n",
       "       'month_1 11 2017', 'month_1 11 2018', 'month_1 11 2019',\n",
       "       'month_1 11 2020', 'month_1 11 2021', 'month_1 12 2017',\n",
       "       'month_1 12 2018', 'month_1 12 2019', 'month_1 12 2020',\n",
       "       'flat_type_2 ROOM', 'flat_type_3 ROOM', 'flat_type_4 ROOM',\n",
       "       'flat_type_5 ROOM', 'flat_type_EXECUTIVE',\n",
       "       'flat_type_MULTI-GENERATION', 'storey_range_04 TO 06',\n",
       "       'storey_range_07 TO 09', 'storey_range_10 TO 12',\n",
       "       'storey_range_13 TO 15', 'storey_range_16 TO 18',\n",
       "       'storey_range_19 TO 21', 'storey_range_22 TO 24',\n",
       "       'storey_range_25 TO 27', 'storey_range_28 TO 30',\n",
       "       'storey_range_31 TO 33', 'storey_range_34 TO 36',\n",
       "       'storey_range_37 TO 39', 'storey_range_40 TO 42',\n",
       "       'storey_range_43 TO 45', 'storey_range_46 TO 48',\n",
       "       'storey_range_49 TO 51', 'flat_model_Adjoined flat',\n",
       "       'flat_model_Apartment', 'flat_model_DBSS', 'flat_model_Improved',\n",
       "       'flat_model_Improved-Maisonette', 'flat_model_Maisonette',\n",
       "       'flat_model_Model A', 'flat_model_Model A-Maisonette',\n",
       "       'flat_model_Model A2', 'flat_model_Multi Generation',\n",
       "       'flat_model_New Generation', 'flat_model_Premium Apartment',\n",
       "       'flat_model_Premium Apartment Loft',\n",
       "       'flat_model_Premium Maisonette', 'flat_model_Simplified',\n",
       "       'flat_model_Standard', 'flat_model_Terrace', 'flat_model_Type S1',\n",
       "       'flat_model_Type S2'], dtype=object)"
      ]
     },
     "execution_count": 185,
     "metadata": {},
     "output_type": "execute_result"
    }
   ],
   "source": [
    "cat_transformed_list"
   ]
  },
  {
   "cell_type": "code",
   "execution_count": 137,
   "id": "b30b3677-360c-4e9e-9518-f727779b8612",
   "metadata": {},
   "outputs": [],
   "source": [
    "for index, item in enumerate(cat_transformed_list):\n",
    "    for key, value in map_dict.items():\n",
    "        if key in item: \n",
    "            cat_transformed_list[index] = cat_transformed_list[index].replace(key,value)"
   ]
  },
  {
   "cell_type": "code",
   "execution_count": 186,
   "id": "80ebb120-bad5-476d-a625-83926446f88c",
   "metadata": {},
   "outputs": [],
   "source": [
    "num_transformed_list.extend(cat_transformed_list)"
   ]
  },
  {
   "cell_type": "code",
   "execution_count": 187,
   "id": "7020754f-d718-4bfa-8a78-221951bcbd08",
   "metadata": {
    "collapsed": true,
    "jupyter": {
     "outputs_hidden": true
    },
    "tags": []
   },
   "outputs": [
    {
     "data": {
      "text/plain": [
       "['1',\n",
       " 'floor_area_sqm',\n",
       " 'remaining_lease',\n",
       " 'Latitude',\n",
       " 'Longitude',\n",
       " 'mrtdist',\n",
       " 'floor_area_sqm^2',\n",
       " 'floor_area_sqm remaining_lease',\n",
       " 'floor_area_sqm Latitude',\n",
       " 'floor_area_sqm Longitude',\n",
       " 'floor_area_sqm mrtdist',\n",
       " 'remaining_lease^2',\n",
       " 'remaining_lease Latitude',\n",
       " 'remaining_lease Longitude',\n",
       " 'remaining_lease mrtdist',\n",
       " 'Latitude^2',\n",
       " 'Latitude Longitude',\n",
       " 'Latitude mrtdist',\n",
       " 'Longitude^2',\n",
       " 'Longitude mrtdist',\n",
       " 'mrtdist^2',\n",
       " 'District_10',\n",
       " 'District_11',\n",
       " 'District_12',\n",
       " 'District_13',\n",
       " 'District_14',\n",
       " 'District_15',\n",
       " 'District_16',\n",
       " 'District_17',\n",
       " 'District_18',\n",
       " 'District_19',\n",
       " 'District_2',\n",
       " 'District_20',\n",
       " 'District_21',\n",
       " 'District_22',\n",
       " 'District_23',\n",
       " 'District_25',\n",
       " 'District_27',\n",
       " 'District_28',\n",
       " 'District_3',\n",
       " 'District_4',\n",
       " 'District_5',\n",
       " 'District_7',\n",
       " 'District_8',\n",
       " 'month_1 01 2018',\n",
       " 'month_1 01 2019',\n",
       " 'month_1 01 2020',\n",
       " 'month_1 01 2021',\n",
       " 'month_1 02 2017',\n",
       " 'month_1 02 2018',\n",
       " 'month_1 02 2019',\n",
       " 'month_1 02 2020',\n",
       " 'month_1 02 2021',\n",
       " 'month_1 03 2017',\n",
       " 'month_1 03 2018',\n",
       " 'month_1 03 2019',\n",
       " 'month_1 03 2020',\n",
       " 'month_1 03 2021',\n",
       " 'month_1 04 2017',\n",
       " 'month_1 04 2018',\n",
       " 'month_1 04 2019',\n",
       " 'month_1 04 2020',\n",
       " 'month_1 04 2021',\n",
       " 'month_1 05 2017',\n",
       " 'month_1 05 2018',\n",
       " 'month_1 05 2019',\n",
       " 'month_1 05 2020',\n",
       " 'month_1 05 2021',\n",
       " 'month_1 06 2017',\n",
       " 'month_1 06 2018',\n",
       " 'month_1 06 2019',\n",
       " 'month_1 06 2020',\n",
       " 'month_1 06 2021',\n",
       " 'month_1 07 2017',\n",
       " 'month_1 07 2018',\n",
       " 'month_1 07 2019',\n",
       " 'month_1 07 2020',\n",
       " 'month_1 07 2021',\n",
       " 'month_1 08 2017',\n",
       " 'month_1 08 2018',\n",
       " 'month_1 08 2019',\n",
       " 'month_1 08 2020',\n",
       " 'month_1 08 2021',\n",
       " 'month_1 09 2017',\n",
       " 'month_1 09 2018',\n",
       " 'month_1 09 2019',\n",
       " 'month_1 09 2020',\n",
       " 'month_1 09 2021',\n",
       " 'month_1 10 2017',\n",
       " 'month_1 10 2018',\n",
       " 'month_1 10 2019',\n",
       " 'month_1 10 2020',\n",
       " 'month_1 10 2021',\n",
       " 'month_1 11 2017',\n",
       " 'month_1 11 2018',\n",
       " 'month_1 11 2019',\n",
       " 'month_1 11 2020',\n",
       " 'month_1 11 2021',\n",
       " 'month_1 12 2017',\n",
       " 'month_1 12 2018',\n",
       " 'month_1 12 2019',\n",
       " 'month_1 12 2020',\n",
       " 'flat_type_2 ROOM',\n",
       " 'flat_type_3 ROOM',\n",
       " 'flat_type_4 ROOM',\n",
       " 'flat_type_5 ROOM',\n",
       " 'flat_type_EXECUTIVE',\n",
       " 'flat_type_MULTI-GENERATION',\n",
       " 'storey_range_04 TO 06',\n",
       " 'storey_range_07 TO 09',\n",
       " 'storey_range_10 TO 12',\n",
       " 'storey_range_13 TO 15',\n",
       " 'storey_range_16 TO 18',\n",
       " 'storey_range_19 TO 21',\n",
       " 'storey_range_22 TO 24',\n",
       " 'storey_range_25 TO 27',\n",
       " 'storey_range_28 TO 30',\n",
       " 'storey_range_31 TO 33',\n",
       " 'storey_range_34 TO 36',\n",
       " 'storey_range_37 TO 39',\n",
       " 'storey_range_40 TO 42',\n",
       " 'storey_range_43 TO 45',\n",
       " 'storey_range_46 TO 48',\n",
       " 'storey_range_49 TO 51',\n",
       " 'flat_model_Adjoined flat',\n",
       " 'flat_model_Apartment',\n",
       " 'flat_model_DBSS',\n",
       " 'flat_model_Improved',\n",
       " 'flat_model_Improved-Maisonette',\n",
       " 'flat_model_Maisonette',\n",
       " 'flat_model_Model A',\n",
       " 'flat_model_Model A-Maisonette',\n",
       " 'flat_model_Model A2',\n",
       " 'flat_model_Multi Generation',\n",
       " 'flat_model_New Generation',\n",
       " 'flat_model_Premium Apartment',\n",
       " 'flat_model_Premium Apartment Loft',\n",
       " 'flat_model_Premium Maisonette',\n",
       " 'flat_model_Simplified',\n",
       " 'flat_model_Standard',\n",
       " 'flat_model_Terrace',\n",
       " 'flat_model_Type S1',\n",
       " 'flat_model_Type S2']"
      ]
     },
     "execution_count": 187,
     "metadata": {},
     "output_type": "execute_result"
    }
   ],
   "source": [
    "num_transformed_list"
   ]
  },
  {
   "cell_type": "code",
   "execution_count": 168,
   "id": "745b3439-4f29-4c7a-8310-e2d62c52adc6",
   "metadata": {
    "collapsed": true,
    "jupyter": {
     "outputs_hidden": true
    },
    "tags": []
   },
   "outputs": [
    {
     "data": {
      "text/plain": [
       "[(1569, 'x0 x1'),\n",
       " (1436, 'x1 x2'),\n",
       " (1302, 'x0 x2'),\n",
       " (1288, 'x1 x3'),\n",
       " (1222, 'x2'),\n",
       " (1175, 'x1 x4'),\n",
       " (1142, 'x0 x4'),\n",
       " (1054, 'x0'),\n",
       " (1049, 'x0 x3'),\n",
       " (1020, 'x2^2'),\n",
       " (995, 'x3^2'),\n",
       " (974, 'x2 x3'),\n",
       " (945, 'x2 x4'),\n",
       " (931, 'x3'),\n",
       " (826, 'x1'),\n",
       " (824, 'x3 x4'),\n",
       " (818, 'x4^2'),\n",
       " (784, 'x4'),\n",
       " (593, 'x0^2'),\n",
       " (563, 'x1^2'),\n",
       " (206, 'x3_04 TO 06'),\n",
       " (145, 'x3_10 TO 12'),\n",
       " (133, 'x3_07 TO 09'),\n",
       " (100, 'x4_Model A'),\n",
       " (92, 'x1_1 10 2021'),\n",
       " (80, 'x3_13 TO 15'),\n",
       " (77, 'x4_Improved'),\n",
       " (73, 'x1_1 11 2021'),\n",
       " (72, 'x1_1 08 2021'),\n",
       " (71, 'x1_1 09 2021'),\n",
       " (69, 'x3_16 TO 18'),\n",
       " (62, 'x1_1 07 2021'),\n",
       " (58, 'x4_Premium Apartment'),\n",
       " (54, 'x3_22 TO 24'),\n",
       " (54, 'x3_19 TO 21'),\n",
       " (46, 'x1_1 05 2021'),\n",
       " (46, 'x0_20'),\n",
       " (45, 'x2_4 ROOM'),\n",
       " (45, 'x1_1 06 2021'),\n",
       " (44, 'x4_Maisonette'),\n",
       " (44, 'x4_DBSS'),\n",
       " (44, 'x3_25 TO 27'),\n",
       " (44, 'x1_1 04 2021'),\n",
       " (38, 'x4_Apartment'),\n",
       " (38, 'x2_5 ROOM'),\n",
       " (37, 'x1_1 01 2021'),\n",
       " (35, 'x3_28 TO 30'),\n",
       " (35, 'x1_1 03 2021'),\n",
       " (34, 'x1_1 06 2017'),\n",
       " (34, 'x1_1 03 2017'),\n",
       " (34, 'x0_10'),\n",
       " (32, 'x1_1 12 2020'),\n",
       " (32, 'x1_1 02 2021'),\n",
       " (31, 'x1_1 08 2018'),\n",
       " (30, 'x4_Terrace'),\n",
       " (29, 'x4_New Generation'),\n",
       " (29, 'x3_37 TO 39'),\n",
       " (28, 'x3_40 TO 42'),\n",
       " (27, 'x3_34 TO 36'),\n",
       " (27, 'x1_1 11 2017'),\n",
       " (27, 'x1_1 10 2017'),\n",
       " (27, 'x1_1 09 2020'),\n",
       " (26, 'x1_1 04 2018'),\n",
       " (26, 'x0_14'),\n",
       " (25, 'x1_1 09 2018'),\n",
       " (25, 'x1_1 08 2017'),\n",
       " (25, 'x1_1 02 2020'),\n",
       " (25, 'x0_12'),\n",
       " (23, 'x2_EXECUTIVE'),\n",
       " (23, 'x1_1 11 2020'),\n",
       " (23, 'x1_1 06 2020'),\n",
       " (23, 'x1_1 04 2017'),\n",
       " (22, 'x3_31 TO 33'),\n",
       " (22, 'x2_3 ROOM'),\n",
       " (22, 'x1_1 08 2020'),\n",
       " (22, 'x1_1 07 2019'),\n",
       " (22, 'x1_1 02 2018'),\n",
       " (22, 'x1_1 01 2020'),\n",
       " (22, 'x0_19'),\n",
       " (21, 'x1_1 07 2020'),\n",
       " (21, 'x1_1 03 2018'),\n",
       " (21, 'x0_3'),\n",
       " (20, 'x4_Simplified'),\n",
       " (20, 'x1_1 05 2017'),\n",
       " (19, 'x1_1 12 2017'),\n",
       " (19, 'x1_1 09 2017'),\n",
       " (19, 'x1_1 06 2018'),\n",
       " (18, 'x4_Standard'),\n",
       " (18, 'x1_1 10 2020'),\n",
       " (18, 'x1_1 07 2017'),\n",
       " (18, 'x1_1 05 2018'),\n",
       " (18, 'x1_1 02 2017'),\n",
       " (17, 'x1_1 03 2020'),\n",
       " (17, 'x1_1 02 2019'),\n",
       " (17, 'x0_2'),\n",
       " (16, 'x1_1 12 2018'),\n",
       " (16, 'x1_1 09 2019'),\n",
       " (16, 'x1_1 07 2018'),\n",
       " (16, 'x1_1 05 2019'),\n",
       " (16, 'x1_1 04 2019'),\n",
       " (15, 'x1_1 12 2019'),\n",
       " (15, 'x1_1 01 2018'),\n",
       " (14, 'x1_1 11 2018'),\n",
       " (14, 'x1_1 03 2019'),\n",
       " (13, 'x4_Model A-Maisonette'),\n",
       " (13, 'x4_Adjoined flat'),\n",
       " (13, 'x1_1 10 2019'),\n",
       " (13, 'x1_1 10 2018'),\n",
       " (13, 'x1_1 01 2019'),\n",
       " (13, 'x0_8'),\n",
       " (12, 'x1_1 11 2019'),\n",
       " (12, 'x1_1 08 2019'),\n",
       " (12, 'x1_1 06 2019'),\n",
       " (11, 'x0_23'),\n",
       " (11, 'x0_13'),\n",
       " (9, 'x3_43 TO 45'),\n",
       " (9, 'x2_MULTI-GENERATION'),\n",
       " (8, 'x0_7'),\n",
       " (7, 'x1_1 04 2020'),\n",
       " (7, 'x0_22'),\n",
       " (7, 'x0_21'),\n",
       " (6, 'x4_Type S2'),\n",
       " (6, 'x4_Model A2'),\n",
       " (6, 'x3_46 TO 48'),\n",
       " (6, 'x1_1 05 2020'),\n",
       " (6, 'x0_4'),\n",
       " (6, 'x0_28'),\n",
       " (6, 'x0_15'),\n",
       " (5, 'x4_Type S1'),\n",
       " (5, 'x0_27'),\n",
       " (5, 'x0_18'),\n",
       " (4, 'x2_2 ROOM'),\n",
       " (1, 'x0_25'),\n",
       " (0, 'x4_Premium Maisonette'),\n",
       " (0, 'x4_Premium Apartment Loft'),\n",
       " (0, 'x4_Multi Generation'),\n",
       " (0, 'x4_Improved-Maisonette'),\n",
       " (0, 'x3_49 TO 51'),\n",
       " (0, 'x0_5'),\n",
       " (0, 'x0_17'),\n",
       " (0, 'x0_16'),\n",
       " (0, 'x0_11'),\n",
       " (0, '1')]"
      ]
     },
     "execution_count": 168,
     "metadata": {},
     "output_type": "execute_result"
    }
   ],
   "source": [
    "sorted(zip(lgb_cv.best_estimator_.feature_importances_,preprocess.named_transformers_['num']['poly'].get_feature_names() + \\\n",
    "           preprocess.named_transformers_['cat']['ohe'].get_feature_names().tolist()),reverse = True)"
   ]
  },
  {
   "cell_type": "code",
   "execution_count": 188,
   "id": "73a6edf8-02a5-4cf3-a3fa-a251c70f260a",
   "metadata": {},
   "outputs": [],
   "source": [
    "feature_importance = sorted(zip(lgb_cv.best_estimator_.feature_importances_,num_transformed_list),reverse = True)"
   ]
  },
  {
   "cell_type": "code",
   "execution_count": 189,
   "id": "16da8f20-94e0-49af-9187-f67d5d7dc304",
   "metadata": {},
   "outputs": [
    {
     "data": {
      "text/plain": [
       "[(1569, 'floor_area_sqm remaining_lease'),\n",
       " (1436, 'remaining_lease Latitude'),\n",
       " (1302, 'floor_area_sqm Latitude'),\n",
       " (1288, 'remaining_lease Longitude'),\n",
       " (1222, 'Latitude'),\n",
       " (1175, 'remaining_lease mrtdist'),\n",
       " (1142, 'floor_area_sqm mrtdist'),\n",
       " (1054, 'floor_area_sqm'),\n",
       " (1049, 'floor_area_sqm Longitude'),\n",
       " (1020, 'Latitude^2')]"
      ]
     },
     "execution_count": 189,
     "metadata": {},
     "output_type": "execute_result"
    }
   ],
   "source": [
    "feature_importance[:10]"
   ]
  },
  {
   "cell_type": "code",
   "execution_count": 190,
   "id": "284e77a8-23c9-4637-96be-203ef87dc8b1",
   "metadata": {},
   "outputs": [
    {
     "data": {
      "text/plain": [
       "[(0, 'storey_range_49 TO 51'),\n",
       " (0, 'flat_model_Premium Maisonette'),\n",
       " (0, 'flat_model_Premium Apartment Loft'),\n",
       " (0, 'flat_model_Multi Generation'),\n",
       " (0, 'flat_model_Improved-Maisonette'),\n",
       " (0, 'District_5'),\n",
       " (0, 'District_17'),\n",
       " (0, 'District_16'),\n",
       " (0, 'District_11'),\n",
       " (0, '1')]"
      ]
     },
     "execution_count": 190,
     "metadata": {},
     "output_type": "execute_result"
    }
   ],
   "source": [
    "feature_importance[-10:]"
   ]
  },
  {
   "cell_type": "code",
   "execution_count": 50,
   "id": "4c77747c-668e-4ccd-b2a5-131ccc4e18ea",
   "metadata": {},
   "outputs": [
    {
     "name": "stdout",
     "output_type": "stream",
     "text": [
      "RMSE on test set 26109.254707530225\n",
      "MAE on test set 18891.008406211004\n",
      "R2 on test set 0.9731279115226391\n"
     ]
    }
   ],
   "source": [
    "y_pred = lgb_cv.predict(preprocess.transform(X_test))\n",
    "\n",
    "lgb_mse = mean_squared_error(y_test,y_pred)**(1/2)\n",
    "lgb_mae = mean_absolute_error(y_test,y_pred)\n",
    "lgb_r2 = r2_score(y_test,y_pred)\n",
    "\n",
    "print('RMSE on test set', lgb_mse)\n",
    "print('MAE on test set', lgb_mae)\n",
    "print('R2 on test set', lgb_r2)"
   ]
  },
  {
   "cell_type": "markdown",
   "id": "f38ca48e-42a0-4710-91ef-2e0a9c7b056a",
   "metadata": {},
   "source": [
    "We narrow down to lgbm because of its accuracy and quick training speed "
   ]
  },
  {
   "cell_type": "code",
   "execution_count": 51,
   "id": "c3f8b147-e093-469e-9dc1-0480282026c9",
   "metadata": {},
   "outputs": [],
   "source": [
    "# Asessing Final model on test set"
   ]
  },
  {
   "cell_type": "code",
   "execution_count": 169,
   "id": "f27bbccb-c217-4427-9a71-c9f645a8b2c8",
   "metadata": {},
   "outputs": [
    {
     "data": {
      "text/plain": [
       "District                   4\n",
       "month              1 03 2018\n",
       "flat_type             5 ROOM\n",
       "storey_range        04 TO 06\n",
       "floor_area_sqm           117\n",
       "flat_model          Standard\n",
       "remaining_lease           56\n",
       "Latitude             1.27675\n",
       "Longitude            103.819\n",
       "mrtdist              7763.16\n",
       "Name: 23132, dtype: object"
      ]
     },
     "execution_count": 169,
     "metadata": {},
     "output_type": "execute_result"
    }
   ],
   "source": [
    "X_test.iloc[0]"
   ]
  },
  {
   "cell_type": "code",
   "execution_count": 170,
   "id": "ca0ac554-77de-483e-a311-a8040342ab5c",
   "metadata": {},
   "outputs": [
    {
     "data": {
      "text/plain": [
       "595000.0"
      ]
     },
     "execution_count": 170,
     "metadata": {},
     "output_type": "execute_result"
    }
   ],
   "source": [
    "y_test.iloc[0]"
   ]
  },
  {
   "cell_type": "code",
   "execution_count": 172,
   "id": "9df28fb6-2c86-4fcf-ad4e-3b80b9fba0b0",
   "metadata": {},
   "outputs": [
    {
     "data": {
      "text/plain": [
       "array([599523.75182454])"
      ]
     },
     "execution_count": 172,
     "metadata": {},
     "output_type": "execute_result"
    }
   ],
   "source": [
    "lgb_cv.predict(X_test_preprocess[0])"
   ]
  },
  {
   "cell_type": "markdown",
   "id": "7baacd82-1b25-4323-a7c1-5977b23a8078",
   "metadata": {},
   "source": [
    "# Deep Learning Model"
   ]
  },
  {
   "cell_type": "code",
   "execution_count": 53,
   "id": "f54829ce-b389-40df-97f6-1539fdea37a3",
   "metadata": {},
   "outputs": [],
   "source": [
    "import tensorflow as tf\n",
    "import tensorflow_addons as tfa\n",
    "import tensorflow.keras.backend as K"
   ]
  },
  {
   "cell_type": "code",
   "execution_count": 54,
   "id": "aa1d43aa-af68-4936-81e2-ff208ca16f6c",
   "metadata": {},
   "outputs": [],
   "source": [
    "def R2_score(y_true, y_pred):\n",
    "    SS_res =  K.sum(K.square(y_true - y_pred)) \n",
    "    SS_tot = K.sum(K.square(y_true - K.mean(y_true))) \n",
    "    return ( 1 - SS_res/(SS_tot + K.epsilon()) )"
   ]
  },
  {
   "cell_type": "code",
   "execution_count": 55,
   "id": "7fff92d8-8f1d-4470-8ef8-9feb0d243a91",
   "metadata": {},
   "outputs": [],
   "source": [
    "dnn_model = tf.keras.models.Sequential([\n",
    "    tf.keras.layers.Dense(512,input_dim = X_train_preprocessed.shape[1],activation = 'relu'),\n",
    "    tf.keras.layers.Flatten(),\n",
    "    tf.keras.layers.Dense(1024, activation = 'relu'),\n",
    "    tf.keras.layers.Dense(1, activation = 'relu')\n",
    "])"
   ]
  },
  {
   "cell_type": "code",
   "execution_count": 56,
   "id": "f188eaa9-26bf-47bd-b527-052039593964",
   "metadata": {},
   "outputs": [
    {
     "name": "stdout",
     "output_type": "stream",
     "text": [
      "Model: \"sequential\"\n",
      "_________________________________________________________________\n",
      " Layer (type)                Output Shape              Param #   \n",
      "=================================================================\n",
      " dense (Dense)               (None, 512)               73728     \n",
      "                                                                 \n",
      " flatten (Flatten)           (None, 512)               0         \n",
      "                                                                 \n",
      " dense_1 (Dense)             (None, 1024)              525312    \n",
      "                                                                 \n",
      " dense_2 (Dense)             (None, 1)                 1025      \n",
      "                                                                 \n",
      "=================================================================\n",
      "Total params: 600,065\n",
      "Trainable params: 600,065\n",
      "Non-trainable params: 0\n",
      "_________________________________________________________________\n"
     ]
    }
   ],
   "source": [
    "dnn_model.summary()"
   ]
  },
  {
   "cell_type": "code",
   "execution_count": 57,
   "id": "74522549-02ef-49a0-9810-601db3684882",
   "metadata": {},
   "outputs": [],
   "source": [
    "early_callback = tf.keras.callbacks.EarlyStopping(patience=100)"
   ]
  },
  {
   "cell_type": "code",
   "execution_count": 58,
   "id": "bde2953b-d312-4a3f-9f01-55aedc66cdeb",
   "metadata": {
    "collapsed": true,
    "jupyter": {
     "outputs_hidden": true
    },
    "tags": []
   },
   "outputs": [
    {
     "name": "stdout",
     "output_type": "stream",
     "text": [
      "Epoch 1/500\n",
      "2849/2849 [==============================] - 29s 10ms/step - loss: 29197637632.0000 - root_mean_squared_error: 170873.1562 - mean_absolute_error: 99194.2031 - R2_score: -0.2893 - val_loss: 2984154112.0000 - val_root_mean_squared_error: 54627.4141 - val_mean_absolute_error: 41175.0352 - val_R2_score: 0.8683\n",
      "Epoch 2/500\n",
      "2849/2849 [==============================] - 28s 10ms/step - loss: 2803009024.0000 - root_mean_squared_error: 52943.4492 - mean_absolute_error: 39323.1953 - R2_score: 0.8770 - val_loss: 2635523072.0000 - val_root_mean_squared_error: 51337.3438 - val_mean_absolute_error: 38596.3672 - val_R2_score: 0.8861\n",
      "Epoch 3/500\n",
      "2849/2849 [==============================] - 28s 10ms/step - loss: 2603123200.0000 - root_mean_squared_error: 51020.8125 - mean_absolute_error: 37911.9883 - R2_score: 0.8853 - val_loss: 2452733952.0000 - val_root_mean_squared_error: 49525.0820 - val_mean_absolute_error: 36983.3359 - val_R2_score: 0.8942\n",
      "Epoch 4/500\n",
      "2849/2849 [==============================] - 28s 10ms/step - loss: 2455828992.0000 - root_mean_squared_error: 49556.3203 - mean_absolute_error: 36661.0391 - R2_score: 0.8914 - val_loss: 2329131008.0000 - val_root_mean_squared_error: 48261.0703 - val_mean_absolute_error: 36013.2266 - val_R2_score: 0.8989\n",
      "Epoch 5/500\n",
      "2849/2849 [==============================] - 28s 10ms/step - loss: 2335855360.0000 - root_mean_squared_error: 48330.6875 - mean_absolute_error: 35578.9570 - R2_score: 0.8959 - val_loss: 2227847168.0000 - val_root_mean_squared_error: 47200.0742 - val_mean_absolute_error: 35252.2812 - val_R2_score: 0.9034\n",
      "Epoch 6/500\n",
      "2849/2849 [==============================] - 30s 10ms/step - loss: 2235408128.0000 - root_mean_squared_error: 47280.1016 - mean_absolute_error: 34654.6992 - R2_score: 0.9010 - val_loss: 2131365248.0000 - val_root_mean_squared_error: 46166.7109 - val_mean_absolute_error: 34138.7812 - val_R2_score: 0.9079\n",
      "Epoch 7/500\n",
      "2849/2849 [==============================] - 29s 10ms/step - loss: 2146863616.0000 - root_mean_squared_error: 46334.2617 - mean_absolute_error: 33837.2031 - R2_score: 0.9050 - val_loss: 2040855040.0000 - val_root_mean_squared_error: 45175.8242 - val_mean_absolute_error: 33218.5625 - val_R2_score: 0.9121\n",
      "Epoch 8/500\n",
      "2849/2849 [==============================] - 28s 10ms/step - loss: 2073809280.0000 - root_mean_squared_error: 45539.0977 - mean_absolute_error: 33171.7969 - R2_score: 0.9078 - val_loss: 1989861632.0000 - val_root_mean_squared_error: 44607.8633 - val_mean_absolute_error: 32585.0449 - val_R2_score: 0.9148\n",
      "Epoch 9/500\n",
      "2849/2849 [==============================] - 29s 10ms/step - loss: 2012921600.0000 - root_mean_squared_error: 44865.5938 - mean_absolute_error: 32631.5938 - R2_score: 0.9103 - val_loss: 1924242560.0000 - val_root_mean_squared_error: 43866.1875 - val_mean_absolute_error: 32162.6172 - val_R2_score: 0.9174\n",
      "Epoch 10/500\n",
      "2849/2849 [==============================] - 28s 10ms/step - loss: 1962717696.0000 - root_mean_squared_error: 44302.5703 - mean_absolute_error: 32178.9023 - R2_score: 0.9130 - val_loss: 1888150784.0000 - val_root_mean_squared_error: 43452.8555 - val_mean_absolute_error: 31816.8711 - val_R2_score: 0.9190\n",
      "Epoch 11/500\n",
      "2849/2849 [==============================] - 30s 11ms/step - loss: 1917117568.0000 - root_mean_squared_error: 43784.8984 - mean_absolute_error: 31779.5547 - R2_score: 0.9151 - val_loss: 1847544320.0000 - val_root_mean_squared_error: 42983.0703 - val_mean_absolute_error: 31238.0000 - val_R2_score: 0.9207\n",
      "Epoch 12/500\n",
      "2849/2849 [==============================] - 28s 10ms/step - loss: 1877746432.0000 - root_mean_squared_error: 43332.9727 - mean_absolute_error: 31418.4668 - R2_score: 0.9165 - val_loss: 1854749184.0000 - val_root_mean_squared_error: 43066.7969 - val_mean_absolute_error: 31755.8984 - val_R2_score: 0.9199\n",
      "Epoch 13/500\n",
      "2849/2849 [==============================] - 28s 10ms/step - loss: 1841699456.0000 - root_mean_squared_error: 42915.0273 - mean_absolute_error: 31071.6211 - R2_score: 0.9185 - val_loss: 1809899008.0000 - val_root_mean_squared_error: 42542.9062 - val_mean_absolute_error: 30901.9258 - val_R2_score: 0.9223\n",
      "Epoch 14/500\n",
      "2849/2849 [==============================] - 29s 10ms/step - loss: 1807981696.0000 - root_mean_squared_error: 42520.3672 - mean_absolute_error: 30774.5547 - R2_score: 0.9197 - val_loss: 1788995840.0000 - val_root_mean_squared_error: 42296.5234 - val_mean_absolute_error: 30978.0449 - val_R2_score: 0.9225\n",
      "Epoch 15/500\n",
      "2849/2849 [==============================] - 28s 10ms/step - loss: 1777368320.0000 - root_mean_squared_error: 42158.8477 - mean_absolute_error: 30468.0820 - R2_score: 0.9211 - val_loss: 1744801920.0000 - val_root_mean_squared_error: 41770.8281 - val_mean_absolute_error: 30193.8223 - val_R2_score: 0.9254\n",
      "Epoch 16/500\n",
      "2849/2849 [==============================] - 28s 10ms/step - loss: 1748730368.0000 - root_mean_squared_error: 41817.8242 - mean_absolute_error: 30197.1758 - R2_score: 0.9224 - val_loss: 1716378496.0000 - val_root_mean_squared_error: 41429.1992 - val_mean_absolute_error: 30108.4727 - val_R2_score: 0.9263\n",
      "Epoch 17/500\n",
      "2849/2849 [==============================] - 32s 11ms/step - loss: 1719086208.0000 - root_mean_squared_error: 41461.8633 - mean_absolute_error: 29914.3730 - R2_score: 0.9238 - val_loss: 1684058752.0000 - val_root_mean_squared_error: 41037.2852 - val_mean_absolute_error: 29734.0098 - val_R2_score: 0.9276\n",
      "Epoch 18/500\n",
      "2849/2849 [==============================] - 28s 10ms/step - loss: 1691547264.0000 - root_mean_squared_error: 41128.4258 - mean_absolute_error: 29646.0977 - R2_score: 0.9251 - val_loss: 1673748352.0000 - val_root_mean_squared_error: 40911.4688 - val_mean_absolute_error: 29495.4590 - val_R2_score: 0.9285\n",
      "Epoch 19/500\n",
      "2849/2849 [==============================] - 28s 10ms/step - loss: 1668941440.0000 - root_mean_squared_error: 40852.6797 - mean_absolute_error: 29419.5879 - R2_score: 0.9260 - val_loss: 1642125440.0000 - val_root_mean_squared_error: 40523.1484 - val_mean_absolute_error: 29233.4355 - val_R2_score: 0.9295\n",
      "Epoch 20/500\n",
      "2849/2849 [==============================] - 31s 11ms/step - loss: 1646182656.0000 - root_mean_squared_error: 40573.1758 - mean_absolute_error: 29223.4727 - R2_score: 0.9268 - val_loss: 1660109824.0000 - val_root_mean_squared_error: 40744.4453 - val_mean_absolute_error: 29487.5176 - val_R2_score: 0.9285\n",
      "Epoch 21/500\n",
      "2849/2849 [==============================] - 28s 10ms/step - loss: 1621479680.0000 - root_mean_squared_error: 40267.6016 - mean_absolute_error: 28965.7344 - R2_score: 0.9278 - val_loss: 1620680704.0000 - val_root_mean_squared_error: 40257.6797 - val_mean_absolute_error: 29314.8359 - val_R2_score: 0.9303\n",
      "Epoch 22/500\n",
      "2849/2849 [==============================] - 30s 11ms/step - loss: 1598726784.0000 - root_mean_squared_error: 39984.0820 - mean_absolute_error: 28780.2051 - R2_score: 0.9291 - val_loss: 1587012224.0000 - val_root_mean_squared_error: 39837.3203 - val_mean_absolute_error: 28733.0293 - val_R2_score: 0.9315\n",
      "Epoch 23/500\n",
      "2849/2849 [==============================] - 21s 7ms/step - loss: 1576556672.0000 - root_mean_squared_error: 39705.8789 - mean_absolute_error: 28511.1328 - R2_score: 0.9298 - val_loss: 1589546112.0000 - val_root_mean_squared_error: 39869.1133 - val_mean_absolute_error: 29003.7012 - val_R2_score: 0.9311\n",
      "Epoch 24/500\n",
      "2849/2849 [==============================] - 27s 9ms/step - loss: 1559505920.0000 - root_mean_squared_error: 39490.5781 - mean_absolute_error: 28358.8398 - R2_score: 0.9309 - val_loss: 1565625344.0000 - val_root_mean_squared_error: 39567.9844 - val_mean_absolute_error: 28484.0879 - val_R2_score: 0.9327\n",
      "Epoch 25/500\n",
      "2849/2849 [==============================] - 28s 10ms/step - loss: 1535727104.0000 - root_mean_squared_error: 39188.3555 - mean_absolute_error: 28133.2988 - R2_score: 0.9315 - val_loss: 1546466304.0000 - val_root_mean_squared_error: 39325.1367 - val_mean_absolute_error: 28243.2520 - val_R2_score: 0.9334\n",
      "Epoch 26/500\n",
      "2849/2849 [==============================] - 32s 11ms/step - loss: 1519051136.0000 - root_mean_squared_error: 38975.0039 - mean_absolute_error: 27962.7754 - R2_score: 0.9320 - val_loss: 1524806400.0000 - val_root_mean_squared_error: 39048.7695 - val_mean_absolute_error: 28123.8750 - val_R2_score: 0.9343\n",
      "Epoch 27/500\n",
      "2849/2849 [==============================] - 30s 11ms/step - loss: 1503177600.0000 - root_mean_squared_error: 38770.8359 - mean_absolute_error: 27805.7266 - R2_score: 0.9332 - val_loss: 1532871040.0000 - val_root_mean_squared_error: 39151.8945 - val_mean_absolute_error: 28031.6406 - val_R2_score: 0.9344\n",
      "Epoch 28/500\n",
      "2849/2849 [==============================] - 28s 10ms/step - loss: 1489102848.0000 - root_mean_squared_error: 38588.8945 - mean_absolute_error: 27669.1816 - R2_score: 0.9339 - val_loss: 1533226112.0000 - val_root_mean_squared_error: 39156.4297 - val_mean_absolute_error: 28455.8867 - val_R2_score: 0.9335\n",
      "Epoch 29/500\n",
      "2849/2849 [==============================] - 28s 10ms/step - loss: 1473176704.0000 - root_mean_squared_error: 38381.9844 - mean_absolute_error: 27519.2148 - R2_score: 0.9344 - val_loss: 1515007872.0000 - val_root_mean_squared_error: 38923.1016 - val_mean_absolute_error: 28069.7539 - val_R2_score: 0.9346\n",
      "Epoch 30/500\n",
      "2849/2849 [==============================] - 28s 10ms/step - loss: 1460343040.0000 - root_mean_squared_error: 38214.4336 - mean_absolute_error: 27372.7500 - R2_score: 0.9351 - val_loss: 1501405696.0000 - val_root_mean_squared_error: 38747.9766 - val_mean_absolute_error: 27927.4805 - val_R2_score: 0.9349\n",
      "Epoch 31/500\n",
      "2849/2849 [==============================] - 27s 10ms/step - loss: 1447683200.0000 - root_mean_squared_error: 38048.4297 - mean_absolute_error: 27263.3750 - R2_score: 0.9357 - val_loss: 1528006656.0000 - val_root_mean_squared_error: 39089.7266 - val_mean_absolute_error: 28449.9961 - val_R2_score: 0.9337\n",
      "Epoch 32/500\n",
      "2849/2849 [==============================] - 29s 10ms/step - loss: 1435070080.0000 - root_mean_squared_error: 37882.3203 - mean_absolute_error: 27100.8398 - R2_score: 0.9360 - val_loss: 1447712512.0000 - val_root_mean_squared_error: 38048.8164 - val_mean_absolute_error: 27300.3691 - val_R2_score: 0.9376\n",
      "Epoch 33/500\n",
      "2849/2849 [==============================] - 29s 10ms/step - loss: 1425590784.0000 - root_mean_squared_error: 37756.9961 - mean_absolute_error: 27014.6738 - R2_score: 0.9366 - val_loss: 1447534592.0000 - val_root_mean_squared_error: 38046.4766 - val_mean_absolute_error: 27281.4492 - val_R2_score: 0.9378\n",
      "Epoch 34/500\n",
      "2849/2849 [==============================] - 31s 11ms/step - loss: 1415231872.0000 - root_mean_squared_error: 37619.5664 - mean_absolute_error: 26908.4902 - R2_score: 0.9369 - val_loss: 1442409600.0000 - val_root_mean_squared_error: 37979.0664 - val_mean_absolute_error: 27347.7988 - val_R2_score: 0.9375\n",
      "Epoch 35/500\n",
      "2849/2849 [==============================] - 27s 9ms/step - loss: 1404750208.0000 - root_mean_squared_error: 37479.9961 - mean_absolute_error: 26805.4336 - R2_score: 0.9375 - val_loss: 1427950720.0000 - val_root_mean_squared_error: 37788.2344 - val_mean_absolute_error: 27023.5684 - val_R2_score: 0.9383\n",
      "Epoch 36/500\n",
      "2849/2849 [==============================] - 27s 9ms/step - loss: 1394739712.0000 - root_mean_squared_error: 37346.2148 - mean_absolute_error: 26681.0449 - R2_score: 0.9377 - val_loss: 1435415936.0000 - val_root_mean_squared_error: 37886.8828 - val_mean_absolute_error: 27203.6621 - val_R2_score: 0.9379\n",
      "Epoch 37/500\n",
      "2849/2849 [==============================] - 34s 12ms/step - loss: 1384194944.0000 - root_mean_squared_error: 37204.7695 - mean_absolute_error: 26579.3105 - R2_score: 0.9384 - val_loss: 1410679808.0000 - val_root_mean_squared_error: 37559.0156 - val_mean_absolute_error: 26861.2930 - val_R2_score: 0.9391\n",
      "Epoch 38/500\n",
      "2849/2849 [==============================] - 35s 12ms/step - loss: 1375969536.0000 - root_mean_squared_error: 37094.0625 - mean_absolute_error: 26490.8145 - R2_score: 0.9386 - val_loss: 1412094976.0000 - val_root_mean_squared_error: 37577.8516 - val_mean_absolute_error: 26697.9492 - val_R2_score: 0.9391\n",
      "Epoch 39/500\n",
      "2849/2849 [==============================] - 36s 12ms/step - loss: 1365491584.0000 - root_mean_squared_error: 36952.5586 - mean_absolute_error: 26348.8965 - R2_score: 0.9392 - val_loss: 1400364544.0000 - val_root_mean_squared_error: 37421.4453 - val_mean_absolute_error: 26633.3594 - val_R2_score: 0.9396\n",
      "Epoch 40/500\n",
      "2849/2849 [==============================] - 37s 13ms/step - loss: 1354464128.0000 - root_mean_squared_error: 36803.0469 - mean_absolute_error: 26257.1465 - R2_score: 0.9396 - val_loss: 1385098880.0000 - val_root_mean_squared_error: 37216.9180 - val_mean_absolute_error: 26655.0781 - val_R2_score: 0.9401\n",
      "Epoch 41/500\n",
      "2849/2849 [==============================] - 35s 12ms/step - loss: 1345915904.0000 - root_mean_squared_error: 36686.7266 - mean_absolute_error: 26173.9707 - R2_score: 0.9399 - val_loss: 1389469952.0000 - val_root_mean_squared_error: 37275.5938 - val_mean_absolute_error: 26839.6465 - val_R2_score: 0.9397\n",
      "Epoch 42/500\n",
      "2849/2849 [==============================] - 27s 9ms/step - loss: 1337287168.0000 - root_mean_squared_error: 36568.9375 - mean_absolute_error: 26077.0508 - R2_score: 0.9404 - val_loss: 1432030336.0000 - val_root_mean_squared_error: 37842.1758 - val_mean_absolute_error: 27515.8945 - val_R2_score: 0.9380\n",
      "Epoch 43/500\n",
      "2849/2849 [==============================] - 28s 10ms/step - loss: 1328147840.0000 - root_mean_squared_error: 36443.7617 - mean_absolute_error: 25982.8418 - R2_score: 0.9410 - val_loss: 1354872320.0000 - val_root_mean_squared_error: 36808.5898 - val_mean_absolute_error: 26170.1484 - val_R2_score: 0.9416\n",
      "Epoch 44/500\n",
      "2849/2849 [==============================] - 28s 10ms/step - loss: 1322217088.0000 - root_mean_squared_error: 36362.3008 - mean_absolute_error: 25891.1953 - R2_score: 0.9413 - val_loss: 1376065664.0000 - val_root_mean_squared_error: 37095.3594 - val_mean_absolute_error: 26661.4336 - val_R2_score: 0.9401\n",
      "Epoch 45/500\n",
      "2849/2849 [==============================] - 29s 10ms/step - loss: 1312595200.0000 - root_mean_squared_error: 36229.7539 - mean_absolute_error: 25796.8633 - R2_score: 0.9418 - val_loss: 1348639104.0000 - val_root_mean_squared_error: 36723.8203 - val_mean_absolute_error: 26242.2383 - val_R2_score: 0.9417\n",
      "Epoch 46/500\n",
      "2849/2849 [==============================] - 28s 10ms/step - loss: 1303781120.0000 - root_mean_squared_error: 36107.9102 - mean_absolute_error: 25691.0254 - R2_score: 0.9420 - val_loss: 1369342336.0000 - val_root_mean_squared_error: 37004.6250 - val_mean_absolute_error: 26348.8379 - val_R2_score: 0.9409\n",
      "Epoch 47/500\n",
      "2849/2849 [==============================] - 26s 9ms/step - loss: 1294323328.0000 - root_mean_squared_error: 35976.7031 - mean_absolute_error: 25612.1582 - R2_score: 0.9421 - val_loss: 1332683776.0000 - val_root_mean_squared_error: 36505.9414 - val_mean_absolute_error: 26051.8945 - val_R2_score: 0.9423\n",
      "Epoch 48/500\n",
      "2849/2849 [==============================] - 27s 10ms/step - loss: 1285099648.0000 - root_mean_squared_error: 35848.2852 - mean_absolute_error: 25491.5684 - R2_score: 0.9425 - val_loss: 1316662656.0000 - val_root_mean_squared_error: 36285.8438 - val_mean_absolute_error: 25859.3242 - val_R2_score: 0.9429\n",
      "Epoch 49/500\n",
      "2849/2849 [==============================] - 28s 10ms/step - loss: 1276040064.0000 - root_mean_squared_error: 35721.7031 - mean_absolute_error: 25402.0273 - R2_score: 0.9430 - val_loss: 1347218048.0000 - val_root_mean_squared_error: 36704.4688 - val_mean_absolute_error: 26638.4453 - val_R2_score: 0.9414\n",
      "Epoch 50/500\n",
      "2849/2849 [==============================] - 28s 10ms/step - loss: 1269073024.0000 - root_mean_squared_error: 35624.0508 - mean_absolute_error: 25328.2656 - R2_score: 0.9433 - val_loss: 1310579072.0000 - val_root_mean_squared_error: 36201.9180 - val_mean_absolute_error: 25961.9883 - val_R2_score: 0.9431\n",
      "Epoch 51/500\n",
      "2849/2849 [==============================] - 29s 10ms/step - loss: 1258449792.0000 - root_mean_squared_error: 35474.6367 - mean_absolute_error: 25207.2070 - R2_score: 0.9438 - val_loss: 1300671104.0000 - val_root_mean_squared_error: 36064.8164 - val_mean_absolute_error: 25845.8145 - val_R2_score: 0.9434\n",
      "Epoch 52/500\n",
      "2849/2849 [==============================] - 28s 10ms/step - loss: 1247527808.0000 - root_mean_squared_error: 35320.3594 - mean_absolute_error: 25085.7793 - R2_score: 0.9442 - val_loss: 1310737408.0000 - val_root_mean_squared_error: 36204.1055 - val_mean_absolute_error: 26106.1406 - val_R2_score: 0.9430\n",
      "Epoch 53/500\n",
      "2849/2849 [==============================] - 28s 10ms/step - loss: 1239426688.0000 - root_mean_squared_error: 35205.4922 - mean_absolute_error: 24999.9902 - R2_score: 0.9448 - val_loss: 1273393280.0000 - val_root_mean_squared_error: 35684.6367 - val_mean_absolute_error: 25477.4023 - val_R2_score: 0.9449\n",
      "Epoch 54/500\n",
      "2849/2849 [==============================] - 29s 10ms/step - loss: 1229326336.0000 - root_mean_squared_error: 35061.7500 - mean_absolute_error: 24917.7188 - R2_score: 0.9453 - val_loss: 1299657856.0000 - val_root_mean_squared_error: 36050.7656 - val_mean_absolute_error: 25527.6719 - val_R2_score: 0.9440\n",
      "Epoch 55/500\n",
      "2849/2849 [==============================] - 28s 10ms/step - loss: 1218977408.0000 - root_mean_squared_error: 34913.8555 - mean_absolute_error: 24776.0312 - R2_score: 0.9457 - val_loss: 1259607808.0000 - val_root_mean_squared_error: 35490.9531 - val_mean_absolute_error: 25341.6016 - val_R2_score: 0.9453\n",
      "Epoch 56/500\n",
      "2849/2849 [==============================] - 28s 10ms/step - loss: 1208307328.0000 - root_mean_squared_error: 34760.7148 - mean_absolute_error: 24687.2793 - R2_score: 0.9463 - val_loss: 1306364032.0000 - val_root_mean_squared_error: 36143.6562 - val_mean_absolute_error: 26180.9707 - val_R2_score: 0.9432\n",
      "Epoch 57/500\n",
      "2849/2849 [==============================] - 28s 10ms/step - loss: 1199549952.0000 - root_mean_squared_error: 34634.5195 - mean_absolute_error: 24584.4746 - R2_score: 0.9464 - val_loss: 1269144320.0000 - val_root_mean_squared_error: 35625.0508 - val_mean_absolute_error: 25602.7852 - val_R2_score: 0.9447\n",
      "Epoch 58/500\n",
      "2849/2849 [==============================] - 28s 10ms/step - loss: 1190309632.0000 - root_mean_squared_error: 34500.8633 - mean_absolute_error: 24481.4375 - R2_score: 0.9467 - val_loss: 1242007936.0000 - val_root_mean_squared_error: 35242.1328 - val_mean_absolute_error: 25148.5547 - val_R2_score: 0.9462\n",
      "Epoch 59/500\n",
      "2849/2849 [==============================] - 28s 10ms/step - loss: 1180191744.0000 - root_mean_squared_error: 34353.9180 - mean_absolute_error: 24389.9395 - R2_score: 0.9474 - val_loss: 1235213568.0000 - val_root_mean_squared_error: 35145.6055 - val_mean_absolute_error: 25099.2773 - val_R2_score: 0.9464\n",
      "Epoch 60/500\n",
      "2849/2849 [==============================] - 28s 10ms/step - loss: 1170410112.0000 - root_mean_squared_error: 34211.2578 - mean_absolute_error: 24275.3105 - R2_score: 0.9476 - val_loss: 1221489408.0000 - val_root_mean_squared_error: 34949.8125 - val_mean_absolute_error: 24893.8750 - val_R2_score: 0.9470\n",
      "Epoch 61/500\n",
      "2849/2849 [==============================] - 28s 10ms/step - loss: 1161478400.0000 - root_mean_squared_error: 34080.4688 - mean_absolute_error: 24153.8496 - R2_score: 0.9483 - val_loss: 1232099200.0000 - val_root_mean_squared_error: 35101.2695 - val_mean_absolute_error: 25027.9629 - val_R2_score: 0.9463\n",
      "Epoch 62/500\n",
      "2849/2849 [==============================] - 27s 10ms/step - loss: 1151025920.0000 - root_mean_squared_error: 33926.7734 - mean_absolute_error: 24080.5508 - R2_score: 0.9489 - val_loss: 1246239360.0000 - val_root_mean_squared_error: 35302.1133 - val_mean_absolute_error: 25345.9043 - val_R2_score: 0.9458\n",
      "Epoch 63/500\n",
      "2849/2849 [==============================] - 27s 9ms/step - loss: 1142379264.0000 - root_mean_squared_error: 33799.1016 - mean_absolute_error: 23982.0918 - R2_score: 0.9488 - val_loss: 1230290432.0000 - val_root_mean_squared_error: 35075.4961 - val_mean_absolute_error: 25147.3730 - val_R2_score: 0.9460\n",
      "Epoch 64/500\n",
      "2849/2849 [==============================] - 29s 10ms/step - loss: 1133811456.0000 - root_mean_squared_error: 33672.1172 - mean_absolute_error: 23872.1602 - R2_score: 0.9491 - val_loss: 1210408576.0000 - val_root_mean_squared_error: 34790.9258 - val_mean_absolute_error: 24884.3223 - val_R2_score: 0.9475\n",
      "Epoch 65/500\n",
      "2849/2849 [==============================] - 28s 10ms/step - loss: 1125707904.0000 - root_mean_squared_error: 33551.5703 - mean_absolute_error: 23798.4688 - R2_score: 0.9501 - val_loss: 1185912448.0000 - val_root_mean_squared_error: 34437.0781 - val_mean_absolute_error: 24582.3652 - val_R2_score: 0.9485\n",
      "Epoch 66/500\n",
      "2849/2849 [==============================] - 28s 10ms/step - loss: 1115382656.0000 - root_mean_squared_error: 33397.3438 - mean_absolute_error: 23701.5273 - R2_score: 0.9504 - val_loss: 1177883008.0000 - val_root_mean_squared_error: 34320.3008 - val_mean_absolute_error: 24501.7754 - val_R2_score: 0.9487\n",
      "Epoch 67/500\n",
      "2849/2849 [==============================] - 28s 10ms/step - loss: 1106859904.0000 - root_mean_squared_error: 33269.5039 - mean_absolute_error: 23604.8945 - R2_score: 0.9505 - val_loss: 1173595648.0000 - val_root_mean_squared_error: 34257.7812 - val_mean_absolute_error: 24380.2480 - val_R2_score: 0.9491\n",
      "Epoch 68/500\n",
      "2849/2849 [==============================] - 28s 10ms/step - loss: 1098336000.0000 - root_mean_squared_error: 33141.1523 - mean_absolute_error: 23512.4355 - R2_score: 0.9511 - val_loss: 1165841920.0000 - val_root_mean_squared_error: 34144.4258 - val_mean_absolute_error: 24343.9629 - val_R2_score: 0.9496\n",
      "Epoch 69/500\n",
      "2849/2849 [==============================] - 28s 10ms/step - loss: 1089791872.0000 - root_mean_squared_error: 33011.9961 - mean_absolute_error: 23427.1738 - R2_score: 0.9515 - val_loss: 1164030848.0000 - val_root_mean_squared_error: 34117.8945 - val_mean_absolute_error: 24240.3145 - val_R2_score: 0.9495\n",
      "Epoch 70/500\n",
      "2849/2849 [==============================] - 28s 10ms/step - loss: 1078562816.0000 - root_mean_squared_error: 32841.4805 - mean_absolute_error: 23310.1250 - R2_score: 0.9520 - val_loss: 1165755776.0000 - val_root_mean_squared_error: 34143.1641 - val_mean_absolute_error: 24287.5957 - val_R2_score: 0.9496\n",
      "Epoch 71/500\n",
      "2849/2849 [==============================] - 28s 10ms/step - loss: 1070556480.0000 - root_mean_squared_error: 32719.3594 - mean_absolute_error: 23210.8359 - R2_score: 0.9523 - val_loss: 1140445568.0000 - val_root_mean_squared_error: 33770.4844 - val_mean_absolute_error: 24072.1367 - val_R2_score: 0.9504\n",
      "Epoch 72/500\n",
      "2849/2849 [==============================] - 29s 10ms/step - loss: 1062865920.0000 - root_mean_squared_error: 32601.6250 - mean_absolute_error: 23123.0039 - R2_score: 0.9525 - val_loss: 1152707200.0000 - val_root_mean_squared_error: 33951.5430 - val_mean_absolute_error: 24132.5859 - val_R2_score: 0.9502\n",
      "Epoch 73/500\n",
      "2849/2849 [==============================] - 27s 9ms/step - loss: 1054220288.0000 - root_mean_squared_error: 32468.7578 - mean_absolute_error: 23044.4219 - R2_score: 0.9530 - val_loss: 1132499840.0000 - val_root_mean_squared_error: 33652.6328 - val_mean_absolute_error: 23968.4570 - val_R2_score: 0.9508\n",
      "Epoch 74/500\n",
      "2849/2849 [==============================] - 27s 9ms/step - loss: 1042224960.0000 - root_mean_squared_error: 32283.5078 - mean_absolute_error: 22927.9570 - R2_score: 0.9535 - val_loss: 1131633408.0000 - val_root_mean_squared_error: 33639.7578 - val_mean_absolute_error: 23929.8047 - val_R2_score: 0.9513\n",
      "Epoch 75/500\n",
      "2849/2849 [==============================] - 27s 10ms/step - loss: 1035429120.0000 - root_mean_squared_error: 32178.0840 - mean_absolute_error: 22851.0664 - R2_score: 0.9536 - val_loss: 1113752448.0000 - val_root_mean_squared_error: 33372.9297 - val_mean_absolute_error: 23807.8145 - val_R2_score: 0.9516\n",
      "Epoch 76/500\n",
      "2849/2849 [==============================] - 27s 10ms/step - loss: 1026921216.0000 - root_mean_squared_error: 32045.6113 - mean_absolute_error: 22769.2031 - R2_score: 0.9543 - val_loss: 1143710208.0000 - val_root_mean_squared_error: 33818.7852 - val_mean_absolute_error: 24281.7324 - val_R2_score: 0.9501\n",
      "Epoch 77/500\n",
      "2849/2849 [==============================] - 27s 9ms/step - loss: 1019110464.0000 - root_mean_squared_error: 31923.5098 - mean_absolute_error: 22663.3457 - R2_score: 0.9545 - val_loss: 1136973952.0000 - val_root_mean_squared_error: 33719.0430 - val_mean_absolute_error: 24011.6973 - val_R2_score: 0.9512\n",
      "Epoch 78/500\n",
      "2849/2849 [==============================] - 27s 10ms/step - loss: 1011165760.0000 - root_mean_squared_error: 31798.8320 - mean_absolute_error: 22582.3223 - R2_score: 0.9548 - val_loss: 1124833664.0000 - val_root_mean_squared_error: 33538.5391 - val_mean_absolute_error: 24191.6289 - val_R2_score: 0.9512\n",
      "Epoch 79/500\n",
      "2849/2849 [==============================] - 35s 12ms/step - loss: 1003930176.0000 - root_mean_squared_error: 31684.8574 - mean_absolute_error: 22500.8047 - R2_score: 0.9552 - val_loss: 1134811008.0000 - val_root_mean_squared_error: 33686.9570 - val_mean_absolute_error: 23874.9961 - val_R2_score: 0.9514\n",
      "Epoch 80/500\n",
      "2849/2849 [==============================] - 34s 12ms/step - loss: 995257152.0000 - root_mean_squared_error: 31547.6953 - mean_absolute_error: 22444.8984 - R2_score: 0.9558 - val_loss: 1095728384.0000 - val_root_mean_squared_error: 33101.7891 - val_mean_absolute_error: 23632.2949 - val_R2_score: 0.9526\n",
      "Epoch 81/500\n",
      "2849/2849 [==============================] - 35s 12ms/step - loss: 986664832.0000 - root_mean_squared_error: 31411.2207 - mean_absolute_error: 22321.7617 - R2_score: 0.9560 - val_loss: 1085023360.0000 - val_root_mean_squared_error: 32939.6914 - val_mean_absolute_error: 23508.1797 - val_R2_score: 0.9531\n",
      "Epoch 82/500\n",
      "2849/2849 [==============================] - 35s 12ms/step - loss: 980042368.0000 - root_mean_squared_error: 31305.6289 - mean_absolute_error: 22242.9180 - R2_score: 0.9560 - val_loss: 1080036736.0000 - val_root_mean_squared_error: 32863.9102 - val_mean_absolute_error: 23455.3945 - val_R2_score: 0.9531\n",
      "Epoch 83/500\n",
      "2849/2849 [==============================] - 36s 13ms/step - loss: 972154816.0000 - root_mean_squared_error: 31179.3965 - mean_absolute_error: 22154.1484 - R2_score: 0.9568 - val_loss: 1105840256.0000 - val_root_mean_squared_error: 33254.1758 - val_mean_absolute_error: 23954.5742 - val_R2_score: 0.9522\n",
      "Epoch 84/500\n",
      "2849/2849 [==============================] - 36s 13ms/step - loss: 963413568.0000 - root_mean_squared_error: 31038.9043 - mean_absolute_error: 22066.4707 - R2_score: 0.9572 - val_loss: 1093760256.0000 - val_root_mean_squared_error: 33072.0469 - val_mean_absolute_error: 23733.5293 - val_R2_score: 0.9525\n",
      "Epoch 85/500\n",
      "2849/2849 [==============================] - 34s 12ms/step - loss: 957239872.0000 - root_mean_squared_error: 30939.2930 - mean_absolute_error: 22003.0273 - R2_score: 0.9571 - val_loss: 1088215040.0000 - val_root_mean_squared_error: 32988.1055 - val_mean_absolute_error: 23569.5078 - val_R2_score: 0.9530\n",
      "Epoch 86/500\n",
      "2849/2849 [==============================] - 33s 12ms/step - loss: 948828544.0000 - root_mean_squared_error: 30803.0605 - mean_absolute_error: 21897.0957 - R2_score: 0.9579 - val_loss: 1067666752.0000 - val_root_mean_squared_error: 32675.1699 - val_mean_absolute_error: 23314.7793 - val_R2_score: 0.9543\n",
      "Epoch 87/500\n",
      "2849/2849 [==============================] - 35s 12ms/step - loss: 942555648.0000 - root_mean_squared_error: 30701.0684 - mean_absolute_error: 21858.9023 - R2_score: 0.9579 - val_loss: 1082813824.0000 - val_root_mean_squared_error: 32906.1367 - val_mean_absolute_error: 23540.9414 - val_R2_score: 0.9530\n",
      "Epoch 88/500\n",
      "2849/2849 [==============================] - 28s 10ms/step - loss: 935503680.0000 - root_mean_squared_error: 30586.0039 - mean_absolute_error: 21762.7188 - R2_score: 0.9583 - val_loss: 1047063616.0000 - val_root_mean_squared_error: 32358.3613 - val_mean_absolute_error: 23026.5605 - val_R2_score: 0.9549\n",
      "Epoch 89/500\n",
      "2849/2849 [==============================] - 28s 10ms/step - loss: 929811328.0000 - root_mean_squared_error: 30492.8086 - mean_absolute_error: 21705.8535 - R2_score: 0.9585 - val_loss: 1063469632.0000 - val_root_mean_squared_error: 32610.8809 - val_mean_absolute_error: 23146.0605 - val_R2_score: 0.9543\n",
      "Epoch 90/500\n",
      "2849/2849 [==============================] - 26s 9ms/step - loss: 922286336.0000 - root_mean_squared_error: 30369.1680 - mean_absolute_error: 21648.8281 - R2_score: 0.9587 - val_loss: 1042450816.0000 - val_root_mean_squared_error: 32287.0059 - val_mean_absolute_error: 23104.6406 - val_R2_score: 0.9549\n",
      "Epoch 91/500\n",
      "2849/2849 [==============================] - 26s 9ms/step - loss: 914835200.0000 - root_mean_squared_error: 30246.2422 - mean_absolute_error: 21544.2852 - R2_score: 0.9590 - val_loss: 1057785920.0000 - val_root_mean_squared_error: 32523.6211 - val_mean_absolute_error: 23135.3242 - val_R2_score: 0.9547\n",
      "Epoch 92/500\n",
      "2849/2849 [==============================] - 29s 10ms/step - loss: 908679680.0000 - root_mean_squared_error: 30144.3145 - mean_absolute_error: 21461.4609 - R2_score: 0.9591 - val_loss: 1042536768.0000 - val_root_mean_squared_error: 32288.3379 - val_mean_absolute_error: 23002.2109 - val_R2_score: 0.9550\n",
      "Epoch 93/500\n",
      "2849/2849 [==============================] - 33s 12ms/step - loss: 903199232.0000 - root_mean_squared_error: 30053.2734 - mean_absolute_error: 21383.4531 - R2_score: 0.9598 - val_loss: 1038241600.0000 - val_root_mean_squared_error: 32221.7559 - val_mean_absolute_error: 22973.9297 - val_R2_score: 0.9555\n",
      "Epoch 94/500\n",
      "2849/2849 [==============================] - 30s 10ms/step - loss: 895982528.0000 - root_mean_squared_error: 29932.9668 - mean_absolute_error: 21335.2227 - R2_score: 0.9599 - val_loss: 1052720896.0000 - val_root_mean_squared_error: 32445.6602 - val_mean_absolute_error: 23092.1426 - val_R2_score: 0.9549\n",
      "Epoch 95/500\n",
      "2849/2849 [==============================] - 29s 10ms/step - loss: 892922496.0000 - root_mean_squared_error: 29881.8086 - mean_absolute_error: 21305.8750 - R2_score: 0.9602 - val_loss: 1132586752.0000 - val_root_mean_squared_error: 33653.9258 - val_mean_absolute_error: 24129.3145 - val_R2_score: 0.9518\n",
      "Epoch 96/500\n",
      "2849/2849 [==============================] - 28s 10ms/step - loss: 884465344.0000 - root_mean_squared_error: 29739.9609 - mean_absolute_error: 21183.1953 - R2_score: 0.9607 - val_loss: 1025689600.0000 - val_root_mean_squared_error: 32026.3887 - val_mean_absolute_error: 22855.9316 - val_R2_score: 0.9557\n",
      "Epoch 97/500\n",
      "2849/2849 [==============================] - 30s 10ms/step - loss: 879888192.0000 - root_mean_squared_error: 29662.9102 - mean_absolute_error: 21130.4922 - R2_score: 0.9606 - val_loss: 1038248384.0000 - val_root_mean_squared_error: 32221.8613 - val_mean_absolute_error: 23088.5840 - val_R2_score: 0.9552\n",
      "Epoch 98/500\n",
      "2849/2849 [==============================] - 26s 9ms/step - loss: 877251840.0000 - root_mean_squared_error: 29618.4375 - mean_absolute_error: 21088.6406 - R2_score: 0.9610 - val_loss: 1036222272.0000 - val_root_mean_squared_error: 32190.4062 - val_mean_absolute_error: 23087.1934 - val_R2_score: 0.9556\n",
      "Epoch 99/500\n",
      "2849/2849 [==============================] - 29s 10ms/step - loss: 870646272.0000 - root_mean_squared_error: 29506.7148 - mean_absolute_error: 21035.3203 - R2_score: 0.9609 - val_loss: 1015033984.0000 - val_root_mean_squared_error: 31859.5977 - val_mean_absolute_error: 22730.6035 - val_R2_score: 0.9566\n",
      "Epoch 100/500\n",
      "2849/2849 [==============================] - 27s 9ms/step - loss: 863684544.0000 - root_mean_squared_error: 29388.5098 - mean_absolute_error: 20952.8672 - R2_score: 0.9615 - val_loss: 1029828544.0000 - val_root_mean_squared_error: 32090.9414 - val_mean_absolute_error: 23000.1230 - val_R2_score: 0.9558\n",
      "Epoch 101/500\n",
      "2849/2849 [==============================] - 27s 9ms/step - loss: 859856192.0000 - root_mean_squared_error: 29323.3047 - mean_absolute_error: 20886.1445 - R2_score: 0.9616 - val_loss: 1010534080.0000 - val_root_mean_squared_error: 31788.8984 - val_mean_absolute_error: 22747.2090 - val_R2_score: 0.9566\n",
      "Epoch 102/500\n",
      "2849/2849 [==============================] - 26s 9ms/step - loss: 853671488.0000 - root_mean_squared_error: 29217.6562 - mean_absolute_error: 20843.8574 - R2_score: 0.9620 - val_loss: 1075996544.0000 - val_root_mean_squared_error: 32802.3867 - val_mean_absolute_error: 23330.5840 - val_R2_score: 0.9542\n",
      "Epoch 103/500\n",
      "2849/2849 [==============================] - 26s 9ms/step - loss: 849857600.0000 - root_mean_squared_error: 29152.3164 - mean_absolute_error: 20776.4258 - R2_score: 0.9620 - val_loss: 1047549568.0000 - val_root_mean_squared_error: 32365.8711 - val_mean_absolute_error: 23377.2773 - val_R2_score: 0.9549\n",
      "Epoch 104/500\n",
      "2849/2849 [==============================] - 32s 11ms/step - loss: 844982208.0000 - root_mean_squared_error: 29068.5781 - mean_absolute_error: 20715.5508 - R2_score: 0.9622 - val_loss: 1033507200.0000 - val_root_mean_squared_error: 32148.2070 - val_mean_absolute_error: 23026.1895 - val_R2_score: 0.9555\n",
      "Epoch 105/500\n",
      "2849/2849 [==============================] - 33s 12ms/step - loss: 838055744.0000 - root_mean_squared_error: 28949.1934 - mean_absolute_error: 20661.5449 - R2_score: 0.9625 - val_loss: 1118551552.0000 - val_root_mean_squared_error: 33444.7539 - val_mean_absolute_error: 24292.7461 - val_R2_score: 0.9514\n",
      "Epoch 106/500\n",
      "2849/2849 [==============================] - 32s 11ms/step - loss: 835669888.0000 - root_mean_squared_error: 28907.9551 - mean_absolute_error: 20633.0742 - R2_score: 0.9627 - val_loss: 1015649728.0000 - val_root_mean_squared_error: 31869.2598 - val_mean_absolute_error: 22836.8359 - val_R2_score: 0.9562\n",
      "Epoch 107/500\n",
      "2849/2849 [==============================] - 29s 10ms/step - loss: 831627584.0000 - root_mean_squared_error: 28837.9531 - mean_absolute_error: 20561.9395 - R2_score: 0.9628 - val_loss: 994648704.0000 - val_root_mean_squared_error: 31538.0508 - val_mean_absolute_error: 22617.0762 - val_R2_score: 0.9574\n",
      "Epoch 108/500\n",
      "2849/2849 [==============================] - 26s 9ms/step - loss: 826256960.0000 - root_mean_squared_error: 28744.6855 - mean_absolute_error: 20501.9961 - R2_score: 0.9630 - val_loss: 1015489472.0000 - val_root_mean_squared_error: 31866.7461 - val_mean_absolute_error: 22786.7949 - val_R2_score: 0.9567\n",
      "Epoch 109/500\n",
      "2849/2849 [==============================] - 26s 9ms/step - loss: 821455680.0000 - root_mean_squared_error: 28661.0488 - mean_absolute_error: 20441.2402 - R2_score: 0.9632 - val_loss: 995116032.0000 - val_root_mean_squared_error: 31545.4590 - val_mean_absolute_error: 22691.7910 - val_R2_score: 0.9574\n",
      "Epoch 110/500\n",
      "2849/2849 [==============================] - 26s 9ms/step - loss: 815965696.0000 - root_mean_squared_error: 28565.1133 - mean_absolute_error: 20391.7676 - R2_score: 0.9636 - val_loss: 1019698176.0000 - val_root_mean_squared_error: 31932.7129 - val_mean_absolute_error: 23071.2031 - val_R2_score: 0.9561\n",
      "Epoch 111/500\n",
      "2849/2849 [==============================] - 34s 12ms/step - loss: 811556928.0000 - root_mean_squared_error: 28487.8379 - mean_absolute_error: 20353.9941 - R2_score: 0.9637 - val_loss: 1004077760.0000 - val_root_mean_squared_error: 31687.1855 - val_mean_absolute_error: 22781.6211 - val_R2_score: 0.9571\n",
      "Epoch 112/500\n",
      "2849/2849 [==============================] - 30s 11ms/step - loss: 807826624.0000 - root_mean_squared_error: 28422.2910 - mean_absolute_error: 20289.2734 - R2_score: 0.9638 - val_loss: 1003141056.0000 - val_root_mean_squared_error: 31672.4023 - val_mean_absolute_error: 22651.7910 - val_R2_score: 0.9570\n",
      "Epoch 113/500\n",
      "2849/2849 [==============================] - 26s 9ms/step - loss: 803961408.0000 - root_mean_squared_error: 28354.2129 - mean_absolute_error: 20236.6758 - R2_score: 0.9637 - val_loss: 1018456128.0000 - val_root_mean_squared_error: 31913.2598 - val_mean_absolute_error: 22936.1816 - val_R2_score: 0.9562\n",
      "Epoch 114/500\n",
      "2849/2849 [==============================] - 28s 10ms/step - loss: 800030784.0000 - root_mean_squared_error: 28284.8145 - mean_absolute_error: 20199.6816 - R2_score: 0.9644 - val_loss: 982181440.0000 - val_root_mean_squared_error: 31339.7734 - val_mean_absolute_error: 22460.8164 - val_R2_score: 0.9577\n",
      "Epoch 115/500\n",
      "2849/2849 [==============================] - 27s 9ms/step - loss: 794830720.0000 - root_mean_squared_error: 28192.7422 - mean_absolute_error: 20111.6133 - R2_score: 0.9644 - val_loss: 1011280768.0000 - val_root_mean_squared_error: 31800.6406 - val_mean_absolute_error: 22806.9707 - val_R2_score: 0.9568\n",
      "Epoch 116/500\n",
      "2849/2849 [==============================] - 28s 10ms/step - loss: 792426304.0000 - root_mean_squared_error: 28150.0664 - mean_absolute_error: 20099.4941 - R2_score: 0.9646 - val_loss: 995348416.0000 - val_root_mean_squared_error: 31549.1426 - val_mean_absolute_error: 22624.7031 - val_R2_score: 0.9572\n",
      "Epoch 117/500\n",
      "2849/2849 [==============================] - 28s 10ms/step - loss: 787659648.0000 - root_mean_squared_error: 28065.2754 - mean_absolute_error: 20043.4922 - R2_score: 0.9648 - val_loss: 1012427008.0000 - val_root_mean_squared_error: 31818.6582 - val_mean_absolute_error: 22949.6953 - val_R2_score: 0.9565\n",
      "Epoch 118/500\n",
      "2849/2849 [==============================] - 34s 12ms/step - loss: 784720128.0000 - root_mean_squared_error: 28012.8555 - mean_absolute_error: 20025.9805 - R2_score: 0.9650 - val_loss: 1016404992.0000 - val_root_mean_squared_error: 31881.1074 - val_mean_absolute_error: 23023.6484 - val_R2_score: 0.9563\n",
      "Epoch 119/500\n",
      "2849/2849 [==============================] - 33s 12ms/step - loss: 779609984.0000 - root_mean_squared_error: 27921.4961 - mean_absolute_error: 19974.2891 - R2_score: 0.9651 - val_loss: 989328256.0000 - val_root_mean_squared_error: 31453.5879 - val_mean_absolute_error: 22659.2363 - val_R2_score: 0.9578\n",
      "Epoch 120/500\n",
      "2849/2849 [==============================] - 34s 12ms/step - loss: 777287040.0000 - root_mean_squared_error: 27879.8672 - mean_absolute_error: 19914.1816 - R2_score: 0.9652 - val_loss: 1025380416.0000 - val_root_mean_squared_error: 32021.5605 - val_mean_absolute_error: 23229.4199 - val_R2_score: 0.9559\n",
      "Epoch 121/500\n",
      "2849/2849 [==============================] - 33s 12ms/step - loss: 772681920.0000 - root_mean_squared_error: 27797.1562 - mean_absolute_error: 19852.7930 - R2_score: 0.9653 - val_loss: 998230656.0000 - val_root_mean_squared_error: 31594.7891 - val_mean_absolute_error: 22713.4258 - val_R2_score: 0.9572\n",
      "Epoch 122/500\n",
      "2849/2849 [==============================] - 28s 10ms/step - loss: 768522688.0000 - root_mean_squared_error: 27722.2422 - mean_absolute_error: 19808.6152 - R2_score: 0.9655 - val_loss: 972401600.0000 - val_root_mean_squared_error: 31183.3535 - val_mean_absolute_error: 22306.5840 - val_R2_score: 0.9584\n",
      "Epoch 123/500\n",
      "2849/2849 [==============================] - 31s 11ms/step - loss: 765980032.0000 - root_mean_squared_error: 27676.3438 - mean_absolute_error: 19762.7012 - R2_score: 0.9657 - val_loss: 973234880.0000 - val_root_mean_squared_error: 31196.7129 - val_mean_absolute_error: 22474.4648 - val_R2_score: 0.9587\n",
      "Epoch 124/500\n",
      "2849/2849 [==============================] - 35s 12ms/step - loss: 761314496.0000 - root_mean_squared_error: 27591.9277 - mean_absolute_error: 19745.7969 - R2_score: 0.9660 - val_loss: 982620608.0000 - val_root_mean_squared_error: 31346.7793 - val_mean_absolute_error: 22498.1973 - val_R2_score: 0.9579\n",
      "Epoch 125/500\n",
      "2849/2849 [==============================] - 35s 12ms/step - loss: 759515392.0000 - root_mean_squared_error: 27559.3066 - mean_absolute_error: 19690.3184 - R2_score: 0.9661 - val_loss: 987667968.0000 - val_root_mean_squared_error: 31427.1855 - val_mean_absolute_error: 22630.4902 - val_R2_score: 0.9575\n",
      "Epoch 126/500\n",
      "2849/2849 [==============================] - 35s 12ms/step - loss: 755908544.0000 - root_mean_squared_error: 27493.7910 - mean_absolute_error: 19645.6172 - R2_score: 0.9663 - val_loss: 989903680.0000 - val_root_mean_squared_error: 31462.7344 - val_mean_absolute_error: 22698.2070 - val_R2_score: 0.9571\n",
      "Epoch 127/500\n",
      "2849/2849 [==============================] - 35s 12ms/step - loss: 750948288.0000 - root_mean_squared_error: 27403.4355 - mean_absolute_error: 19592.6582 - R2_score: 0.9665 - val_loss: 969201856.0000 - val_root_mean_squared_error: 31132.0059 - val_mean_absolute_error: 22361.0820 - val_R2_score: 0.9585\n",
      "Epoch 128/500\n",
      "2849/2849 [==============================] - 35s 12ms/step - loss: 749931392.0000 - root_mean_squared_error: 27384.8750 - mean_absolute_error: 19558.0703 - R2_score: 0.9665 - val_loss: 972621248.0000 - val_root_mean_squared_error: 31186.8770 - val_mean_absolute_error: 22423.1992 - val_R2_score: 0.9584\n",
      "Epoch 129/500\n",
      "2849/2849 [==============================] - 34s 12ms/step - loss: 746532928.0000 - root_mean_squared_error: 27322.7559 - mean_absolute_error: 19540.0566 - R2_score: 0.9666 - val_loss: 1009227648.0000 - val_root_mean_squared_error: 31768.3438 - val_mean_absolute_error: 22884.4746 - val_R2_score: 0.9569\n",
      "Epoch 130/500\n",
      "2849/2849 [==============================] - 35s 12ms/step - loss: 744039360.0000 - root_mean_squared_error: 27277.0840 - mean_absolute_error: 19513.7266 - R2_score: 0.9666 - val_loss: 983492416.0000 - val_root_mean_squared_error: 31360.6816 - val_mean_absolute_error: 22576.6543 - val_R2_score: 0.9582\n",
      "Epoch 131/500\n",
      "2849/2849 [==============================] - 35s 12ms/step - loss: 741228032.0000 - root_mean_squared_error: 27225.5020 - mean_absolute_error: 19485.9785 - R2_score: 0.9667 - val_loss: 980697088.0000 - val_root_mean_squared_error: 31316.0840 - val_mean_absolute_error: 22623.4512 - val_R2_score: 0.9582\n",
      "Epoch 132/500\n",
      "2849/2849 [==============================] - 34s 12ms/step - loss: 739434368.0000 - root_mean_squared_error: 27192.5430 - mean_absolute_error: 19435.5234 - R2_score: 0.9669 - val_loss: 990906880.0000 - val_root_mean_squared_error: 31478.6738 - val_mean_absolute_error: 22733.5254 - val_R2_score: 0.9574\n",
      "Epoch 133/500\n",
      "2849/2849 [==============================] - 35s 12ms/step - loss: 734848704.0000 - root_mean_squared_error: 27108.0938 - mean_absolute_error: 19388.9551 - R2_score: 0.9673 - val_loss: 998810624.0000 - val_root_mean_squared_error: 31603.9648 - val_mean_absolute_error: 22686.0391 - val_R2_score: 0.9576\n",
      "Epoch 134/500\n",
      "2849/2849 [==============================] - 33s 12ms/step - loss: 730500800.0000 - root_mean_squared_error: 27027.7773 - mean_absolute_error: 19337.3926 - R2_score: 0.9674 - val_loss: 991396672.0000 - val_root_mean_squared_error: 31486.4512 - val_mean_absolute_error: 22713.5781 - val_R2_score: 0.9574\n",
      "Epoch 135/500\n",
      "2849/2849 [==============================] - 33s 12ms/step - loss: 728953216.0000 - root_mean_squared_error: 26999.1348 - mean_absolute_error: 19314.7578 - R2_score: 0.9674 - val_loss: 1018986752.0000 - val_root_mean_squared_error: 31921.5723 - val_mean_absolute_error: 23004.0742 - val_R2_score: 0.9565\n",
      "Epoch 136/500\n",
      "2849/2849 [==============================] - 35s 12ms/step - loss: 724725760.0000 - root_mean_squared_error: 26920.7305 - mean_absolute_error: 19254.4258 - R2_score: 0.9678 - val_loss: 965382848.0000 - val_root_mean_squared_error: 31070.6094 - val_mean_absolute_error: 22352.5312 - val_R2_score: 0.9586\n",
      "Epoch 137/500\n",
      "2849/2849 [==============================] - 35s 12ms/step - loss: 721958592.0000 - root_mean_squared_error: 26869.2871 - mean_absolute_error: 19204.2168 - R2_score: 0.9679 - val_loss: 1074177792.0000 - val_root_mean_squared_error: 32774.6523 - val_mean_absolute_error: 23742.6387 - val_R2_score: 0.9544\n",
      "Epoch 138/500\n",
      "2849/2849 [==============================] - 35s 12ms/step - loss: 719153920.0000 - root_mean_squared_error: 26817.0449 - mean_absolute_error: 19180.3613 - R2_score: 0.9678 - val_loss: 970255552.0000 - val_root_mean_squared_error: 31148.9258 - val_mean_absolute_error: 22431.1777 - val_R2_score: 0.9583\n",
      "Epoch 139/500\n",
      "2849/2849 [==============================] - 34s 12ms/step - loss: 717095616.0000 - root_mean_squared_error: 26778.6406 - mean_absolute_error: 19150.2285 - R2_score: 0.9679 - val_loss: 986604416.0000 - val_root_mean_squared_error: 31410.2598 - val_mean_absolute_error: 22688.5000 - val_R2_score: 0.9582\n",
      "Epoch 140/500\n",
      "2849/2849 [==============================] - 35s 12ms/step - loss: 712968640.0000 - root_mean_squared_error: 26701.4727 - mean_absolute_error: 19100.0195 - R2_score: 0.9683 - val_loss: 1025505216.0000 - val_root_mean_squared_error: 32023.5098 - val_mean_absolute_error: 23326.8535 - val_R2_score: 0.9559\n",
      "Epoch 141/500\n",
      "2849/2849 [==============================] - 33s 12ms/step - loss: 710381120.0000 - root_mean_squared_error: 26652.9746 - mean_absolute_error: 19080.0215 - R2_score: 0.9683 - val_loss: 971464448.0000 - val_root_mean_squared_error: 31168.3242 - val_mean_absolute_error: 22403.3555 - val_R2_score: 0.9587\n",
      "Epoch 142/500\n",
      "2849/2849 [==============================] - 35s 12ms/step - loss: 707798848.0000 - root_mean_squared_error: 26604.4883 - mean_absolute_error: 19053.4277 - R2_score: 0.9683 - val_loss: 1039676992.0000 - val_root_mean_squared_error: 32244.0215 - val_mean_absolute_error: 23085.7051 - val_R2_score: 0.9558\n",
      "Epoch 143/500\n",
      "2849/2849 [==============================] - 34s 12ms/step - loss: 706047360.0000 - root_mean_squared_error: 26571.5508 - mean_absolute_error: 19021.4258 - R2_score: 0.9686 - val_loss: 995555008.0000 - val_root_mean_squared_error: 31552.4160 - val_mean_absolute_error: 22875.6523 - val_R2_score: 0.9575\n",
      "Epoch 144/500\n",
      "2849/2849 [==============================] - 34s 12ms/step - loss: 701263936.0000 - root_mean_squared_error: 26481.3887 - mean_absolute_error: 18960.6641 - R2_score: 0.9687 - val_loss: 1024599360.0000 - val_root_mean_squared_error: 32009.3633 - val_mean_absolute_error: 23262.1348 - val_R2_score: 0.9559\n",
      "Epoch 145/500\n",
      "2849/2849 [==============================] - 32s 11ms/step - loss: 700808064.0000 - root_mean_squared_error: 26472.7793 - mean_absolute_error: 18950.4355 - R2_score: 0.9686 - val_loss: 970540992.0000 - val_root_mean_squared_error: 31153.5059 - val_mean_absolute_error: 22517.3203 - val_R2_score: 0.9587\n",
      "Epoch 146/500\n",
      "2849/2849 [==============================] - 35s 12ms/step - loss: 697421056.0000 - root_mean_squared_error: 26408.7305 - mean_absolute_error: 18911.4062 - R2_score: 0.9686 - val_loss: 1077428480.0000 - val_root_mean_squared_error: 32824.2031 - val_mean_absolute_error: 23978.3809 - val_R2_score: 0.9535\n",
      "Epoch 147/500\n",
      "2849/2849 [==============================] - 34s 12ms/step - loss: 695725888.0000 - root_mean_squared_error: 26376.6152 - mean_absolute_error: 18899.7402 - R2_score: 0.9687 - val_loss: 997427456.0000 - val_root_mean_squared_error: 31582.0742 - val_mean_absolute_error: 23060.8066 - val_R2_score: 0.9573\n",
      "Epoch 148/500\n",
      "2849/2849 [==============================] - 35s 12ms/step - loss: 692730944.0000 - root_mean_squared_error: 26319.7832 - mean_absolute_error: 18891.8438 - R2_score: 0.9691 - val_loss: 972055232.0000 - val_root_mean_squared_error: 31177.8008 - val_mean_absolute_error: 22516.9473 - val_R2_score: 0.9585\n",
      "Epoch 149/500\n",
      "2849/2849 [==============================] - 35s 12ms/step - loss: 690491328.0000 - root_mean_squared_error: 26277.2012 - mean_absolute_error: 18826.8203 - R2_score: 0.9691 - val_loss: 989989824.0000 - val_root_mean_squared_error: 31464.1035 - val_mean_absolute_error: 22831.3926 - val_R2_score: 0.9574\n",
      "Epoch 150/500\n",
      "2849/2849 [==============================] - 35s 12ms/step - loss: 688231488.0000 - root_mean_squared_error: 26234.1660 - mean_absolute_error: 18802.3340 - R2_score: 0.9692 - val_loss: 964181888.0000 - val_root_mean_squared_error: 31051.2793 - val_mean_absolute_error: 22442.0957 - val_R2_score: 0.9588\n",
      "Epoch 151/500\n",
      "2849/2849 [==============================] - 35s 12ms/step - loss: 684681344.0000 - root_mean_squared_error: 26166.4160 - mean_absolute_error: 18727.5508 - R2_score: 0.9692 - val_loss: 960543360.0000 - val_root_mean_squared_error: 30992.6348 - val_mean_absolute_error: 22389.3887 - val_R2_score: 0.9590\n",
      "Epoch 152/500\n",
      "2849/2849 [==============================] - 35s 12ms/step - loss: 683436288.0000 - root_mean_squared_error: 26142.6152 - mean_absolute_error: 18753.5762 - R2_score: 0.9694 - val_loss: 964456512.0000 - val_root_mean_squared_error: 31055.7012 - val_mean_absolute_error: 22477.3691 - val_R2_score: 0.9589\n",
      "Epoch 153/500\n",
      "2849/2849 [==============================] - 35s 12ms/step - loss: 680532352.0000 - root_mean_squared_error: 26087.0137 - mean_absolute_error: 18719.2695 - R2_score: 0.9696 - val_loss: 953674880.0000 - val_root_mean_squared_error: 30881.6270 - val_mean_absolute_error: 22305.3105 - val_R2_score: 0.9592\n",
      "Epoch 154/500\n",
      "2849/2849 [==============================] - 32s 11ms/step - loss: 678437248.0000 - root_mean_squared_error: 26046.8281 - mean_absolute_error: 18670.1191 - R2_score: 0.9697 - val_loss: 972500992.0000 - val_root_mean_squared_error: 31184.9473 - val_mean_absolute_error: 22593.5938 - val_R2_score: 0.9581\n",
      "Epoch 155/500\n",
      "2849/2849 [==============================] - 26s 9ms/step - loss: 675658368.0000 - root_mean_squared_error: 25993.4297 - mean_absolute_error: 18644.8750 - R2_score: 0.9697 - val_loss: 968286848.0000 - val_root_mean_squared_error: 31117.3066 - val_mean_absolute_error: 22547.2441 - val_R2_score: 0.9587\n",
      "Epoch 156/500\n",
      "2849/2849 [==============================] - 34s 12ms/step - loss: 675971328.0000 - root_mean_squared_error: 25999.4492 - mean_absolute_error: 18640.3105 - R2_score: 0.9697 - val_loss: 970648192.0000 - val_root_mean_squared_error: 31155.2266 - val_mean_absolute_error: 22615.6152 - val_R2_score: 0.9585\n",
      "Epoch 157/500\n",
      "2849/2849 [==============================] - 36s 12ms/step - loss: 673250368.0000 - root_mean_squared_error: 25947.0684 - mean_absolute_error: 18595.0605 - R2_score: 0.9698 - val_loss: 976092928.0000 - val_root_mean_squared_error: 31242.4863 - val_mean_absolute_error: 22741.4102 - val_R2_score: 0.9582\n",
      "Epoch 158/500\n",
      "2849/2849 [==============================] - 29s 10ms/step - loss: 669524544.0000 - root_mean_squared_error: 25875.1719 - mean_absolute_error: 18557.4961 - R2_score: 0.9701 - val_loss: 968430400.0000 - val_root_mean_squared_error: 31119.6133 - val_mean_absolute_error: 22491.0156 - val_R2_score: 0.9587\n",
      "Epoch 159/500\n",
      "2849/2849 [==============================] - 34s 12ms/step - loss: 668711808.0000 - root_mean_squared_error: 25859.4629 - mean_absolute_error: 18536.9160 - R2_score: 0.9699 - val_loss: 999042368.0000 - val_root_mean_squared_error: 31607.6309 - val_mean_absolute_error: 22736.5547 - val_R2_score: 0.9574\n",
      "Epoch 160/500\n",
      "2849/2849 [==============================] - 26s 9ms/step - loss: 667534912.0000 - root_mean_squared_error: 25836.6973 - mean_absolute_error: 18498.1426 - R2_score: 0.9699 - val_loss: 974409024.0000 - val_root_mean_squared_error: 31215.5254 - val_mean_absolute_error: 22539.8086 - val_R2_score: 0.9585\n",
      "Epoch 161/500\n",
      "2849/2849 [==============================] - 28s 10ms/step - loss: 662848384.0000 - root_mean_squared_error: 25745.8418 - mean_absolute_error: 18476.1504 - R2_score: 0.9703 - val_loss: 951256704.0000 - val_root_mean_squared_error: 30842.4492 - val_mean_absolute_error: 22323.7598 - val_R2_score: 0.9593\n",
      "Epoch 162/500\n",
      "2849/2849 [==============================] - 30s 11ms/step - loss: 663103936.0000 - root_mean_squared_error: 25750.8047 - mean_absolute_error: 18450.7402 - R2_score: 0.9702 - val_loss: 958621440.0000 - val_root_mean_squared_error: 30961.6113 - val_mean_absolute_error: 22454.8887 - val_R2_score: 0.9591\n",
      "Epoch 163/500\n",
      "2849/2849 [==============================] - 34s 12ms/step - loss: 661741504.0000 - root_mean_squared_error: 25724.3379 - mean_absolute_error: 18445.9102 - R2_score: 0.9704 - val_loss: 977617536.0000 - val_root_mean_squared_error: 31266.8750 - val_mean_absolute_error: 22673.6230 - val_R2_score: 0.9579\n",
      "Epoch 164/500\n",
      "2849/2849 [==============================] - 35s 12ms/step - loss: 656305664.0000 - root_mean_squared_error: 25618.4629 - mean_absolute_error: 18409.8535 - R2_score: 0.9705 - val_loss: 952136000.0000 - val_root_mean_squared_error: 30856.7012 - val_mean_absolute_error: 22377.2441 - val_R2_score: 0.9590\n",
      "Epoch 165/500\n",
      "2849/2849 [==============================] - 30s 11ms/step - loss: 656444800.0000 - root_mean_squared_error: 25621.1777 - mean_absolute_error: 18363.2285 - R2_score: 0.9705 - val_loss: 954143040.0000 - val_root_mean_squared_error: 30889.2051 - val_mean_absolute_error: 22414.0547 - val_R2_score: 0.9593\n",
      "Epoch 166/500\n",
      "2849/2849 [==============================] - 26s 9ms/step - loss: 653735488.0000 - root_mean_squared_error: 25568.2520 - mean_absolute_error: 18333.9219 - R2_score: 0.9707 - val_loss: 979923968.0000 - val_root_mean_squared_error: 31303.7363 - val_mean_absolute_error: 22876.8672 - val_R2_score: 0.9579\n",
      "Epoch 167/500\n",
      "2849/2849 [==============================] - 34s 12ms/step - loss: 651871872.0000 - root_mean_squared_error: 25531.7812 - mean_absolute_error: 18319.3496 - R2_score: 0.9706 - val_loss: 981137536.0000 - val_root_mean_squared_error: 31323.1152 - val_mean_absolute_error: 22696.5527 - val_R2_score: 0.9580\n",
      "Epoch 168/500\n",
      "2849/2849 [==============================] - 34s 12ms/step - loss: 648222400.0000 - root_mean_squared_error: 25460.2109 - mean_absolute_error: 18276.4043 - R2_score: 0.9709 - val_loss: 955402688.0000 - val_root_mean_squared_error: 30909.5898 - val_mean_absolute_error: 22400.5117 - val_R2_score: 0.9588\n",
      "Epoch 169/500\n",
      "2849/2849 [==============================] - 34s 12ms/step - loss: 647651712.0000 - root_mean_squared_error: 25449.0020 - mean_absolute_error: 18234.6855 - R2_score: 0.9712 - val_loss: 955075776.0000 - val_root_mean_squared_error: 30904.3008 - val_mean_absolute_error: 22367.9844 - val_R2_score: 0.9592\n",
      "Epoch 170/500\n",
      "2849/2849 [==============================] - 34s 12ms/step - loss: 645480704.0000 - root_mean_squared_error: 25406.3125 - mean_absolute_error: 18222.5488 - R2_score: 0.9711 - val_loss: 1060523008.0000 - val_root_mean_squared_error: 32565.6719 - val_mean_absolute_error: 24154.9648 - val_R2_score: 0.9541\n",
      "Epoch 171/500\n",
      "2849/2849 [==============================] - 33s 12ms/step - loss: 643940224.0000 - root_mean_squared_error: 25375.9766 - mean_absolute_error: 18185.5410 - R2_score: 0.9711 - val_loss: 963944320.0000 - val_root_mean_squared_error: 31047.4531 - val_mean_absolute_error: 22515.2227 - val_R2_score: 0.9584\n",
      "Epoch 172/500\n",
      "2849/2849 [==============================] - 34s 12ms/step - loss: 642041344.0000 - root_mean_squared_error: 25338.5352 - mean_absolute_error: 18161.1914 - R2_score: 0.9712 - val_loss: 953248320.0000 - val_root_mean_squared_error: 30874.7188 - val_mean_absolute_error: 22339.3145 - val_R2_score: 0.9590\n",
      "Epoch 173/500\n",
      "2849/2849 [==============================] - 33s 12ms/step - loss: 640173184.0000 - root_mean_squared_error: 25301.6445 - mean_absolute_error: 18151.0781 - R2_score: 0.9715 - val_loss: 989005376.0000 - val_root_mean_squared_error: 31448.4551 - val_mean_absolute_error: 22797.8145 - val_R2_score: 0.9578\n",
      "Epoch 174/500\n",
      "2849/2849 [==============================] - 33s 12ms/step - loss: 638216768.0000 - root_mean_squared_error: 25262.9512 - mean_absolute_error: 18131.0605 - R2_score: 0.9714 - val_loss: 1054751872.0000 - val_root_mean_squared_error: 32476.9434 - val_mean_absolute_error: 23872.4316 - val_R2_score: 0.9543\n",
      "Epoch 175/500\n",
      "2849/2849 [==============================] - 33s 12ms/step - loss: 636928704.0000 - root_mean_squared_error: 25237.4473 - mean_absolute_error: 18103.6445 - R2_score: 0.9714 - val_loss: 1010604224.0000 - val_root_mean_squared_error: 31790.0020 - val_mean_absolute_error: 23135.5137 - val_R2_score: 0.9564\n",
      "Epoch 176/500\n",
      "2849/2849 [==============================] - 33s 12ms/step - loss: 634245056.0000 - root_mean_squared_error: 25184.2227 - mean_absolute_error: 18093.0938 - R2_score: 0.9714 - val_loss: 1023483520.0000 - val_root_mean_squared_error: 31991.9277 - val_mean_absolute_error: 23048.9629 - val_R2_score: 0.9565\n",
      "Epoch 177/500\n",
      "2849/2849 [==============================] - 27s 9ms/step - loss: 636288512.0000 - root_mean_squared_error: 25224.7598 - mean_absolute_error: 18118.9102 - R2_score: 0.9714 - val_loss: 960411904.0000 - val_root_mean_squared_error: 30990.5137 - val_mean_absolute_error: 22481.7324 - val_R2_score: 0.9591\n",
      "Epoch 178/500\n",
      "2849/2849 [==============================] - 27s 9ms/step - loss: 632406592.0000 - root_mean_squared_error: 25147.6953 - mean_absolute_error: 18042.4668 - R2_score: 0.9716 - val_loss: 997619328.0000 - val_root_mean_squared_error: 31585.1113 - val_mean_absolute_error: 22934.8887 - val_R2_score: 0.9572\n",
      "Epoch 179/500\n",
      "2849/2849 [==============================] - 34s 12ms/step - loss: 629766208.0000 - root_mean_squared_error: 25095.1426 - mean_absolute_error: 18010.0957 - R2_score: 0.9719 - val_loss: 966243264.0000 - val_root_mean_squared_error: 31084.4531 - val_mean_absolute_error: 22540.1094 - val_R2_score: 0.9588\n",
      "Epoch 180/500\n",
      "2849/2849 [==============================] - 34s 12ms/step - loss: 625551872.0000 - root_mean_squared_error: 25011.0352 - mean_absolute_error: 17960.7324 - R2_score: 0.9719 - val_loss: 973778176.0000 - val_root_mean_squared_error: 31205.4180 - val_mean_absolute_error: 22447.3320 - val_R2_score: 0.9586\n",
      "Epoch 181/500\n",
      "2849/2849 [==============================] - 34s 12ms/step - loss: 625233600.0000 - root_mean_squared_error: 25004.6719 - mean_absolute_error: 17948.5684 - R2_score: 0.9718 - val_loss: 999892928.0000 - val_root_mean_squared_error: 31621.0840 - val_mean_absolute_error: 22987.2148 - val_R2_score: 0.9572\n",
      "Epoch 182/500\n",
      "2849/2849 [==============================] - 35s 12ms/step - loss: 623841856.0000 - root_mean_squared_error: 24976.8262 - mean_absolute_error: 17934.6992 - R2_score: 0.9718 - val_loss: 979316864.0000 - val_root_mean_squared_error: 31294.0391 - val_mean_absolute_error: 22634.6387 - val_R2_score: 0.9582\n",
      "Epoch 183/500\n",
      "2849/2849 [==============================] - 28s 10ms/step - loss: 623352128.0000 - root_mean_squared_error: 24967.0195 - mean_absolute_error: 17917.5996 - R2_score: 0.9721 - val_loss: 1122678144.0000 - val_root_mean_squared_error: 33506.3906 - val_mean_absolute_error: 24242.9570 - val_R2_score: 0.9525\n",
      "Epoch 184/500\n",
      "2849/2849 [==============================] - 26s 9ms/step - loss: 621021760.0000 - root_mean_squared_error: 24920.3066 - mean_absolute_error: 17892.8047 - R2_score: 0.9722 - val_loss: 981317824.0000 - val_root_mean_squared_error: 31325.9922 - val_mean_absolute_error: 22732.0352 - val_R2_score: 0.9580\n",
      "Epoch 185/500\n",
      "2849/2849 [==============================] - 34s 12ms/step - loss: 621917120.0000 - root_mean_squared_error: 24938.2656 - mean_absolute_error: 17895.2832 - R2_score: 0.9721 - val_loss: 988534656.0000 - val_root_mean_squared_error: 31440.9707 - val_mean_absolute_error: 22690.5312 - val_R2_score: 0.9581\n",
      "Epoch 186/500\n",
      "2849/2849 [==============================] - 34s 12ms/step - loss: 617360064.0000 - root_mean_squared_error: 24846.7324 - mean_absolute_error: 17852.4785 - R2_score: 0.9722 - val_loss: 1069401664.0000 - val_root_mean_squared_error: 32701.7070 - val_mean_absolute_error: 23980.9609 - val_R2_score: 0.9539\n",
      "Epoch 187/500\n",
      "2849/2849 [==============================] - 34s 12ms/step - loss: 617565504.0000 - root_mean_squared_error: 24850.8652 - mean_absolute_error: 17833.4121 - R2_score: 0.9721 - val_loss: 955915584.0000 - val_root_mean_squared_error: 30917.8848 - val_mean_absolute_error: 22442.8047 - val_R2_score: 0.9592\n",
      "Epoch 188/500\n",
      "2849/2849 [==============================] - 34s 12ms/step - loss: 613942784.0000 - root_mean_squared_error: 24777.8691 - mean_absolute_error: 17769.2109 - R2_score: 0.9726 - val_loss: 955167232.0000 - val_root_mean_squared_error: 30905.7793 - val_mean_absolute_error: 22308.9766 - val_R2_score: 0.9592\n",
      "Epoch 189/500\n",
      "2849/2849 [==============================] - 33s 12ms/step - loss: 612512768.0000 - root_mean_squared_error: 24748.9941 - mean_absolute_error: 17780.2949 - R2_score: 0.9725 - val_loss: 987056832.0000 - val_root_mean_squared_error: 31417.4609 - val_mean_absolute_error: 22687.6523 - val_R2_score: 0.9583\n",
      "Epoch 190/500\n",
      "2849/2849 [==============================] - 34s 12ms/step - loss: 612090624.0000 - root_mean_squared_error: 24740.4648 - mean_absolute_error: 17747.7168 - R2_score: 0.9725 - val_loss: 967669632.0000 - val_root_mean_squared_error: 31107.3887 - val_mean_absolute_error: 22717.2402 - val_R2_score: 0.9584\n",
      "Epoch 191/500\n",
      "2849/2849 [==============================] - 34s 12ms/step - loss: 610165120.0000 - root_mean_squared_error: 24701.5215 - mean_absolute_error: 17738.2578 - R2_score: 0.9726 - val_loss: 1045833856.0000 - val_root_mean_squared_error: 32339.3535 - val_mean_absolute_error: 23799.5684 - val_R2_score: 0.9552\n",
      "Epoch 192/500\n",
      "2849/2849 [==============================] - 34s 12ms/step - loss: 608781504.0000 - root_mean_squared_error: 24673.4980 - mean_absolute_error: 17713.0957 - R2_score: 0.9727 - val_loss: 968751104.0000 - val_root_mean_squared_error: 31124.7656 - val_mean_absolute_error: 22522.0957 - val_R2_score: 0.9587\n",
      "Epoch 193/500\n",
      "2849/2849 [==============================] - 33s 12ms/step - loss: 605670592.0000 - root_mean_squared_error: 24610.3750 - mean_absolute_error: 17669.6699 - R2_score: 0.9726 - val_loss: 975203456.0000 - val_root_mean_squared_error: 31228.2480 - val_mean_absolute_error: 22680.2012 - val_R2_score: 0.9584\n",
      "Epoch 194/500\n",
      "2849/2849 [==============================] - 33s 12ms/step - loss: 605284928.0000 - root_mean_squared_error: 24602.5391 - mean_absolute_error: 17650.4316 - R2_score: 0.9728 - val_loss: 980059456.0000 - val_root_mean_squared_error: 31305.9004 - val_mean_absolute_error: 22751.1211 - val_R2_score: 0.9581\n",
      "Epoch 195/500\n",
      "2849/2849 [==============================] - 34s 12ms/step - loss: 603221248.0000 - root_mean_squared_error: 24560.5625 - mean_absolute_error: 17655.1836 - R2_score: 0.9729 - val_loss: 1015358080.0000 - val_root_mean_squared_error: 31864.6836 - val_mean_absolute_error: 23186.8047 - val_R2_score: 0.9564\n",
      "Epoch 196/500\n",
      "2849/2849 [==============================] - 34s 12ms/step - loss: 601239360.0000 - root_mean_squared_error: 24520.1836 - mean_absolute_error: 17619.3066 - R2_score: 0.9730 - val_loss: 973033920.0000 - val_root_mean_squared_error: 31193.4922 - val_mean_absolute_error: 22665.4062 - val_R2_score: 0.9584\n",
      "Epoch 197/500\n",
      "2849/2849 [==============================] - 34s 12ms/step - loss: 599689984.0000 - root_mean_squared_error: 24488.5684 - mean_absolute_error: 17576.4082 - R2_score: 0.9729 - val_loss: 988517312.0000 - val_root_mean_squared_error: 31440.6953 - val_mean_absolute_error: 22859.0410 - val_R2_score: 0.9577\n",
      "Epoch 198/500\n",
      "2849/2849 [==============================] - 30s 11ms/step - loss: 599019456.0000 - root_mean_squared_error: 24474.8730 - mean_absolute_error: 17580.2246 - R2_score: 0.9730 - val_loss: 984421632.0000 - val_root_mean_squared_error: 31375.4941 - val_mean_absolute_error: 22860.1875 - val_R2_score: 0.9581\n",
      "Epoch 199/500\n",
      "2849/2849 [==============================] - 33s 12ms/step - loss: 597300224.0000 - root_mean_squared_error: 24439.7266 - mean_absolute_error: 17556.4023 - R2_score: 0.9732 - val_loss: 973120832.0000 - val_root_mean_squared_error: 31194.8848 - val_mean_absolute_error: 22562.3789 - val_R2_score: 0.9585\n",
      "Epoch 200/500\n",
      "2849/2849 [==============================] - 34s 12ms/step - loss: 595963328.0000 - root_mean_squared_error: 24412.3594 - mean_absolute_error: 17528.9980 - R2_score: 0.9733 - val_loss: 954256576.0000 - val_root_mean_squared_error: 30891.0430 - val_mean_absolute_error: 22361.3945 - val_R2_score: 0.9593\n",
      "Epoch 201/500\n",
      "2849/2849 [==============================] - 34s 12ms/step - loss: 594207168.0000 - root_mean_squared_error: 24376.3652 - mean_absolute_error: 17522.5332 - R2_score: 0.9731 - val_loss: 1001777344.0000 - val_root_mean_squared_error: 31650.8652 - val_mean_absolute_error: 23220.4375 - val_R2_score: 0.9570\n",
      "Epoch 202/500\n",
      "2849/2849 [==============================] - 34s 12ms/step - loss: 593711104.0000 - root_mean_squared_error: 24366.1875 - mean_absolute_error: 17499.1445 - R2_score: 0.9734 - val_loss: 991768064.0000 - val_root_mean_squared_error: 31492.3496 - val_mean_absolute_error: 22929.1953 - val_R2_score: 0.9576\n",
      "Epoch 203/500\n",
      "2849/2849 [==============================] - 34s 12ms/step - loss: 591356928.0000 - root_mean_squared_error: 24317.8320 - mean_absolute_error: 17458.4062 - R2_score: 0.9735 - val_loss: 996011392.0000 - val_root_mean_squared_error: 31559.6484 - val_mean_absolute_error: 22825.3164 - val_R2_score: 0.9579\n",
      "Epoch 204/500\n",
      "2849/2849 [==============================] - 34s 12ms/step - loss: 588945984.0000 - root_mean_squared_error: 24268.2090 - mean_absolute_error: 17435.9219 - R2_score: 0.9735 - val_loss: 1006180096.0000 - val_root_mean_squared_error: 31720.3418 - val_mean_absolute_error: 22916.7090 - val_R2_score: 0.9572\n",
      "Epoch 205/500\n",
      "2849/2849 [==============================] - 34s 12ms/step - loss: 588363968.0000 - root_mean_squared_error: 24256.2148 - mean_absolute_error: 17422.0762 - R2_score: 0.9736 - val_loss: 1001865408.0000 - val_root_mean_squared_error: 31652.2578 - val_mean_absolute_error: 22762.0410 - val_R2_score: 0.9575\n",
      "Epoch 206/500\n",
      "2849/2849 [==============================] - 34s 12ms/step - loss: 586798528.0000 - root_mean_squared_error: 24223.9238 - mean_absolute_error: 17422.7695 - R2_score: 0.9735 - val_loss: 1003188992.0000 - val_root_mean_squared_error: 31673.1582 - val_mean_absolute_error: 23019.6836 - val_R2_score: 0.9574\n",
      "Epoch 207/500\n",
      "2849/2849 [==============================] - 34s 12ms/step - loss: 583331328.0000 - root_mean_squared_error: 24152.2539 - mean_absolute_error: 17384.4355 - R2_score: 0.9739 - val_loss: 992571968.0000 - val_root_mean_squared_error: 31505.1094 - val_mean_absolute_error: 22964.8477 - val_R2_score: 0.9576\n",
      "Epoch 208/500\n",
      "2849/2849 [==============================] - 34s 12ms/step - loss: 584665536.0000 - root_mean_squared_error: 24179.8574 - mean_absolute_error: 17368.3555 - R2_score: 0.9736 - val_loss: 954709952.0000 - val_root_mean_squared_error: 30898.3809 - val_mean_absolute_error: 22338.1172 - val_R2_score: 0.9593\n",
      "Epoch 209/500\n",
      "2849/2849 [==============================] - 34s 12ms/step - loss: 582727296.0000 - root_mean_squared_error: 24139.7441 - mean_absolute_error: 17343.3711 - R2_score: 0.9737 - val_loss: 958816768.0000 - val_root_mean_squared_error: 30964.7656 - val_mean_absolute_error: 22483.3574 - val_R2_score: 0.9591\n",
      "Epoch 210/500\n",
      "2849/2849 [==============================] - 32s 11ms/step - loss: 581845824.0000 - root_mean_squared_error: 24121.4805 - mean_absolute_error: 17332.7891 - R2_score: 0.9738 - val_loss: 980546816.0000 - val_root_mean_squared_error: 31313.6836 - val_mean_absolute_error: 22828.1562 - val_R2_score: 0.9581\n",
      "Epoch 211/500\n",
      "2849/2849 [==============================] - 26s 9ms/step - loss: 579191168.0000 - root_mean_squared_error: 24066.3906 - mean_absolute_error: 17296.1211 - R2_score: 0.9740 - val_loss: 967674048.0000 - val_root_mean_squared_error: 31107.4590 - val_mean_absolute_error: 22658.4297 - val_R2_score: 0.9588\n",
      "Epoch 212/500\n",
      "2849/2849 [==============================] - 28s 10ms/step - loss: 578639616.0000 - root_mean_squared_error: 24054.9297 - mean_absolute_error: 17281.8008 - R2_score: 0.9739 - val_loss: 1011000000.0000 - val_root_mean_squared_error: 31796.2266 - val_mean_absolute_error: 22896.8574 - val_R2_score: 0.9571\n",
      "Epoch 213/500\n",
      "2849/2849 [==============================] - 27s 10ms/step - loss: 577309632.0000 - root_mean_squared_error: 24027.2695 - mean_absolute_error: 17256.1914 - R2_score: 0.9742 - val_loss: 967972096.0000 - val_root_mean_squared_error: 31112.2500 - val_mean_absolute_error: 22578.0723 - val_R2_score: 0.9587\n",
      "Epoch 214/500\n",
      "2849/2849 [==============================] - 31s 11ms/step - loss: 576695936.0000 - root_mean_squared_error: 24014.4941 - mean_absolute_error: 17233.4609 - R2_score: 0.9740 - val_loss: 991454656.0000 - val_root_mean_squared_error: 31487.3730 - val_mean_absolute_error: 23049.3926 - val_R2_score: 0.9575\n",
      "Epoch 215/500\n",
      "2849/2849 [==============================] - 31s 11ms/step - loss: 573117504.0000 - root_mean_squared_error: 23939.8730 - mean_absolute_error: 17218.0547 - R2_score: 0.9744 - val_loss: 951927872.0000 - val_root_mean_squared_error: 30853.3281 - val_mean_absolute_error: 22352.5664 - val_R2_score: 0.9593\n",
      "Epoch 216/500\n",
      "2849/2849 [==============================] - 36s 13ms/step - loss: 573926592.0000 - root_mean_squared_error: 23956.7656 - mean_absolute_error: 17227.6309 - R2_score: 0.9742 - val_loss: 981929344.0000 - val_root_mean_squared_error: 31335.7520 - val_mean_absolute_error: 22739.9414 - val_R2_score: 0.9584\n",
      "Epoch 217/500\n",
      "2849/2849 [==============================] - 36s 13ms/step - loss: 571413504.0000 - root_mean_squared_error: 23904.2559 - mean_absolute_error: 17208.3418 - R2_score: 0.9743 - val_loss: 968428288.0000 - val_root_mean_squared_error: 31119.5801 - val_mean_absolute_error: 22577.5430 - val_R2_score: 0.9587\n",
      "Epoch 218/500\n",
      "2849/2849 [==============================] - 36s 13ms/step - loss: 568667072.0000 - root_mean_squared_error: 23846.7422 - mean_absolute_error: 17138.0137 - R2_score: 0.9744 - val_loss: 971726784.0000 - val_root_mean_squared_error: 31172.5332 - val_mean_absolute_error: 22521.0938 - val_R2_score: 0.9588\n",
      "Epoch 219/500\n",
      "2849/2849 [==============================] - 36s 13ms/step - loss: 568727040.0000 - root_mean_squared_error: 23847.9980 - mean_absolute_error: 17141.8145 - R2_score: 0.9745 - val_loss: 965705024.0000 - val_root_mean_squared_error: 31075.7949 - val_mean_absolute_error: 22585.4609 - val_R2_score: 0.9587\n",
      "Epoch 220/500\n",
      "2849/2849 [==============================] - 36s 13ms/step - loss: 567680064.0000 - root_mean_squared_error: 23826.0371 - mean_absolute_error: 17132.5039 - R2_score: 0.9746 - val_loss: 990109312.0000 - val_root_mean_squared_error: 31466.0020 - val_mean_absolute_error: 22727.3262 - val_R2_score: 0.9581\n",
      "Epoch 221/500\n",
      "2849/2849 [==============================] - 37s 13ms/step - loss: 566575936.0000 - root_mean_squared_error: 23802.8555 - mean_absolute_error: 17109.9531 - R2_score: 0.9744 - val_loss: 999003904.0000 - val_root_mean_squared_error: 31607.0234 - val_mean_absolute_error: 23127.1504 - val_R2_score: 0.9573\n",
      "Epoch 222/500\n",
      "2849/2849 [==============================] - 37s 13ms/step - loss: 566145664.0000 - root_mean_squared_error: 23793.8145 - mean_absolute_error: 17102.0879 - R2_score: 0.9747 - val_loss: 991763456.0000 - val_root_mean_squared_error: 31492.2754 - val_mean_absolute_error: 22962.6992 - val_R2_score: 0.9574\n",
      "Epoch 223/500\n",
      "2849/2849 [==============================] - 37s 13ms/step - loss: 564902400.0000 - root_mean_squared_error: 23767.6758 - mean_absolute_error: 17077.6328 - R2_score: 0.9745 - val_loss: 959686208.0000 - val_root_mean_squared_error: 30978.8027 - val_mean_absolute_error: 22499.5898 - val_R2_score: 0.9593\n",
      "Epoch 224/500\n",
      "2849/2849 [==============================] - 37s 13ms/step - loss: 563538240.0000 - root_mean_squared_error: 23738.9590 - mean_absolute_error: 17085.0449 - R2_score: 0.9748 - val_loss: 989749376.0000 - val_root_mean_squared_error: 31460.2812 - val_mean_absolute_error: 22941.5352 - val_R2_score: 0.9579\n",
      "Epoch 225/500\n",
      "2849/2849 [==============================] - 36s 13ms/step - loss: 561663040.0000 - root_mean_squared_error: 23699.4316 - mean_absolute_error: 17025.9785 - R2_score: 0.9747 - val_loss: 965176192.0000 - val_root_mean_squared_error: 31067.2852 - val_mean_absolute_error: 22632.9805 - val_R2_score: 0.9587\n",
      "Epoch 226/500\n",
      "2849/2849 [==============================] - 37s 13ms/step - loss: 562231744.0000 - root_mean_squared_error: 23711.4258 - mean_absolute_error: 17043.5273 - R2_score: 0.9749 - val_loss: 969934080.0000 - val_root_mean_squared_error: 31143.7637 - val_mean_absolute_error: 22695.0957 - val_R2_score: 0.9585\n",
      "Epoch 227/500\n",
      "2849/2849 [==============================] - 37s 13ms/step - loss: 558740288.0000 - root_mean_squared_error: 23637.6875 - mean_absolute_error: 17022.7832 - R2_score: 0.9749 - val_loss: 968341376.0000 - val_root_mean_squared_error: 31118.1836 - val_mean_absolute_error: 22654.1699 - val_R2_score: 0.9587\n",
      "Epoch 228/500\n",
      "2849/2849 [==============================] - 37s 13ms/step - loss: 558411456.0000 - root_mean_squared_error: 23630.7305 - mean_absolute_error: 16999.1602 - R2_score: 0.9751 - val_loss: 958188672.0000 - val_root_mean_squared_error: 30954.6230 - val_mean_absolute_error: 22525.8418 - val_R2_score: 0.9592\n",
      "Epoch 229/500\n",
      "2849/2849 [==============================] - 37s 13ms/step - loss: 557408384.0000 - root_mean_squared_error: 23609.4980 - mean_absolute_error: 16977.0938 - R2_score: 0.9751 - val_loss: 960506304.0000 - val_root_mean_squared_error: 30992.0352 - val_mean_absolute_error: 22446.7578 - val_R2_score: 0.9592\n",
      "Epoch 230/500\n",
      "2849/2849 [==============================] - 37s 13ms/step - loss: 556587328.0000 - root_mean_squared_error: 23592.1035 - mean_absolute_error: 16963.4141 - R2_score: 0.9749 - val_loss: 991712448.0000 - val_root_mean_squared_error: 31491.4668 - val_mean_absolute_error: 22953.3848 - val_R2_score: 0.9579\n",
      "Epoch 231/500\n",
      "2849/2849 [==============================] - 37s 13ms/step - loss: 554294912.0000 - root_mean_squared_error: 23543.4688 - mean_absolute_error: 16947.4727 - R2_score: 0.9752 - val_loss: 1048788544.0000 - val_root_mean_squared_error: 32385.0039 - val_mean_absolute_error: 23546.9199 - val_R2_score: 0.9558\n",
      "Epoch 232/500\n",
      "2849/2849 [==============================] - 37s 13ms/step - loss: 553213632.0000 - root_mean_squared_error: 23520.4941 - mean_absolute_error: 16946.1895 - R2_score: 0.9751 - val_loss: 1050842112.0000 - val_root_mean_squared_error: 32416.6953 - val_mean_absolute_error: 23731.8691 - val_R2_score: 0.9550\n",
      "Epoch 233/500\n",
      "2849/2849 [==============================] - 33s 12ms/step - loss: 553730240.0000 - root_mean_squared_error: 23531.4727 - mean_absolute_error: 16912.9082 - R2_score: 0.9751 - val_loss: 977742208.0000 - val_root_mean_squared_error: 31268.8691 - val_mean_absolute_error: 22617.0410 - val_R2_score: 0.9586\n",
      "Epoch 234/500\n",
      "2849/2849 [==============================] - 27s 9ms/step - loss: 550444544.0000 - root_mean_squared_error: 23461.5547 - mean_absolute_error: 16906.6719 - R2_score: 0.9753 - val_loss: 1032714496.0000 - val_root_mean_squared_error: 32135.8750 - val_mean_absolute_error: 23283.7988 - val_R2_score: 0.9563\n",
      "Epoch 235/500\n",
      "2849/2849 [==============================] - 37s 13ms/step - loss: 549657984.0000 - root_mean_squared_error: 23444.7852 - mean_absolute_error: 16870.4043 - R2_score: 0.9753 - val_loss: 970853312.0000 - val_root_mean_squared_error: 31158.5195 - val_mean_absolute_error: 22678.8418 - val_R2_score: 0.9590\n",
      "Epoch 236/500\n",
      "2849/2849 [==============================] - 30s 10ms/step - loss: 548788416.0000 - root_mean_squared_error: 23426.2324 - mean_absolute_error: 16856.6191 - R2_score: 0.9753 - val_loss: 1023051712.0000 - val_root_mean_squared_error: 31985.1797 - val_mean_absolute_error: 23516.9609 - val_R2_score: 0.9564\n",
      "Epoch 237/500\n",
      "2849/2849 [==============================] - 27s 9ms/step - loss: 548578560.0000 - root_mean_squared_error: 23421.7539 - mean_absolute_error: 16850.3691 - R2_score: 0.9753 - val_loss: 975484672.0000 - val_root_mean_squared_error: 31232.7500 - val_mean_absolute_error: 22821.9355 - val_R2_score: 0.9585\n",
      "Epoch 238/500\n",
      "2849/2849 [==============================] - 36s 13ms/step - loss: 545021184.0000 - root_mean_squared_error: 23345.6895 - mean_absolute_error: 16791.5371 - R2_score: 0.9756 - val_loss: 969925824.0000 - val_root_mean_squared_error: 31143.6309 - val_mean_absolute_error: 22633.1270 - val_R2_score: 0.9586\n",
      "Epoch 239/500\n",
      "2849/2849 [==============================] - 36s 13ms/step - loss: 543984832.0000 - root_mean_squared_error: 23323.4824 - mean_absolute_error: 16793.9570 - R2_score: 0.9756 - val_loss: 990643840.0000 - val_root_mean_squared_error: 31474.4941 - val_mean_absolute_error: 23035.5898 - val_R2_score: 0.9577\n",
      "Epoch 240/500\n",
      "2849/2849 [==============================] - 35s 12ms/step - loss: 542800064.0000 - root_mean_squared_error: 23298.0703 - mean_absolute_error: 16759.7910 - R2_score: 0.9756 - val_loss: 973700352.0000 - val_root_mean_squared_error: 31204.1719 - val_mean_absolute_error: 22646.6797 - val_R2_score: 0.9587\n",
      "Epoch 241/500\n",
      "2849/2849 [==============================] - 36s 13ms/step - loss: 543579584.0000 - root_mean_squared_error: 23314.7930 - mean_absolute_error: 16772.0254 - R2_score: 0.9755 - val_loss: 966633152.0000 - val_root_mean_squared_error: 31090.7246 - val_mean_absolute_error: 22637.6641 - val_R2_score: 0.9588\n",
      "Epoch 242/500\n",
      "2849/2849 [==============================] - 36s 13ms/step - loss: 540341120.0000 - root_mean_squared_error: 23245.2383 - mean_absolute_error: 16758.7871 - R2_score: 0.9756 - val_loss: 983619776.0000 - val_root_mean_squared_error: 31362.7129 - val_mean_absolute_error: 22866.3770 - val_R2_score: 0.9583\n",
      "Epoch 243/500\n",
      "2849/2849 [==============================] - 36s 13ms/step - loss: 540842240.0000 - root_mean_squared_error: 23256.0156 - mean_absolute_error: 16738.5781 - R2_score: 0.9757 - val_loss: 972776832.0000 - val_root_mean_squared_error: 31189.3711 - val_mean_absolute_error: 22756.6289 - val_R2_score: 0.9586\n",
      "Epoch 244/500\n",
      "2849/2849 [==============================] - 36s 13ms/step - loss: 538407744.0000 - root_mean_squared_error: 23203.6133 - mean_absolute_error: 16717.3242 - R2_score: 0.9758 - val_loss: 1000808576.0000 - val_root_mean_squared_error: 31635.5586 - val_mean_absolute_error: 22931.6133 - val_R2_score: 0.9576\n",
      "Epoch 245/500\n",
      "2849/2849 [==============================] - 37s 13ms/step - loss: 537497728.0000 - root_mean_squared_error: 23183.9961 - mean_absolute_error: 16685.2402 - R2_score: 0.9759 - val_loss: 971505472.0000 - val_root_mean_squared_error: 31168.9824 - val_mean_absolute_error: 22686.5098 - val_R2_score: 0.9588\n",
      "Epoch 246/500\n",
      "2849/2849 [==============================] - 36s 13ms/step - loss: 537591936.0000 - root_mean_squared_error: 23186.0273 - mean_absolute_error: 16682.4258 - R2_score: 0.9758 - val_loss: 986589568.0000 - val_root_mean_squared_error: 31410.0234 - val_mean_absolute_error: 22884.8691 - val_R2_score: 0.9581\n",
      "Epoch 247/500\n",
      "2849/2849 [==============================] - 36s 13ms/step - loss: 535698976.0000 - root_mean_squared_error: 23145.1719 - mean_absolute_error: 16662.3691 - R2_score: 0.9757 - val_loss: 976396160.0000 - val_root_mean_squared_error: 31247.3379 - val_mean_absolute_error: 22709.8301 - val_R2_score: 0.9587\n",
      "Epoch 248/500\n",
      "2849/2849 [==============================] - 37s 13ms/step - loss: 533262272.0000 - root_mean_squared_error: 23092.4727 - mean_absolute_error: 16650.6348 - R2_score: 0.9758 - val_loss: 981036608.0000 - val_root_mean_squared_error: 31321.5039 - val_mean_absolute_error: 22826.7637 - val_R2_score: 0.9580\n",
      "Epoch 249/500\n",
      "2849/2849 [==============================] - 37s 13ms/step - loss: 534701952.0000 - root_mean_squared_error: 23123.6230 - mean_absolute_error: 16654.8848 - R2_score: 0.9761 - val_loss: 1003426112.0000 - val_root_mean_squared_error: 31676.9004 - val_mean_absolute_error: 22929.0293 - val_R2_score: 0.9575\n",
      "Epoch 250/500\n",
      "2849/2849 [==============================] - 37s 13ms/step - loss: 532582848.0000 - root_mean_squared_error: 23077.7559 - mean_absolute_error: 16612.2969 - R2_score: 0.9760 - val_loss: 993867840.0000 - val_root_mean_squared_error: 31525.6699 - val_mean_absolute_error: 22893.0957 - val_R2_score: 0.9577\n",
      "Epoch 251/500\n",
      "2849/2849 [==============================] - 37s 13ms/step - loss: 534006016.0000 - root_mean_squared_error: 23108.5703 - mean_absolute_error: 16621.7090 - R2_score: 0.9760 - val_loss: 1004516224.0000 - val_root_mean_squared_error: 31694.1035 - val_mean_absolute_error: 23162.5254 - val_R2_score: 0.9569\n",
      "Epoch 252/500\n",
      "2849/2849 [==============================] - 37s 13ms/step - loss: 531166560.0000 - root_mean_squared_error: 23047.0508 - mean_absolute_error: 16590.9824 - R2_score: 0.9760 - val_loss: 989007936.0000 - val_root_mean_squared_error: 31448.4961 - val_mean_absolute_error: 22800.0781 - val_R2_score: 0.9582\n",
      "Epoch 253/500\n",
      "2849/2849 [==============================] - 37s 13ms/step - loss: 529475584.0000 - root_mean_squared_error: 23010.3359 - mean_absolute_error: 16591.7090 - R2_score: 0.9762 - val_loss: 987413184.0000 - val_root_mean_squared_error: 31423.1309 - val_mean_absolute_error: 22855.0820 - val_R2_score: 0.9581\n",
      "Epoch 254/500\n",
      "2849/2849 [==============================] - 37s 13ms/step - loss: 527865184.0000 - root_mean_squared_error: 22975.3164 - mean_absolute_error: 16568.0684 - R2_score: 0.9762 - val_loss: 972230336.0000 - val_root_mean_squared_error: 31180.6074 - val_mean_absolute_error: 22678.9570 - val_R2_score: 0.9587\n",
      "Epoch 255/500\n",
      "2849/2849 [==============================] - 31s 11ms/step - loss: 528577344.0000 - root_mean_squared_error: 22990.8105 - mean_absolute_error: 16540.6875 - R2_score: 0.9762 - val_loss: 982438144.0000 - val_root_mean_squared_error: 31343.8691 - val_mean_absolute_error: 22805.5625 - val_R2_score: 0.9580\n",
      "Epoch 256/500\n",
      "2849/2849 [==============================] - 26s 9ms/step - loss: 527109408.0000 - root_mean_squared_error: 22958.8633 - mean_absolute_error: 16534.5391 - R2_score: 0.9763 - val_loss: 1004734400.0000 - val_root_mean_squared_error: 31697.5449 - val_mean_absolute_error: 23163.4629 - val_R2_score: 0.9572\n",
      "Epoch 257/500\n",
      "2849/2849 [==============================] - 26s 9ms/step - loss: 523891520.0000 - root_mean_squared_error: 22888.6758 - mean_absolute_error: 16505.2227 - R2_score: 0.9764 - val_loss: 970790080.0000 - val_root_mean_squared_error: 31157.5039 - val_mean_absolute_error: 22641.2402 - val_R2_score: 0.9586\n",
      "Epoch 258/500\n",
      "2849/2849 [==============================] - 27s 9ms/step - loss: 522976800.0000 - root_mean_squared_error: 22868.6855 - mean_absolute_error: 16502.0410 - R2_score: 0.9765 - val_loss: 991069952.0000 - val_root_mean_squared_error: 31481.2637 - val_mean_absolute_error: 23025.7734 - val_R2_score: 0.9578\n",
      "Epoch 259/500\n",
      "2849/2849 [==============================] - 34s 12ms/step - loss: 521914176.0000 - root_mean_squared_error: 22845.4414 - mean_absolute_error: 16455.7461 - R2_score: 0.9766 - val_loss: 982296704.0000 - val_root_mean_squared_error: 31341.6133 - val_mean_absolute_error: 22839.3828 - val_R2_score: 0.9581\n",
      "Epoch 260/500\n",
      "2849/2849 [==============================] - 34s 12ms/step - loss: 522559808.0000 - root_mean_squared_error: 22859.5664 - mean_absolute_error: 16476.9453 - R2_score: 0.9767 - val_loss: 1052069376.0000 - val_root_mean_squared_error: 32435.6191 - val_mean_absolute_error: 23638.6641 - val_R2_score: 0.9555\n",
      "Epoch 261/500\n",
      "2849/2849 [==============================] - 34s 12ms/step - loss: 520360704.0000 - root_mean_squared_error: 22811.4160 - mean_absolute_error: 16446.4082 - R2_score: 0.9765 - val_loss: 980913472.0000 - val_root_mean_squared_error: 31319.5391 - val_mean_absolute_error: 22741.7285 - val_R2_score: 0.9583\n"
     ]
    }
   ],
   "source": [
    "dnn_model.compile(loss = 'mse', \n",
    "                  metrics =[tf.metrics.RootMeanSquaredError(),tf.metrics.MeanAbsoluteError(),R2_score],#.,tfa.metrics.RSquare()], \n",
    "                  optimizer = tf.keras.optimizers.RMSprop())\n",
    "# to.array() converts the sparse matrix to numpy array\n",
    "dnn_model_history = dnn_model.fit(X_train_preprocessed.toarray(), \n",
    "                                  np.array(y_train), \n",
    "                                  epochs = 500, \n",
    "                                  validation_data = [X_val_preprocessed.toarray(), np.array(y_val)], \n",
    "                                  batch_size = 32,\n",
    "                                  callbacks=[early_callback])"
   ]
  },
  {
   "cell_type": "code",
   "execution_count": 59,
   "id": "916528f1-123e-45bd-ae73-313e5fe79d2e",
   "metadata": {},
   "outputs": [],
   "source": [
    "dnn_model.save('dnn_model.h5')"
   ]
  },
  {
   "cell_type": "code",
   "execution_count": 65,
   "id": "ac262315-f09a-4c48-9319-5d8d3fb00953",
   "metadata": {},
   "outputs": [
    {
     "name": "stdout",
     "output_type": "stream",
     "text": [
      "INFO:tensorflow:Assets written to: ram://9bb2f514-1439-4909-a068-945d36bff483/assets\n"
     ]
    },
    {
     "ename": "NotFoundError",
     "evalue": "",
     "output_type": "error",
     "traceback": [
      "\u001b[1;31m---------------------------------------------------------------------------\u001b[0m",
      "\u001b[1;31mNotFoundError\u001b[0m                             Traceback (most recent call last)",
      "\u001b[1;32m~\\AppData\\Local\\Temp/ipykernel_25260/3344090552.py\u001b[0m in \u001b[0;36m<module>\u001b[1;34m\u001b[0m\n\u001b[0;32m      1\u001b[0m \u001b[1;32mwith\u001b[0m \u001b[0mopen\u001b[0m\u001b[1;33m(\u001b[0m\u001b[1;34m'dnn_model_history_pkl'\u001b[0m\u001b[1;33m,\u001b[0m \u001b[1;34m'wb'\u001b[0m\u001b[1;33m)\u001b[0m \u001b[1;32mas\u001b[0m \u001b[0mfiles\u001b[0m\u001b[1;33m:\u001b[0m\u001b[1;33m\u001b[0m\u001b[1;33m\u001b[0m\u001b[0m\n\u001b[1;32m----> 2\u001b[1;33m     \u001b[0mpickle\u001b[0m\u001b[1;33m.\u001b[0m\u001b[0mdump\u001b[0m\u001b[1;33m(\u001b[0m\u001b[0mdnn_model_history\u001b[0m\u001b[1;33m,\u001b[0m \u001b[0mfiles\u001b[0m\u001b[1;33m)\u001b[0m\u001b[1;33m\u001b[0m\u001b[1;33m\u001b[0m\u001b[0m\n\u001b[0m",
      "\u001b[1;32m~\\anaconda3\\envs\\IBM Data Science Project\\lib\\site-packages\\keras\\engine\\training.py\u001b[0m in \u001b[0;36m__reduce__\u001b[1;34m(self)\u001b[0m\n\u001b[0;32m    313\u001b[0m     \u001b[1;32mif\u001b[0m \u001b[0mself\u001b[0m\u001b[1;33m.\u001b[0m\u001b[0mbuilt\u001b[0m\u001b[1;33m:\u001b[0m\u001b[1;33m\u001b[0m\u001b[1;33m\u001b[0m\u001b[0m\n\u001b[0;32m    314\u001b[0m       return (pickle_utils.deserialize_model_from_bytecode,\n\u001b[1;32m--> 315\u001b[1;33m               pickle_utils.serialize_model_as_bytecode(self))\n\u001b[0m\u001b[0;32m    316\u001b[0m     \u001b[1;32melse\u001b[0m\u001b[1;33m:\u001b[0m\u001b[1;33m\u001b[0m\u001b[1;33m\u001b[0m\u001b[0m\n\u001b[0;32m    317\u001b[0m       \u001b[1;31m# SavedModel (and hence serialize_model_as_bytecode) only support\u001b[0m\u001b[1;33m\u001b[0m\u001b[1;33m\u001b[0m\u001b[1;33m\u001b[0m\u001b[0m\n",
      "\u001b[1;32m~\\anaconda3\\envs\\IBM Data Science Project\\lib\\site-packages\\keras\\saving\\pickle_utils.py\u001b[0m in \u001b[0;36mserialize_model_as_bytecode\u001b[1;34m(model)\u001b[0m\n\u001b[0;32m     75\u001b[0m         \u001b[1;32mwith\u001b[0m \u001b[0mtf\u001b[0m\u001b[1;33m.\u001b[0m\u001b[0mio\u001b[0m\u001b[1;33m.\u001b[0m\u001b[0mgfile\u001b[0m\u001b[1;33m.\u001b[0m\u001b[0mGFile\u001b[0m\u001b[1;33m(\u001b[0m\u001b[0mdest_path\u001b[0m\u001b[1;33m,\u001b[0m \u001b[1;34m\"rb\"\u001b[0m\u001b[1;33m)\u001b[0m \u001b[1;32mas\u001b[0m \u001b[0mf\u001b[0m\u001b[1;33m:\u001b[0m\u001b[1;33m\u001b[0m\u001b[1;33m\u001b[0m\u001b[0m\n\u001b[0;32m     76\u001b[0m           \u001b[0minfo\u001b[0m \u001b[1;33m=\u001b[0m \u001b[0mtarfile\u001b[0m\u001b[1;33m.\u001b[0m\u001b[0mTarInfo\u001b[0m\u001b[1;33m(\u001b[0m\u001b[0mname\u001b[0m\u001b[1;33m=\u001b[0m\u001b[0mos\u001b[0m\u001b[1;33m.\u001b[0m\u001b[0mpath\u001b[0m\u001b[1;33m.\u001b[0m\u001b[0mrelpath\u001b[0m\u001b[1;33m(\u001b[0m\u001b[0mdest_path\u001b[0m\u001b[1;33m,\u001b[0m \u001b[0mtemp_dir\u001b[0m\u001b[1;33m)\u001b[0m\u001b[1;33m)\u001b[0m\u001b[1;33m\u001b[0m\u001b[1;33m\u001b[0m\u001b[0m\n\u001b[1;32m---> 77\u001b[1;33m           \u001b[0minfo\u001b[0m\u001b[1;33m.\u001b[0m\u001b[0msize\u001b[0m \u001b[1;33m=\u001b[0m \u001b[0mf\u001b[0m\u001b[1;33m.\u001b[0m\u001b[0msize\u001b[0m\u001b[1;33m(\u001b[0m\u001b[1;33m)\u001b[0m\u001b[1;33m\u001b[0m\u001b[1;33m\u001b[0m\u001b[0m\n\u001b[0m\u001b[0;32m     78\u001b[0m           \u001b[0marchive\u001b[0m\u001b[1;33m.\u001b[0m\u001b[0maddfile\u001b[0m\u001b[1;33m(\u001b[0m\u001b[0mtarinfo\u001b[0m\u001b[1;33m=\u001b[0m\u001b[0minfo\u001b[0m\u001b[1;33m,\u001b[0m \u001b[0mfileobj\u001b[0m\u001b[1;33m=\u001b[0m\u001b[0mf\u001b[0m\u001b[1;33m)\u001b[0m\u001b[1;33m\u001b[0m\u001b[1;33m\u001b[0m\u001b[0m\n\u001b[0;32m     79\u001b[0m   \u001b[0mtf\u001b[0m\u001b[1;33m.\u001b[0m\u001b[0mio\u001b[0m\u001b[1;33m.\u001b[0m\u001b[0mgfile\u001b[0m\u001b[1;33m.\u001b[0m\u001b[0mrmtree\u001b[0m\u001b[1;33m(\u001b[0m\u001b[0mtemp_dir\u001b[0m\u001b[1;33m)\u001b[0m\u001b[1;33m\u001b[0m\u001b[1;33m\u001b[0m\u001b[0m\n",
      "\u001b[1;32m~\\anaconda3\\envs\\IBM Data Science Project\\lib\\site-packages\\tensorflow\\python\\lib\\io\\file_io.py\u001b[0m in \u001b[0;36msize\u001b[1;34m(self)\u001b[0m\n\u001b[0;32m     97\u001b[0m   \u001b[1;32mdef\u001b[0m \u001b[0msize\u001b[0m\u001b[1;33m(\u001b[0m\u001b[0mself\u001b[0m\u001b[1;33m)\u001b[0m\u001b[1;33m:\u001b[0m\u001b[1;33m\u001b[0m\u001b[1;33m\u001b[0m\u001b[0m\n\u001b[0;32m     98\u001b[0m     \u001b[1;34m\"\"\"Returns the size of the file.\"\"\"\u001b[0m\u001b[1;33m\u001b[0m\u001b[1;33m\u001b[0m\u001b[0m\n\u001b[1;32m---> 99\u001b[1;33m     \u001b[1;32mreturn\u001b[0m \u001b[0mstat\u001b[0m\u001b[1;33m(\u001b[0m\u001b[0mself\u001b[0m\u001b[1;33m.\u001b[0m\u001b[0m__name\u001b[0m\u001b[1;33m)\u001b[0m\u001b[1;33m.\u001b[0m\u001b[0mlength\u001b[0m\u001b[1;33m\u001b[0m\u001b[1;33m\u001b[0m\u001b[0m\n\u001b[0m\u001b[0;32m    100\u001b[0m \u001b[1;33m\u001b[0m\u001b[0m\n\u001b[0;32m    101\u001b[0m   \u001b[1;32mdef\u001b[0m \u001b[0mwrite\u001b[0m\u001b[1;33m(\u001b[0m\u001b[0mself\u001b[0m\u001b[1;33m,\u001b[0m \u001b[0mfile_content\u001b[0m\u001b[1;33m)\u001b[0m\u001b[1;33m:\u001b[0m\u001b[1;33m\u001b[0m\u001b[1;33m\u001b[0m\u001b[0m\n",
      "\u001b[1;32m~\\anaconda3\\envs\\IBM Data Science Project\\lib\\site-packages\\tensorflow\\python\\lib\\io\\file_io.py\u001b[0m in \u001b[0;36mstat\u001b[1;34m(filename)\u001b[0m\n\u001b[0;32m    908\u001b[0m     \u001b[0merrors\u001b[0m\u001b[1;33m.\u001b[0m\u001b[0mOpError\u001b[0m\u001b[1;33m:\u001b[0m \u001b[0mIf\u001b[0m \u001b[0mthe\u001b[0m \u001b[0moperation\u001b[0m \u001b[0mfails\u001b[0m\u001b[1;33m.\u001b[0m\u001b[1;33m\u001b[0m\u001b[1;33m\u001b[0m\u001b[0m\n\u001b[0;32m    909\u001b[0m   \"\"\"\n\u001b[1;32m--> 910\u001b[1;33m   \u001b[1;32mreturn\u001b[0m \u001b[0mstat_v2\u001b[0m\u001b[1;33m(\u001b[0m\u001b[0mfilename\u001b[0m\u001b[1;33m)\u001b[0m\u001b[1;33m\u001b[0m\u001b[1;33m\u001b[0m\u001b[0m\n\u001b[0m\u001b[0;32m    911\u001b[0m \u001b[1;33m\u001b[0m\u001b[0m\n\u001b[0;32m    912\u001b[0m \u001b[1;33m\u001b[0m\u001b[0m\n",
      "\u001b[1;32m~\\anaconda3\\envs\\IBM Data Science Project\\lib\\site-packages\\tensorflow\\python\\lib\\io\\file_io.py\u001b[0m in \u001b[0;36mstat_v2\u001b[1;34m(path)\u001b[0m\n\u001b[0;32m    924\u001b[0m     \u001b[0merrors\u001b[0m\u001b[1;33m.\u001b[0m\u001b[0mOpError\u001b[0m\u001b[1;33m:\u001b[0m \u001b[0mIf\u001b[0m \u001b[0mthe\u001b[0m \u001b[0moperation\u001b[0m \u001b[0mfails\u001b[0m\u001b[1;33m.\u001b[0m\u001b[1;33m\u001b[0m\u001b[1;33m\u001b[0m\u001b[0m\n\u001b[0;32m    925\u001b[0m   \"\"\"\n\u001b[1;32m--> 926\u001b[1;33m   \u001b[1;32mreturn\u001b[0m \u001b[0m_pywrap_file_io\u001b[0m\u001b[1;33m.\u001b[0m\u001b[0mStat\u001b[0m\u001b[1;33m(\u001b[0m\u001b[0mcompat\u001b[0m\u001b[1;33m.\u001b[0m\u001b[0mpath_to_str\u001b[0m\u001b[1;33m(\u001b[0m\u001b[0mpath\u001b[0m\u001b[1;33m)\u001b[0m\u001b[1;33m)\u001b[0m\u001b[1;33m\u001b[0m\u001b[1;33m\u001b[0m\u001b[0m\n\u001b[0m\u001b[0;32m    927\u001b[0m \u001b[1;33m\u001b[0m\u001b[0m\n\u001b[0;32m    928\u001b[0m \u001b[1;33m\u001b[0m\u001b[0m\n",
      "\u001b[1;31mNotFoundError\u001b[0m: "
     ]
    }
   ],
   "source": [
    "with open('dnn_model_history_pkl', 'wb') as files:\n",
    "    pickle.dump(dnn_model_history, files)"
   ]
  },
  {
   "cell_type": "code",
   "execution_count": 67,
   "id": "ce6bbfef-053c-413d-bdb6-a9bc668a659e",
   "metadata": {
    "tags": []
   },
   "outputs": [
    {
     "data": {
      "text/plain": [
       "dict_keys(['loss', 'root_mean_squared_error', 'mean_absolute_error', 'R2_score', 'val_loss', 'val_root_mean_squared_error', 'val_mean_absolute_error', 'val_R2_score'])"
      ]
     },
     "execution_count": 67,
     "metadata": {},
     "output_type": "execute_result"
    }
   ],
   "source": [
    "dnn_model_history.history.keys()"
   ]
  },
  {
   "cell_type": "code",
   "execution_count": 80,
   "id": "804a9297-7235-48fc-ba7d-9f2dd041f486",
   "metadata": {},
   "outputs": [],
   "source": [
    "def plot_dnn_results(history):\n",
    "    \n",
    "    fig , axes = plt.subplots(nrows=2,figsize = (10,10))\n",
    "    \n",
    "    rmse = history.history['root_mean_squared_error']\n",
    "    val_rmse = history.history['val_root_mean_squared_error']\n",
    "        \n",
    "    axes[0].plot(range(len(rmse)),np.round(rmse,2), 'r-', label = 'Training RMSE')\n",
    "    axes[0].plot(range(len(rmse)),np.round(val_rmse,2), 'b--', label = 'Validation RMSE')\n",
    "    axes[0].set_ylabel('RMSE')\n",
    "    axes[0].set_xlabel('Epochs')\n",
    "    axes[0].set_title('Training vs Validation RMSE for Full Training Data')\n",
    "    axes[0].legend()\n",
    "    plt.show\n",
    "    \n",
    "    rmse = history.history['root_mean_squared_error'][-50:]\n",
    "    val_rmse = history.history['val_root_mean_squared_error'][-50:]\n",
    "    \n",
    "    axes[1].plot(range(len(rmse))[-50:],np.round(rmse,2), 'r-', label = 'Training RMSE')\n",
    "    axes[1].plot(range(len(rmse))[-50:],np.round(val_rmse,2), 'b--', label = 'Validation RMSE')\n",
    "    axes[1].set_ylabel('RMSE')\n",
    "    axes[1].set_xlabel('Last Epochs')\n",
    "    axes[1].set_title('Training vs Validation RMSE for last 50 epochs')\n",
    "    axes[1].legend()\n",
    "    plt.show"
   ]
  },
  {
   "cell_type": "code",
   "execution_count": 81,
   "id": "0e7f359e-0056-45ca-9026-e670efd245c2",
   "metadata": {},
   "outputs": [
    {
     "data": {
      "image/png": "[encoded data removed]",
      "text/plain": [
       "<Figure size 720x720 with 2 Axes>"
      ]
     },
     "metadata": {
      "needs_background": "light"
     },
     "output_type": "display_data"
    }
   ],
   "source": [
    "plot_dnn_results(dnn_model_history)"
   ]
  },
  {
   "cell_type": "code",
   "execution_count": 72,
   "id": "6bb9a8dc-d4d1-4c69-91a5-79ed306ba154",
   "metadata": {},
   "outputs": [],
   "source": [
    "X_test_preprocess = preprocess.transform(X_test)"
   ]
  },
  {
   "cell_type": "code",
   "execution_count": 73,
   "id": "5bc56965-1bc7-412b-b9e2-5224070fb699",
   "metadata": {},
   "outputs": [
    {
     "name": "stdout",
     "output_type": "stream",
     "text": [
      "357/357 [==============================] - 2s 5ms/step - loss: 943123456.0000 - root_mean_squared_error: 30710.3145 - mean_absolute_error: 22330.6055 - R2_score: 0.9582\n"
     ]
    }
   ],
   "source": [
    "dnn_model_score = dnn_model.evaluate(X_test_preprocess.toarray(), y_test)"
   ]
  },
  {
   "cell_type": "code",
   "execution_count": 75,
   "id": "f3aa3f29-d18f-4604-ac59-58eb73217467",
   "metadata": {},
   "outputs": [
    {
     "data": {
      "text/plain": [
       "[943123456.0, 30710.314453125, 22330.60546875, 0.9581702947616577]"
      ]
     },
     "execution_count": 75,
     "metadata": {},
     "output_type": "execute_result"
    }
   ],
   "source": [
    "dnn_model_score"
   ]
  },
  {
   "cell_type": "code",
   "execution_count": 77,
   "id": "fae0bcae-9bc1-4f2c-9f87-a4eb3f0d9422",
   "metadata": {},
   "outputs": [
    {
     "name": "stdout",
     "output_type": "stream",
     "text": [
      "RMSE of Deep Learning Model : 30710.314453125\n",
      "MAE of Deep Learning Model : 22330.60546875\n",
      "R2 score of Deep Learning Model : 0.9581702947616577\n"
     ]
    }
   ],
   "source": [
    "print('RMSE of Deep Learning Model :' ,dnn_model_score[1])\n",
    "print('MAE of Deep Learning Model :' ,dnn_model_score[2])\n",
    "print('R2 score of Deep Learning Model :' ,dnn_model_score[3])"
   ]
  },
  {
   "cell_type": "code",
   "execution_count": 84,
   "id": "e4ea7b80-954c-434c-8a69-22fb0bdb7d3c",
   "metadata": {},
   "outputs": [
    {
     "data": {
      "text/plain": [
       "District                   4\n",
       "month              1 03 2018\n",
       "flat_type             5 ROOM\n",
       "storey_range        04 TO 06\n",
       "floor_area_sqm           117\n",
       "flat_model          Standard\n",
       "remaining_lease           56\n",
       "Latitude             1.27675\n",
       "Longitude            103.819\n",
       "mrtdist              7763.16\n",
       "Name: 23132, dtype: object"
      ]
     },
     "execution_count": 84,
     "metadata": {},
     "output_type": "execute_result"
    }
   ],
   "source": [
    "X_test.iloc[0]"
   ]
  },
  {
   "cell_type": "code",
   "execution_count": 85,
   "id": "6b4a8041-2830-4164-96e5-d0c13dd7e5ea",
   "metadata": {},
   "outputs": [
    {
     "data": {
      "text/plain": [
       "595000.0"
      ]
     },
     "execution_count": 85,
     "metadata": {},
     "output_type": "execute_result"
    }
   ],
   "source": [
    "y_test.iloc[0]"
   ]
  },
  {
   "cell_type": "code",
   "execution_count": 82,
   "id": "e5a580a1-bf13-4e96-8f9d-6243fa2d4815",
   "metadata": {},
   "outputs": [
    {
     "data": {
      "text/plain": [
       "array([[582504.7]], dtype=float32)"
      ]
     },
     "execution_count": 82,
     "metadata": {},
     "output_type": "execute_result"
    }
   ],
   "source": [
    "dnn_model.predict(X_test_preprocess[0])"
   ]
  },
  {
   "cell_type": "markdown",
   "id": "36fdee90-14de-4384-9d0a-8d5faedd2e7c",
   "metadata": {},
   "source": [
    "## LSTM"
   ]
  },
  {
   "cell_type": "code",
   "execution_count": null,
   "id": "027e354f-bf68-4516-8467-e84ec07c23d5",
   "metadata": {},
   "outputs": [],
   "source": []
  }
 ],
 "metadata": {
  "kernelspec": {
   "display_name": "Python 3 (ipykernel)",
   "language": "python",
   "name": "python3"
  },
  "language_info": {
   "codemirror_mode": {
    "name": "ipython",
    "version": 3
   },
   "file_extension": ".py",
   "mimetype": "text/x-python",
   "name": "python",
   "nbconvert_exporter": "python",
   "pygments_lexer": "ipython3",
   "version": "3.7.11"
  }
 },
 "nbformat": 4,
 "nbformat_minor": 5
}
